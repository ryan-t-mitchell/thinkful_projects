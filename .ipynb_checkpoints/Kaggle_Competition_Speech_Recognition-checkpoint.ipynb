{
 "cells": [
  {
   "cell_type": "markdown",
   "metadata": {},
   "source": [
    "# Background\n",
    "\n",
    "https://www.kaggle.com/c/tensorflow-speech-recognition-challenge\n",
    "\n",
    "In this competition, we are challenged to use the Speech Commands Dataset to build an algorithm that understands simple spoken commands. By improving the recognition accuracy of open-sourced voice interface tools, we can improve product effectiveness and their accessibility."
   ]
  },
  {
   "cell_type": "code",
   "execution_count": 1,
   "metadata": {},
   "outputs": [
    {
     "name": "stderr",
     "output_type": "stream",
     "text": [
      "Using TensorFlow backend.\n"
     ]
    }
   ],
   "source": [
    "import pandas as pd\n",
    "import numpy as np\n",
    "import seaborn as sns\n",
    "import matplotlib.pyplot as plt\n",
    "from matplotlib import cm\n",
    "import os\n",
    "import re\n",
    "import librosa\n",
    "import librosa.display\n",
    "import scipy\n",
    "import keras\n",
    "from soundfile import SoundFile, SEEK_END\n",
    "import soundfile\n",
    "from scipy import stats\n",
    "from collections import Counter\n",
    "%matplotlib inline"
   ]
  },
  {
   "cell_type": "code",
   "execution_count": 2,
   "metadata": {
    "collapsed": true
   },
   "outputs": [],
   "source": [
    "#Set root directory to location of audio files. Use os.path.normpath to handle '/' vs '\\'\n",
    "root = os.path.normpath(r'C:\\Users\\ryan\\Desktop\\Thinkful DS Sample Data - Main Course\\Final Project\\train\\audio')"
   ]
  },
  {
   "cell_type": "code",
   "execution_count": 3,
   "metadata": {
    "collapsed": true
   },
   "outputs": [],
   "source": [
    "#Use test and validation lists provided by Tensorflow for the competition\n",
    "test = r'C:\\Users\\ryan\\Desktop\\Thinkful DS Sample Data - Main Course\\Final Project\\train\\testing_list.txt'\n",
    "val = r'C:\\Users\\ryan\\Desktop\\Thinkful DS Sample Data - Main Course\\Final Project\\train\\validation_list.txt'"
   ]
  },
  {
   "cell_type": "code",
   "execution_count": 4,
   "metadata": {
    "collapsed": true
   },
   "outputs": [],
   "source": [
    "#Open the files and store as lists\n",
    "test, val = open(test, 'r'), open(val, 'r')\n",
    "test, val = test.read().splitlines(), val.read().splitlines()"
   ]
  },
  {
   "cell_type": "code",
   "execution_count": 5,
   "metadata": {
    "collapsed": true
   },
   "outputs": [],
   "source": [
    "#Point to exact location for each file\n",
    "for i in range(len(test)):\n",
    "    test[i] = root + '\\\\' + os.path.normpath(test[i])\n",
    "    \n",
    "for i in range(len(val)):\n",
    "    val[i] = root + '\\\\' + os.path.normpath(val[i])"
   ]
  },
  {
   "cell_type": "code",
   "execution_count": 11,
   "metadata": {
    "collapsed": true
   },
   "outputs": [],
   "source": [
    "#Walk through all audio files and create explicit train list from non test/val audio files\n",
    "train = []\n",
    "\n",
    "for subdir, dirs, files in os.walk(root):\n",
    "    for file in files:\n",
    "        if os.path.normpath(os.path.join(subdir, file)) not in val and os.path.normpath(os.path.join(subdir, file)) not in test:\n",
    "            train.append(os.path.normpath(os.path.join(subdir, file)))"
   ]
  },
  {
   "cell_type": "code",
   "execution_count": 12,
   "metadata": {},
   "outputs": [
    {
     "name": "stderr",
     "output_type": "stream",
     "text": [
      "c:\\users\\ryan\\appdata\\local\\programs\\python\\python36\\lib\\site-packages\\scipy\\io\\wavfile.py:273: WavFileWarning: Chunk (non-data) not understood, skipping it.\n",
      "  WavFileWarning)\n"
     ]
    }
   ],
   "source": [
    "#Remove the readme file from the background noise folder\n",
    "train.remove(train[51092])\n",
    "\n",
    "#Identify all sample rates\n",
    "sample_rates = []\n",
    "for file in train:\n",
    "    sample_rates.append(scipy.io.wavfile.read(file)[0])"
   ]
  },
  {
   "cell_type": "code",
   "execution_count": 13,
   "metadata": {},
   "outputs": [
    {
     "data": {
      "text/plain": [
       "{16000}"
      ]
     },
     "execution_count": 13,
     "metadata": {},
     "output_type": "execute_result"
    }
   ],
   "source": [
    "set(sample_rates)"
   ]
  },
  {
   "cell_type": "code",
   "execution_count": 11,
   "metadata": {
    "collapsed": true
   },
   "outputs": [],
   "source": [
    "y, sr = librosa.load(train[0], sr = 16000)"
   ]
  },
  {
   "cell_type": "code",
   "execution_count": 12,
   "metadata": {
    "collapsed": true
   },
   "outputs": [],
   "source": [
    "z = librosa.feature.melspectrogram(y, sr)"
   ]
  },
  {
   "cell_type": "code",
   "execution_count": 13,
   "metadata": {
    "collapsed": true
   },
   "outputs": [],
   "source": [
    "D = np.abs(librosa.stft(y))**2\n",
    "S = librosa.feature.melspectrogram(S=D)"
   ]
  },
  {
   "cell_type": "code",
   "execution_count": 14,
   "metadata": {
    "collapsed": true
   },
   "outputs": [],
   "source": [
    "S = librosa.feature.melspectrogram(y=y, sr=sr, n_mels=128,fmax=8000)"
   ]
  },
  {
   "cell_type": "code",
   "execution_count": 15,
   "metadata": {},
   "outputs": [
    {
     "data": {
      "image/png": "[encoded data removed]",
      "text/plain": [
       "<matplotlib.figure.Figure at 0x1b87d8d2160>"
      ]
     },
     "metadata": {},
     "output_type": "display_data"
    }
   ],
   "source": [
    "plt.figure(figsize=(10, 4))\n",
    "librosa.display.specshow(librosa.power_to_db(S,ref=np.max),y_axis='mel', fmax=8000,x_axis='time')\n",
    "plt.colorbar(format='%+2.0f dB')\n",
    "plt.title('Mel spectrogram')\n",
    "plt.tight_layout()"
   ]
  },
  {
   "cell_type": "code",
   "execution_count": 14,
   "metadata": {
    "collapsed": true
   },
   "outputs": [],
   "source": [
    "outcomes = ['_background_noise_', 'bed', 'bird', 'cat', 'dog', 'down', 'eight', 'five', 'four', 'go', 'happy',\n",
    "            'house', 'left', 'marvin', 'nine', 'no', 'off', 'on', 'one', 'right', 'seven', 'sheila', 'six', \n",
    "            'stop', 'three', 'tree', 'two', 'up', 'wow', 'yes', 'zero']"
   ]
  },
  {
   "cell_type": "code",
   "execution_count": 15,
   "metadata": {
    "collapsed": true
   },
   "outputs": [],
   "source": [
    "train_labels = []\n",
    "\n",
    "for item in train:\n",
    "    for outcome in outcomes:\n",
    "        if item.find('\\\\' + outcome + '\\\\') >= 0:\n",
    "            train_labels.append(outcome)"
   ]
  },
  {
   "cell_type": "code",
   "execution_count": 16,
   "metadata": {
    "collapsed": true
   },
   "outputs": [],
   "source": [
    "test_labels = []\n",
    "\n",
    "for item in test:\n",
    "    for outcome in outcomes:\n",
    "        if item.find('\\\\' + outcome + '\\\\') >= 0:\n",
    "            test_labels.append(outcome)"
   ]
  },
  {
   "cell_type": "markdown",
   "metadata": {},
   "source": [
    "Some features are not a full second in length, which is causing problems down the line. Need to pad with silence."
   ]
  },
  {
   "cell_type": "code",
   "execution_count": 1,
   "metadata": {},
   "outputs": [],
   "source": [
    "#If the wav file does not have 16000 elements, we need to append some zeros to the end so that we have a consistent dataset\n",
    "\n",
    "for i in range(len(train)):\n",
    "    if len(librosa.load(train[i], sr = 16000)[0]) < 16000:\n",
    "        #print(\"Index:\", i)\n",
    "        tmp = soundfile.SoundFile(train[i], mode='r+', samplerate=None)\n",
    "        tmp_dur = tmp.seek(0, SEEK_END)\n",
    "        tmp.write(np.zeros((16000-tmp_dur, 1)))\n",
    "        tmp.close()"
   ]
  },
  {
   "cell_type": "markdown",
   "metadata": {},
   "source": [
    "Some samples are also longer than 1 second in length (all of the background noise files). Let's remove them from our training set for the time being. Will add them back later."
   ]
  },
  {
   "cell_type": "code",
   "execution_count": 89,
   "metadata": {},
   "outputs": [
    {
     "name": "stdout",
     "output_type": "stream",
     "text": [
      "Index: 51088\n",
      "Index: 51089\n",
      "Index: 51090\n",
      "Index: 51091\n",
      "Index: 51092\n",
      "Index: 51093\n"
     ]
    }
   ],
   "source": [
    "for i in range(len(train)):\n",
    "    if len(librosa.load(train[i], sr = 16000)[0]) > 16000:\n",
    "        print(\"Index:\", i)\n",
    "        #tmp = soundfile.SoundFile(train[i], mode='r+', samplerate=None)\n",
    "        #tmp_dur = tmp.seek(0, SEEK_END)\n",
    "        #tmp.write(np.zeros((16000-tmp_dur, 1)))"
   ]
  },
  {
   "cell_type": "code",
   "execution_count": 90,
   "metadata": {},
   "outputs": [
    {
     "data": {
      "text/plain": [
       "'C:\\\\Users\\\\ryan\\\\Desktop\\\\Thinkful DS Sample Data - Main Course\\\\Final Project\\\\train\\\\audio\\\\_background_noise_\\\\doing_the_dishes.wav'"
      ]
     },
     "execution_count": 90,
     "metadata": {},
     "output_type": "execute_result"
    }
   ],
   "source": [
    "train[51088]"
   ]
  },
  {
   "cell_type": "code",
   "execution_count": 19,
   "metadata": {
    "collapsed": true
   },
   "outputs": [],
   "source": [
    "#For now, let's drop the background noise stuff from the training set (since it is not in the test set)\n",
    "\n",
    "train.remove(train[51093])\n",
    "train.remove(train[51092])\n",
    "train.remove(train[51091])\n",
    "train.remove(train[51090])\n",
    "train.remove(train[51089])\n",
    "train.remove(train[51088])"
   ]
  },
  {
   "cell_type": "code",
   "execution_count": 20,
   "metadata": {
    "collapsed": true
   },
   "outputs": [],
   "source": [
    "train_labels.remove(train_labels[51093])\n",
    "train_labels.remove(train_labels[51092])\n",
    "train_labels.remove(train_labels[51091])\n",
    "train_labels.remove(train_labels[51090])\n",
    "train_labels.remove(train_labels[51089])\n",
    "train_labels.remove(train_labels[51088])"
   ]
  },
  {
   "cell_type": "code",
   "execution_count": 17,
   "metadata": {
    "collapsed": true
   },
   "outputs": [],
   "source": [
    "#Now create features for the train set\n",
    "\n",
    "features_1 = []\n",
    "\n",
    "for i in range(len(train)):\n",
    "    features_1.append(librosa.load(train[i], sr = 16000)[0])"
   ]
  },
  {
   "cell_type": "markdown",
   "metadata": {},
   "source": [
    "Because the human ear is more sensitive to some frequencies than others, it's been traditional in speech recognition to do further processing to this representation to turn it into a set of Mel-Frequency Cepstral Coefficients, or MFCCs for short. This is also a two-dimensional, one-channel representation so it can be treated like an image too."
   ]
  },
  {
   "cell_type": "code",
   "execution_count": 22,
   "metadata": {
    "collapsed": true
   },
   "outputs": [],
   "source": [
    "mfcc2 = np.zeros((len(train), 13, 32))\n",
    "for i in range(len(train)):\n",
    "    mfcc2[i] = librosa.feature.mfcc(features_1[i], sr=16000, n_mfcc=13)"
   ]
  },
  {
   "cell_type": "code",
   "execution_count": 2,
   "metadata": {},
   "outputs": [],
   "source": [
    "#Pad test files with zeros also, if they are < 1 second long\n",
    "\n",
    "for i in range(len(test)):\n",
    "    if len(librosa.load(test[i], sr = 16000)[0]) < 16000:\n",
    "        print(\"Index:\", i)\n",
    "        tmp = soundfile.SoundFile(test[i], mode='r+', samplerate=None)\n",
    "        tmp_dur = tmp.seek(0, SEEK_END)\n",
    "        tmp.write(np.zeros((16000-tmp_dur, 1)))\n",
    "        tmp.close()"
   ]
  },
  {
   "cell_type": "code",
   "execution_count": 135,
   "metadata": {
    "collapsed": true
   },
   "outputs": [],
   "source": [
    "#Create features_2 with the properly sized dataset (test files are fixed now)\n",
    "\n",
    "features_2 = []\n",
    "\n",
    "for i in range(len(test)):\n",
    "    features_2.append(librosa.load(test[i], sr = 16000)[0])"
   ]
  },
  {
   "cell_type": "code",
   "execution_count": 24,
   "metadata": {
    "collapsed": true
   },
   "outputs": [],
   "source": [
    "mfcc2_test = np.zeros((len(test), 13, 32))\n",
    "for i in range(len(test)):\n",
    "    mfcc2_test[i] = librosa.feature.mfcc(features_2[i], sr=16000, n_mfcc=13)"
   ]
  },
  {
   "cell_type": "code",
   "execution_count": 119,
   "metadata": {},
   "outputs": [
    {
     "data": {
      "image/png": "[encoded data removed]",
      "text/plain": [
       "<matplotlib.figure.Figure at 0x23074c0ec88>"
      ]
     },
     "metadata": {},
     "output_type": "display_data"
    }
   ],
   "source": [
    "#Let's create some visualizations\n",
    "\n",
    "plt.plot(mfcc2[0])\n",
    "plt.show()"
   ]
  },
  {
   "cell_type": "code",
   "execution_count": 508,
   "metadata": {},
   "outputs": [
    {
     "data": {
      "image/png": "[encoded data removed]",
      "text/plain": [
       "<matplotlib.figure.Figure at 0x1ba2e79ca20>"
      ]
     },
     "metadata": {},
     "output_type": "display_data"
    }
   ],
   "source": [
    "fig, ax = plt.subplots()\n",
    "cax = ax.imshow(mfcc2[0], interpolation='nearest', cmap=cm.coolwarm, origin='lower')\n",
    "ax.set_title('MFCC')\n",
    "\n",
    "plt.show()"
   ]
  },
  {
   "cell_type": "code",
   "execution_count": 25,
   "metadata": {
    "collapsed": true
   },
   "outputs": [],
   "source": [
    "# Import various componenets for model building\n",
    "from keras.models import Sequential\n",
    "from keras.layers import Dense, Dropout, Flatten, Conv2D, MaxPooling2D\n",
    "from keras.layers import LSTM, Input, TimeDistributed\n",
    "from keras.models import Model\n",
    "from keras.optimizers import RMSprop\n",
    "\n",
    "# Import the backend\n",
    "from keras import backend as K"
   ]
  },
  {
   "cell_type": "markdown",
   "metadata": {},
   "source": [
    "At this stage, normalize the test and train data to prepare for model construction and fitting."
   ]
  },
  {
   "cell_type": "code",
   "execution_count": 152,
   "metadata": {},
   "outputs": [
    {
     "name": "stdout",
     "output_type": "stream",
     "text": [
      "x_train shape: (51088, 13, 32, 1)\n",
      "51088 train samples\n",
      "6835 test samples\n"
     ]
    }
   ],
   "source": [
    "# input image dimensions, from our data\n",
    "img_rows, img_cols = 13, 32\n",
    "num_classes = 30\n",
    "\n",
    "# the data, shuffled and split between train and test sets\n",
    "(x_train, y_train) = (mfcc2, train_labels)\n",
    "(x_test, y_test) = (mfcc2_test, test_labels)\n",
    "\n",
    "if K.image_data_format() == 'channels_first':\n",
    "    x_train = x_train.reshape(x_train.shape[0], 1, img_rows, img_cols)\n",
    "    x_test = x_test.reshape(x_test.shape[0], 1, img_rows, img_cols)\n",
    "    input_shape = (1, img_rows, img_cols)\n",
    "else:\n",
    "    x_train = x_train.reshape(x_train.shape[0], img_rows, img_cols, 1)\n",
    "    x_test = x_test.reshape(x_test.shape[0], img_rows, img_cols, 1)\n",
    "    input_shape = (img_rows, img_cols, 1)\n",
    "\n",
    "x_train = x_train.astype('float32')\n",
    "x_test = x_test.astype('float32')\n",
    "\n",
    "x_train_norm = []\n",
    "for clip in x_train:\n",
    "    x_train_norm.append(stats.zscore(clip))\n",
    "\n",
    "x_train_norm = np.asarray(x_train_norm)\n",
    "    \n",
    "x_test_norm = []\n",
    "for clip in x_test:\n",
    "    x_test_norm.append(stats.zscore(clip))\n",
    "\n",
    "x_test_norm = np.asarray(x_test_norm)\n",
    "    \n",
    "#x_train /= 255\n",
    "#x_test /= 255\n",
    "print('x_train shape:', x_train.shape)\n",
    "print(x_train_norm.shape[0], 'train samples')\n",
    "print(x_test_norm.shape[0], 'test samples')"
   ]
  },
  {
   "cell_type": "code",
   "execution_count": 167,
   "metadata": {
    "collapsed": true
   },
   "outputs": [],
   "source": [
    "labels_num = dict()\n",
    "for i, label in enumerate(set(train_labels)):\n",
    "    labels_num.update({label: i+1})"
   ]
  },
  {
   "cell_type": "code",
   "execution_count": 168,
   "metadata": {},
   "outputs": [
    {
     "data": {
      "text/plain": [
       "{'bed': 12,\n",
       " 'bird': 22,\n",
       " 'cat': 25,\n",
       " 'dog': 10,\n",
       " 'down': 3,\n",
       " 'eight': 9,\n",
       " 'five': 27,\n",
       " 'four': 29,\n",
       " 'go': 21,\n",
       " 'happy': 16,\n",
       " 'house': 14,\n",
       " 'left': 18,\n",
       " 'marvin': 11,\n",
       " 'nine': 19,\n",
       " 'no': 7,\n",
       " 'off': 13,\n",
       " 'on': 4,\n",
       " 'one': 15,\n",
       " 'right': 23,\n",
       " 'seven': 30,\n",
       " 'sheila': 5,\n",
       " 'six': 2,\n",
       " 'stop': 20,\n",
       " 'three': 1,\n",
       " 'tree': 17,\n",
       " 'two': 24,\n",
       " 'up': 28,\n",
       " 'wow': 26,\n",
       " 'yes': 8,\n",
       " 'zero': 6}"
      ]
     },
     "execution_count": 168,
     "metadata": {},
     "output_type": "execute_result"
    }
   ],
   "source": [
    "labels_num"
   ]
  },
  {
   "cell_type": "code",
   "execution_count": 171,
   "metadata": {
    "collapsed": true
   },
   "outputs": [],
   "source": [
    "train_labels2 = [labels_num.get(train_labels[i]) for i in range(len(train_labels))]"
   ]
  },
  {
   "cell_type": "code",
   "execution_count": 173,
   "metadata": {
    "collapsed": true
   },
   "outputs": [],
   "source": [
    "test_labels2 = [labels_num.get(test_labels[i]) for i in range(len(test_labels))]"
   ]
  },
  {
   "cell_type": "code",
   "execution_count": 222,
   "metadata": {
    "collapsed": true
   },
   "outputs": [],
   "source": [
    "y_train = np.asarray(train_labels2)\n",
    "y_test = np.asarray(test_labels2)\n",
    "\n",
    "\n",
    "# convert class vectors to binary class matrices\n",
    "y_train = np.asarray(pd.get_dummies(y_train))\n",
    "y_test = np.asarray(pd.get_dummies(y_test))"
   ]
  },
  {
   "cell_type": "code",
   "execution_count": 223,
   "metadata": {},
   "outputs": [
    {
     "name": "stdout",
     "output_type": "stream",
     "text": [
      "Train on 51088 samples, validate on 6835 samples\n",
      "Epoch 1/10\n",
      "51088/51088 [==============================] - 171s - loss: 2.4979 - acc: 0.2781 - val_loss: 1.7535 - val_acc: 0.5302\n",
      "Epoch 2/10\n",
      "51088/51088 [==============================] - 169s - loss: 1.7643 - acc: 0.4787 - val_loss: 1.3879 - val_acc: 0.6082\n",
      "Epoch 3/10\n",
      "51088/51088 [==============================] - 180s - loss: 1.5059 - acc: 0.5532 - val_loss: 1.2204 - val_acc: 0.6588\n",
      "Epoch 4/10\n",
      "51088/51088 [==============================] - 182s - loss: 1.3524 - acc: 0.5983 - val_loss: 1.0843 - val_acc: 0.6995\n",
      "Epoch 5/10\n",
      "51088/51088 [==============================] - 175s - loss: 1.2370 - acc: 0.6305 - val_loss: 1.0219 - val_acc: 0.7175\n",
      "Epoch 6/10\n",
      "51088/51088 [==============================] - 174s - loss: 1.1401 - acc: 0.6602 - val_loss: 0.9271 - val_acc: 0.7350\n",
      "Epoch 7/10\n",
      "51088/51088 [==============================] - 183s - loss: 1.0593 - acc: 0.6853 - val_loss: 0.8647 - val_acc: 0.7560\n",
      "Epoch 8/10\n",
      "51088/51088 [==============================] - 179s - loss: 0.9944 - acc: 0.7028 - val_loss: 0.8191 - val_acc: 0.7678\n",
      "Epoch 9/10\n",
      "51088/51088 [==============================] - 179s - loss: 0.9443 - acc: 0.7179 - val_loss: 0.8269 - val_acc: 0.7643\n",
      "Epoch 10/10\n",
      "51088/51088 [==============================] - 179s - loss: 0.9055 - acc: 0.7290 - val_loss: 0.7630 - val_acc: 0.7802\n",
      "Test loss: 0.763002822983\n",
      "Test accuracy: 0.780248719885\n"
     ]
    }
   ],
   "source": [
    "# Building the Model\n",
    "model = Sequential()\n",
    "# First convolutional layer, note the specification of shape\n",
    "model.add(Conv2D(32, kernel_size=(3, 3),\n",
    "                 activation='relu',\n",
    "                 input_shape=input_shape))\n",
    "model.add(Conv2D(64, (3, 3), activation='relu'))\n",
    "model.add(MaxPooling2D(pool_size=(2, 2)))\n",
    "model.add(Dropout(0.25))\n",
    "model.add(Flatten())\n",
    "model.add(Dense(128, activation='relu'))\n",
    "model.add(Dropout(0.5))\n",
    "model.add(Dense(num_classes, activation='softmax'))\n",
    "\n",
    "model.compile(loss=keras.losses.categorical_crossentropy,\n",
    "              optimizer=keras.optimizers.Adadelta(),\n",
    "              metrics=['accuracy'])\n",
    "\n",
    "model.fit(x_train_norm, y_train,\n",
    "          batch_size=128,\n",
    "          epochs=10,\n",
    "          verbose=1,\n",
    "          validation_data=(x_test_norm, y_test))\n",
    "score = model.evaluate(x_test_norm, y_test, verbose=0)\n",
    "print('Test loss:', score[0])\n",
    "print('Test accuracy:', score[1])"
   ]
  },
  {
   "cell_type": "markdown",
   "metadata": {},
   "source": [
    "The model we built on the 30 classes is already 78% accurate."
   ]
  },
  {
   "cell_type": "code",
   "execution_count": 236,
   "metadata": {},
   "outputs": [
    {
     "data": {
      "text/plain": [
       "dict_values([1340, 1411, 1399, 1396, 1842, 1852, 1844, 1839, 1861, 1373, 1427, 1839, 1424, 1875, 1853, 1839, 1864, 1892, 1852, 1875, 1372, 1863, 1885, 1841, 1374, 1873, 1843, 1414, 1860, 1866])"
      ]
     },
     "execution_count": 236,
     "metadata": {},
     "output_type": "execute_result"
    }
   ],
   "source": [
    "from collections import Counter\n",
    "Counter(train_labels).values() # counts the elements' frequency"
   ]
  },
  {
   "cell_type": "code",
   "execution_count": 39,
   "metadata": {
    "collapsed": true
   },
   "outputs": [],
   "source": [
    "#Now let's add the background noise to the mix\n",
    "\n",
    "#Walk through all background noise audio files \n",
    "bg_root = r'C:\\Users\\ryan\\Desktop\\Thinkful DS Sample Data - Main Course\\Final Project\\train\\audio\\_background_noise_'\n",
    "bg_train = []\n",
    "\n",
    "for subdir, dirs, files in os.walk(bg_root):\n",
    "    for file in files:\n",
    "        bg_train.append(os.path.normpath(os.path.join(subdir, file)))"
   ]
  },
  {
   "cell_type": "code",
   "execution_count": 40,
   "metadata": {
    "collapsed": true
   },
   "outputs": [],
   "source": [
    "#Remove read-me file\n",
    "bg_train.remove(bg_train[4])"
   ]
  },
  {
   "cell_type": "code",
   "execution_count": 41,
   "metadata": {},
   "outputs": [
    {
     "data": {
      "text/plain": [
       "['C:\\\\Users\\\\ryan\\\\Desktop\\\\Thinkful DS Sample Data - Main Course\\\\Final Project\\\\train\\\\audio\\\\_background_noise_\\\\doing_the_dishes.wav',\n",
       " 'C:\\\\Users\\\\ryan\\\\Desktop\\\\Thinkful DS Sample Data - Main Course\\\\Final Project\\\\train\\\\audio\\\\_background_noise_\\\\dude_miaowing.wav',\n",
       " 'C:\\\\Users\\\\ryan\\\\Desktop\\\\Thinkful DS Sample Data - Main Course\\\\Final Project\\\\train\\\\audio\\\\_background_noise_\\\\exercise_bike.wav',\n",
       " 'C:\\\\Users\\\\ryan\\\\Desktop\\\\Thinkful DS Sample Data - Main Course\\\\Final Project\\\\train\\\\audio\\\\_background_noise_\\\\pink_noise.wav',\n",
       " 'C:\\\\Users\\\\ryan\\\\Desktop\\\\Thinkful DS Sample Data - Main Course\\\\Final Project\\\\train\\\\audio\\\\_background_noise_\\\\running_tap.wav',\n",
       " 'C:\\\\Users\\\\ryan\\\\Desktop\\\\Thinkful DS Sample Data - Main Course\\\\Final Project\\\\train\\\\audio\\\\_background_noise_\\\\white_noise.wav']"
      ]
     },
     "execution_count": 41,
     "metadata": {},
     "output_type": "execute_result"
    }
   ],
   "source": [
    "bg_train"
   ]
  },
  {
   "cell_type": "code",
   "execution_count": 3,
   "metadata": {},
   "outputs": [],
   "source": [
    "#Create 1-second clips of silence from background noise files\n",
    "\n",
    "from pydub import AudioSegment\n",
    "from pydub.utils import make_chunks\n",
    "\n",
    "i = 0\n",
    "for bg in bg_train:\n",
    "\n",
    "    myaudio = AudioSegment.from_file(bg, \"wav\") \n",
    "    chunk_length_ms = 1000 # pydub calculates in millisec\n",
    "    chunks = make_chunks(myaudio, chunk_length_ms) #Make chunks of one sec\n",
    "\n",
    "    #Export all of the individual chunks as wav files\n",
    "\n",
    "    for chunk in chunks:\n",
    "        chunk_name = \"chunk{0}.wav\".format(i)\n",
    "        #print(\"exporting\", chunk_name)\n",
    "        chunk.export(chunk_name, format=\"wav\")\n",
    "        i += 1"
   ]
  },
  {
   "cell_type": "code",
   "execution_count": 33,
   "metadata": {
    "collapsed": true
   },
   "outputs": [],
   "source": [
    "#Manually examined chunk files and deleted all that were not a full second long (32kb)\n",
    "\n",
    "#Walk through all chunk background noise audio files \n",
    "bg_root = r'C:\\Users\\ryan\\Desktop\\Thinkful DS Sample Data - Main Course\\Final Project\\train\\background_noise_created_by_rm'\n",
    "bg_chunks = []\n",
    "\n",
    "for subdir, dirs, files in os.walk(bg_root):\n",
    "    for file in files:\n",
    "        bg_chunks.append(os.path.normpath(os.path.join(subdir, file)))"
   ]
  },
  {
   "cell_type": "code",
   "execution_count": 34,
   "metadata": {},
   "outputs": [
    {
     "data": {
      "text/plain": [
       "'C:\\\\Users\\\\ryan\\\\Desktop\\\\Thinkful DS Sample Data - Main Course\\\\Final Project\\\\train\\\\background_noise_created_by_rm\\\\chunk0.wav'"
      ]
     },
     "execution_count": 34,
     "metadata": {},
     "output_type": "execute_result"
    }
   ],
   "source": [
    "bg_chunks[0]"
   ]
  },
  {
   "cell_type": "code",
   "execution_count": 35,
   "metadata": {},
   "outputs": [
    {
     "name": "stdout",
     "output_type": "stream",
     "text": [
      "{16000}\n"
     ]
    }
   ],
   "source": [
    "#Identify all sample rates\n",
    "sample_rates = []\n",
    "for file in bg_chunks:\n",
    "    sample_rates.append(scipy.io.wavfile.read(file)[0])\n",
    "print(set(sample_rates))"
   ]
  },
  {
   "cell_type": "code",
   "execution_count": 37,
   "metadata": {
    "collapsed": true
   },
   "outputs": [],
   "source": [
    "#Create feature-set for background noise chunks \n",
    "features_3 = []\n",
    "\n",
    "for i in range(len(bg_chunks)):\n",
    "    features_3.append(librosa.load(bg_chunks[i], sr = 16000)[0])"
   ]
  },
  {
   "cell_type": "code",
   "execution_count": 42,
   "metadata": {},
   "outputs": [
    {
     "data": {
      "text/plain": [
       "'C:\\\\Users\\\\ryan\\\\Desktop\\\\Thinkful DS Sample Data - Main Course\\\\Final Project\\\\train\\\\audio\\\\_background_noise_\\\\doing_the_dishes.wav'"
      ]
     },
     "execution_count": 42,
     "metadata": {},
     "output_type": "execute_result"
    }
   ],
   "source": [
    "bg_train[0]"
   ]
  },
  {
   "cell_type": "code",
   "execution_count": 51,
   "metadata": {
    "collapsed": true
   },
   "outputs": [],
   "source": [
    "#Combine the training features we used for the model above with the background noise training features\n",
    "features_4 = features_1 + features_3"
   ]
  },
  {
   "cell_type": "markdown",
   "metadata": {},
   "source": [
    "Create MFCC features for the full training set + our background noise samples we just created."
   ]
  },
  {
   "cell_type": "code",
   "execution_count": 62,
   "metadata": {
    "collapsed": true
   },
   "outputs": [],
   "source": [
    "mfcc3 = np.zeros((len(train) + len(features_3), 13, 32))\n",
    "for i in range(len(features_4)):\n",
    "    mfcc3[i] = librosa.feature.mfcc(features_4[i], sr=16000, n_mfcc=13)"
   ]
  },
  {
   "cell_type": "code",
   "execution_count": 53,
   "metadata": {
    "collapsed": true
   },
   "outputs": [],
   "source": [
    "train_bg_labels = ['background' for i in range(len(features_3))]"
   ]
  },
  {
   "cell_type": "code",
   "execution_count": null,
   "metadata": {
    "collapsed": true
   },
   "outputs": [],
   "source": [
    "#For the Kaggle competition, we need to predict:\n",
    "#yes, no, up, down, left, right, on, off, stop, go. Everything else should be considered either unknown or silence"
   ]
  },
  {
   "cell_type": "code",
   "execution_count": 55,
   "metadata": {
    "collapsed": true
   },
   "outputs": [],
   "source": [
    "final_train_labels = []\n",
    "targets = ['yes', 'no', 'up', 'down', 'left', 'right', 'on', 'off', 'stop', 'go', 'background']\n",
    "for item in train_labels:\n",
    "    if item in targets:\n",
    "        final_train_labels.append(item)\n",
    "    else:\n",
    "        final_train_labels.append('unknown')"
   ]
  },
  {
   "cell_type": "code",
   "execution_count": 56,
   "metadata": {
    "collapsed": true
   },
   "outputs": [],
   "source": [
    "labels_num = dict()\n",
    "for i, label in enumerate(set(final_train_labels)):\n",
    "    labels_num.update({label: i+1})"
   ]
  },
  {
   "cell_type": "code",
   "execution_count": 57,
   "metadata": {
    "collapsed": true
   },
   "outputs": [],
   "source": [
    "final_test_labels = []\n",
    "targets = ['yes', 'no', 'up', 'down', 'left', 'right', 'on', 'off', 'stop', 'go', 'background']\n",
    "for item in test_labels:\n",
    "    if item in targets:\n",
    "        final_test_labels.append(item)\n",
    "    else:\n",
    "        final_test_labels.append('unknown')"
   ]
  },
  {
   "cell_type": "code",
   "execution_count": 68,
   "metadata": {},
   "outputs": [
    {
     "data": {
      "text/plain": [
       "{'background': 5,\n",
       " 'down': 4,\n",
       " 'go': 1,\n",
       " 'left': 7,\n",
       " 'no': 6,\n",
       " 'off': 12,\n",
       " 'on': 8,\n",
       " 'right': 3,\n",
       " 'stop': 9,\n",
       " 'unknown': 10,\n",
       " 'up': 11,\n",
       " 'yes': 2}"
      ]
     },
     "execution_count": 68,
     "metadata": {},
     "output_type": "execute_result"
    }
   ],
   "source": [
    "labels_num"
   ]
  },
  {
   "cell_type": "code",
   "execution_count": 58,
   "metadata": {
    "collapsed": true
   },
   "outputs": [],
   "source": [
    "train_labels3 = [labels_num.get(final_train_labels[i]) for i in range(len(final_train_labels))]\n",
    "test_labels3 = [labels_num.get(final_test_labels[i]) for i in range(len(final_test_labels))]\n",
    "y_train = np.asarray(train_labels3)\n",
    "y_test = np.asarray(test_labels3)"
   ]
  },
  {
   "cell_type": "code",
   "execution_count": 59,
   "metadata": {},
   "outputs": [
    {
     "data": {
      "text/plain": [
       "dict_values([32550, 1842, 1861, 1839, 1853, 1839, 1864, 1852, 1885, 1843, 1860, 398])"
      ]
     },
     "execution_count": 59,
     "metadata": {},
     "output_type": "execute_result"
    }
   ],
   "source": [
    "Counter(train_labels3).values()"
   ]
  },
  {
   "cell_type": "code",
   "execution_count": 60,
   "metadata": {},
   "outputs": [
    {
     "data": {
      "text/plain": [
       "dict_values([4268, 253, 251, 267, 252, 262, 246, 259, 249, 272, 256])"
      ]
     },
     "execution_count": 60,
     "metadata": {},
     "output_type": "execute_result"
    }
   ],
   "source": [
    "Counter(test_labels3).values()"
   ]
  },
  {
   "cell_type": "code",
   "execution_count": 69,
   "metadata": {
    "collapsed": true
   },
   "outputs": [],
   "source": [
    "x_train = mfcc3\n",
    "x_test = mfcc2_test\n",
    "\n",
    "y_train = np.asarray(train_labels3)\n",
    "y_test = np.asarray(test_labels3)\n",
    "\n",
    "y_train = np.asarray(pd.get_dummies(y_train))\n",
    "y_test = np.asarray(pd.get_dummies(y_test))"
   ]
  },
  {
   "cell_type": "code",
   "execution_count": 70,
   "metadata": {},
   "outputs": [
    {
     "data": {
      "text/plain": [
       "array([[0, 0, 0, ..., 1, 0, 0],\n",
       "       [0, 0, 0, ..., 1, 0, 0],\n",
       "       [0, 0, 0, ..., 1, 0, 0],\n",
       "       ..., \n",
       "       [0, 0, 0, ..., 1, 0, 0],\n",
       "       [0, 0, 0, ..., 1, 0, 0],\n",
       "       [0, 0, 0, ..., 1, 0, 0]], dtype=uint8)"
      ]
     },
     "execution_count": 70,
     "metadata": {},
     "output_type": "execute_result"
    }
   ],
   "source": [
    "#We need to give y_test a dimension to account for background noise (as of now, it is not in the test set...)\n",
    "y_test"
   ]
  },
  {
   "cell_type": "code",
   "execution_count": 67,
   "metadata": {},
   "outputs": [
    {
     "data": {
      "text/plain": [
       "(6835, 11)"
      ]
     },
     "execution_count": 67,
     "metadata": {},
     "output_type": "execute_result"
    }
   ],
   "source": [
    "y_test.shape"
   ]
  },
  {
   "cell_type": "code",
   "execution_count": 71,
   "metadata": {
    "collapsed": true
   },
   "outputs": [],
   "source": [
    "#Move the 'background noise' aka column 5 aka index 4 to the end of the y_train array. Then create an empty column for the\n",
    "#y-test array and put it at the end\n",
    "\n",
    "y_train2 = np.concatenate((y_train[:, :4], y_train[:, 5:], y_train[:, 4:5]), axis = 1)"
   ]
  },
  {
   "cell_type": "code",
   "execution_count": 72,
   "metadata": {},
   "outputs": [
    {
     "data": {
      "text/plain": [
       "array([0, 0, 0, 0, 0, 0, 0, 0, 0, 0, 0, 1], dtype=uint8)"
      ]
     },
     "execution_count": 72,
     "metadata": {},
     "output_type": "execute_result"
    }
   ],
   "source": [
    "#Make sure it worked\n",
    "y_train2[-1]"
   ]
  },
  {
   "cell_type": "code",
   "execution_count": 73,
   "metadata": {
    "collapsed": true
   },
   "outputs": [],
   "source": [
    "y_test_empties = np.zeros((6835, 1))"
   ]
  },
  {
   "cell_type": "code",
   "execution_count": 74,
   "metadata": {
    "collapsed": true
   },
   "outputs": [],
   "source": [
    "#Now add the empty target column associated with background noise for the test set\n",
    "y_test2 = np.concatenate((y_test[:, :], y_test_empties[:, :]), axis = 1)"
   ]
  },
  {
   "cell_type": "code",
   "execution_count": 75,
   "metadata": {},
   "outputs": [
    {
     "data": {
      "text/plain": [
       "array([[ 0.,  0.,  0., ...,  0.,  0.,  0.],\n",
       "       [ 0.,  0.,  0., ...,  0.,  0.,  0.],\n",
       "       [ 0.,  0.,  0., ...,  0.,  0.,  0.],\n",
       "       ..., \n",
       "       [ 0.,  0.,  0., ...,  0.,  0.,  0.],\n",
       "       [ 0.,  0.,  0., ...,  0.,  0.,  0.],\n",
       "       [ 0.,  0.,  0., ...,  0.,  0.,  0.]])"
      ]
     },
     "execution_count": 75,
     "metadata": {},
     "output_type": "execute_result"
    }
   ],
   "source": [
    "y_test2"
   ]
  },
  {
   "cell_type": "code",
   "execution_count": 725,
   "metadata": {
    "collapsed": true
   },
   "outputs": [],
   "source": [
    "#Run the model again..."
   ]
  },
  {
   "cell_type": "code",
   "execution_count": 78,
   "metadata": {},
   "outputs": [
    {
     "name": "stdout",
     "output_type": "stream",
     "text": [
      "x_train shape: (51486, 13, 32, 1)\n",
      "51486 train samples\n",
      "6835 test samples\n"
     ]
    }
   ],
   "source": [
    "# input image dimensions, from our data\n",
    "img_rows, img_cols = 13, 32\n",
    "num_classes = 11\n",
    "\n",
    "\n",
    "\n",
    "if K.image_data_format() == 'channels_first':\n",
    "    x_train = x_train.reshape(x_train.shape[0], 1, img_rows, img_cols)\n",
    "    x_test = x_test.reshape(x_test.shape[0], 1, img_rows, img_cols)\n",
    "    input_shape = (1, img_rows, img_cols)\n",
    "else:\n",
    "    x_train = x_train.reshape(x_train.shape[0], img_rows, img_cols, 1)\n",
    "    x_test = x_test.reshape(x_test.shape[0], img_rows, img_cols, 1)\n",
    "    input_shape = (img_rows, img_cols, 1)\n",
    "\n",
    "x_train = x_train.astype('float32')\n",
    "x_test = x_test.astype('float32')\n",
    "\n",
    "x_train_norm = []\n",
    "for clip in x_train:\n",
    "    x_train_norm.append(stats.zscore(clip))\n",
    "\n",
    "x_train_norm = np.asarray(x_train_norm)\n",
    "    \n",
    "x_test_norm = []\n",
    "for clip in x_test:\n",
    "    x_test_norm.append(stats.zscore(clip))\n",
    "\n",
    "x_test_norm = np.asarray(x_test_norm)\n",
    "    \n",
    "#x_train /= 255\n",
    "#x_test /= 255\n",
    "print('x_train shape:', x_train.shape)\n",
    "print(x_train_norm.shape[0], 'train samples')\n",
    "print(x_test_norm.shape[0], 'test samples')"
   ]
  },
  {
   "cell_type": "code",
   "execution_count": 79,
   "metadata": {},
   "outputs": [
    {
     "name": "stdout",
     "output_type": "stream",
     "text": [
      "6835\n",
      "51486\n",
      "58321\n"
     ]
    }
   ],
   "source": [
    "type(x_test)\n",
    "print(len(x_test_norm))\n",
    "print(len(x_train_norm))\n",
    "print(len(x_train_norm) +len(x_test_norm))"
   ]
  },
  {
   "cell_type": "code",
   "execution_count": 125,
   "metadata": {},
   "outputs": [
    {
     "name": "stdout",
     "output_type": "stream",
     "text": [
      "51388\n",
      "6933\n",
      "51388\n",
      "6933\n"
     ]
    }
   ],
   "source": [
    "#There were 398 'silence' clips. Let's use 300 of them for train and 98 for test\n",
    "x_train_norm_trial = x_train_norm[:-98, :]\n",
    "x_test_norm_trial = np.vstack((x_test_norm, x_train_norm[-398:-300]))\n",
    "\n",
    "y_train2_trial = y_train2[:-98, :]\n",
    "y_test2_trial = np.vstack((y_test2, y_train2[-398:-300]))\n",
    "\n",
    "print(len(x_train_norm_trial))\n",
    "print(len(x_test_norm_trial))\n",
    "print(len(y_train2_trial))\n",
    "print(len(y_test2_trial))"
   ]
  },
  {
   "cell_type": "code",
   "execution_count": 126,
   "metadata": {
    "collapsed": true
   },
   "outputs": [],
   "source": [
    "#In order to prevent model from always predicting dominant class ('unknown'), create a weighting for loss function\n",
    "weights = dict()\n",
    "tot = np.sum(y_train2_trial)\n",
    "for col in range(y_train2_trial.shape[1]):\n",
    "    sm = np.sum(y_train2_trial[:, col])\n",
    "    weights.update({col : 1/(sm/tot)})"
   ]
  },
  {
   "cell_type": "code",
   "execution_count": 127,
   "metadata": {},
   "outputs": [
    {
     "data": {
      "text/plain": [
       "{0: 27.613111230521223,\n",
       " 1: 27.627956989247313,\n",
       " 2: 27.747300215982719,\n",
       " 3: 27.897937024972855,\n",
       " 4: 27.732325957906099,\n",
       " 5: 27.943447525829257,\n",
       " 6: 27.568669527896994,\n",
       " 7: 27.261538461538461,\n",
       " 8: 1.5787403993855607,\n",
       " 9: 27.882799782962561,\n",
       " 10: 27.943447525829257,\n",
       " 11: 171.29333333333335}"
      ]
     },
     "execution_count": 127,
     "metadata": {},
     "output_type": "execute_result"
    }
   ],
   "source": [
    "weights"
   ]
  },
  {
   "cell_type": "markdown",
   "metadata": {},
   "source": [
    "Let's get the files for the predictions loaded."
   ]
  },
  {
   "cell_type": "code",
   "execution_count": 27,
   "metadata": {
    "collapsed": true
   },
   "outputs": [],
   "source": [
    "#Set root directory to location of audio files. Use os.path.normpath to handle '/' vs '\\'\n",
    "pred = os.path.normpath(r'C:\\Users\\ryan\\Desktop\\Thinkful DS Sample Data - Main Course\\Final Project\\test\\audio')\n",
    "\n",
    "#Walk through all audio files and create explicit list of audio files to predict\n",
    "challenge = []\n",
    "\n",
    "for subdir, dirs, files in os.walk(pred):\n",
    "    for file in files:\n",
    "        challenge.append(os.path.normpath(os.path.join(subdir, file)))"
   ]
  },
  {
   "cell_type": "code",
   "execution_count": 28,
   "metadata": {},
   "outputs": [
    {
     "data": {
      "text/plain": [
       "'C:\\\\Users\\\\ryan\\\\Desktop\\\\Thinkful DS Sample Data - Main Course\\\\Final Project\\\\test\\\\audio\\\\clip_000044442.wav'"
      ]
     },
     "execution_count": 28,
     "metadata": {},
     "output_type": "execute_result"
    }
   ],
   "source": [
    "challenge[0]"
   ]
  },
  {
   "cell_type": "code",
   "execution_count": 29,
   "metadata": {
    "collapsed": true
   },
   "outputs": [],
   "source": [
    "#Load the unseen test files, so that we can ultimately create MFCC features on them\n",
    "challenge_features = []\n",
    "\n",
    "for i in range(len(challenge)):\n",
    "    challenge_features.append(librosa.load(challenge[i], sr = 16000)[0])"
   ]
  },
  {
   "cell_type": "code",
   "execution_count": 769,
   "metadata": {
    "collapsed": true
   },
   "outputs": [],
   "source": [
    "#Test to see if any unseen test files are not 1 second in length\n",
    "\n",
    "for i in range(len(challenge_features)):\n",
    "    if len(challenge_features[i]) < 16000:\n",
    "        print(\"Index:\", i)\n",
    "        #tmp = soundfile.SoundFile(test[i], mode='r+', samplerate=None)\n",
    "        #tmp_dur = tmp.seek(0, SEEK_END)\n",
    "        #tmp.write(np.zeros((16000-tmp_dur, 1)))\n",
    "        #tmp.close()"
   ]
  },
  {
   "cell_type": "code",
   "execution_count": 32,
   "metadata": {
    "collapsed": true
   },
   "outputs": [],
   "source": [
    "#Generate the MFCC features for the dataset we want to test on\n",
    "\n",
    "mfcc_pred = np.zeros((len(challenge_features), 13, 32))\n",
    "for i in range(len(challenge_features)):\n",
    "    mfcc_pred[i] = librosa.feature.mfcc(challenge_features[i], sr=16000, n_mfcc=13)"
   ]
  },
  {
   "cell_type": "code",
   "execution_count": 138,
   "metadata": {},
   "outputs": [
    {
     "name": "stdout",
     "output_type": "stream",
     "text": [
      "Train on 51388 samples, validate on 6933 samples\n",
      "Epoch 1/25\n",
      "51388/51388 [==============================] - 284s - loss: 24.1931 - acc: 0.2024 - val_loss: 3.2245 - val_acc: 0.0845\n",
      "Epoch 2/25\n",
      "51388/51388 [==============================] - 299s - loss: 13.0677 - acc: 0.3960 - val_loss: 1.4934 - val_acc: 0.4898\n",
      "Epoch 3/25\n",
      "51388/51388 [==============================] - 294s - loss: 9.4532 - acc: 0.5332 - val_loss: 1.0978 - val_acc: 0.6097\n",
      "Epoch 4/25\n",
      "51388/51388 [==============================] - 282s - loss: 7.5679 - acc: 0.6112 - val_loss: 0.9513 - val_acc: 0.6654\n",
      "Epoch 5/25\n",
      "51388/51388 [==============================] - 313s - loss: 6.5438 - acc: 0.6631 - val_loss: 0.8879 - val_acc: 0.6959\n",
      "Epoch 6/25\n",
      "51388/51388 [==============================] - 296s - loss: 5.8856 - acc: 0.7033 - val_loss: 0.8185 - val_acc: 0.7235\n",
      "Epoch 7/25\n",
      "51388/51388 [==============================] - 305s - loss: 5.2679 - acc: 0.7291 - val_loss: 0.7853 - val_acc: 0.7353\n",
      "Epoch 8/25\n",
      "51388/51388 [==============================] - 299s - loss: 4.8379 - acc: 0.7466 - val_loss: 0.6324 - val_acc: 0.7816\n",
      "Epoch 9/25\n",
      "51388/51388 [==============================] - 325s - loss: 4.5393 - acc: 0.7638 - val_loss: 0.5796 - val_acc: 0.8046\n",
      "Epoch 10/25\n",
      "51388/51388 [==============================] - 305s - loss: 4.3694 - acc: 0.7761 - val_loss: 0.5260 - val_acc: 0.8272\n",
      "Epoch 11/25\n",
      "51388/51388 [==============================] - 312s - loss: 4.0591 - acc: 0.7936 - val_loss: 0.6312 - val_acc: 0.7893\n",
      "Epoch 12/25\n",
      "51388/51388 [==============================] - 292s - loss: 3.9385 - acc: 0.7960 - val_loss: 0.5335 - val_acc: 0.8198\n",
      "Epoch 13/25\n",
      "51388/51388 [==============================] - 290s - loss: 3.6680 - acc: 0.8080 - val_loss: 0.5116 - val_acc: 0.8343\n",
      "Epoch 14/25\n",
      "51388/51388 [==============================] - 291s - loss: 3.5792 - acc: 0.8160 - val_loss: 0.4805 - val_acc: 0.8458\n",
      "Epoch 15/25\n",
      "51388/51388 [==============================] - 290s - loss: 3.4402 - acc: 0.8240 - val_loss: 0.4127 - val_acc: 0.8641\n",
      "Epoch 16/25\n",
      "51388/51388 [==============================] - 292s - loss: 3.2683 - acc: 0.8289 - val_loss: 0.4469 - val_acc: 0.8597\n",
      "Epoch 17/25\n",
      "51388/51388 [==============================] - 291s - loss: 3.2109 - acc: 0.8326 - val_loss: 0.4063 - val_acc: 0.8687\n",
      "Epoch 18/25\n",
      "51388/51388 [==============================] - 314s - loss: 3.1905 - acc: 0.8363 - val_loss: 0.4773 - val_acc: 0.8436\n",
      "Epoch 19/25\n",
      "51388/51388 [==============================] - 294s - loss: 3.0369 - acc: 0.8411 - val_loss: 0.4606 - val_acc: 0.8552\n",
      "Epoch 20/25\n",
      "51388/51388 [==============================] - 303s - loss: 2.9494 - acc: 0.8470 - val_loss: 0.4221 - val_acc: 0.8674\n",
      "Epoch 21/25\n",
      "51388/51388 [==============================] - 304s - loss: 2.8916 - acc: 0.8475 - val_loss: 0.4046 - val_acc: 0.8673\n",
      "Epoch 22/25\n",
      "51388/51388 [==============================] - 306s - loss: 2.7936 - acc: 0.8522 - val_loss: 0.4275 - val_acc: 0.8637\n",
      "Epoch 23/25\n",
      "51388/51388 [==============================] - 308s - loss: 2.7373 - acc: 0.8570 - val_loss: 0.3959 - val_acc: 0.8755\n",
      "Epoch 24/25\n",
      "51388/51388 [==============================] - 322s - loss: 2.6692 - acc: 0.8592 - val_loss: 0.3579 - val_acc: 0.8863\n",
      "Epoch 25/25\n",
      "51388/51388 [==============================] - 317s - loss: 2.6077 - acc: 0.8630 - val_loss: 0.3826 - val_acc: 0.8786\n",
      "Test loss: 0.382620706552\n",
      "Test accuracy: 0.878551853454\n",
      "158528/158538 [============================>.] - ETA: 0s"
     ]
    }
   ],
   "source": [
    "num_classes = 12\n",
    "\n",
    "model = Sequential()\n",
    "model.add(Conv2D(32, (5, 5), padding='same',\n",
    "                 input_shape=input_shape,\n",
    "                 activation='relu'))\n",
    "\n",
    "model.add(keras.layers.BatchNormalization())\n",
    "model.add(Conv2D(32, (3, 3), activation='relu'))\n",
    "model.add(MaxPooling2D(pool_size=(2, 2)))\n",
    "model.add(Dropout(0.25))\n",
    "model.add(keras.layers.BatchNormalization())\n",
    "model.add(Conv2D(64, (3, 3), padding='same', activation='relu'))\n",
    "model.add(keras.layers.BatchNormalization())\n",
    "model.add(Conv2D(64, (3, 3), activation='relu'))\n",
    "model.add(MaxPooling2D(pool_size=(2, 2)))\n",
    "model.add(Dropout(0.25))\n",
    " \n",
    "model.add(Flatten())\n",
    "model.add(keras.layers.BatchNormalization())\n",
    "model.add(Dense(512, activation='relu'))\n",
    "model.add(Dropout(0.5))\n",
    "model.add(keras.layers.BatchNormalization())\n",
    "model.add(Dense(num_classes, activation='softmax'))\n",
    "\n",
    "\n",
    "model.compile(loss=keras.losses.categorical_crossentropy,\n",
    "              optimizer=keras.optimizers.Adadelta(),\n",
    "              #loss='mean_squared_error', optimizer='sgd',\n",
    "              #optimizer = keras.optimizers.SGD(lr=0.1, decay=1e-6, momentum=0.9, nesterov=True),\n",
    "              metrics=['accuracy'])\n",
    "\n",
    "model.fit(x_train_norm_trial, y_train2_trial,\n",
    "          class_weight = weights,\n",
    "          shuffle = True,\n",
    "          batch_size=128,\n",
    "          epochs=25,\n",
    "          verbose=1,\n",
    "          validation_data=(x_test_norm_trial, y_test2_trial))\n",
    "score = model.evaluate(x_test_norm_trial, y_test2_trial, verbose=0)\n",
    "print('Test loss:', score[0])\n",
    "print('Test accuracy:', score[1])\n",
    "\n",
    "preds_7 = model.predict_classes(mfcc_pred_norm)\n",
    "preds_df = pd.DataFrame(preds_7)\n",
    "preds_df.to_csv(r'C:\\Users\\ryan\\Desktop\\Thinkful DS Sample Data - Main Course\\Final Project\\preds7.csv')"
   ]
  },
  {
   "cell_type": "markdown",
   "metadata": {},
   "source": [
    "# Discussion"
   ]
  },
  {
   "cell_type": "markdown",
   "metadata": {},
   "source": [
    "This simple model is 75% accurate on the KAGGLE competition (31st percentile as of now). Accuracy is likely below validation set because we're using previously unknown speakers and words that the model has not been trained on.\n",
    "\n",
    "Background information:\n",
    "http://practicalcryptography.com/miscellaneous/machine-learning/guide-mel-frequency-cepstral-coefficients-mfccs/\n",
    "https://www.tensorflow.org/versions/master/tutorials/audio_recognition\n",
    "\n",
    "Ways to improve:\n",
    "\n",
    "1) Time Shifting\n",
    "\n",
    "Adding in background noise is one way of distorting the training data in a realistic way to effectively increase the size of the dataset, and so increase overall accuracy, and time shifting is another. This involves a random offset in time of the training sample data, so that a small part of the start or end is cut off and the opposite section is padded with zeroes. This mimics the natural variations in starting time in the training data, and is controlled with the --time_shift_ms flag, which defaults to 100ms. Increasing this value will provide more variation, but at the risk of cutting off important parts of the audio. A related way of augmenting the data with realistic distortions is by using time stretching and pitch scaling, but that's outside the scope of this tutorial.\n",
    "\n",
    "2) Add more 'silence' examples to training set \n",
    "\n",
    "3) Background Noise\n",
    "\n",
    "Real applications have to recognize audio even when there are other irrelevant sounds happening in the environment. To build a model that's robust to this kind of interference, we need to train against recorded audio with similar properties. The files in the Speech Commands dataset were captured on a variety of devices by users in many different environments, not in a studio, so that helps add some realism to the training. To add even more, you can mix in random segments of environmental audio to the training inputs. In the Speech Commands set there's a special folder called _background_noise_ which contains minute-long WAVE files with white noise and recordings of machinery and everyday household activity."
   ]
  },
  {
   "cell_type": "code",
   "execution_count": null,
   "metadata": {
    "collapsed": true
   },
   "outputs": [],
   "source": []
  }
 ],
 "metadata": {
  "kernelspec": {
   "display_name": "Python 3",
   "language": "python",
   "name": "python3"
  },
  "language_info": {
   "codemirror_mode": {
    "name": "ipython",
    "version": 3
   },
   "file_extension": ".py",
   "mimetype": "text/x-python",
   "name": "python",
   "nbconvert_exporter": "python",
   "pygments_lexer": "ipython3",
   "version": "3.7.0"
  }
 },
 "nbformat": 4,
 "nbformat_minor": 2
}
