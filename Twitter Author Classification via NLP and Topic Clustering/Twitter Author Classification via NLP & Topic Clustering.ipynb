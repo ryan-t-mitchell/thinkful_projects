{
 "cells": [
  {
   "cell_type": "code",
   "execution_count": 92,
   "metadata": {},
   "outputs": [],
   "source": [
    "import tweepy\n",
    "import numpy as np\n",
    "import pandas as pd\n",
    "import matplotlib.pyplot as plt\n",
    "import seaborn as sns\n",
    "import math\n",
    "import json\n",
    "from collections import Counter\n",
    "import re\n",
    "import spacy\n",
    "\n",
    "%matplotlib inline\n",
    "from sklearn import ensemble\n",
    "from sklearn.feature_extraction.text import TfidfVectorizer\n",
    "from sklearn.svm import SVC\n",
    "from sklearn.linear_model import LogisticRegression\n",
    "from sklearn.neighbors import KNeighborsClassifier\n",
    "from sklearn import neural_network\n",
    "from sklearn.model_selection import GridSearchCV\n",
    "\n",
    "from sklearn.model_selection import train_test_split\n",
    "from sklearn.preprocessing import normalize\n",
    "from sklearn.decomposition import PCA\n",
    "from sklearn.cluster import MeanShift, estimate_bandwidth\n",
    "from sklearn.cluster import KMeans, MiniBatchKMeans\n",
    "from sklearn import metrics\n",
    "from time import time\n",
    "from sklearn.metrics import confusion_matrix\n",
    "from sklearn.metrics.pairwise import cosine_similarity\n",
    "\n",
    "from sklearn.decomposition import TruncatedSVD\n",
    "from sklearn.pipeline import make_pipeline\n",
    "from sklearn.preprocessing import Normalizer\n",
    "from sklearn.utils import shuffle\n",
    "\n",
    "import gensim\n",
    "from gensim import corpora, models, similarities\n",
    "import pyLDAvis.gensim as gensimvis\n",
    "import pyLDAvis\n",
    "\n",
    "import warnings\n",
    "warnings.filterwarnings(\"ignore\", category=DeprecationWarning) "
   ]
  },
  {
   "cell_type": "code",
   "execution_count": 12,
   "metadata": {
    "collapsed": true
   },
   "outputs": [],
   "source": [
    "with open('C:\\\\Users\\\\ryan\\\\Desktop\\\\python\\\\secrets.json') as f:\n",
    "    secrets = json.load(f)\n",
    "    \n",
    "consumer_token = secrets[\"consumer_token\"]\n",
    "consumer_secret = secrets[\"consumer_secret\"]\n",
    "access_token = secrets[\"access_token\"]\n",
    "access_token_secret = secrets[\"access_token_secret\"]\n",
    "\n",
    "auth = tweepy.OAuthHandler(consumer_token, consumer_secret)\n",
    "auth.set_access_token(access_token, access_token_secret)\n",
    "\n",
    "api = tweepy.API(auth)"
   ]
  },
  {
   "cell_type": "markdown",
   "metadata": {},
   "source": [
    "Let's try to classify tweets of 10 different politicians, including: Trump, Hillary Clinton, John McCain, Bernie Sanders, Mike Huckabee, Barack Obama, Newt Gingrich, John Kasich, Kellyanne Conway, and Bill de Blasio."
   ]
  },
  {
   "cell_type": "code",
   "execution_count": 2,
   "metadata": {
    "collapsed": true
   },
   "outputs": [],
   "source": [
    "handles = ['realDonaldTrump', 'HillaryClinton', 'SenJohnMcCain', 'SenSanders', 'GovMikeHuckabee', \n",
    "           'BarackObama', 'newtgingrich', 'MikeBloomberg', 'KellyannePolls', 'NYCMayor']"
   ]
  },
  {
   "cell_type": "code",
   "execution_count": 172,
   "metadata": {
    "collapsed": true
   },
   "outputs": [],
   "source": [
    "#Open a blank .json file for each author, will append tweets later\n",
    "for handle in handles:\n",
    "    with open(f'C:\\\\Users\\\\ryan\\\\Desktop\\\\Thinkful DS Sample Data - Main Course\\\\Unit 4\\\\Capstone\\\\{handle}2.json', 'w') as f:\n",
    "        try: \n",
    "            json.load(f)\n",
    "        except ValueError:\n",
    "            empty = [] #Just added this line to handle exceptions, does nothing"
   ]
  },
  {
   "cell_type": "code",
   "execution_count": 173,
   "metadata": {
    "collapsed": true
   },
   "outputs": [],
   "source": [
    "#Twitter's API only allows for 200 records per call\n",
    "TWEETS_PER_CALL = 200 \n",
    "\n",
    "def save_tweets(screen_nm, tweets):\n",
    "    # 'a' appends to the .json we wrote with 'w' above\n",
    "    with open(f'C:\\\\Users\\\\ryan\\\\Desktop\\\\Thinkful DS Sample Data - Main Course\\\\Unit 4\\\\Capstone\\\\{screen_nm}2.json', 'a') as f:\n",
    "        for tweet in tweets:\n",
    "            json.dump([tweet.text, screen_nm], f); f.write('\\n')\n",
    "\n",
    "def get_tweets(screen_nm, desired_ct):\n",
    "    \n",
    "    #desired_ct is the number of tweets the user wants to include\n",
    "    tweet_list = []\n",
    "\n",
    "    #grab the current maximum tweet id for provided screen name, which will be the id of the first tweet stored in the object\n",
    "    curr_max_id = api.user_timeline(screen_name = screen_nm)[0].id \n",
    "    \n",
    "    #may have to do more than 1 call to the API (if user wants > TWEETS_PER_CALL tweets)\n",
    "    remaining = desired_ct\n",
    "        \n",
    "    while remaining > 0:\n",
    "        tweets = api.user_timeline(screen_name = screen_nm, count = min(remaining, TWEETS_PER_CALL), max_id = curr_max_id, include_rts=False)\n",
    "        \n",
    "        #save these tweets in a json file for later, in case kernel crashes or want to reference at a later date\n",
    "        save_tweets(screen_nm, tweets)\n",
    "        \n",
    "        for tweet in tweets:\n",
    "            tweet_list.append([tweet.text, screen_nm])\n",
    "                \n",
    "        remaining = remaining - min(remaining, TWEETS_PER_CALL)\n",
    "        \n",
    "        #re-set the maximum id for every TWEETS_PER_CALL tweets, so that we don't include duplicate tweets\n",
    "        curr_max_id = tweets[-1].id \n",
    "\n",
    "    return tweet_list"
   ]
  },
  {
   "cell_type": "code",
   "execution_count": 177,
   "metadata": {
    "collapsed": true
   },
   "outputs": [],
   "source": [
    "#Create tweet lists. Twitter's API states that users can only access up to 3,200 tweets for each account.\n",
    "\n",
    "trump = get_tweets('realDonaldTrump', 3200)\n",
    "clinton = get_tweets('HillaryClinton', 3200)\n",
    "mccain = get_tweets('SenJohnMcCain', 3200)\n",
    "bernie = get_tweets('SenSanders', 3200)\n",
    "huck = get_tweets('GovMikeHuckabee', 3200)\n",
    "obama = get_tweets('BarackObama', 3200)\n",
    "newt = get_tweets('newtgingrich', 3200)\n",
    "bloom = get_tweets('MikeBloomberg', 3200)\n",
    "conway = get_tweets('KellyannePolls', 3200)\n",
    "bdb = get_tweets('NYCMayor', 3200)"
   ]
  },
  {
   "cell_type": "code",
   "execution_count": 3,
   "metadata": {},
   "outputs": [],
   "source": [
    "#Combine all tweets into 1 list\n",
    "\n",
    "full_tweets = []\n",
    "for handle in handles:\n",
    "    with open('C:\\\\Users\\\\ryan\\\\Desktop\\\\Thinkful DS Sample Data - Main Course\\\\Unit 4\\\\Capstone\\\\{}2.json'.format(handle)) as f: \n",
    "        full_tweets.append([json.loads(line) for line in f])\n",
    "        \n",
    "#Only want the first 2100 from each author (retweets caused the full amount for each author to be < 3200, and each has at least\n",
    "#2100 non RTs)\n",
    "all_tweets = []\n",
    "for auth in full_tweets:\n",
    "    all_tweets.extend(auth[:2100])\n",
    "    \n",
    "#Store in dataframe\n",
    "tweet_df = pd.DataFrame(all_tweets, columns = ['Tweets', 'Author'])"
   ]
  },
  {
   "cell_type": "code",
   "execution_count": 4,
   "metadata": {},
   "outputs": [
    {
     "data": {
      "text/html": [
       "<div>\n",
       "<style>\n",
       "    .dataframe thead tr:only-child th {\n",
       "        text-align: right;\n",
       "    }\n",
       "\n",
       "    .dataframe thead th {\n",
       "        text-align: left;\n",
       "    }\n",
       "\n",
       "    .dataframe tbody tr th {\n",
       "        vertical-align: top;\n",
       "    }\n",
       "</style>\n",
       "<table border=\"1\" class=\"dataframe\">\n",
       "  <thead>\n",
       "    <tr style=\"text-align: right;\">\n",
       "      <th></th>\n",
       "      <th>Tweets</th>\n",
       "      <th>Author</th>\n",
       "    </tr>\n",
       "  </thead>\n",
       "  <tbody>\n",
       "    <tr>\n",
       "      <th>0</th>\n",
       "      <td>It was a great privilege to meet with Presiden...</td>\n",
       "      <td>realDonaldTrump</td>\n",
       "    </tr>\n",
       "    <tr>\n",
       "      <th>1</th>\n",
       "      <td>It was wonderful to have President Petro Poros...</td>\n",
       "      <td>realDonaldTrump</td>\n",
       "    </tr>\n",
       "    <tr>\n",
       "      <th>2</th>\n",
       "      <td>It was a pleasure to have President Ashraf Gha...</td>\n",
       "      <td>realDonaldTrump</td>\n",
       "    </tr>\n",
       "    <tr>\n",
       "      <th>3</th>\n",
       "      <td>Governor @RicardoRossello- \\nWe are with you a...</td>\n",
       "      <td>realDonaldTrump</td>\n",
       "    </tr>\n",
       "    <tr>\n",
       "      <th>4</th>\n",
       "      <td>Senator (Doctor) Bill Cassidy is a class act w...</td>\n",
       "      <td>realDonaldTrump</td>\n",
       "    </tr>\n",
       "  </tbody>\n",
       "</table>\n",
       "</div>"
      ],
      "text/plain": [
       "                                              Tweets           Author\n",
       "0  It was a great privilege to meet with Presiden...  realDonaldTrump\n",
       "1  It was wonderful to have President Petro Poros...  realDonaldTrump\n",
       "2  It was a pleasure to have President Ashraf Gha...  realDonaldTrump\n",
       "3  Governor @RicardoRossello- \\nWe are with you a...  realDonaldTrump\n",
       "4  Senator (Doctor) Bill Cassidy is a class act w...  realDonaldTrump"
      ]
     },
     "execution_count": 4,
     "metadata": {},
     "output_type": "execute_result"
    }
   ],
   "source": [
    "tweet_df.head()"
   ]
  },
  {
   "cell_type": "code",
   "execution_count": 5,
   "metadata": {
    "collapsed": true
   },
   "outputs": [],
   "source": [
    "#Concatenate all tweets into a single string for BoW purposes\n",
    "#Load spaCy to prepare to tokenize our tweets (for more interesting features later on)\n",
    "nlp = spacy.load('en') \n",
    "\n",
    "tweets_full = ' '.join(tweet_df['Tweets'])\n",
    "tweets_full = nlp(tweets_full)"
   ]
  },
  {
   "cell_type": "code",
   "execution_count": 6,
   "metadata": {
    "collapsed": true
   },
   "outputs": [],
   "source": [
    "def bag_of_words(doc):\n",
    "    allwords = [token.lemma_ for token in doc if not token.is_stop and not token.is_punct and not token.like_url and \n",
    "                not token.like_num and not token.is_space and token.is_ascii and len(token.lemma_) > 1]\n",
    "    # Return the most common words.\n",
    "    return [item[0] for item in Counter(allwords).most_common(10000)]"
   ]
  },
  {
   "cell_type": "code",
   "execution_count": 7,
   "metadata": {
    "collapsed": true
   },
   "outputs": [],
   "source": [
    "#Create our bag of desired words. All tweets concatentated for this task. Only use training set, though!\n",
    "Tweet_train, Tweet_test = train_test_split(tweets_full, test_size=0.25, random_state = 42)\n",
    "\n",
    "bow = bag_of_words(Tweet_train)\n",
    "\n",
    "#Let's clean this up a bit \n",
    "replace_words = [r'/n', r'\\\\n', r'\\n', r'--', r'-', 'https:\\/\\/t\\.co\\/[\\w\\d]+', r'amp', r'&', r'w/', \"'s\"]\n",
    "bow = [re.sub('|'.join(replace_words), '', word) for word in bow]"
   ]
  },
  {
   "cell_type": "code",
   "execution_count": 8,
   "metadata": {
    "collapsed": true
   },
   "outputs": [],
   "source": [
    "#Tokenize our tweets using spaCy (for more interesting features later on)\n",
    "all_tweets_nlp = []\n",
    "all_tweets_nlp.append([nlp(tweet[0]) for tweet in all_tweets])\n",
    "all_tweets_nlp.append([nlp(tweet[1]) for tweet in all_tweets])"
   ]
  },
  {
   "cell_type": "code",
   "execution_count": 9,
   "metadata": {
    "collapsed": true
   },
   "outputs": [],
   "source": [
    "#Create dataframe with counts of our bag of words as features \n",
    "def bow_features(sentences, bow):\n",
    "    \n",
    "    partsofspeechlist = []\n",
    "    ent_list = []\n",
    "    \n",
    "    for sent in sentences[0]:\n",
    "        for token in sent:\n",
    "                partsofspeechlist.append(token.pos_)\n",
    "\n",
    "    parts = (set(partsofspeechlist))\n",
    "\n",
    "    # Scaffold the data frame and initialize counts to zero.\n",
    "    df = pd.DataFrame(columns = set(list(bow) + list(parts)))\n",
    "    df['Tweet'] = sentences[0]\n",
    "    df['Author'] = sentences[1]\n",
    "    df.loc[:, bow] = 0\n",
    "    df['tweet_length'] = 0\n",
    "    df['tweet_punct_count'] = 0 \n",
    "    df['upper_case'] = 0 \n",
    "    df.loc[:, parts] = 0\n",
    "    \n",
    "    for i, sent in enumerate(sentences[0]):\n",
    "\n",
    "        tweet_len = 0    \n",
    "        num_punct = 0\n",
    "        \n",
    "        # Populate the row with word counts (only include the ones from our bag of words)\n",
    "        words = [token.lemma_ for token in sent\n",
    "                 if token.lemma_ in bow]\n",
    "        \n",
    "        #\"words\" collects all bow matches from each sentence\n",
    "        for word in words:\n",
    "            df.loc[i, word] += 1\n",
    "        \n",
    "        #Add part of speech counter and tweet length\n",
    "        for token in sent:\n",
    "            df.loc[i, token.pos_] += 1\n",
    "            if not token.is_punct:\n",
    "                tweet_len += 1\n",
    "            else:\n",
    "                num_punct += 1\n",
    "            \n",
    "        #Create a feature for all CAPS words  \n",
    "            if ((str(token).isupper()) & (len(str(token)) > 1)):\n",
    "                df.loc[i, 'upper_case'] += 1\n",
    "\n",
    "\n",
    "        df.loc[i, 'tweet_length'] = tweet_len\n",
    "        df.loc[i, 'tweet_punct_count'] = num_punct\n",
    "\n",
    "        \n",
    "        # This counter is just to make sure the kernel didn't hang.\n",
    "        if i % 500 == 0:\n",
    "            print(\"Processing row {}\".format(i))\n",
    "\n",
    "    return df"
   ]
  },
  {
   "cell_type": "code",
   "execution_count": 10,
   "metadata": {},
   "outputs": [
    {
     "name": "stdout",
     "output_type": "stream",
     "text": [
      "Processing row 0\n",
      "Processing row 500\n",
      "Processing row 1000\n",
      "Processing row 1500\n",
      "Processing row 2000\n",
      "Processing row 2500\n",
      "Processing row 3000\n",
      "Processing row 3500\n",
      "Processing row 4000\n",
      "Processing row 4500\n",
      "Processing row 5000\n",
      "Processing row 5500\n",
      "Processing row 6000\n",
      "Processing row 6500\n",
      "Processing row 7000\n",
      "Processing row 7500\n",
      "Processing row 8000\n",
      "Processing row 8500\n",
      "Processing row 9000\n",
      "Processing row 9500\n",
      "Processing row 10000\n",
      "Processing row 10500\n",
      "Processing row 11000\n",
      "Processing row 11500\n",
      "Processing row 12000\n",
      "Processing row 12500\n",
      "Processing row 13000\n",
      "Processing row 13500\n",
      "Processing row 14000\n",
      "Processing row 14500\n",
      "Processing row 15000\n",
      "Processing row 15500\n",
      "Processing row 16000\n",
      "Processing row 16500\n",
      "Processing row 17000\n",
      "Processing row 17500\n",
      "Processing row 18000\n",
      "Processing row 18500\n",
      "Processing row 19000\n",
      "Processing row 19500\n",
      "Processing row 20000\n",
      "Processing row 20500\n"
     ]
    }
   ],
   "source": [
    "#Call our method to build our bag of words feature df\n",
    "df = bow_features(all_tweets_nlp, bow)"
   ]
  },
  {
   "cell_type": "markdown",
   "metadata": {},
   "source": [
    "# Basic Bag of Words Model"
   ]
  },
  {
   "cell_type": "code",
   "execution_count": 11,
   "metadata": {},
   "outputs": [
    {
     "name": "stdout",
     "output_type": "stream",
     "text": [
      "Training set score: 0.994031746032\n",
      "\n",
      "Test set score: 0.546285714286\n"
     ]
    }
   ],
   "source": [
    "#Create a basic model to guage where our starting accuracy is at\n",
    "\n",
    "rfc = ensemble.RandomForestClassifier()\n",
    "\n",
    "X = np.array(df.drop(['Tweet', 'Author'], 1))\n",
    "\n",
    "#y needs to be str or int, cannot be spacy doc, so convert here\n",
    "y = df['Author'].apply(lambda x: str(x))\n",
    "\n",
    "X_train, X_test, y_train, y_test = train_test_split(X, y, test_size=0.25, random_state = 42)\n",
    "\n",
    "train = rfc.fit(X_train, y_train)\n",
    "y_pred = rfc.predict(X_test)\n",
    "\n",
    "print('Training set score:', rfc.score(X_train, y_train))\n",
    "print('\\nTest set score:', rfc.score(X_test, y_test))"
   ]
  },
  {
   "cell_type": "code",
   "execution_count": 12,
   "metadata": {},
   "outputs": [
    {
     "data": {
      "text/plain": [
       "<matplotlib.axes._subplots.AxesSubplot at 0x2e3534e4588>"
      ]
     },
     "execution_count": 12,
     "metadata": {},
     "output_type": "execute_result"
    },
    {
     "data": {
      "image/png": "[encoded data removed]",
      "text/plain": [
       "<matplotlib.figure.Figure at 0x2e3534e5e80>"
      ]
     },
     "metadata": {},
     "output_type": "display_data"
    }
   ],
   "source": [
    "#Confusion matrix for model random forest performance visualization\n",
    "\n",
    "conf = confusion_matrix(y_test, y_pred, labels = handles)\n",
    "\n",
    "df_cm = pd.DataFrame(conf, index = [i for i in handles],\n",
    "                  columns = [i for i in handles])\n",
    "plt.figure(figsize = (15,7))\n",
    "sns.heatmap(df_cm, annot=True, cmap=\"Blues\", fmt = 'd')"
   ]
  },
  {
   "cell_type": "markdown",
   "metadata": {},
   "source": [
    "# Basic TF-IDF Model"
   ]
  },
  {
   "cell_type": "code",
   "execution_count": 33,
   "metadata": {},
   "outputs": [
    {
     "name": "stdout",
     "output_type": "stream",
     "text": [
      "Training set score: 0.990158730159\n",
      "\n",
      "Test set score: 0.640761904762\n"
     ]
    }
   ],
   "source": [
    "#Try TF-IDF to see if we can increase prediction accuracy. Also experiment by increasing the minimum document frequency \n",
    "#to reduce the feature space...\n",
    "\n",
    "X_train, X_test, y_train, y_test = train_test_split(tweet_df['Tweets'], tweet_df['Author'], test_size = 0.25, random_state = 42)\n",
    "\n",
    "vectorizer1 = TfidfVectorizer(max_df=0.5, # drop words that occur in more than half the tweets\n",
    "                             min_df=2, # only use words that appear at least 2x\n",
    "                             stop_words='english', \n",
    "                             lowercase=True, #convert everything to lower case \n",
    "                             use_idf=True,\n",
    "                             norm=u'l2', #Applies a correction factor so that longer paragraphs and shorter tweets get treated equally\n",
    "                             smooth_idf=True #Adds 1 to all document frequencies, as if an extra document existed that used every word once.  Prevents divide-by-zero errors\n",
    "                            )\n",
    "\n",
    "X_train_tfidf = vectorizer1.fit_transform(X_train)\n",
    "X_test_tfidf = vectorizer1.transform(X_test)\n",
    "\n",
    "fit = rfc.fit(X_train_tfidf, y_train)\n",
    "y_pred = rfc.predict(X_test_tfidf)\n",
    "\n",
    "print('Training set score:', rfc.score(X_train_tfidf, y_train))\n",
    "print('\\nTest set score:', rfc.score(X_test_tfidf, y_test))"
   ]
  },
  {
   "cell_type": "code",
   "execution_count": 34,
   "metadata": {},
   "outputs": [
    {
     "name": "stdout",
     "output_type": "stream",
     "text": [
      "Training set score: 0.735936507937\n",
      "\n",
      "Test set score: 0.652952380952\n"
     ]
    }
   ],
   "source": [
    "#Try a GBM classifier here, using the standard TF-IDF approach above\n",
    "\n",
    "clf = ensemble.GradientBoostingClassifier()\n",
    "train = clf.fit(X_train_tfidf, y_train)\n",
    "tfidf_pred = clf.predict(X_test_tfidf.toarray())\n",
    "tfidf_pred_prob = clf.predict_proba(X_test_tfidf.toarray())\n",
    "\n",
    "print('Training set score:', clf.score(X_train_tfidf.toarray(), y_train))\n",
    "print('\\nTest set score:', clf.score(X_test_tfidf.toarray(), y_test))"
   ]
  },
  {
   "cell_type": "code",
   "execution_count": 35,
   "metadata": {},
   "outputs": [
    {
     "data": {
      "text/plain": [
       "<matplotlib.axes._subplots.AxesSubplot at 0x2e3537ed1d0>"
      ]
     },
     "execution_count": 35,
     "metadata": {},
     "output_type": "execute_result"
    },
    {
     "data": {
      "image/png": "[encoded data removed]",
      "text/plain": [
       "<matplotlib.figure.Figure at 0x2e35372c278>"
      ]
     },
     "metadata": {},
     "output_type": "display_data"
    }
   ],
   "source": [
    "#Confusion matrix for GBM performance visualization on TF-IDF\n",
    "\n",
    "conf = confusion_matrix(y_test, tfidf_pred, labels = handles)\n",
    "\n",
    "df_cm = pd.DataFrame(conf, index = [i for i in handles],\n",
    "                  columns = [i for i in handles])\n",
    "plt.figure(figsize = (15,7))\n",
    "sns.heatmap(df_cm, annot=True, cmap=\"Blues\", fmt = 'd')"
   ]
  },
  {
   "cell_type": "markdown",
   "metadata": {},
   "source": [
    "# TF-IDF With Customized Analyzer (using spaCy tokenizer)"
   ]
  },
  {
   "cell_type": "code",
   "execution_count": 36,
   "metadata": {},
   "outputs": [
    {
     "name": "stdout",
     "output_type": "stream",
     "text": [
      "Training set score: 0.989841269841\n",
      "\n",
      "Test set score: 0.612571428571\n"
     ]
    }
   ],
   "source": [
    "#Try TF-IDF to see if we can increase prediction accuracy. Also experiment by increasing the minimum document frequency \n",
    "#to reduce the feature space...\n",
    "\n",
    "#Use 'analyzer' function in tfidf vectorizer to take advantage of our spacy lemmas & other exclusions we applied in the basic \n",
    "#BoW approach above.\n",
    "\n",
    "nlp = spacy.load('en')\n",
    "\n",
    "def bag_of_words_tfidf(doc):\n",
    "    #https://github.com/scikit-learn/scikit-learn/blob/ef5cb84a/sklearn/feature_extraction/text.py#L792\n",
    "    #Lines 790-792 show that analyzer takes 1 doc input at a time (not the full corpus) - so pass \"doc\" here instead of \n",
    "    tweets_full = nlp(doc)\n",
    "    \n",
    "    allwords = (token.lemma_ for token in tweets_full if not token.is_stop and not token.is_punct and not token.like_url and \n",
    "                not token.like_num and not token.is_space and token.is_ascii and len(token.lemma_) > 1)\n",
    "\n",
    "    return allwords\n",
    "\n",
    "#Can define a new function that points to first function and creates a vocabulatry for the full training set\n",
    " \n",
    "\n",
    "X_train, X_test, y_train, y_test = train_test_split(tweet_df['Tweets'], tweet_df['Author'], test_size = 0.25, random_state = 42)\n",
    "\n",
    "vectorizer2 = TfidfVectorizer(max_df=0.5, # drop words that occur in more than half the tweets\n",
    "                             min_df=2, # only use words that appear at least 2x\n",
    "                             stop_words='english', \n",
    "                             lowercase=True, #convert everything to lower case \n",
    "                             use_idf=True,\n",
    "                             analyzer = bag_of_words_tfidf,\n",
    "                             norm=u'l2', #Applies a correction factor so that longer paragraphs and shorter tweets get treated equally\n",
    "                             smooth_idf=True #Adds 1 to all document frequencies, as if an extra document existed that used every word once.  Prevents divide-by-zero errors\n",
    "                            )\n",
    "\n",
    "X_train_tfidf = vectorizer2.fit_transform(X_train)\n",
    "X_test_tfidf = vectorizer2.transform(X_test)\n",
    "\n",
    "fit = rfc.fit(X_train_tfidf, y_train)\n",
    "y_pred = rfc.predict(X_test_tfidf)\n",
    "\n",
    "print('Training set score:', rfc.score(X_train_tfidf, y_train))\n",
    "print('\\nTest set score:', rfc.score(X_test_tfidf, y_test))\n"
   ]
  },
  {
   "cell_type": "code",
   "execution_count": 37,
   "metadata": {},
   "outputs": [
    {
     "name": "stdout",
     "output_type": "stream",
     "text": [
      "Training set score: 0.718222222222\n",
      "\n",
      "Test set score: 0.640380952381\n"
     ]
    }
   ],
   "source": [
    "#Try a GBM classifier here, using the CUSTOMIZED TF-IDF approach above\n",
    "\n",
    "clf = ensemble.GradientBoostingClassifier()\n",
    "train = clf.fit(X_train_tfidf, y_train)\n",
    "spacy_tok_pred = clf.predict(X_test_tfidf.toarray())\n",
    "spacy_tok_pred_prob = clf.predict_proba(X_test_tfidf.toarray())\n",
    "\n",
    "print('Training set score:', clf.score(X_train_tfidf.toarray(), y_train))\n",
    "print('\\nTest set score:', clf.score(X_test_tfidf.toarray(), y_test))"
   ]
  },
  {
   "cell_type": "code",
   "execution_count": 38,
   "metadata": {},
   "outputs": [
    {
     "data": {
      "text/plain": [
       "<matplotlib.axes._subplots.AxesSubplot at 0x2e3538b9748>"
      ]
     },
     "execution_count": 38,
     "metadata": {},
     "output_type": "execute_result"
    },
    {
     "data": {
      "image/png": "[encoded data removed]",
      "text/plain": [
       "<matplotlib.figure.Figure at 0x2e353753828>"
      ]
     },
     "metadata": {},
     "output_type": "display_data"
    }
   ],
   "source": [
    "#Confusion matrix for GBM performance visualization on CUSTOMIZED TF-IDF\n",
    "\n",
    "conf = confusion_matrix(y_test, spacy_tok_pred, labels = handles)\n",
    "\n",
    "df_cm = pd.DataFrame(conf, index = [i for i in handles],\n",
    "                  columns = [i for i in handles])\n",
    "plt.figure(figsize = (15,7))\n",
    "sns.heatmap(df_cm, annot=True, cmap=\"Blues\", fmt = 'd')"
   ]
  },
  {
   "cell_type": "markdown",
   "metadata": {},
   "source": [
    "# Detailed Comparison of standard TF-IDF tokenizer vs spaCy tokenizer"
   ]
  },
  {
   "cell_type": "code",
   "execution_count": 39,
   "metadata": {},
   "outputs": [],
   "source": [
    "#Set up dataframe to enable easy comparisons between default TF-IDF and SpaCy\n",
    "\n",
    "pd.options.display.max_colwidth = 200\n",
    "comparison = pd.DataFrame()\n",
    "comparison['Tweet'] = X_test\n",
    "comparison['TF-IDF Pred'] = tfidf_pred\n",
    "comparison['TF-IDF Probs'] = [pred for pred in tfidf_pred_prob]\n",
    "comparison['SpaCy Pred'] = spacy_tok_pred\n",
    "comparison['SpaCy Probs'] = [pred for pred in spacy_tok_pred_prob]\n",
    "comparison['Author'] = y_test\n",
    "comparison.reset_index(drop = True, inplace = True)"
   ]
  },
  {
   "cell_type": "code",
   "execution_count": 40,
   "metadata": {
    "collapsed": true
   },
   "outputs": [],
   "source": [
    "#Find the tweets where the max author probability changed the most\n",
    "prob_changes = []\n",
    "for i, row in enumerate(comparison['TF-IDF Probs']):\n",
    "    row_changes = []\n",
    "    for j, auth in enumerate(comparison['TF-IDF Probs'][i]):\n",
    "        row_changes.append((comparison['SpaCy Probs'][i][j] - comparison['TF-IDF Probs'][i][j]))\n",
    "    prob_changes.append(row_changes)"
   ]
  },
  {
   "cell_type": "code",
   "execution_count": 41,
   "metadata": {
    "collapsed": true
   },
   "outputs": [],
   "source": [
    "#Get author index for tweet with highest change in particular author probability\n",
    "max_change_idx = []\n",
    "for row in prob_changes:\n",
    "    max_chg = 0\n",
    "    for i, auth_chg in enumerate(row):\n",
    "        if abs(auth_chg) > abs(max_chg):\n",
    "            max_chg = auth_chg\n",
    "            idx = i\n",
    "    max_change_idx.append([max_chg, idx])"
   ]
  },
  {
   "cell_type": "code",
   "execution_count": 42,
   "metadata": {
    "collapsed": true
   },
   "outputs": [],
   "source": [
    "#Determine order of classification index\n",
    "auth_index = clf.classes_\n",
    "auth_dict = {}\n",
    "for i, auth in enumerate(auth_index):\n",
    "    auth_dict[i] = auth"
   ]
  },
  {
   "cell_type": "code",
   "execution_count": 43,
   "metadata": {
    "collapsed": true
   },
   "outputs": [],
   "source": [
    "max_change_author = []\n",
    "max_prob_change = []\n",
    "for i, row in enumerate(max_change_idx):\n",
    "    max_change_author.append(auth_dict.get(row[1]))\n",
    "    max_prob_change.append(max_change_idx[i][0])"
   ]
  },
  {
   "cell_type": "code",
   "execution_count": 44,
   "metadata": {
    "collapsed": true
   },
   "outputs": [],
   "source": [
    "inv_auth_dict = {v: k for k, v in auth_dict.items()}\n",
    "prob_change_true = []\n",
    "for i, row in enumerate(prob_changes):\n",
    "    prob_change_true.append(prob_changes[i][inv_auth_dict.get(comparison['Author'][i])])"
   ]
  },
  {
   "cell_type": "code",
   "execution_count": 45,
   "metadata": {
    "collapsed": true
   },
   "outputs": [],
   "source": [
    "comparison['Max Prob Change'] = max_prob_change\n",
    "comparison['Max Prob Change Author'] = max_change_author\n",
    "comparison['Prob Change True Author'] = prob_change_true"
   ]
  },
  {
   "cell_type": "code",
   "execution_count": 89,
   "metadata": {},
   "outputs": [
    {
     "data": {
      "text/html": [
       "<div>\n",
       "<style>\n",
       "    .dataframe thead tr:only-child th {\n",
       "        text-align: right;\n",
       "    }\n",
       "\n",
       "    .dataframe thead th {\n",
       "        text-align: left;\n",
       "    }\n",
       "\n",
       "    .dataframe tbody tr th {\n",
       "        vertical-align: top;\n",
       "    }\n",
       "</style>\n",
       "<table border=\"1\" class=\"dataframe\">\n",
       "  <thead>\n",
       "    <tr style=\"text-align: right;\">\n",
       "      <th></th>\n",
       "      <th>Tweet</th>\n",
       "      <th>TF-IDF Pred</th>\n",
       "      <th>TF-IDF Probs</th>\n",
       "      <th>SpaCy Pred</th>\n",
       "      <th>SpaCy Probs</th>\n",
       "      <th>Author</th>\n",
       "      <th>Max Prob Change</th>\n",
       "      <th>Max Prob Change Author</th>\n",
       "      <th>Prob Change True Author</th>\n",
       "    </tr>\n",
       "  </thead>\n",
       "  <tbody>\n",
       "    <tr>\n",
       "      <th>1616</th>\n",
       "      <td>#OneBostonDay celebrates resiliency over tragedy. @Marty_Walsh has launched an important new tradition in Boston: http://t.co/dA91AT0FjD</td>\n",
       "      <td>MikeBloomberg</td>\n",
       "      <td>[0.00764303796142, 0.00506694846326, 0.00357889894297, 0.00569951780265, 0.956537601267, 0.00417120318102, 0.00347674555591, 0.00423905588894, 0.004471727259, 0.00511526367807]</td>\n",
       "      <td>KellyannePolls</td>\n",
       "      <td>[0.0655447527748, 0.11457853236, 0.0914250277097, 0.132187772764, 0.0912542529143, 0.0959227291948, 0.0789616972517, 0.0983327064725, 0.107058883876, 0.124733644682]</td>\n",
       "      <td>MikeBloomberg</td>\n",
       "      <td>-0.865283</td>\n",
       "      <td>MikeBloomberg</td>\n",
       "      <td>-0.865283</td>\n",
       "    </tr>\n",
       "    <tr>\n",
       "      <th>303</th>\n",
       "      <td>NYC became great because we dared to dream bigger than anyone else. @Cornell_Tech is part of that tradition http://t.co/MzBRpFkLWS</td>\n",
       "      <td>MikeBloomberg</td>\n",
       "      <td>[0.0182916592706, 0.0022834438079, 0.00161284739517, 0.00256851411236, 0.958937604455, 0.00639456551777, 0.00156681149786, 0.00191035018239, 0.00201520461363, 0.0044189991473]</td>\n",
       "      <td>NYCMayor</td>\n",
       "      <td>[0.0301644790156, 0.0527304107298, 0.0420748910187, 0.0608343937363, 0.102135305289, 0.342535773519, 0.0363391173046, 0.0452538873878, 0.0492697785773, 0.238661963422]</td>\n",
       "      <td>MikeBloomberg</td>\n",
       "      <td>-0.856802</td>\n",
       "      <td>MikeBloomberg</td>\n",
       "      <td>-0.856802</td>\n",
       "    </tr>\n",
       "    <tr>\n",
       "      <th>1478</th>\n",
       "      <td>Great to see the progress made @Cornell_Tech site on Roosevelt Island today http://t.co/fSLa7Pt0yF</td>\n",
       "      <td>MikeBloomberg</td>\n",
       "      <td>[0.0488287418998, 0.00221764814759, 0.0015663744498, 0.00249450437257, 0.931306561963, 0.00396039202529, 0.00152166504112, 0.0018553049252, 0.00195713805742, 0.00429166911806]</td>\n",
       "      <td>NYCMayor</td>\n",
       "      <td>[0.0980511704449, 0.0706837257903, 0.0564002824605, 0.0815469014172, 0.0907646144666, 0.235498925088, 0.0487116289721, 0.0606616433059, 0.0660448396002, 0.191636268455]</td>\n",
       "      <td>MikeBloomberg</td>\n",
       "      <td>-0.840542</td>\n",
       "      <td>MikeBloomberg</td>\n",
       "      <td>-0.840542</td>\n",
       "    </tr>\n",
       "    <tr>\n",
       "      <th>2925</th>\n",
       "      <td>Congrats @CityofAtlanta &amp;amp; @KasimReed on the decision to benchmark #EnergyEfficiency for buildings http://t.co/QBMUtPr2Dc #CityEnergyProject</td>\n",
       "      <td>MikeBloomberg</td>\n",
       "      <td>[0.0211443795728, 0.00459778621538, 0.00324751916179, 0.00586206287574, 0.939419813338, 0.00326724655271, 0.0108017462134, 0.0029601401475, 0.00405767812707, 0.00464162779582]</td>\n",
       "      <td>SenJohnMcCain</td>\n",
       "      <td>[0.054218261525, 0.0947787362015, 0.0756262836069, 0.128876101678, 0.117845419316, 0.0736884613197, 0.200497149205, 0.0627320734502, 0.0885585240442, 0.103178989653]</td>\n",
       "      <td>MikeBloomberg</td>\n",
       "      <td>-0.821574</td>\n",
       "      <td>MikeBloomberg</td>\n",
       "      <td>-0.821574</td>\n",
       "    </tr>\n",
       "    <tr>\n",
       "      <th>2270</th>\n",
       "      <td>\"Remember, when they go low, we go high.” —@FLOTUS: https://t.co/tTgeqxNqYm</td>\n",
       "      <td>HillaryClinton</td>\n",
       "      <td>[0.00490342935079, 0.0120568515871, 0.912467367241, 0.0135620562875, 0.00591272085674, 0.00992541725215, 0.00827294879306, 0.0100868734097, 0.0106405171259, 0.0121718180957]</td>\n",
       "      <td>KellyannePolls</td>\n",
       "      <td>[0.0655447527748, 0.11457853236, 0.0914250277097, 0.132187772764, 0.0912542529143, 0.0959227291948, 0.0789616972517, 0.0983327064725, 0.107058883876, 0.124733644682]</td>\n",
       "      <td>HillaryClinton</td>\n",
       "      <td>-0.821042</td>\n",
       "      <td>HillaryClinton</td>\n",
       "      <td>-0.821042</td>\n",
       "    </tr>\n",
       "  </tbody>\n",
       "</table>\n",
       "</div>"
      ],
      "text/plain": [
       "                                                                                                                                                Tweet  \\\n",
       "1616         #OneBostonDay celebrates resiliency over tragedy. @Marty_Walsh has launched an important new tradition in Boston: http://t.co/dA91AT0FjD   \n",
       "303                NYC became great because we dared to dream bigger than anyone else. @Cornell_Tech is part of that tradition http://t.co/MzBRpFkLWS   \n",
       "1478                                               Great to see the progress made @Cornell_Tech site on Roosevelt Island today http://t.co/fSLa7Pt0yF   \n",
       "2925  Congrats @CityofAtlanta &amp; @KasimReed on the decision to benchmark #EnergyEfficiency for buildings http://t.co/QBMUtPr2Dc #CityEnergyProject   \n",
       "2270                                                                      \"Remember, when they go low, we go high.” —@FLOTUS: https://t.co/tTgeqxNqYm   \n",
       "\n",
       "         TF-IDF Pred  \\\n",
       "1616   MikeBloomberg   \n",
       "303    MikeBloomberg   \n",
       "1478   MikeBloomberg   \n",
       "2925   MikeBloomberg   \n",
       "2270  HillaryClinton   \n",
       "\n",
       "                                                                                                                                                                          TF-IDF Probs  \\\n",
       "1616  [0.00764303796142, 0.00506694846326, 0.00357889894297, 0.00569951780265, 0.956537601267, 0.00417120318102, 0.00347674555591, 0.00423905588894, 0.004471727259, 0.00511526367807]   \n",
       "303    [0.0182916592706, 0.0022834438079, 0.00161284739517, 0.00256851411236, 0.958937604455, 0.00639456551777, 0.00156681149786, 0.00191035018239, 0.00201520461363, 0.0044189991473]   \n",
       "1478   [0.0488287418998, 0.00221764814759, 0.0015663744498, 0.00249450437257, 0.931306561963, 0.00396039202529, 0.00152166504112, 0.0018553049252, 0.00195713805742, 0.00429166911806]   \n",
       "2925   [0.0211443795728, 0.00459778621538, 0.00324751916179, 0.00586206287574, 0.939419813338, 0.00326724655271, 0.0108017462134, 0.0029601401475, 0.00405767812707, 0.00464162779582]   \n",
       "2270     [0.00490342935079, 0.0120568515871, 0.912467367241, 0.0135620562875, 0.00591272085674, 0.00992541725215, 0.00827294879306, 0.0100868734097, 0.0106405171259, 0.0121718180957]   \n",
       "\n",
       "          SpaCy Pred  \\\n",
       "1616  KellyannePolls   \n",
       "303         NYCMayor   \n",
       "1478        NYCMayor   \n",
       "2925   SenJohnMcCain   \n",
       "2270  KellyannePolls   \n",
       "\n",
       "                                                                                                                                                                   SpaCy Probs  \\\n",
       "1616     [0.0655447527748, 0.11457853236, 0.0914250277097, 0.132187772764, 0.0912542529143, 0.0959227291948, 0.0789616972517, 0.0983327064725, 0.107058883876, 0.124733644682]   \n",
       "303    [0.0301644790156, 0.0527304107298, 0.0420748910187, 0.0608343937363, 0.102135305289, 0.342535773519, 0.0363391173046, 0.0452538873878, 0.0492697785773, 0.238661963422]   \n",
       "1478  [0.0980511704449, 0.0706837257903, 0.0564002824605, 0.0815469014172, 0.0907646144666, 0.235498925088, 0.0487116289721, 0.0606616433059, 0.0660448396002, 0.191636268455]   \n",
       "2925     [0.054218261525, 0.0947787362015, 0.0756262836069, 0.128876101678, 0.117845419316, 0.0736884613197, 0.200497149205, 0.0627320734502, 0.0885585240442, 0.103178989653]   \n",
       "2270     [0.0655447527748, 0.11457853236, 0.0914250277097, 0.132187772764, 0.0912542529143, 0.0959227291948, 0.0789616972517, 0.0983327064725, 0.107058883876, 0.124733644682]   \n",
       "\n",
       "              Author  Max Prob Change Max Prob Change Author  \\\n",
       "1616   MikeBloomberg        -0.865283          MikeBloomberg   \n",
       "303    MikeBloomberg        -0.856802          MikeBloomberg   \n",
       "1478   MikeBloomberg        -0.840542          MikeBloomberg   \n",
       "2925   MikeBloomberg        -0.821574          MikeBloomberg   \n",
       "2270  HillaryClinton        -0.821042         HillaryClinton   \n",
       "\n",
       "      Prob Change True Author  \n",
       "1616                -0.865283  \n",
       "303                 -0.856802  \n",
       "1478                -0.840542  \n",
       "2925                -0.821574  \n",
       "2270                -0.821042  "
      ]
     },
     "execution_count": 89,
     "metadata": {},
     "output_type": "execute_result"
    }
   ],
   "source": [
    "#Top instances where spaCy moved significantly away from the correct author\n",
    "\n",
    "(comparison[\n",
    "              \n",
    "              (comparison['Max Prob Change Author'] == comparison['Author']) \n",
    "            & (comparison['Max Prob Change'] < 0)\n",
    "           ]\n",
    ").sort_values(by = 'Max Prob Change', ascending = True).head(5)"
   ]
  },
  {
   "cell_type": "code",
   "execution_count": 47,
   "metadata": {},
   "outputs": [
    {
     "data": {
      "text/html": [
       "<div>\n",
       "<style>\n",
       "    .dataframe thead tr:only-child th {\n",
       "        text-align: right;\n",
       "    }\n",
       "\n",
       "    .dataframe thead th {\n",
       "        text-align: left;\n",
       "    }\n",
       "\n",
       "    .dataframe tbody tr th {\n",
       "        vertical-align: top;\n",
       "    }\n",
       "</style>\n",
       "<table border=\"1\" class=\"dataframe\">\n",
       "  <thead>\n",
       "    <tr style=\"text-align: right;\">\n",
       "      <th></th>\n",
       "      <th>Tweet</th>\n",
       "      <th>TF-IDF Pred</th>\n",
       "      <th>TF-IDF Probs</th>\n",
       "      <th>SpaCy Pred</th>\n",
       "      <th>SpaCy Probs</th>\n",
       "      <th>Author</th>\n",
       "      <th>Max Prob Change</th>\n",
       "      <th>Max Prob Change Author</th>\n",
       "      <th>Prob Change True Author</th>\n",
       "    </tr>\n",
       "  </thead>\n",
       "  <tbody>\n",
       "    <tr>\n",
       "      <th>530</th>\n",
       "      <td>Headed to @foxnews now. Will discuss tonight's results on @FoxBusiness at 9:30pET and on FNC at 10pET with @seanhannity</td>\n",
       "      <td>GovMikeHuckabee</td>\n",
       "      <td>[0.0377692221144, 0.351530331164, 0.065595641161, 0.104463280615, 0.0455434046995, 0.0764516549452, 0.0637233287466, 0.0776952893567, 0.0834730343293, 0.0937548128677]</td>\n",
       "      <td>newtgingrich</td>\n",
       "      <td>[0.00226784874205, 0.0077119652371, 0.00316330637169, 0.00457369753468, 0.003157397563, 0.00331892686339, 0.00273207508155, 0.00340231208808, 0.965598496786, 0.00407397373233]</td>\n",
       "      <td>newtgingrich</td>\n",
       "      <td>0.882125</td>\n",
       "      <td>newtgingrich</td>\n",
       "      <td>0.882125</td>\n",
       "    </tr>\n",
       "    <tr>\n",
       "      <th>2265</th>\n",
       "      <td>Helen Marshall devoted her life to public service across education, arts &amp;amp; economic dev - our city is better for it. https://t.co/5S0w6MT1SU</td>\n",
       "      <td>NYCMayor</td>\n",
       "      <td>[0.0240283050868, 0.0590822641859, 0.041731123649, 0.0753284148664, 0.114917839728, 0.324293661637, 0.138804109968, 0.11002685391, 0.0521417916916, 0.0596456352773]</td>\n",
       "      <td>MikeBloomberg</td>\n",
       "      <td>[0.00623150403804, 0.010893268444, 0.008692006686, 0.0148122039591, 0.868804292681, 0.019068171858, 0.023043874144, 0.0264175811447, 0.0101783566028, 0.0118587404424]</td>\n",
       "      <td>MikeBloomberg</td>\n",
       "      <td>0.753886</td>\n",
       "      <td>MikeBloomberg</td>\n",
       "      <td>0.753886</td>\n",
       "    </tr>\n",
       "    <tr>\n",
       "      <th>327</th>\n",
       "      <td>Great to meet you too! MT @MayorLevine: Had the pleasure of meeting @MikeBloomberg! Great Mayor, philanthropist, &amp;amp; entrepreneur #CityLab2014</td>\n",
       "      <td>SenJohnMcCain</td>\n",
       "      <td>[0.027418364133, 0.0674179484321, 0.0476188037297, 0.0859562046056, 0.175422295743, 0.0479080690765, 0.272187814364, 0.0434049271687, 0.0594982719748, 0.173167300772]</td>\n",
       "      <td>MikeBloomberg</td>\n",
       "      <td>[0.00323287854986, 0.00565138266389, 0.00450937715821, 0.00768451021827, 0.928977416338, 0.00439383040459, 0.0119550667016, 0.00374053259808, 0.00528048935427, 0.0245745160127]</td>\n",
       "      <td>MikeBloomberg</td>\n",
       "      <td>0.753555</td>\n",
       "      <td>MikeBloomberg</td>\n",
       "      <td>0.753555</td>\n",
       "    </tr>\n",
       "    <tr>\n",
       "      <th>2966</th>\n",
       "      <td>EpiPens can be the difference between life and death. There's no justification for these price hikes. https://t.co/O6RbVR6Qim -H</td>\n",
       "      <td>KellyannePolls</td>\n",
       "      <td>[0.0510515141966, 0.125528581311, 0.0886636424713, 0.141199854135, 0.06155964146, 0.103337387674, 0.0861328944587, 0.105018370662, 0.110782571187, 0.126725542444]</td>\n",
       "      <td>HillaryClinton</td>\n",
       "      <td>[0.0120928417511, 0.0223291897293, 0.824876740446, 0.0243883110363, 0.0204685932206, 0.0176975018653, 0.014568234204, 0.0255691387683, 0.0197520943472, 0.018257354632]</td>\n",
       "      <td>HillaryClinton</td>\n",
       "      <td>0.736213</td>\n",
       "      <td>HillaryClinton</td>\n",
       "      <td>0.736213</td>\n",
       "    </tr>\n",
       "    <tr>\n",
       "      <th>3638</th>\n",
       "      <td>@Lesdoggg, no one deserves this—least of all someone who brings us so much joy. I'm with you. -H</td>\n",
       "      <td>KellyannePolls</td>\n",
       "      <td>[0.0510515141966, 0.125528581311, 0.0886636424713, 0.141199854135, 0.06155964146, 0.103337387674, 0.0861328944587, 0.105018370662, 0.110782571187, 0.126725542444]</td>\n",
       "      <td>HillaryClinton</td>\n",
       "      <td>[0.0222912375633, 0.0228827997944, 0.821969926441, 0.0249929731232, 0.017253601016, 0.018136277982, 0.0149294260423, 0.018591936596, 0.020241810202, 0.0187100112401]</td>\n",
       "      <td>HillaryClinton</td>\n",
       "      <td>0.733306</td>\n",
       "      <td>HillaryClinton</td>\n",
       "      <td>0.733306</td>\n",
       "    </tr>\n",
       "  </tbody>\n",
       "</table>\n",
       "</div>"
      ],
      "text/plain": [
       "                                                                                                                                                 Tweet  \\\n",
       "530                            Headed to @foxnews now. Will discuss tonight's results on @FoxBusiness at 9:30pET and on FNC at 10pET with @seanhannity   \n",
       "2265  Helen Marshall devoted her life to public service across education, arts &amp; economic dev - our city is better for it. https://t.co/5S0w6MT1SU   \n",
       "327   Great to meet you too! MT @MayorLevine: Had the pleasure of meeting @MikeBloomberg! Great Mayor, philanthropist, &amp; entrepreneur #CityLab2014   \n",
       "2966                  EpiPens can be the difference between life and death. There's no justification for these price hikes. https://t.co/O6RbVR6Qim -H   \n",
       "3638                                                  @Lesdoggg, no one deserves this—least of all someone who brings us so much joy. I'm with you. -H   \n",
       "\n",
       "          TF-IDF Pred  \\\n",
       "530   GovMikeHuckabee   \n",
       "2265         NYCMayor   \n",
       "327     SenJohnMcCain   \n",
       "2966   KellyannePolls   \n",
       "3638   KellyannePolls   \n",
       "\n",
       "                                                                                                                                                                 TF-IDF Probs  \\\n",
       "530   [0.0377692221144, 0.351530331164, 0.065595641161, 0.104463280615, 0.0455434046995, 0.0764516549452, 0.0637233287466, 0.0776952893567, 0.0834730343293, 0.0937548128677]   \n",
       "2265     [0.0240283050868, 0.0590822641859, 0.041731123649, 0.0753284148664, 0.114917839728, 0.324293661637, 0.138804109968, 0.11002685391, 0.0521417916916, 0.0596456352773]   \n",
       "327    [0.027418364133, 0.0674179484321, 0.0476188037297, 0.0859562046056, 0.175422295743, 0.0479080690765, 0.272187814364, 0.0434049271687, 0.0594982719748, 0.173167300772]   \n",
       "2966       [0.0510515141966, 0.125528581311, 0.0886636424713, 0.141199854135, 0.06155964146, 0.103337387674, 0.0861328944587, 0.105018370662, 0.110782571187, 0.126725542444]   \n",
       "3638       [0.0510515141966, 0.125528581311, 0.0886636424713, 0.141199854135, 0.06155964146, 0.103337387674, 0.0861328944587, 0.105018370662, 0.110782571187, 0.126725542444]   \n",
       "\n",
       "          SpaCy Pred  \\\n",
       "530     newtgingrich   \n",
       "2265   MikeBloomberg   \n",
       "327    MikeBloomberg   \n",
       "2966  HillaryClinton   \n",
       "3638  HillaryClinton   \n",
       "\n",
       "                                                                                                                                                                           SpaCy Probs  \\\n",
       "530    [0.00226784874205, 0.0077119652371, 0.00316330637169, 0.00457369753468, 0.003157397563, 0.00331892686339, 0.00273207508155, 0.00340231208808, 0.965598496786, 0.00407397373233]   \n",
       "2265            [0.00623150403804, 0.010893268444, 0.008692006686, 0.0148122039591, 0.868804292681, 0.019068171858, 0.023043874144, 0.0264175811447, 0.0101783566028, 0.0118587404424]   \n",
       "327   [0.00323287854986, 0.00565138266389, 0.00450937715821, 0.00768451021827, 0.928977416338, 0.00439383040459, 0.0119550667016, 0.00374053259808, 0.00528048935427, 0.0245745160127]   \n",
       "2966           [0.0120928417511, 0.0223291897293, 0.824876740446, 0.0243883110363, 0.0204685932206, 0.0176975018653, 0.014568234204, 0.0255691387683, 0.0197520943472, 0.018257354632]   \n",
       "3638             [0.0222912375633, 0.0228827997944, 0.821969926441, 0.0249929731232, 0.017253601016, 0.018136277982, 0.0149294260423, 0.018591936596, 0.020241810202, 0.0187100112401]   \n",
       "\n",
       "              Author  Max Prob Change Max Prob Change Author  \\\n",
       "530     newtgingrich         0.882125           newtgingrich   \n",
       "2265   MikeBloomberg         0.753886          MikeBloomberg   \n",
       "327    MikeBloomberg         0.753555          MikeBloomberg   \n",
       "2966  HillaryClinton         0.736213         HillaryClinton   \n",
       "3638  HillaryClinton         0.733306         HillaryClinton   \n",
       "\n",
       "      Prob Change True Author  \n",
       "530                  0.882125  \n",
       "2265                 0.753886  \n",
       "327                  0.753555  \n",
       "2966                 0.736213  \n",
       "3638                 0.733306  "
      ]
     },
     "execution_count": 47,
     "metadata": {},
     "output_type": "execute_result"
    }
   ],
   "source": [
    "#Top instances where spaCy moved significantly toward the correct author\n",
    "\n",
    "(comparison[\n",
    "              \n",
    "              (comparison['Max Prob Change Author'] == comparison['Author']) \n",
    "            & (comparison['Max Prob Change'] > 0)\n",
    "           ]\n",
    ").sort_values(by = 'Max Prob Change', ascending = False).head(5)"
   ]
  },
  {
   "cell_type": "code",
   "execution_count": 48,
   "metadata": {},
   "outputs": [
    {
     "data": {
      "text/html": [
       "<div>\n",
       "<style>\n",
       "    .dataframe thead tr:only-child th {\n",
       "        text-align: right;\n",
       "    }\n",
       "\n",
       "    .dataframe thead th {\n",
       "        text-align: left;\n",
       "    }\n",
       "\n",
       "    .dataframe tbody tr th {\n",
       "        vertical-align: top;\n",
       "    }\n",
       "</style>\n",
       "<table border=\"1\" class=\"dataframe\">\n",
       "  <thead>\n",
       "    <tr style=\"text-align: right;\">\n",
       "      <th></th>\n",
       "      <th>Author</th>\n",
       "      <th>Better</th>\n",
       "      <th>Worse</th>\n",
       "      <th>Total</th>\n",
       "    </tr>\n",
       "  </thead>\n",
       "  <tbody>\n",
       "    <tr>\n",
       "      <th>0</th>\n",
       "      <td>BarackObama</td>\n",
       "      <td>164.0</td>\n",
       "      <td>335.0</td>\n",
       "      <td>499.0</td>\n",
       "    </tr>\n",
       "    <tr>\n",
       "      <th>1</th>\n",
       "      <td>GovMikeHuckabee</td>\n",
       "      <td>204.0</td>\n",
       "      <td>341.0</td>\n",
       "      <td>545.0</td>\n",
       "    </tr>\n",
       "    <tr>\n",
       "      <th>2</th>\n",
       "      <td>HillaryClinton</td>\n",
       "      <td>255.0</td>\n",
       "      <td>307.0</td>\n",
       "      <td>562.0</td>\n",
       "    </tr>\n",
       "    <tr>\n",
       "      <th>3</th>\n",
       "      <td>KellyannePolls</td>\n",
       "      <td>167.0</td>\n",
       "      <td>323.0</td>\n",
       "      <td>490.0</td>\n",
       "    </tr>\n",
       "    <tr>\n",
       "      <th>4</th>\n",
       "      <td>MikeBloomberg</td>\n",
       "      <td>212.0</td>\n",
       "      <td>350.0</td>\n",
       "      <td>562.0</td>\n",
       "    </tr>\n",
       "    <tr>\n",
       "      <th>5</th>\n",
       "      <td>NYCMayor</td>\n",
       "      <td>189.0</td>\n",
       "      <td>322.0</td>\n",
       "      <td>511.0</td>\n",
       "    </tr>\n",
       "    <tr>\n",
       "      <th>6</th>\n",
       "      <td>SenJohnMcCain</td>\n",
       "      <td>236.0</td>\n",
       "      <td>300.0</td>\n",
       "      <td>536.0</td>\n",
       "    </tr>\n",
       "    <tr>\n",
       "      <th>7</th>\n",
       "      <td>SenSanders</td>\n",
       "      <td>225.0</td>\n",
       "      <td>316.0</td>\n",
       "      <td>541.0</td>\n",
       "    </tr>\n",
       "    <tr>\n",
       "      <th>8</th>\n",
       "      <td>newtgingrich</td>\n",
       "      <td>236.0</td>\n",
       "      <td>282.0</td>\n",
       "      <td>518.0</td>\n",
       "    </tr>\n",
       "    <tr>\n",
       "      <th>9</th>\n",
       "      <td>realDonaldTrump</td>\n",
       "      <td>185.0</td>\n",
       "      <td>301.0</td>\n",
       "      <td>486.0</td>\n",
       "    </tr>\n",
       "  </tbody>\n",
       "</table>\n",
       "</div>"
      ],
      "text/plain": [
       "            Author  Better  Worse  Total\n",
       "0      BarackObama   164.0  335.0  499.0\n",
       "1  GovMikeHuckabee   204.0  341.0  545.0\n",
       "2   HillaryClinton   255.0  307.0  562.0\n",
       "3   KellyannePolls   167.0  323.0  490.0\n",
       "4    MikeBloomberg   212.0  350.0  562.0\n",
       "5         NYCMayor   189.0  322.0  511.0\n",
       "6    SenJohnMcCain   236.0  300.0  536.0\n",
       "7       SenSanders   225.0  316.0  541.0\n",
       "8     newtgingrich   236.0  282.0  518.0\n",
       "9  realDonaldTrump   185.0  301.0  486.0"
      ]
     },
     "execution_count": 48,
     "metadata": {},
     "output_type": "execute_result"
    }
   ],
   "source": [
    "#Summarize the spaCy tokenizer performance by author\n",
    "\n",
    "better = pd.DataFrame((comparison['Prob Change True Author'] > 0).groupby(comparison.Author).sum())\n",
    "worse = pd.DataFrame((comparison['Prob Change True Author'] <= 0).groupby(comparison.Author).sum())\n",
    "\n",
    "better.columns=['Better']\n",
    "worse.columns=['Worse']\n",
    "\n",
    "better.reset_index(inplace=True)\n",
    "worse.reset_index(inplace=True)\n",
    "\n",
    "overall = pd.merge(better,worse,how='inner', on='Author')\n",
    "overall['Total'] = overall.Better + overall.Worse\n",
    "overall.head(10)"
   ]
  },
  {
   "cell_type": "markdown",
   "metadata": {},
   "source": [
    "Strangely, the spaCy lemma tokenization does not seem to improve classification probabilities for any author or particular type of tweet (no discernable patterns). Due to its slightly worse classification performance on the test set and lack of any other valid reason to proceed with the customized TF-IDF, I will work with the standard TF-IDF tokenizer (vectorizer1) going forward.\n",
    "\n",
    "I also compared tweet clusters using K-Means and LSA, but did not notice any significant difference between the resultant clusters, further strengthening argument to proceed with default TF-IDF.\n"
   ]
  },
  {
   "cell_type": "markdown",
   "metadata": {},
   "source": [
    "# TF-IDF Centroid Approach"
   ]
  },
  {
   "cell_type": "code",
   "execution_count": 49,
   "metadata": {},
   "outputs": [],
   "source": [
    "#What if we calculate the tf-idf centroid for each author using the training set, and find the consine similarity \n",
    "#for each tweet / author-centroid pair. These new features might add some predictive power to our model. Let's try.\n",
    "\n",
    "#We will use the standard TF-IDF approach (rather than the customized spaCy tokenization) due to superior performance\n",
    "\n",
    "X_train, X_test, y_train, y_test = train_test_split(tweet_df['Tweets'], tweet_df['Author'], test_size = 0.25, random_state = 42)\n",
    "\n",
    "X_train_tfidf = vectorizer1.fit_transform(X_train)\n",
    "X_test_tfidf = vectorizer1.transform(X_test)\n",
    "\n",
    "#Find the average (centroid) by author for each item in the train tfidf matrix. Then compare test vectors to the pre-calculated\n",
    "#centroid and return cosine similarity score for each author\n",
    "\n",
    "centroids = []\n",
    "for author in handles:\n",
    "    auth_tweets = []\n",
    "    for tweet, auth in zip(X_train_tfidf.toarray(), y_train):\n",
    "        if auth == author:\n",
    "            auth_tweets.append(tweet)\n",
    "    #Now take the average of the tf-idf rows for this author\n",
    "    centroids.append([np.mean(auth_tweets, axis = 0), author])"
   ]
  },
  {
   "cell_type": "code",
   "execution_count": 50,
   "metadata": {
    "collapsed": true
   },
   "outputs": [],
   "source": [
    "#Compute the similarity scores for the train set first\n",
    "\n",
    "centroid_sim_train = pd.DataFrame(columns = handles)\n",
    "\n",
    "for i, vector in enumerate(X_train_tfidf.toarray()):\n",
    "    for cen, author in centroids:\n",
    "        centroid_sim_train.loc[i, author] = cosine_similarity(vector, cen)\n",
    "        \n",
    "#Do the same for the test set\n",
    "\n",
    "centroid_sim_test = pd.DataFrame(columns = handles)\n",
    "\n",
    "for i, vector in enumerate(X_test_tfidf.toarray()):\n",
    "    for cen, author in centroids:\n",
    "        centroid_sim_test.loc[i, author] = cosine_similarity(vector, cen)"
   ]
  },
  {
   "cell_type": "code",
   "execution_count": 61,
   "metadata": {},
   "outputs": [
    {
     "name": "stdout",
     "output_type": "stream",
     "text": [
      "Training set score: 0.991555555556\n",
      "\n",
      "Test set score: 0.656571428571\n"
     ]
    }
   ],
   "source": [
    "#Now feed these features back into the Random Forest model\n",
    "\n",
    "X_train_new = pd.concat([pd.DataFrame(X_train_tfidf.toarray()), centroid_sim_train], axis = 1)\n",
    "X_test_new = pd.concat([pd.DataFrame(X_test_tfidf.toarray()), centroid_sim_test], axis = 1)\n",
    "\n",
    "fit = rfc.fit(X_train_new, y_train)\n",
    "y_pred = rfc.predict(X_test_new)\n",
    "\n",
    "print('Training set score:', rfc.score(X_train_new, y_train))\n",
    "print('\\nTest set score:', rfc.score(X_test_new, y_test))"
   ]
  },
  {
   "cell_type": "markdown",
   "metadata": {},
   "source": [
    "The new features appear to have helped the Random Forest model a bit here (we saw 64.5% accuracy without using these features above)... let's check to see if GBM does any better."
   ]
  },
  {
   "cell_type": "code",
   "execution_count": 75,
   "metadata": {},
   "outputs": [
    {
     "name": "stdout",
     "output_type": "stream",
     "text": [
      "Training set score: 0.830920634921\n",
      "\n",
      "Test set score: 0.700380952381\n"
     ]
    }
   ],
   "source": [
    "#Try a GBM classifier using the TF-IDF CENTROID approach above\n",
    "\n",
    "clf = ensemble.GradientBoostingClassifier()\n",
    "train = clf.fit(X_train_new, y_train)\n",
    "y_pred = clf.predict(X_test_new)\n",
    "y_pred_prob = clf.predict_proba(X_test_new)\n",
    "\n",
    "print('Training set score:', clf.score(X_train_new, y_train))\n",
    "print('\\nTest set score:', clf.score(X_test_new, y_test))"
   ]
  },
  {
   "cell_type": "markdown",
   "metadata": {},
   "source": [
    "Voila! The model accuracy is up to 70%! Let's move on to clustering for now. Later, I will optimize and cross-validate the results to produce the best model."
   ]
  },
  {
   "cell_type": "code",
   "execution_count": 76,
   "metadata": {},
   "outputs": [
    {
     "data": {
      "text/plain": [
       "<matplotlib.axes._subplots.AxesSubplot at 0x1ddb5b1a320>"
      ]
     },
     "execution_count": 76,
     "metadata": {},
     "output_type": "execute_result"
    },
    {
     "data": {
      "image/png": "[encoded data removed]",
      "text/plain": [
       "<matplotlib.figure.Figure at 0x1ddb5b3a588>"
      ]
     },
     "metadata": {},
     "output_type": "display_data"
    }
   ],
   "source": [
    "#Confusion matrix for TF-IDF centroid approach (using GBM model)\n",
    "\n",
    "conf = confusion_matrix(y_test, y_pred, labels = handles)\n",
    "\n",
    "df_cm = pd.DataFrame(conf, index = [i for i in handles],\n",
    "                  columns = [i for i in handles])\n",
    "plt.figure(figsize = (15,7))\n",
    "plt.title('Confusion Matrix for TF-IDF Centroid Approarch (standard tokenization)')\n",
    "sns.heatmap(df_cm, annot=True, cmap=\"Blues\", fmt = 'd')"
   ]
  },
  {
   "cell_type": "markdown",
   "metadata": {},
   "source": [
    "At this point, we have a rudimentary supervised model that is able to correctly classify ~70% of the tweets in the test set. Before beginning testing alternate supervised models (SVC, KNN, Neural Networks, etc) and optimizing to improve accuracy, I will implement some unsuperivsed clustering algorithms to explore how authors are typically clustered, and determine if these clusters can be used as features to improve this model.\n",
    "\n",
    "Following that, I will explore different dimensionality reduction techniques (Latent Semantic Analysis [LSA, which uses PCA], Latent Dirichlet Allocation [LDA, which is probabalistic]) with the hopes of identifying topics. One of LDA's drawbacks is that you must specify the number of topics beforehand. Perhaps we can use some unsupervised clustering algorithm to find a number of topics that makes sense. \n"
   ]
  },
  {
   "cell_type": "markdown",
   "metadata": {},
   "source": [
    "# Unsupervised Clustering Using K-Means (MiniBatch): High Dimensional Data"
   ]
  },
  {
   "cell_type": "markdown",
   "metadata": {},
   "source": [
    "Based on trial-and-error techinques, it was determined that a smaller number of clusters made more sense from a feature generation standpoint. With true_k set to 25, we had \"topics\" seemingly generated around individual words like 'day' or 'year' which would obviously not add much value in terms of predicting the author of the tweet. \n",
    "\n",
    "With true_k set equal to 10, we did see some meaningful topics generated."
   ]
  },
  {
   "cell_type": "code",
   "execution_count": 51,
   "metadata": {},
   "outputs": [
    {
     "name": "stdout",
     "output_type": "stream",
     "text": [
      "Clustering sparse data with MiniBatchKMeans(batch_size=5000, compute_labels=True, init='k-means++',\n",
      "        init_size=None, max_iter=100, max_no_improvement=10, n_clusters=10,\n",
      "        n_init=3, random_state=None, reassignment_ratio=0.01, tol=0.0,\n",
      "        verbose=0)\n",
      "Done in 0.713s\n",
      "\n",
      "Homogeneity: 0.164\n",
      "Completeness: 0.192\n",
      "V-measure: 0.177\n",
      "Adjusted Rand-Index: 0.072\n",
      "Silhouette Coefficient: 0.007\n"
     ]
    }
   ],
   "source": [
    "#Let's keep our data in high dimensional form first, to see what (if any) insights we can gain from clustering.\n",
    "\n",
    "#Try K-Means MiniBatch (K-Means is very resource intensive for high dimnesional data) and assume 10 clusters to begin with\n",
    "\n",
    "#Create normalized version of full dataset (we don't need to reserve any for training, we just want to cluster for now)\n",
    "\n",
    "#Normalize the data to the unit vector. Should we normalize by row or column? Normalize by row - gives a better representation of tweet composition. Likely more meaningful than the relative freq magnitude\n",
    "#of each word relative to that word's frequencies in all tweets\n",
    "\n",
    "X = tweet_df['Tweets']\n",
    "X_norm_tfidf = normalize(vectorizer1.fit_transform(X))\n",
    "\n",
    "true_k = 10\n",
    "labels = y\n",
    "km = MiniBatchKMeans(n_clusters=true_k, init='k-means++', batch_size=5000)\n",
    "\n",
    "print(\"Clustering sparse data with %s\" % km)\n",
    "t0 = time()\n",
    "km.fit(X_norm_tfidf)\n",
    "mini_labels = km.labels_\n",
    "print(\"Done in %0.3fs\" % (time() - t0))\n",
    "print()\n",
    "print(\"Homogeneity: %0.3f\" % metrics.homogeneity_score(labels, km.labels_))\n",
    "print(\"Completeness: %0.3f\" % metrics.completeness_score(labels, km.labels_))\n",
    "print(\"V-measure: %0.3f\" % metrics.v_measure_score(labels, km.labels_))\n",
    "print(\"Adjusted Rand-Index: %.3f\"\n",
    "      % metrics.adjusted_rand_score(labels, km.labels_))\n",
    "print(\"Silhouette Coefficient: %0.3f\"\n",
    "      % metrics.silhouette_score(X_norm_tfidf, km.labels_, sample_size=5000))"
   ]
  },
  {
   "cell_type": "code",
   "execution_count": 52,
   "metadata": {
    "collapsed": true
   },
   "outputs": [],
   "source": [
    "tweet_df['MiniBatchLabels'] = mini_labels"
   ]
  },
  {
   "cell_type": "code",
   "execution_count": 53,
   "metadata": {},
   "outputs": [
    {
     "name": "stdout",
     "output_type": "stream",
     "text": [
      "Cluster: 0\n",
      "                 Tweets  MiniBatchLabels\n",
      "Author                                  \n",
      "BarackObama         377              377\n",
      "GovMikeHuckabee    1096             1096\n",
      "HillaryClinton      331              331\n",
      "KellyannePolls      930              930\n",
      "MikeBloomberg       519              519\n",
      "NYCMayor            724              724\n",
      "SenJohnMcCain      1009             1009\n",
      "SenSanders          411              411\n",
      "newtgingrich        756              756\n",
      "realDonaldTrump     934              934\n",
      "\n",
      "Cluster: 1\n",
      "                 Tweets  MiniBatchLabels\n",
      "Author                                  \n",
      "BarackObama          22               22\n",
      "GovMikeHuckabee     191              191\n",
      "HillaryClinton       60               60\n",
      "KellyannePolls      264              264\n",
      "MikeBloomberg       344              344\n",
      "NYCMayor            551              551\n",
      "SenJohnMcCain       636              636\n",
      "SenSanders           29               29\n",
      "newtgingrich        176              176\n",
      "realDonaldTrump     294              294\n",
      "\n",
      "Cluster: 2\n",
      "                 Tweets  MiniBatchLabels\n",
      "Author                                  \n",
      "BarackObama         794              794\n",
      "GovMikeHuckabee      29               29\n",
      "HillaryClinton       38               38\n",
      "KellyannePolls       21               21\n",
      "MikeBloomberg         2                2\n",
      "NYCMayor              6                6\n",
      "SenJohnMcCain        30               30\n",
      "SenSanders            9                9\n",
      "newtgingrich         34               34\n",
      "realDonaldTrump      30               30\n",
      "\n",
      "Cluster: 3\n",
      "                 Tweets  MiniBatchLabels\n",
      "Author                                  \n",
      "BarackObama           8                8\n",
      "GovMikeHuckabee      12               12\n",
      "HillaryClinton       53               53\n",
      "KellyannePolls        3                3\n",
      "MikeBloomberg        15               15\n",
      "NYCMayor             27               27\n",
      "SenJohnMcCain        93               93\n",
      "SenSanders           27               27\n",
      "newtgingrich        528              528\n",
      "realDonaldTrump      25               25\n",
      "\n",
      "Cluster: 4\n",
      "                 Tweets  MiniBatchLabels\n",
      "Author                                  \n",
      "BarackObama          71               71\n",
      "GovMikeHuckabee      19               19\n",
      "HillaryClinton       38               38\n",
      "KellyannePolls       22               22\n",
      "MikeBloomberg        33               33\n",
      "NYCMayor            107              107\n",
      "SenJohnMcCain        38               38\n",
      "SenSanders          288              288\n",
      "newtgingrich         18               18\n",
      "realDonaldTrump      16               16\n",
      "\n",
      "Cluster: 5\n",
      "                 Tweets  MiniBatchLabels\n",
      "Author                                  \n",
      "BarackObama         246              246\n",
      "GovMikeHuckabee     373              373\n",
      "HillaryClinton      511              511\n",
      "KellyannePolls      302              302\n",
      "MikeBloomberg       103              103\n",
      "NYCMayor            454              454\n",
      "SenJohnMcCain       114              114\n",
      "SenSanders          833              833\n",
      "newtgingrich        223              223\n",
      "realDonaldTrump     410              410\n",
      "\n",
      "Cluster: 6\n",
      "                 Tweets  MiniBatchLabels\n",
      "Author                                  \n",
      "BarackObama         456              456\n",
      "GovMikeHuckabee      37               37\n",
      "HillaryClinton       16               16\n",
      "KellyannePolls        1                1\n",
      "MikeBloomberg       946              946\n",
      "NYCMayor             28               28\n",
      "SenJohnMcCain         1                1\n",
      "SenSanders           62               62\n",
      "realDonaldTrump       2                2\n",
      "\n",
      "Cluster: 7\n",
      "                 Tweets  MiniBatchLabels\n",
      "Author                                  \n",
      "GovMikeHuckabee     147              147\n",
      "HillaryClinton      883              883\n",
      "KellyannePolls      459              459\n",
      "MikeBloomberg         1                1\n",
      "NYCMayor             54               54\n",
      "SenJohnMcCain        31               31\n",
      "SenSanders          291              291\n",
      "newtgingrich        289              289\n",
      "realDonaldTrump     185              185\n",
      "\n",
      "Cluster: 8\n",
      "                 Tweets  MiniBatchLabels\n",
      "Author                                  \n",
      "BarackObama          84               84\n",
      "GovMikeHuckabee     163              163\n",
      "HillaryClinton      105              105\n",
      "KellyannePolls       72               72\n",
      "MikeBloomberg        53               53\n",
      "NYCMayor             73               73\n",
      "SenJohnMcCain        54               54\n",
      "SenSanders          112              112\n",
      "newtgingrich         39               39\n",
      "realDonaldTrump     132              132\n",
      "\n",
      "Cluster: 9\n",
      "                 Tweets  MiniBatchLabels\n",
      "Author                                  \n",
      "BarackObama          42               42\n",
      "GovMikeHuckabee      33               33\n",
      "HillaryClinton       65               65\n",
      "KellyannePolls       26               26\n",
      "MikeBloomberg        84               84\n",
      "NYCMayor             76               76\n",
      "SenJohnMcCain        94               94\n",
      "SenSanders           38               38\n",
      "newtgingrich         37               37\n",
      "realDonaldTrump      72               72\n",
      "\n"
     ]
    }
   ],
   "source": [
    "for label in set(mini_labels):\n",
    "    print('Cluster: %d' % label)\n",
    "    print(tweet_df[tweet_df.MiniBatchLabels == label].groupby('Author').count())\n",
    "    print('')"
   ]
  },
  {
   "cell_type": "markdown",
   "metadata": {},
   "source": [
    "# K-Means MiniBatch Discussion\n",
    "\n",
    "Let's take a look at some of these clusters and determine whether or not they make sense! Using full dataset for now."
   ]
  },
  {
   "cell_type": "code",
   "execution_count": 54,
   "metadata": {},
   "outputs": [
    {
     "data": {
      "text/html": [
       "<div>\n",
       "<style>\n",
       "    .dataframe thead tr:only-child th {\n",
       "        text-align: right;\n",
       "    }\n",
       "\n",
       "    .dataframe thead th {\n",
       "        text-align: left;\n",
       "    }\n",
       "\n",
       "    .dataframe tbody tr th {\n",
       "        vertical-align: top;\n",
       "    }\n",
       "</style>\n",
       "<table border=\"1\" class=\"dataframe\">\n",
       "  <thead>\n",
       "    <tr style=\"text-align: right;\">\n",
       "      <th></th>\n",
       "      <th>Tweets</th>\n",
       "      <th>Author</th>\n",
       "      <th>MiniBatchLabels</th>\n",
       "    </tr>\n",
       "  </thead>\n",
       "  <tbody>\n",
       "    <tr>\n",
       "      <th>7216</th>\n",
       "      <td>For the sake of our children, grandchildren and the future of this planet Mr. Pruitt must not be confirmed as head of the EPA.</td>\n",
       "      <td>SenSanders</td>\n",
       "      <td>0</td>\n",
       "    </tr>\n",
       "    <tr>\n",
       "      <th>1758</th>\n",
       "      <td>Join me today in Wilmington, Ohio at 4pm: https://t.co/eCLECMkYLw\\n\\nTomorrow- Tampa, Florida at 10am: https://t.co/N9380pVmuM</td>\n",
       "      <td>realDonaldTrump</td>\n",
       "      <td>0</td>\n",
       "    </tr>\n",
       "    <tr>\n",
       "      <th>19368</th>\n",
       "      <td>Find out if you or your loved ones qualify for property tax exemptions by following this link https://t.co/lY8IAgkQ8z</td>\n",
       "      <td>NYCMayor</td>\n",
       "      <td>0</td>\n",
       "    </tr>\n",
       "    <tr>\n",
       "      <th>10221</th>\n",
       "      <td>1. Close our borders instead of Guantanamo. #DemDebate</td>\n",
       "      <td>GovMikeHuckabee</td>\n",
       "      <td>0</td>\n",
       "    </tr>\n",
       "    <tr>\n",
       "      <th>18525</th>\n",
       "      <td>Pot, meet kettle. https://t.co/SslbNkUhvM</td>\n",
       "      <td>KellyannePolls</td>\n",
       "      <td>0</td>\n",
       "    </tr>\n",
       "    <tr>\n",
       "      <th>11224</th>\n",
       "      <td>Our economy has added 14 million jobs over the longest streak of private-sector job growth on record. https://t.co/FwScd1Soxi</td>\n",
       "      <td>BarackObama</td>\n",
       "      <td>0</td>\n",
       "    </tr>\n",
       "    <tr>\n",
       "      <th>20692</th>\n",
       "      <td>#AlwaysNewYork https://t.co/jwijc2nfkO</td>\n",
       "      <td>NYCMayor</td>\n",
       "      <td>0</td>\n",
       "    </tr>\n",
       "    <tr>\n",
       "      <th>749</th>\n",
       "      <td>....it is very possible that those sources don't exist but are made up by fake news writers. #FakeNews is the enemy!</td>\n",
       "      <td>realDonaldTrump</td>\n",
       "      <td>0</td>\n",
       "    </tr>\n",
       "    <tr>\n",
       "      <th>9945</th>\n",
       "      <td>Without a secure border, nothing matters.</td>\n",
       "      <td>GovMikeHuckabee</td>\n",
       "      <td>0</td>\n",
       "    </tr>\n",
       "    <tr>\n",
       "      <th>17846</th>\n",
       "      <td>How many times has @TimKaine ignored and interrupted the female moderator tonight? #sexist</td>\n",
       "      <td>KellyannePolls</td>\n",
       "      <td>0</td>\n",
       "    </tr>\n",
       "    <tr>\n",
       "      <th>1575</th>\n",
       "      <td>THANK YOU IOWA!\\n#ThankYouTour2016 https://t.co/v6EB2OQMeO</td>\n",
       "      <td>realDonaldTrump</td>\n",
       "      <td>0</td>\n",
       "    </tr>\n",
       "    <tr>\n",
       "      <th>19319</th>\n",
       "      <td>I bow to the champion. She makes a mean chicken. https://t.co/FcBbahPAZ4</td>\n",
       "      <td>NYCMayor</td>\n",
       "      <td>0</td>\n",
       "    </tr>\n",
       "    <tr>\n",
       "      <th>20160</th>\n",
       "      <td>We're ahead of schedule! Rockaway service launches May 1. Here are all the routes for @NYCFerry. https://t.co/gELvl9npAZ</td>\n",
       "      <td>NYCMayor</td>\n",
       "      <td>0</td>\n",
       "    </tr>\n",
       "    <tr>\n",
       "      <th>6186</th>\n",
       "      <td>.@indianz: \"Senate committee takes on tribal water issues\" https://t.co/6hQKYAqUSg</td>\n",
       "      <td>SenJohnMcCain</td>\n",
       "      <td>0</td>\n",
       "    </tr>\n",
       "    <tr>\n",
       "      <th>12603</th>\n",
       "      <td>How @realDonaldTrump is winning the war against ISIS in Syria -- a  story that isn’t getting covered enough https://t.co/528u94yziJ</td>\n",
       "      <td>newtgingrich</td>\n",
       "      <td>0</td>\n",
       "    </tr>\n",
       "    <tr>\n",
       "      <th>3874</th>\n",
       "      <td>RT this if you agree. https://t.co/32mjc23tME</td>\n",
       "      <td>HillaryClinton</td>\n",
       "      <td>0</td>\n",
       "    </tr>\n",
       "    <tr>\n",
       "      <th>10819</th>\n",
       "      <td>Judge Garland is a well qualified nominee. Senate leaders' refusal to even give him a hearing is unacceptable. https://t.co/So0px3M6pr</td>\n",
       "      <td>BarackObama</td>\n",
       "      <td>0</td>\n",
       "    </tr>\n",
       "    <tr>\n",
       "      <th>14907</th>\n",
       "      <td>When it comes to the fight against #ClimateChange, there’s a lot to be hopeful for. #ClimateofHope @CSMonitor https://t.co/f9EMb2sfKC</td>\n",
       "      <td>MikeBloomberg</td>\n",
       "      <td>0</td>\n",
       "    </tr>\n",
       "    <tr>\n",
       "      <th>577</th>\n",
       "      <td>Today, I hosted an immigration roundtable ahead of two votes taking place in Congress tomorrow. Watch and read more… https://t.co/5k8WzW1t68</td>\n",
       "      <td>realDonaldTrump</td>\n",
       "      <td>0</td>\n",
       "    </tr>\n",
       "    <tr>\n",
       "      <th>14782</th>\n",
       "      <td>My statement on Charlottesville: https://t.co/m9anou0nqK</td>\n",
       "      <td>MikeBloomberg</td>\n",
       "      <td>0</td>\n",
       "    </tr>\n",
       "    <tr>\n",
       "      <th>11478</th>\n",
       "      <td>Lend a hand—chip in to show your support for this grassroots movement. https://t.co/YaGm6yDvaY https://t.co/DmR1NUHnbr</td>\n",
       "      <td>BarackObama</td>\n",
       "      <td>0</td>\n",
       "    </tr>\n",
       "    <tr>\n",
       "      <th>8734</th>\n",
       "      <td>In Dallas to speak for Friends of Zion banquet. Will reveal meaning of covfefe and distribute full text of Comey's leaked memos. Big deal!</td>\n",
       "      <td>GovMikeHuckabee</td>\n",
       "      <td>0</td>\n",
       "    </tr>\n",
       "    <tr>\n",
       "      <th>19530</th>\n",
       "      <td>This is not about public safety or our security. This is religious exclusion. I pray that the Supreme Court lands o… https://t.co/LbY5BtNXra</td>\n",
       "      <td>NYCMayor</td>\n",
       "      <td>0</td>\n",
       "    </tr>\n",
       "    <tr>\n",
       "      <th>17845</th>\n",
       "      <td>That certainly would deflect discussion away from the disastrous debate performance Kaine has had https://t.co/ebmgkTJRa1</td>\n",
       "      <td>KellyannePolls</td>\n",
       "      <td>0</td>\n",
       "    </tr>\n",
       "    <tr>\n",
       "      <th>11470</th>\n",
       "      <td>2015 will likely be the hottest year ever recorded. https://t.co/3riSWz8Aag #ActOnClimate</td>\n",
       "      <td>BarackObama</td>\n",
       "      <td>0</td>\n",
       "    </tr>\n",
       "  </tbody>\n",
       "</table>\n",
       "</div>"
      ],
      "text/plain": [
       "                                                                                                                                             Tweets  \\\n",
       "7216                 For the sake of our children, grandchildren and the future of this planet Mr. Pruitt must not be confirmed as head of the EPA.   \n",
       "1758                 Join me today in Wilmington, Ohio at 4pm: https://t.co/eCLECMkYLw\\n\\nTomorrow- Tampa, Florida at 10am: https://t.co/N9380pVmuM   \n",
       "19368                         Find out if you or your loved ones qualify for property tax exemptions by following this link https://t.co/lY8IAgkQ8z   \n",
       "10221                                                                                        1. Close our borders instead of Guantanamo. #DemDebate   \n",
       "18525                                                                                                     Pot, meet kettle. https://t.co/SslbNkUhvM   \n",
       "11224                 Our economy has added 14 million jobs over the longest streak of private-sector job growth on record. https://t.co/FwScd1Soxi   \n",
       "20692                                                                                                        #AlwaysNewYork https://t.co/jwijc2nfkO   \n",
       "749                            ....it is very possible that those sources don't exist but are made up by fake news writers. #FakeNews is the enemy!   \n",
       "9945                                                                                                      Without a secure border, nothing matters.   \n",
       "17846                                                    How many times has @TimKaine ignored and interrupted the female moderator tonight? #sexist   \n",
       "1575                                                                                     THANK YOU IOWA!\\n#ThankYouTour2016 https://t.co/v6EB2OQMeO   \n",
       "19319                                                                      I bow to the champion. She makes a mean chicken. https://t.co/FcBbahPAZ4   \n",
       "20160                      We're ahead of schedule! Rockaway service launches May 1. Here are all the routes for @NYCFerry. https://t.co/gELvl9npAZ   \n",
       "6186                                                             .@indianz: \"Senate committee takes on tribal water issues\" https://t.co/6hQKYAqUSg   \n",
       "12603           How @realDonaldTrump is winning the war against ISIS in Syria -- a  story that isn’t getting covered enough https://t.co/528u94yziJ   \n",
       "3874                                                                                                  RT this if you agree. https://t.co/32mjc23tME   \n",
       "10819        Judge Garland is a well qualified nominee. Senate leaders' refusal to even give him a hearing is unacceptable. https://t.co/So0px3M6pr   \n",
       "14907         When it comes to the fight against #ClimateChange, there’s a lot to be hopeful for. #ClimateofHope @CSMonitor https://t.co/f9EMb2sfKC   \n",
       "577    Today, I hosted an immigration roundtable ahead of two votes taking place in Congress tomorrow. Watch and read more… https://t.co/5k8WzW1t68   \n",
       "14782                                                                                      My statement on Charlottesville: https://t.co/m9anou0nqK   \n",
       "11478                        Lend a hand—chip in to show your support for this grassroots movement. https://t.co/YaGm6yDvaY https://t.co/DmR1NUHnbr   \n",
       "8734     In Dallas to speak for Friends of Zion banquet. Will reveal meaning of covfefe and distribute full text of Comey's leaked memos. Big deal!   \n",
       "19530  This is not about public safety or our security. This is religious exclusion. I pray that the Supreme Court lands o… https://t.co/LbY5BtNXra   \n",
       "17845                     That certainly would deflect discussion away from the disastrous debate performance Kaine has had https://t.co/ebmgkTJRa1   \n",
       "11470                                                     2015 will likely be the hottest year ever recorded. https://t.co/3riSWz8Aag #ActOnClimate   \n",
       "\n",
       "                Author  MiniBatchLabels  \n",
       "7216        SenSanders                0  \n",
       "1758   realDonaldTrump                0  \n",
       "19368         NYCMayor                0  \n",
       "10221  GovMikeHuckabee                0  \n",
       "18525   KellyannePolls                0  \n",
       "11224      BarackObama                0  \n",
       "20692         NYCMayor                0  \n",
       "749    realDonaldTrump                0  \n",
       "9945   GovMikeHuckabee                0  \n",
       "17846   KellyannePolls                0  \n",
       "1575   realDonaldTrump                0  \n",
       "19319         NYCMayor                0  \n",
       "20160         NYCMayor                0  \n",
       "6186     SenJohnMcCain                0  \n",
       "12603     newtgingrich                0  \n",
       "3874    HillaryClinton                0  \n",
       "10819      BarackObama                0  \n",
       "14907    MikeBloomberg                0  \n",
       "577    realDonaldTrump                0  \n",
       "14782    MikeBloomberg                0  \n",
       "11478      BarackObama                0  \n",
       "8734   GovMikeHuckabee                0  \n",
       "19530         NYCMayor                0  \n",
       "17845   KellyannePolls                0  \n",
       "11470      BarackObama                0  "
      ]
     },
     "execution_count": 54,
     "metadata": {},
     "output_type": "execute_result"
    }
   ],
   "source": [
    "#Let's check Cluster 0 - the largest, and likely a catch-all for tweets that did not fall into other clusters\n",
    "shuffle(tweet_df[tweet_df.MiniBatchLabels == 0]).head(25)"
   ]
  },
  {
   "cell_type": "code",
   "execution_count": 55,
   "metadata": {
    "scrolled": true
   },
   "outputs": [
    {
     "data": {
      "text/html": [
       "<div>\n",
       "<style>\n",
       "    .dataframe thead tr:only-child th {\n",
       "        text-align: right;\n",
       "    }\n",
       "\n",
       "    .dataframe thead th {\n",
       "        text-align: left;\n",
       "    }\n",
       "\n",
       "    .dataframe tbody tr th {\n",
       "        vertical-align: top;\n",
       "    }\n",
       "</style>\n",
       "<table border=\"1\" class=\"dataframe\">\n",
       "  <thead>\n",
       "    <tr style=\"text-align: right;\">\n",
       "      <th></th>\n",
       "      <th>Tweets</th>\n",
       "      <th>Author</th>\n",
       "      <th>MiniBatchLabels</th>\n",
       "    </tr>\n",
       "  </thead>\n",
       "  <tbody>\n",
       "    <tr>\n",
       "      <th>6184</th>\n",
       "      <td>Good delegation mtg w/ Chief of Army Staff of #Pakistan Gen Raheel Sharif &amp;amp; discussing regional security challenges https://t.co/pf3M48F5M2</td>\n",
       "      <td>SenJohnMcCain</td>\n",
       "      <td>1</td>\n",
       "    </tr>\n",
       "    <tr>\n",
       "      <th>19951</th>\n",
       "      <td>The FDNY is on track to recruit the most diverse candidate class in New York City history. https://t.co/lgRlCTqkgj</td>\n",
       "      <td>NYCMayor</td>\n",
       "      <td>1</td>\n",
       "    </tr>\n",
       "    <tr>\n",
       "      <th>13354</th>\n",
       "      <td>Today: @CallyGingrich &amp;amp; I will be at @SugarHouseSpa in Alexandria at noon for a book signing. Join us!… https://t.co/5VM9NMVLyI</td>\n",
       "      <td>newtgingrich</td>\n",
       "      <td>1</td>\n",
       "    </tr>\n",
       "    <tr>\n",
       "      <th>15726</th>\n",
       "      <td>Thanks @FIRSTweets for the honor &amp;amp; for encouraging young people to build a better future with science &amp;amp; engineering. https://t.co/flJXLApURU</td>\n",
       "      <td>MikeBloomberg</td>\n",
       "      <td>1</td>\n",
       "    </tr>\n",
       "    <tr>\n",
       "      <th>654</th>\n",
       "      <td>Despite the phony Witch Hunt going on in America, the economic &amp;amp; jobs numbers are great. Regulations way down, jobs and enthusiasm way up!</td>\n",
       "      <td>realDonaldTrump</td>\n",
       "      <td>1</td>\n",
       "    </tr>\n",
       "    <tr>\n",
       "      <th>5020</th>\n",
       "      <td>Excellent meeting with #Bosnia &amp;amp; #Herzegovina Presidency yesterday - read my full stmt on my recent visit:… https://t.co/z6tmDmwIDR</td>\n",
       "      <td>SenJohnMcCain</td>\n",
       "      <td>1</td>\n",
       "    </tr>\n",
       "    <tr>\n",
       "      <th>5860</th>\n",
       "      <td>Holding @SASCMajority hearing on encryption &amp;amp; cyber w/ Adm Rogers - critical issues for our nat'l defense - watch: https://t.co/B6OmbvjSot</td>\n",
       "      <td>SenJohnMcCain</td>\n",
       "      <td>1</td>\n",
       "    </tr>\n",
       "    <tr>\n",
       "      <th>19130</th>\n",
       "      <td>New York City stands with Barcelona. https://t.co/XQyTA1nEPs</td>\n",
       "      <td>NYCMayor</td>\n",
       "      <td>1</td>\n",
       "    </tr>\n",
       "    <tr>\n",
       "      <th>896</th>\n",
       "      <td>First the Ninth Circuit rules against the ban &amp;amp; now it hits again on sanctuary cities-both ridiculous rulings. See you in the Supreme Court!</td>\n",
       "      <td>realDonaldTrump</td>\n",
       "      <td>1</td>\n",
       "    </tr>\n",
       "    <tr>\n",
       "      <th>10121</th>\n",
       "      <td>Enjoyed talking w/ @politico team about terrorism, agriculture, EPA, &amp;amp; trade deals. https://t.co/NTvzZKKjOi</td>\n",
       "      <td>GovMikeHuckabee</td>\n",
       "      <td>1</td>\n",
       "    </tr>\n",
       "    <tr>\n",
       "      <th>16036</th>\n",
       "      <td>Congrats to the @WhitneyMuseum on its new home. Investing in the arts drives cultural vibrancy &amp;amp; economic growth. http://t.co/ZQgDgFTpuK</td>\n",
       "      <td>MikeBloomberg</td>\n",
       "      <td>1</td>\n",
       "    </tr>\n",
       "    <tr>\n",
       "      <th>14771</th>\n",
       "      <td>With the latest coal plant closure in Michigan, @SierraClub continues to combat pollution &amp;amp; move America @BeyondCoal https://t.co/s5VKCeWwn6</td>\n",
       "      <td>MikeBloomberg</td>\n",
       "      <td>1</td>\n",
       "    </tr>\n",
       "    <tr>\n",
       "      <th>4859</th>\n",
       "      <td>Homeland Security Cmte holding hearing on my bills to reauthorize fire grant prgm &amp;amp; enhance border security - watch: https://t.co/sqFsiCj74x</td>\n",
       "      <td>SenJohnMcCain</td>\n",
       "      <td>1</td>\n",
       "    </tr>\n",
       "    <tr>\n",
       "      <th>20326</th>\n",
       "      <td>Join me in honoring a true hero and one of New York's bravest, FDNY EMT Yadira Arroyo. https://t.co/eJDsN83NIa</td>\n",
       "      <td>NYCMayor</td>\n",
       "      <td>1</td>\n",
       "    </tr>\n",
       "    <tr>\n",
       "      <th>19284</th>\n",
       "      <td>The Senate Republicans' \"skinny repeal\" is a total disaster for New York City. Learn more here. https://t.co/B0MslwFe5O</td>\n",
       "      <td>NYCMayor</td>\n",
       "      <td>1</td>\n",
       "    </tr>\n",
       "    <tr>\n",
       "      <th>17366</th>\n",
       "      <td>Labor Day w/ @realDonaldTrump @mike_pence - my fave example of crowds, enthusiasm &amp;amp; momentum &amp;amp; why they mattered.… https://t.co/2xXoi1b5Am</td>\n",
       "      <td>KellyannePolls</td>\n",
       "      <td>1</td>\n",
       "    </tr>\n",
       "    <tr>\n",
       "      <th>4656</th>\n",
       "      <td>Great mtg w/ #ROK Pres. Moon today to reaffirm strong US-#SouthKorea alliance based on our shared interests &amp;amp; values https://t.co/ngsSg7CK6U</td>\n",
       "      <td>SenJohnMcCain</td>\n",
       "      <td>1</td>\n",
       "    </tr>\n",
       "    <tr>\n",
       "      <th>10198</th>\n",
       "      <td>I will be on @HappeningNow w/ @JonScottFNC at 11:10 am ET / 10:10 am CT re: #ParisAttacks &amp;amp; #SyrianRefugees #FoxNews</td>\n",
       "      <td>GovMikeHuckabee</td>\n",
       "      <td>1</td>\n",
       "    </tr>\n",
       "    <tr>\n",
       "      <th>19622</th>\n",
       "      <td>Join me at Gracie Mansion for a celebration of the 600,000 Russian-Americans living in New York City! https://t.co/uHJASDhXCa</td>\n",
       "      <td>NYCMayor</td>\n",
       "      <td>1</td>\n",
       "    </tr>\n",
       "    <tr>\n",
       "      <th>4895</th>\n",
       "      <td>Threats to US in cyberspace continue to grow, but we still lack strategy &amp;amp; policy for addressing defining feature o… https://t.co/9bu38sTYdo</td>\n",
       "      <td>SenJohnMcCain</td>\n",
       "      <td>1</td>\n",
       "    </tr>\n",
       "    <tr>\n",
       "      <th>17185</th>\n",
       "      <td>No. There were 6 female anchors at lunch with @POTUS today. We invited ABC &amp;amp; the other networks; they chose the att… https://t.co/5xp9hJVHsB</td>\n",
       "      <td>KellyannePolls</td>\n",
       "      <td>1</td>\n",
       "    </tr>\n",
       "    <tr>\n",
       "      <th>7553</th>\n",
       "      <td>Greed is a very powerful force​. But ​our vision of a nation &amp;amp; world based on economic, social and environmental justice is more powerful.</td>\n",
       "      <td>SenSanders</td>\n",
       "      <td>1</td>\n",
       "    </tr>\n",
       "    <tr>\n",
       "      <th>456</th>\n",
       "      <td>I will be at the @USGA #USWomensOpen in Bedminster, NJ tomorrow. Big crowds expected &amp;amp; the women are playing great-should be very exciting!</td>\n",
       "      <td>realDonaldTrump</td>\n",
       "      <td>1</td>\n",
       "    </tr>\n",
       "    <tr>\n",
       "      <th>5816</th>\n",
       "      <td>.@USDOL's 1,000 pg Fiduciary Rule will weaken the US retirement system, make it more expensive to invest &amp;amp; cost ~$31.5B #AmericasMostWasted</td>\n",
       "      <td>SenJohnMcCain</td>\n",
       "      <td>1</td>\n",
       "    </tr>\n",
       "    <tr>\n",
       "      <th>5645</th>\n",
       "      <td>Thank you to all who served &amp;amp; their families, for your sacrifice &amp;amp; commitment to the cause of freedom #VeteransDay… https://t.co/4nMytwDV4w</td>\n",
       "      <td>SenJohnMcCain</td>\n",
       "      <td>1</td>\n",
       "    </tr>\n",
       "  </tbody>\n",
       "</table>\n",
       "</div>"
      ],
      "text/plain": [
       "                                                                                                                                                     Tweets  \\\n",
       "6184        Good delegation mtg w/ Chief of Army Staff of #Pakistan Gen Raheel Sharif &amp; discussing regional security challenges https://t.co/pf3M48F5M2   \n",
       "19951                                    The FDNY is on track to recruit the most diverse candidate class in New York City history. https://t.co/lgRlCTqkgj   \n",
       "13354                   Today: @CallyGingrich &amp; I will be at @SugarHouseSpa in Alexandria at noon for a book signing. Join us!… https://t.co/5VM9NMVLyI   \n",
       "15726  Thanks @FIRSTweets for the honor &amp; for encouraging young people to build a better future with science &amp; engineering. https://t.co/flJXLApURU   \n",
       "654          Despite the phony Witch Hunt going on in America, the economic &amp; jobs numbers are great. Regulations way down, jobs and enthusiasm way up!   \n",
       "5020                Excellent meeting with #Bosnia &amp; #Herzegovina Presidency yesterday - read my full stmt on my recent visit:… https://t.co/z6tmDmwIDR   \n",
       "5860         Holding @SASCMajority hearing on encryption &amp; cyber w/ Adm Rogers - critical issues for our nat'l defense - watch: https://t.co/B6OmbvjSot   \n",
       "19130                                                                                          New York City stands with Barcelona. https://t.co/XQyTA1nEPs   \n",
       "896        First the Ninth Circuit rules against the ban &amp; now it hits again on sanctuary cities-both ridiculous rulings. See you in the Supreme Court!   \n",
       "10121                                       Enjoyed talking w/ @politico team about terrorism, agriculture, EPA, &amp; trade deals. https://t.co/NTvzZKKjOi   \n",
       "16036          Congrats to the @WhitneyMuseum on its new home. Investing in the arts drives cultural vibrancy &amp; economic growth. http://t.co/ZQgDgFTpuK   \n",
       "14771      With the latest coal plant closure in Michigan, @SierraClub continues to combat pollution &amp; move America @BeyondCoal https://t.co/s5VKCeWwn6   \n",
       "4859       Homeland Security Cmte holding hearing on my bills to reauthorize fire grant prgm &amp; enhance border security - watch: https://t.co/sqFsiCj74x   \n",
       "20326                                        Join me in honoring a true hero and one of New York's bravest, FDNY EMT Yadira Arroyo. https://t.co/eJDsN83NIa   \n",
       "19284                               The Senate Republicans' \"skinny repeal\" is a total disaster for New York City. Learn more here. https://t.co/B0MslwFe5O   \n",
       "17366    Labor Day w/ @realDonaldTrump @mike_pence - my fave example of crowds, enthusiasm &amp; momentum &amp; why they mattered.… https://t.co/2xXoi1b5Am   \n",
       "4656       Great mtg w/ #ROK Pres. Moon today to reaffirm strong US-#SouthKorea alliance based on our shared interests &amp; values https://t.co/ngsSg7CK6U   \n",
       "10198                              I will be on @HappeningNow w/ @JonScottFNC at 11:10 am ET / 10:10 am CT re: #ParisAttacks &amp; #SyrianRefugees #FoxNews   \n",
       "19622                         Join me at Gracie Mansion for a celebration of the 600,000 Russian-Americans living in New York City! https://t.co/uHJASDhXCa   \n",
       "4895       Threats to US in cyberspace continue to grow, but we still lack strategy &amp; policy for addressing defining feature o… https://t.co/9bu38sTYdo   \n",
       "17185      No. There were 6 female anchors at lunch with @POTUS today. We invited ABC &amp; the other networks; they chose the att… https://t.co/5xp9hJVHsB   \n",
       "7553         Greed is a very powerful force​. But ​our vision of a nation &amp; world based on economic, social and environmental justice is more powerful.   \n",
       "456         I will be at the @USGA #USWomensOpen in Bedminster, NJ tomorrow. Big crowds expected &amp; the women are playing great-should be very exciting!   \n",
       "5816        .@USDOL's 1,000 pg Fiduciary Rule will weaken the US retirement system, make it more expensive to invest &amp; cost ~$31.5B #AmericasMostWasted   \n",
       "5645    Thank you to all who served &amp; their families, for your sacrifice &amp; commitment to the cause of freedom #VeteransDay… https://t.co/4nMytwDV4w   \n",
       "\n",
       "                Author  MiniBatchLabels  \n",
       "6184     SenJohnMcCain                1  \n",
       "19951         NYCMayor                1  \n",
       "13354     newtgingrich                1  \n",
       "15726    MikeBloomberg                1  \n",
       "654    realDonaldTrump                1  \n",
       "5020     SenJohnMcCain                1  \n",
       "5860     SenJohnMcCain                1  \n",
       "19130         NYCMayor                1  \n",
       "896    realDonaldTrump                1  \n",
       "10121  GovMikeHuckabee                1  \n",
       "16036    MikeBloomberg                1  \n",
       "14771    MikeBloomberg                1  \n",
       "4859     SenJohnMcCain                1  \n",
       "20326         NYCMayor                1  \n",
       "19284         NYCMayor                1  \n",
       "17366   KellyannePolls                1  \n",
       "4656     SenJohnMcCain                1  \n",
       "10198  GovMikeHuckabee                1  \n",
       "19622         NYCMayor                1  \n",
       "4895     SenJohnMcCain                1  \n",
       "17185   KellyannePolls                1  \n",
       "7553        SenSanders                1  \n",
       "456    realDonaldTrump                1  \n",
       "5816     SenJohnMcCain                1  \n",
       "5645     SenJohnMcCain                1  "
      ]
     },
     "execution_count": 55,
     "metadata": {},
     "output_type": "execute_result"
    }
   ],
   "source": [
    "#Cluster 1 \n",
    "shuffle(tweet_df[tweet_df.MiniBatchLabels == 1]).head(25)"
   ]
  },
  {
   "cell_type": "code",
   "execution_count": 56,
   "metadata": {},
   "outputs": [
    {
     "data": {
      "text/html": [
       "<div>\n",
       "<style>\n",
       "    .dataframe thead tr:only-child th {\n",
       "        text-align: right;\n",
       "    }\n",
       "\n",
       "    .dataframe thead th {\n",
       "        text-align: left;\n",
       "    }\n",
       "\n",
       "    .dataframe tbody tr th {\n",
       "        vertical-align: top;\n",
       "    }\n",
       "</style>\n",
       "<table border=\"1\" class=\"dataframe\">\n",
       "  <thead>\n",
       "    <tr style=\"text-align: right;\">\n",
       "      <th></th>\n",
       "      <th>Tweets</th>\n",
       "      <th>Author</th>\n",
       "      <th>MiniBatchLabels</th>\n",
       "    </tr>\n",
       "  </thead>\n",
       "  <tbody>\n",
       "    <tr>\n",
       "      <th>12245</th>\n",
       "      <td>\"Denying it or refusing to deal with it endangers our national security.\" —President Obama on climate change #ActOnClimate</td>\n",
       "      <td>BarackObama</td>\n",
       "      <td>2</td>\n",
       "    </tr>\n",
       "    <tr>\n",
       "      <th>11599</th>\n",
       "      <td>\"Today, in 41 states, drivers can find at least one gas station selling gas for less than $2 a gallon.\" —President Obama #KeystoneXL</td>\n",
       "      <td>BarackObama</td>\n",
       "      <td>2</td>\n",
       "    </tr>\n",
       "    <tr>\n",
       "      <th>12079</th>\n",
       "      <td>\"Not only has the law worked better than expected ... but it's ended up costing less than people expected.\" —President Obama #ACAWorks</td>\n",
       "      <td>BarackObama</td>\n",
       "      <td>2</td>\n",
       "    </tr>\n",
       "    <tr>\n",
       "      <th>11756</th>\n",
       "      <td>Listen to President Obama's advice on going to college for high school seniors—including his oldest daughter. http://t.co/SvqO4wyZiW</td>\n",
       "      <td>BarackObama</td>\n",
       "      <td>2</td>\n",
       "    </tr>\n",
       "    <tr>\n",
       "      <th>12019</th>\n",
       "      <td>\"Too often, where people live determines what opportunities they have in life.\" —President Obama http://t.co/pQyCEWlxBr</td>\n",
       "      <td>BarackObama</td>\n",
       "      <td>2</td>\n",
       "    </tr>\n",
       "    <tr>\n",
       "      <th>12480</th>\n",
       "      <td>\"The typical family this year should save more than $700 at the pump.\" —President Obama</td>\n",
       "      <td>BarackObama</td>\n",
       "      <td>2</td>\n",
       "    </tr>\n",
       "    <tr>\n",
       "      <th>12356</th>\n",
       "      <td>#ClimateChangeIsReal. So are the actions President Obama is taking to tackle it. http://t.co/63jKisj8ZS</td>\n",
       "      <td>BarackObama</td>\n",
       "      <td>2</td>\n",
       "    </tr>\n",
       "    <tr>\n",
       "      <th>9702</th>\n",
       "      <td>Watch: Reporter Calls Out Obama Right To His Face... Obama's Response Says It All\\nhttps://t.co/rHB4JpHwc8</td>\n",
       "      <td>GovMikeHuckabee</td>\n",
       "      <td>2</td>\n",
       "    </tr>\n",
       "    <tr>\n",
       "      <th>12287</th>\n",
       "      <td>\"I view smart trade agreements as a part of middle-class economics.\" —President Obama #LeadOnTrade</td>\n",
       "      <td>BarackObama</td>\n",
       "      <td>2</td>\n",
       "    </tr>\n",
       "    <tr>\n",
       "      <th>12537</th>\n",
       "      <td>Tune in at 2:35 p.m. ET to watch President Obama speak in Selma, Alabama: http://t.co/wF2J5vKpRY #MarchOn http://t.co/COHzBaUleZ</td>\n",
       "      <td>BarackObama</td>\n",
       "      <td>2</td>\n",
       "    </tr>\n",
       "    <tr>\n",
       "      <th>10970</th>\n",
       "      <td>This summer, you and a friend could meet President Obama. Here's how: https://t.co/OZslVlHMI1</td>\n",
       "      <td>BarackObama</td>\n",
       "      <td>2</td>\n",
       "    </tr>\n",
       "    <tr>\n",
       "      <th>11374</th>\n",
       "      <td>\"That spirit of discovery is in our DNA. America is Thomas Edison and the Wright Brothers and George Washington Carver.\" —President Obama</td>\n",
       "      <td>BarackObama</td>\n",
       "      <td>2</td>\n",
       "    </tr>\n",
       "    <tr>\n",
       "      <th>10851</th>\n",
       "      <td>\"Just imagine the peace and justice that would be possible in our world if we all lived a little more like Elie Wiesel.\" —President Obama</td>\n",
       "      <td>BarackObama</td>\n",
       "      <td>2</td>\n",
       "    </tr>\n",
       "    <tr>\n",
       "      <th>11584</th>\n",
       "      <td>\"Even as our economy is growing, America's cut our carbon pollution more than any other advanced nation on Earth.\" —President Obama</td>\n",
       "      <td>BarackObama</td>\n",
       "      <td>2</td>\n",
       "    </tr>\n",
       "    <tr>\n",
       "      <th>11868</th>\n",
       "      <td>LIVE: President Obama is speaking about the 50th anniversary of the Voting Rights Act. http://t.co/Qu2IFiNFgK #VRA50</td>\n",
       "      <td>BarackObama</td>\n",
       "      <td>2</td>\n",
       "    </tr>\n",
       "    <tr>\n",
       "      <th>11974</th>\n",
       "      <td>\"I've asked my Attorney General to start a review of the overuse of solitary confinement in our federal prisons.\" —President Obama</td>\n",
       "      <td>BarackObama</td>\n",
       "      <td>2</td>\n",
       "    </tr>\n",
       "    <tr>\n",
       "      <th>11877</th>\n",
       "      <td>\"I have repeatedly challenged anyone opposed to this deal to put forward a better, plausible alternative.\" —President Obama #IranDeal</td>\n",
       "      <td>BarackObama</td>\n",
       "      <td>2</td>\n",
       "    </tr>\n",
       "    <tr>\n",
       "      <th>11962</th>\n",
       "      <td>Tune in at 6:45 p.m. ET to watch President Obama speak about ensuring internet access for all Americans: http://t.co/05jdLoUYOP</td>\n",
       "      <td>BarackObama</td>\n",
       "      <td>2</td>\n",
       "    </tr>\n",
       "    <tr>\n",
       "      <th>11430</th>\n",
       "      <td>President Obama's common-sense actions will help #StopGunViolence. Now Congress needs to step up. https://t.co/DPkaaIp4p7</td>\n",
       "      <td>BarackObama</td>\n",
       "      <td>2</td>\n",
       "    </tr>\n",
       "    <tr>\n",
       "      <th>11665</th>\n",
       "      <td>LIVE: President Obama is speaking at a celebration of Hispanic Heritage Month. http://t.co/E1PA8AZUDS</td>\n",
       "      <td>BarackObama</td>\n",
       "      <td>2</td>\n",
       "    </tr>\n",
       "    <tr>\n",
       "      <th>11726</th>\n",
       "      <td>You could win a chance to meet President Obama. (Let that sink in.) Enter now: http://t.co/KSgSX9Q2oZ http://t.co/jmYatM9iHS</td>\n",
       "      <td>BarackObama</td>\n",
       "      <td>2</td>\n",
       "    </tr>\n",
       "    <tr>\n",
       "      <th>3982</th>\n",
       "      <td>One wrong move can be the difference between life and death when you're president.\\nhttps://t.co/Tpo3Spps9z</td>\n",
       "      <td>HillaryClinton</td>\n",
       "      <td>2</td>\n",
       "    </tr>\n",
       "    <tr>\n",
       "      <th>11995</th>\n",
       "      <td>\"African Americans and Latinos make up 30 percent of our population. They make up 60 percent of our inmates.\" —President Obama</td>\n",
       "      <td>BarackObama</td>\n",
       "      <td>2</td>\n",
       "    </tr>\n",
       "    <tr>\n",
       "      <th>12530</th>\n",
       "      <td>\"What greater form of patriotism is there than the belief that America is not yet finished.\" —President Obama #Selma50 #MarchOn</td>\n",
       "      <td>BarackObama</td>\n",
       "      <td>2</td>\n",
       "    </tr>\n",
       "    <tr>\n",
       "      <th>12284</th>\n",
       "      <td>\"If you are opposed to these smart, progress trade deals, that means you must be satisfied with the status quo.\" —President Obama</td>\n",
       "      <td>BarackObama</td>\n",
       "      <td>2</td>\n",
       "    </tr>\n",
       "  </tbody>\n",
       "</table>\n",
       "</div>"
      ],
      "text/plain": [
       "                                                                                                                                          Tweets  \\\n",
       "12245                 \"Denying it or refusing to deal with it endangers our national security.\" —President Obama on climate change #ActOnClimate   \n",
       "11599       \"Today, in 41 states, drivers can find at least one gas station selling gas for less than $2 a gallon.\" —President Obama #KeystoneXL   \n",
       "12079     \"Not only has the law worked better than expected ... but it's ended up costing less than people expected.\" —President Obama #ACAWorks   \n",
       "11756       Listen to President Obama's advice on going to college for high school seniors—including his oldest daughter. http://t.co/SvqO4wyZiW   \n",
       "12019                    \"Too often, where people live determines what opportunities they have in life.\" —President Obama http://t.co/pQyCEWlxBr   \n",
       "12480                                                    \"The typical family this year should save more than $700 at the pump.\" —President Obama   \n",
       "12356                                    #ClimateChangeIsReal. So are the actions President Obama is taking to tackle it. http://t.co/63jKisj8ZS   \n",
       "9702                                  Watch: Reporter Calls Out Obama Right To His Face... Obama's Response Says It All\\nhttps://t.co/rHB4JpHwc8   \n",
       "12287                                         \"I view smart trade agreements as a part of middle-class economics.\" —President Obama #LeadOnTrade   \n",
       "12537           Tune in at 2:35 p.m. ET to watch President Obama speak in Selma, Alabama: http://t.co/wF2J5vKpRY #MarchOn http://t.co/COHzBaUleZ   \n",
       "10970                                              This summer, you and a friend could meet President Obama. Here's how: https://t.co/OZslVlHMI1   \n",
       "11374  \"That spirit of discovery is in our DNA. America is Thomas Edison and the Wright Brothers and George Washington Carver.\" —President Obama   \n",
       "10851  \"Just imagine the peace and justice that would be possible in our world if we all lived a little more like Elie Wiesel.\" —President Obama   \n",
       "11584        \"Even as our economy is growing, America's cut our carbon pollution more than any other advanced nation on Earth.\" —President Obama   \n",
       "11868                       LIVE: President Obama is speaking about the 50th anniversary of the Voting Rights Act. http://t.co/Qu2IFiNFgK #VRA50   \n",
       "11974         \"I've asked my Attorney General to start a review of the overuse of solitary confinement in our federal prisons.\" —President Obama   \n",
       "11877      \"I have repeatedly challenged anyone opposed to this deal to put forward a better, plausible alternative.\" —President Obama #IranDeal   \n",
       "11962            Tune in at 6:45 p.m. ET to watch President Obama speak about ensuring internet access for all Americans: http://t.co/05jdLoUYOP   \n",
       "11430                  President Obama's common-sense actions will help #StopGunViolence. Now Congress needs to step up. https://t.co/DPkaaIp4p7   \n",
       "11665                                      LIVE: President Obama is speaking at a celebration of Hispanic Heritage Month. http://t.co/E1PA8AZUDS   \n",
       "11726               You could win a chance to meet President Obama. (Let that sink in.) Enter now: http://t.co/KSgSX9Q2oZ http://t.co/jmYatM9iHS   \n",
       "3982                                 One wrong move can be the difference between life and death when you're president.\\nhttps://t.co/Tpo3Spps9z   \n",
       "11995             \"African Americans and Latinos make up 30 percent of our population. They make up 60 percent of our inmates.\" —President Obama   \n",
       "12530            \"What greater form of patriotism is there than the belief that America is not yet finished.\" —President Obama #Selma50 #MarchOn   \n",
       "12284          \"If you are opposed to these smart, progress trade deals, that means you must be satisfied with the status quo.\" —President Obama   \n",
       "\n",
       "                Author  MiniBatchLabels  \n",
       "12245      BarackObama                2  \n",
       "11599      BarackObama                2  \n",
       "12079      BarackObama                2  \n",
       "11756      BarackObama                2  \n",
       "12019      BarackObama                2  \n",
       "12480      BarackObama                2  \n",
       "12356      BarackObama                2  \n",
       "9702   GovMikeHuckabee                2  \n",
       "12287      BarackObama                2  \n",
       "12537      BarackObama                2  \n",
       "10970      BarackObama                2  \n",
       "11374      BarackObama                2  \n",
       "10851      BarackObama                2  \n",
       "11584      BarackObama                2  \n",
       "11868      BarackObama                2  \n",
       "11974      BarackObama                2  \n",
       "11877      BarackObama                2  \n",
       "11962      BarackObama                2  \n",
       "11430      BarackObama                2  \n",
       "11665      BarackObama                2  \n",
       "11726      BarackObama                2  \n",
       "3982    HillaryClinton                2  \n",
       "11995      BarackObama                2  \n",
       "12530      BarackObama                2  \n",
       "12284      BarackObama                2  "
      ]
     },
     "execution_count": 56,
     "metadata": {},
     "output_type": "execute_result"
    }
   ],
   "source": [
    "#Cluster 2 \n",
    "shuffle(tweet_df[tweet_df.MiniBatchLabels == 2]).head(25)"
   ]
  },
  {
   "cell_type": "code",
   "execution_count": 57,
   "metadata": {},
   "outputs": [
    {
     "data": {
      "text/html": [
       "<div>\n",
       "<style>\n",
       "    .dataframe thead tr:only-child th {\n",
       "        text-align: right;\n",
       "    }\n",
       "\n",
       "    .dataframe thead th {\n",
       "        text-align: left;\n",
       "    }\n",
       "\n",
       "    .dataframe tbody tr th {\n",
       "        vertical-align: top;\n",
       "    }\n",
       "</style>\n",
       "<table border=\"1\" class=\"dataframe\">\n",
       "  <thead>\n",
       "    <tr style=\"text-align: right;\">\n",
       "      <th></th>\n",
       "      <th>Tweets</th>\n",
       "      <th>Author</th>\n",
       "      <th>MiniBatchLabels</th>\n",
       "    </tr>\n",
       "  </thead>\n",
       "  <tbody>\n",
       "    <tr>\n",
       "      <th>13597</th>\n",
       "      <td>Live on @facebook from the Reagan Library discussing #Election2016. Watch: https://t.co/YWgGeGSqNh @ronaldreagan40</td>\n",
       "      <td>newtgingrich</td>\n",
       "      <td>3</td>\n",
       "    </tr>\n",
       "    <tr>\n",
       "      <th>13133</th>\n",
       "      <td>I think we'll see at least a third of democrats vote with @potus on his infrastructure plan. Live now on @facebook &amp;gt; https://t.co/znK5041eR1</td>\n",
       "      <td>newtgingrich</td>\n",
       "      <td>3</td>\n",
       "    </tr>\n",
       "    <tr>\n",
       "      <th>12811</th>\n",
       "      <td>Have you read #UnderstandingTrump yet? Tell me what you thought &amp;amp; ask questions during my @facebook Live at 4pET.… https://t.co/IuDVeSxsku</td>\n",
       "      <td>newtgingrich</td>\n",
       "      <td>3</td>\n",
       "    </tr>\n",
       "    <tr>\n",
       "      <th>11150</th>\n",
       "      <td>LIVE: @VP Biden is urging the Senate to give Judge Merrick Garland a fair hearing and timely up-or-down vote. https://t.co/2vG15zNgNn</td>\n",
       "      <td>BarackObama</td>\n",
       "      <td>3</td>\n",
       "    </tr>\n",
       "    <tr>\n",
       "      <th>4749</th>\n",
       "      <td>Holding #SASC hearing on @USNavy posture &amp;amp; fiscal year 2018 budget request this morning at 9:30AM ET - tune-in live: https://t.co/KF2hilFI0a</td>\n",
       "      <td>SenJohnMcCain</td>\n",
       "      <td>3</td>\n",
       "    </tr>\n",
       "    <tr>\n",
       "      <th>12883</th>\n",
       "      <td>Live from @Nasdaq discussing Understanding Trump now. Ask questions: https://t.co/al4mYAWItR https://t.co/uPvSvIIbx7</td>\n",
       "      <td>newtgingrich</td>\n",
       "      <td>3</td>\n",
       "    </tr>\n",
       "    <tr>\n",
       "      <th>14307</th>\n",
       "      <td>Live now on @facebook answering questions on Trump vs. Hillary. Ask me a q: https://t.co/BNjqouLH0U</td>\n",
       "      <td>newtgingrich</td>\n",
       "      <td>3</td>\n",
       "    </tr>\n",
       "    <tr>\n",
       "      <th>13535</th>\n",
       "      <td>LIVE on @facebook now with @VanJones68 and @PJK4brainhealth discussing @AORecovery. Ask us questions: https://t.co/5V6U5syAaJ</td>\n",
       "      <td>newtgingrich</td>\n",
       "      <td>3</td>\n",
       "    </tr>\n",
       "    <tr>\n",
       "      <th>1737</th>\n",
       "      <td>Join me live in Reno, Nevada!\\nhttps://t.co/T4bf1hrxaA https://t.co/EPqRXHa1CM</td>\n",
       "      <td>realDonaldTrump</td>\n",
       "      <td>3</td>\n",
       "    </tr>\n",
       "    <tr>\n",
       "      <th>6283</th>\n",
       "      <td>We're continuing debate on #FY17NDAA this morning - watch live: https://t.co/oUAHhRXkiI</td>\n",
       "      <td>SenJohnMcCain</td>\n",
       "      <td>3</td>\n",
       "    </tr>\n",
       "    <tr>\n",
       "      <th>2927</th>\n",
       "      <td>.@FLOTUS is in New Hampshire talking about what's at stake in this election. Watch live: https://t.co/NLhXJtQYOj</td>\n",
       "      <td>HillaryClinton</td>\n",
       "      <td>3</td>\n",
       "    </tr>\n",
       "    <tr>\n",
       "      <th>12614</th>\n",
       "      <td>Hosting a @facebook live at 4pET today on Defending America. Submit questions: https://t.co/cs67XUe4eU https://t.co/QoAtq8zYs3</td>\n",
       "      <td>newtgingrich</td>\n",
       "      <td>3</td>\n",
       "    </tr>\n",
       "    <tr>\n",
       "      <th>14419</th>\n",
       "      <td>Here we go! Live now on @facebook talking #trump, #hillary, #2016. Ask a q &amp;gt; https://t.co/xCBNWJFN71</td>\n",
       "      <td>newtgingrich</td>\n",
       "      <td>3</td>\n",
       "    </tr>\n",
       "    <tr>\n",
       "      <th>13772</th>\n",
       "      <td>Will be LIVE on @facebook at 12pET to share my debate predictions. Submit q's: https://t.co/zHCZX57xIJ #debates https://t.co/1hnnqy6JFH</td>\n",
       "      <td>newtgingrich</td>\n",
       "      <td>3</td>\n",
       "    </tr>\n",
       "    <tr>\n",
       "      <th>14060</th>\n",
       "      <td>.@HillaryClinton lies about everything, her foreign policy is a disaster. Live on @facebook now https://t.co/2A5EFFQVaD</td>\n",
       "      <td>newtgingrich</td>\n",
       "      <td>3</td>\n",
       "    </tr>\n",
       "    <tr>\n",
       "      <th>19549</th>\n",
       "      <td>I'm live with @MayorLevine in Miami Beach to discuss the steps our cities are taking to honor the Paris Agreement. https://t.co/1Wxh9MRidX</td>\n",
       "      <td>NYCMayor</td>\n",
       "      <td>3</td>\n",
       "    </tr>\n",
       "    <tr>\n",
       "      <th>4216</th>\n",
       "      <td>Happening now: #SASC hearing on recent @USNavy incidents at sea - watch live: https://t.co/FBaN893yr5</td>\n",
       "      <td>SenJohnMcCain</td>\n",
       "      <td>3</td>\n",
       "    </tr>\n",
       "    <tr>\n",
       "      <th>12977</th>\n",
       "      <td>Joining @seanhannity next at 10:30pET to discuss #comey. Watch on @FoxNews.</td>\n",
       "      <td>newtgingrich</td>\n",
       "      <td>3</td>\n",
       "    </tr>\n",
       "    <tr>\n",
       "      <th>14468</th>\n",
       "      <td>Talking with @seanhannity after @realDonaldTrump speaks. Watch on @FoxNews</td>\n",
       "      <td>newtgingrich</td>\n",
       "      <td>3</td>\n",
       "    </tr>\n",
       "    <tr>\n",
       "      <th>13947</th>\n",
       "      <td>Hillary is a symptom of a larger system of establishment failure. Live on @facebook now: https://t.co/jXlomFC2aw</td>\n",
       "      <td>newtgingrich</td>\n",
       "      <td>3</td>\n",
       "    </tr>\n",
       "    <tr>\n",
       "      <th>13361</th>\n",
       "      <td>.@PJK4brainhealth and I are LIVE on @facebook discussing @AORecovery with @TIME. Watch: https://t.co/ugym38QH9J</td>\n",
       "      <td>newtgingrich</td>\n",
       "      <td>3</td>\n",
       "    </tr>\n",
       "    <tr>\n",
       "      <th>11735</th>\n",
       "      <td>LIVE: Watch as @Pontifex is welcomed to the White House. http://t.co/ZFiuZHzv1c #PopeInDC</td>\n",
       "      <td>BarackObama</td>\n",
       "      <td>3</td>\n",
       "    </tr>\n",
       "    <tr>\n",
       "      <th>2763</th>\n",
       "      <td>With just 19 days left in this campaign, @FLOTUS hits the trail for Hillary in Arizona. Watch live → https://t.co/D8ELAkkMcd</td>\n",
       "      <td>HillaryClinton</td>\n",
       "      <td>3</td>\n",
       "    </tr>\n",
       "    <tr>\n",
       "      <th>12786</th>\n",
       "      <td>Live on Facebook: Happy Fourth of July from Paris! 🇺🇸 https://t.co/vp1TybGhrX</td>\n",
       "      <td>newtgingrich</td>\n",
       "      <td>3</td>\n",
       "    </tr>\n",
       "    <tr>\n",
       "      <th>13856</th>\n",
       "      <td>Live  on @facebook now discussing my trip to the #zoo today. Will discuss rigged economy next.  https://t.co/s9IWtPOIKM</td>\n",
       "      <td>newtgingrich</td>\n",
       "      <td>3</td>\n",
       "    </tr>\n",
       "  </tbody>\n",
       "</table>\n",
       "</div>"
      ],
      "text/plain": [
       "                                                                                                                                                 Tweets  \\\n",
       "13597                                Live on @facebook from the Reagan Library discussing #Election2016. Watch: https://t.co/YWgGeGSqNh @ronaldreagan40   \n",
       "13133   I think we'll see at least a third of democrats vote with @potus on his infrastructure plan. Live now on @facebook &gt; https://t.co/znK5041eR1   \n",
       "12811    Have you read #UnderstandingTrump yet? Tell me what you thought &amp; ask questions during my @facebook Live at 4pET.… https://t.co/IuDVeSxsku   \n",
       "11150             LIVE: @VP Biden is urging the Senate to give Judge Merrick Garland a fair hearing and timely up-or-down vote. https://t.co/2vG15zNgNn   \n",
       "4749   Holding #SASC hearing on @USNavy posture &amp; fiscal year 2018 budget request this morning at 9:30AM ET - tune-in live: https://t.co/KF2hilFI0a   \n",
       "12883                              Live from @Nasdaq discussing Understanding Trump now. Ask questions: https://t.co/al4mYAWItR https://t.co/uPvSvIIbx7   \n",
       "14307                                               Live now on @facebook answering questions on Trump vs. Hillary. Ask me a q: https://t.co/BNjqouLH0U   \n",
       "13535                     LIVE on @facebook now with @VanJones68 and @PJK4brainhealth discussing @AORecovery. Ask us questions: https://t.co/5V6U5syAaJ   \n",
       "1737                                                                     Join me live in Reno, Nevada!\\nhttps://t.co/T4bf1hrxaA https://t.co/EPqRXHa1CM   \n",
       "6283                                                            We're continuing debate on #FY17NDAA this morning - watch live: https://t.co/oUAHhRXkiI   \n",
       "2927                                   .@FLOTUS is in New Hampshire talking about what's at stake in this election. Watch live: https://t.co/NLhXJtQYOj   \n",
       "12614                    Hosting a @facebook live at 4pET today on Defending America. Submit questions: https://t.co/cs67XUe4eU https://t.co/QoAtq8zYs3   \n",
       "14419                                           Here we go! Live now on @facebook talking #trump, #hillary, #2016. Ask a q &gt; https://t.co/xCBNWJFN71   \n",
       "13772           Will be LIVE on @facebook at 12pET to share my debate predictions. Submit q's: https://t.co/zHCZX57xIJ #debates https://t.co/1hnnqy6JFH   \n",
       "14060                           .@HillaryClinton lies about everything, her foreign policy is a disaster. Live on @facebook now https://t.co/2A5EFFQVaD   \n",
       "19549        I'm live with @MayorLevine in Miami Beach to discuss the steps our cities are taking to honor the Paris Agreement. https://t.co/1Wxh9MRidX   \n",
       "4216                                              Happening now: #SASC hearing on recent @USNavy incidents at sea - watch live: https://t.co/FBaN893yr5   \n",
       "12977                                                                       Joining @seanhannity next at 10:30pET to discuss #comey. Watch on @FoxNews.   \n",
       "14468                                                                        Talking with @seanhannity after @realDonaldTrump speaks. Watch on @FoxNews   \n",
       "13947                                  Hillary is a symptom of a larger system of establishment failure. Live on @facebook now: https://t.co/jXlomFC2aw   \n",
       "13361                                   .@PJK4brainhealth and I are LIVE on @facebook discussing @AORecovery with @TIME. Watch: https://t.co/ugym38QH9J   \n",
       "11735                                                         LIVE: Watch as @Pontifex is welcomed to the White House. http://t.co/ZFiuZHzv1c #PopeInDC   \n",
       "2763                       With just 19 days left in this campaign, @FLOTUS hits the trail for Hillary in Arizona. Watch live → https://t.co/D8ELAkkMcd   \n",
       "12786                                                                     Live on Facebook: Happy Fourth of July from Paris! 🇺🇸 https://t.co/vp1TybGhrX   \n",
       "13856                           Live  on @facebook now discussing my trip to the #zoo today. Will discuss rigged economy next.  https://t.co/s9IWtPOIKM   \n",
       "\n",
       "                Author  MiniBatchLabels  \n",
       "13597     newtgingrich                3  \n",
       "13133     newtgingrich                3  \n",
       "12811     newtgingrich                3  \n",
       "11150      BarackObama                3  \n",
       "4749     SenJohnMcCain                3  \n",
       "12883     newtgingrich                3  \n",
       "14307     newtgingrich                3  \n",
       "13535     newtgingrich                3  \n",
       "1737   realDonaldTrump                3  \n",
       "6283     SenJohnMcCain                3  \n",
       "2927    HillaryClinton                3  \n",
       "12614     newtgingrich                3  \n",
       "14419     newtgingrich                3  \n",
       "13772     newtgingrich                3  \n",
       "14060     newtgingrich                3  \n",
       "19549         NYCMayor                3  \n",
       "4216     SenJohnMcCain                3  \n",
       "12977     newtgingrich                3  \n",
       "14468     newtgingrich                3  \n",
       "13947     newtgingrich                3  \n",
       "13361     newtgingrich                3  \n",
       "11735      BarackObama                3  \n",
       "2763    HillaryClinton                3  \n",
       "12786     newtgingrich                3  \n",
       "13856     newtgingrich                3  "
      ]
     },
     "execution_count": 57,
     "metadata": {},
     "output_type": "execute_result"
    }
   ],
   "source": [
    "#Cluster 3\n",
    "shuffle(tweet_df[tweet_df.MiniBatchLabels == 3]).head(25)"
   ]
  },
  {
   "cell_type": "markdown",
   "metadata": {},
   "source": [
    "# Using K-Means MiniBatch Labels as predictors in my model"
   ]
  },
  {
   "cell_type": "code",
   "execution_count": 252,
   "metadata": {},
   "outputs": [],
   "source": [
    "X_train, X_test, y_train, y_test = train_test_split(tweet_df['Tweets'], tweet_df['Author'], test_size = 0.25, random_state = 42)\n",
    "\n",
    "\n",
    "X_train_norm_tfidf = normalize(vectorizer1.fit_transform(X_train))\n",
    "X_test_norm_tfidf = normalize(vectorizer1.transform(X_test))\n",
    "\n",
    "true_k = 10\n",
    "km = MiniBatchKMeans(n_clusters=true_k, init='k-means++', batch_size=5000)\n",
    "\n",
    "km.fit(X_train_norm_tfidf)\n",
    "km_train_label = km.labels_\n",
    "km_test_label = km.predict(X_test_norm_tfidf)"
   ]
  },
  {
   "cell_type": "code",
   "execution_count": 263,
   "metadata": {},
   "outputs": [],
   "source": [
    "X_train_new_km = pd.concat([X_train_new, pd.DataFrame(km_train_label, columns = ['Cluster'])], axis = 1)\n",
    "X_test_new_km = pd.concat([X_test_new, pd.DataFrame(km_test_label, columns = ['Cluster'])], axis = 1)"
   ]
  },
  {
   "cell_type": "code",
   "execution_count": 267,
   "metadata": {},
   "outputs": [
    {
     "name": "stdout",
     "output_type": "stream",
     "text": [
      "Training set score: 0.831301587302\n",
      "\n",
      "Test set score: 0.702857142857\n"
     ]
    }
   ],
   "source": [
    "#Try a GBM classifier using the TF-IDF CENTROID approach above, with added features from K-Means Mini-Batch\n",
    "\n",
    "clf = ensemble.GradientBoostingClassifier()\n",
    "train = clf.fit(X_train_new_km, y_train)\n",
    "y_pred = clf.predict(X_test_new_km)\n",
    "\n",
    "print('Training set score:', clf.score(X_train_new_km, y_train))\n",
    "print('\\nTest set score:', clf.score(X_test_new_km, y_test))"
   ]
  },
  {
   "cell_type": "markdown",
   "metadata": {},
   "source": [
    "# Latent Semantic Analysis (LSA)"
   ]
  },
  {
   "cell_type": "code",
   "execution_count": 58,
   "metadata": {},
   "outputs": [
    {
     "name": "stdout",
     "output_type": "stream",
     "text": [
      "Percent variance captured by all components: 10.5202082219\n",
      "Component 0:\n",
      "Tweets\n",
      "Great to see President @BarackObama prioritizing #ClimateChange &amp; @ClimateRisk in his new budget http://t.co/GYQfWzPpzY #ActOnClimate    0.615672\n",
      "LIVE: President Obama is talking about the success of the Affordable Care Act. http://t.co/33ShdBN7sC                                        0.592541\n",
      "LIVE: President Obama is speaking to youth and local law enforcement in New Jersey. http://t.co/Mp3KIk8WO2                                   0.591184\n",
      "LIVE: President Obama speaks at the City Club of Cleveland about the importance of middle-class economics. http://t.co/JvJtGuIwTL            0.589369\n",
      "\"Too often, where people live determines what opportunities they have in life.\" —President Obama http://t.co/pQyCEWlxBr                      0.584259\n",
      "Name: 0, dtype: float64\n",
      "\n",
      "Component 1:\n",
      "Tweets\n",
      "#ClimateChangeIsReal. So are the actions President Obama is taking to tackle it. http://t.co/63jKisj8ZS                                         0.770759\n",
      "Go behind the lens with @PeteSouza's photo gallery from President Obama's recent trip to Alaska. http://t.co/cisonNXKnY                         0.767918\n",
      "Happening now: President Obama delivers remarks for the launch of the My Brother's Keeper Alliance at @LehmanCollege. http://t.co/Rh8KgadI7g    0.766056\n",
      "Since President Obama took office, the deficit has been reduced by more than two-thirds. http://t.co/lpOOBKxN5d                                 0.763937\n",
      "\"There’s nothing principled about the idea of another government shutdown.\" —President Obama http://t.co/P7dlz9Q0V9                             0.763925\n",
      "Name: 1, dtype: float64\n",
      "\n",
      "Component 2:\n",
      "Tweets\n",
      "Live on @facebook from the room where Calvin Coolidge was nominated for president in 1924. #cleveland #RNCinCLE https://t.co/pzBSG55zFU    0.812818\n",
      "Live on @facebook now discussing #obama chicago trip https://t.co/UOn7JiPR5J                                                               0.804348\n",
      "Talking #election2016, #Canada and more with @CABC_co live on @facebook now: https://t.co/X5kCQwiipC                                       0.785812\n",
      "Live on @facebook with @Greta in the Q @GOPconvention #RNCinCLE https://t.co/Brcqe4pzmf https://t.co/xTrWzJ4Zsy                            0.784903\n",
      "Live on @facebook from @foxandfriends https://t.co/mooPlbhDj9                                                                              0.783634\n",
      "Name: 2, dtype: float64\n",
      "\n",
      "Component 3:\n",
      "Tweets\n",
      "Joining @TomSteyer &amp; Hank Paulson to release the Risky Business report. Live feed: http://t.co/94Lzq0YYSe  #ClimateChange                       0.602918\n",
      "Join us in one hour for a chat on cities &amp; combating #ClimateChange. Submit your questions using #AskMike @UN http://t.co/GuwuErBgE2            0.549636\n",
      "Glad to share the stage with @MayorofLondon at #CityLab2015 &amp; discuss innovation in our two great cities http://t.co/DP64jOCWGf                 0.539537\n",
      "Have a question on cities &amp; #ClimateChange? Join our Twitter chat on Friday using #AskMike @UN http://t.co/lbrZ1YwYXk http://t.co/WCaGxzeCwp    0.536330\n",
      "Great to have @ariannahuff &amp; Patti Harris kick off #CityLab2015 w/@BloombergDotOrg's Mayors Innovation Studio http://t.co/7cGeWsBfEu            0.533794\n",
      "Name: 3, dtype: float64\n",
      "\n",
      "Component 4:\n",
      "Tweets\n",
      "New York City's bodega owners are bravely shutting their doors to oppose the president's shameful executive order.… https://t.co/AOcxVWM90y    0.820801\n",
      "New York City responds to the president's budget: https://t.co/mBsWDMcJeH                                                                      0.818499\n",
      "New York stands with you, Jimmy. #NotInOurCity https://t.co/qCiwBQ3n6g                                                                         0.817417\n",
      "New Yorkers deserve safe and affordable places to live. Why? Because New York City is for everyone. https://t.co/3gd8u5QGQF                    0.817080\n",
      "We call them New York's finest for a reason. https://t.co/NxD96BlAO8                                                                           0.812794\n",
      "Name: 4, dtype: float64\n",
      "\n",
      "Component 5:\n",
      "Tweets\n",
      "The question we ask ourselves should be: \"How can we provide health care to all our people?\" not \"How many should we throw off health care?\"       0.816833\n",
      "Nothing is more important than saving the Affordable Care Act from another cruel effort to take health care away from millions of people.          0.815946\n",
      "How can you call something \"health care reform” when 24 million people lose their health insurance?                                                0.812999\n",
      "Cruz’s health care plan:\\n✅ Throw 20 million off health care\\n✅ Increase drug prices\\n✅ Deny health care to people with pre-existing conditions    0.810107\n",
      "We have to ensure health care as a right, not give the wealthy $346B in tax breaks while 32 million people are thrown off health insurance.        0.809568\n",
      "Name: 5, dtype: float64\n",
      "\n",
      "Component 6:\n",
      "Tweets\n",
      "the Democrats’ attempts to undermine Trump’s win are getting desperate when even Jeb Bush laughs them off\\nhttp:https://t.co/yrK7eTRTO6        0.616585\n",
      "The Trump Effect, in real number$. https://t.co/hINjYHKCaU                                                                                     0.550992\n",
      "Margaret Thatcher, much more than Ronald Reagan, is the real model for the #Trump presidency.… https://t.co/pSMZ4EGzX9                         0.540250\n",
      "\"@PrisonPlanet: Trump accuser praised him in an email as recently as April! This is all yet another hoax. https://t.co/tcKzmIKpfS\" Terrible    0.539736\n",
      "Even if Trump's bullying, bigotry, and misogyny weren't disqualifying, his policies would be. https://t.co/9WyNBzycQc                          0.526717\n",
      "Name: 6, dtype: float64\n",
      "\n",
      "Component 7:\n",
      "Tweets\n",
      "We CAN make America great again. #RNCinCLE #AmericaFirst https://t.co/MLqUVC8KiV    0.644028\n",
      "MAKE AMERICA GREAT AGAIN!                                                           0.639010\n",
      "MAKE AMERICA GREAT AGAIN!                                                           0.639010\n",
      "MAKE AMERICA GREAT AGAIN! https://t.co/RzePiucV3h                                   0.639010\n",
      "MAKE AMERICA GREAT AGAIN!                                                           0.639010\n",
      "Name: 7, dtype: float64\n",
      "\n",
      "Component 8:\n",
      "Tweets\n",
      "Get the facts on everything from a fair #SCOTUS nomination process to climate change: https://t.co/jCZzreLARW https://t.co/qnB5GLM8eC          0.775778\n",
      "97 percent of climate scientists agree: Climate change is real and man-made. #ActOnClimate https://t.co/UaCZus7uv6                             0.762162\n",
      "97 percent of climate scientists agree—climate change is real and man-made. Stand up for bold action: https://t.co/F0IC4JUfn1 #ActOnClimate    0.761664\n",
      "Add your name if you support global efforts to tackle climate change: https://t.co/IQJzH7sb2C                                                  0.759668\n",
      "This is scary stuff, above and beyond all else. We have a political party which has turned its back on science regarding climate change.       0.759080\n",
      "Name: 8, dtype: float64\n",
      "\n",
      "Component 9:\n",
      "Tweets\n",
      "The Supreme Court must remain above politics. Judge Garland needs a hearing and a vote. #DoYourJob https://t.co/eVSPSIFNpB                  0.661925\n",
      "Senate leaders are weakening our highest court by refusing to vote on Judge Garland. https://t.co/FPgZJBQKL5 #DoYourJob                     0.653430\n",
      "There has never been a more qualified nominee, Senate leaders. He deserves a fair hearing and a vote. #DoYourJob https://t.co/qtzcY3iwyl    0.652791\n",
      "Speak up for a fair nomination process and a timely vote by the Senate—sign @OFA's petition: https://t.co/HlQMqNYhVr #DoYourJob             0.652720\n",
      "Check out the most recent editorial boards calling on Senate leaders to vote on Judge Garland: https://t.co/hzuhZYevfo #DoYourJob           0.651014\n",
      "Name: 9, dtype: float64\n",
      "\n"
     ]
    }
   ],
   "source": [
    "#Our SVD data reducer.  We are going to reduce the feature space to 50 dimensions\n",
    "svd= TruncatedSVD(50)\n",
    "\n",
    "#Truncated SVD works on sparse matrices, per http://scikit-learn.org/stable/modules/generated/sklearn.decomposition.TruncatedSVD.html\n",
    "\n",
    "#This transformer performs linear dimensionality reduction by means of truncated singular value decomposition (SVD). \n",
    "#Contrary to PCA, this estimator does not center the data before computing the singular value decomposition. \n",
    "#This means it can work with scipy.sparse matrices efficiently.\n",
    "\n",
    "#Truncate and then Normalize samples individually to unit norm.\n",
    "lsa = make_pipeline(svd, Normalizer(copy=False))\n",
    "\n",
    "# Run SVD on the training data, then project the training data.\n",
    "X_train_lsa = lsa.fit_transform(X_train_tfidf)\n",
    "X_test_lsa = lsa.transform(X_test_tfidf)\n",
    "\n",
    "variance_explained=svd.explained_variance_ratio_\n",
    "total_variance = variance_explained.sum()\n",
    "print(\"Percent variance captured by all components:\",total_variance*100)\n",
    "\n",
    "#Looking at what sorts of tweets our solution considers similar, for the first 10 identified topics (aka Truncated features)\n",
    "\n",
    "#will print the top 5 scores for each feature\n",
    "\n",
    "tweet_components = pd.DataFrame(X_train_lsa,index=X_train)\n",
    "tweet_components['Author'] = list(y_train)\n",
    "for i in range(10):\n",
    "    print('Component {}:'.format(i))\n",
    "    print(tweet_components.loc[:,i].sort_values(ascending=False)[0:5])\n",
    "    print('')"
   ]
  },
  {
   "cell_type": "markdown",
   "metadata": {},
   "source": [
    "Try directly adding these 50 new clusters to the prior best feature set (which included centroid cosine similarities) to see if the model benefits."
   ]
  },
  {
   "cell_type": "code",
   "execution_count": 59,
   "metadata": {
    "collapsed": true
   },
   "outputs": [],
   "source": [
    "X_train_lsa_df = pd.DataFrame(X_train_lsa)\n",
    "X_test_lsa_df = pd.DataFrame(X_test_lsa)"
   ]
  },
  {
   "cell_type": "code",
   "execution_count": 208,
   "metadata": {},
   "outputs": [
    {
     "name": "stdout",
     "output_type": "stream",
     "text": [
      "Training set score: 0.992761904762\n",
      "\n",
      "Test set score: 0.558285714286\n"
     ]
    }
   ],
   "source": [
    "X_train_new_v2 = pd.concat([X_train_new, X_train_lsa_df], axis = 1)\n",
    "X_test_new_v2 = pd.concat([X_test_new, X_test_lsa_df], axis = 1)\n",
    "\n",
    "fit = rfc.fit(X_train_new_v2, y_train)\n",
    "y_pred = rfc.predict(X_test_new_v2)\n",
    "\n",
    "print('Training set score:', rfc.score(X_train_new_v2, y_train))\n",
    "print('\\nTest set score:', rfc.score(X_test_new_v2, y_test))"
   ]
  },
  {
   "cell_type": "markdown",
   "metadata": {},
   "source": [
    "Yikes, these new features did not help at all - RFC model performance suffered a drop of about 10% in accuracy. How about the GBM model we built, which had 70% accuracy?"
   ]
  },
  {
   "cell_type": "code",
   "execution_count": 210,
   "metadata": {},
   "outputs": [
    {
     "name": "stdout",
     "output_type": "stream",
     "text": [
      "Training set score: 0.842031746032\n",
      "\n",
      "Test set score: 0.704952380952\n"
     ]
    }
   ],
   "source": [
    "#Try a GBM classifier using the TF-IDF CENTROID approach above, with added features from LSA\n",
    "\n",
    "clf = ensemble.GradientBoostingClassifier()\n",
    "train = clf.fit(X_train_new_v2, y_train)\n",
    "y_pred = clf.predict(X_test_new_v2)\n",
    "\n",
    "print('Training set score:', clf.score(X_train_new_v2, y_train))\n",
    "print('\\nTest set score:', clf.score(X_test_new_v2, y_test))"
   ]
  },
  {
   "cell_type": "code",
   "execution_count": 91,
   "metadata": {},
   "outputs": [
    {
     "name": "stdout",
     "output_type": "stream",
     "text": [
      "Training set score: 0.831873015873\n",
      "\n",
      "Test set score: 0.716\n"
     ]
    }
   ],
   "source": [
    "#Try a logistic classifier using the TF-IDF CENTROID approach above, with added features from LSA\n",
    "\n",
    "logit = LogisticRegression()\n",
    "train = logit.fit(X_train_new_v2, y_train)\n",
    "logit_y_pred = logit.predict(X_test_new_v2)\n",
    "\n",
    "print('Training set score:', logit.score(X_train_new_v2, y_train))\n",
    "print('\\nTest set score:', logit.score(X_test_new_v2, y_test))"
   ]
  },
  {
   "cell_type": "markdown",
   "metadata": {},
   "source": [
    "After adding the LSA features to the TF-IDF + Centroid data, we saw a marginal improvement in the train and test set accuracies (1% and 0.5%, respectively). We will include them in future models."
   ]
  },
  {
   "cell_type": "markdown",
   "metadata": {},
   "source": [
    "Future next steps (not attempted here for brevity purposes): use cosine-similarity to find which training set tweet (on the reduced dimensionality set) closest resembles the test set tweet we are providing. We can take that score and use it as a feature. We could have dummy variables for all 10 authors, with the cosine similarity score for the author with the closest tweet match and zeros in the remaining 9 author variables. We could also emply a centroid-like approach that we used before, but this time the centroid would be defined on the reduced feature space.\n"
   ]
  },
  {
   "cell_type": "markdown",
   "metadata": {},
   "source": [
    "LSA, like K-Means, seems to have clustered tweets around specific words (\"LIVE:\", \"Live on @facebook\", \"President Obama\", etc) rather than about actual topics. Perhaps we are asking too much of the algorithms, or perhaps there are other algorithms that might serve our purposes better. Let's try LDA - Latent Dirichlet Allocation, which finds words that tend to occur together in topics."
   ]
  },
  {
   "cell_type": "markdown",
   "metadata": {},
   "source": [
    "# Experimenting with Topic Identification via LDA (Latent Dirichlet Allocation)"
   ]
  },
  {
   "cell_type": "markdown",
   "metadata": {},
   "source": [
    "LDA makes two assumptions:\n",
    "   1) Words carry strong semantic information, and that documents discussing similar topics will use a similar group of words.\n",
    "      Latent topics are then discovered by finding groups of words that frequently occur together within documents.\n",
    "      \n",
    "   2) Documents are probability distributions of topics, and topics are probability distributions of words.\n",
    "\n",
    "Relevant Links:\n",
    "\n",
    "https://rpubs.com/barberje/LDA\n",
    "\n",
    "https://medium.com/@aneesha/topic-modeling-with-scikit-learn-e80d33668730\n",
    "\n",
    "https://www.youtube.com/watch?v=3mHy4OSyRf0\n",
    "\n",
    "Ways to evaluate: cosine similarity, predicted perplexity (lower is better)"
   ]
  },
  {
   "cell_type": "code",
   "execution_count": 63,
   "metadata": {},
   "outputs": [],
   "source": [
    "#The gensim LDA model takes a corpus document that is supposed to be a list consisting\n",
    "#of a \"bag of words\" for each doc, in the form of a tuple\n",
    "\n",
    "def bag_of_words_gen(doc):\n",
    "    tweets_full = nlp(doc)\n",
    "    allwords = (token.lemma_ for token in tweets_full if not token.is_stop and not token.is_punct and not token.like_url and \n",
    "                not token.like_num and not token.is_space and token.is_ascii and len(token.lemma_) > 1)\n",
    "\n",
    "    #Let's clean this up a bit \n",
    "    replace_words = [r'/n', r'\\\\n', r'\\n', r'--', r'-', 'https:\\/\\/t\\.co\\/[\\w\\d]+', r'&amp', r'&', \"amp\", \n",
    "                     r'w/', \"'s\", r'not', \"n't\"]\n",
    "    allwords = [re.sub('|'.join(replace_words), '', word) for word in allwords]\n",
    "    \n",
    "    allwords = ' '.join(allwords)\n",
    "    allwords = nlp(allwords)\n",
    "    \n",
    "    allwords = (token.lemma_ for token in allwords if not token.is_stop and not token.is_punct and not token.like_url and \n",
    "                not token.like_num and not token.is_space and token.is_ascii and len(token.lemma_) > 1)\n",
    "    \n",
    "    return allwords\n",
    "\n",
    "\n",
    "texts = []\n",
    "for tweet in X_train:\n",
    "    texts.append(list(bag_of_words_gen(tweet)))"
   ]
  },
  {
   "cell_type": "code",
   "execution_count": 64,
   "metadata": {
    "scrolled": false
   },
   "outputs": [
    {
     "data": {
      "text/html": [
       "\n",
       "<link rel=\"stylesheet\" type=\"text/css\" href=\"https://cdn.rawgit.com/bmabey/pyLDAvis/files/ldavis.v1.0.0.css\">\n",
       "\n",
       "\n",
       "<div id=\"ldavis_el3186831755539027767029762402\"></div>\n",
       "<script type=\"text/javascript\">\n",
       "\n",
       "var ldavis_el3186831755539027767029762402_data = {\"mdsDat\": {\"Freq\": [7.519081639717179, 7.208308170473342, 6.297958843871124, 5.814716764622894, 5.420069183643984, 5.359163236856138, 5.326537000409792, 5.205587725387537, 5.182530614482852, 5.08411094240638, 5.03937736953137, 4.561704606496445, 4.522755444719433, 4.426777530214722, 4.147583552766054, 4.026575949851339, 3.9820029055229105, 3.7940362667116436, 3.6300135993433456, 3.451108652971517], \"cluster\": [1, 1, 1, 1, 1, 1, 1, 1, 1, 1, 1, 1, 1, 1, 1, 1, 1, 1, 1, 1], \"topics\": [1, 2, 3, 4, 5, 6, 7, 8, 9, 10, 11, 12, 13, 14, 15, 16, 17, 18, 19, 20], \"x\": [0.10936734189042056, 0.18654641920746445, 0.027003078622048243, 0.19906920112710247, 0.03290702943097279, -0.20127462939052432, 0.10649250426683274, -0.05139961538810732, -0.09587542977182906, 0.18575880135658943, 0.0027865054078648845, -0.111684038390872, -0.057938296283857965, 0.009776255003979335, -0.03614458588108698, -0.03559798263691971, -0.10332829808311514, 0.02227696603102382, -0.08253997777519034, -0.10620124874279656], \"y\": [-0.011926929360830072, -0.13928068806354965, -0.20687749806504863, 0.03065651558685556, 0.20483511069985683, -0.094292758029451, 0.0005131520368356236, -0.024526644639537857, -0.06786522976772404, 0.004600975050171031, 0.09741105475447369, -0.08361482911395471, -0.07114777797626591, -0.1090001187999118, -0.04978180352317281, 0.09655156306678338, 0.06530099242899513, 0.1914011773630658, 0.06633447828407045, 0.10070925806833954]}, \"tinfo\": {\"Category\": [\"Default\", \"Default\", \"Default\", \"Default\", \"Default\", \"Default\", \"Default\", \"Default\", \"Default\", \"Default\", \"Default\", \"Default\", \"Default\", \"Default\", \"Default\", \"Default\", \"Default\", \"Default\", \"Default\", \"Default\", \"Default\", \"Default\", \"Default\", \"Default\", \"Default\", \"Default\", \"Default\", \"Default\", \"Default\", \"Default\", \"Topic1\", \"Topic1\", \"Topic1\", \"Topic1\", \"Topic1\", \"Topic1\", \"Topic1\", \"Topic1\", \"Topic1\", \"Topic1\", \"Topic1\", \"Topic1\", \"Topic1\", \"Topic1\", \"Topic1\", \"Topic1\", \"Topic1\", \"Topic1\", \"Topic1\", \"Topic1\", \"Topic1\", \"Topic1\", \"Topic1\", \"Topic1\", \"Topic1\", \"Topic1\", \"Topic1\", \"Topic1\", \"Topic1\", \"Topic1\", \"Topic1\", \"Topic1\", \"Topic1\", \"Topic1\", \"Topic1\", \"Topic1\", \"Topic1\", \"Topic1\", \"Topic1\", \"Topic1\", \"Topic1\", \"Topic1\", \"Topic1\", \"Topic1\", \"Topic1\", \"Topic1\", \"Topic1\", \"Topic1\", \"Topic1\", \"Topic1\", \"Topic1\", \"Topic1\", \"Topic1\", \"Topic1\", \"Topic1\", \"Topic1\", \"Topic1\", \"Topic2\", \"Topic2\", \"Topic2\", \"Topic2\", \"Topic2\", \"Topic2\", \"Topic2\", \"Topic2\", \"Topic2\", \"Topic2\", \"Topic2\", \"Topic2\", \"Topic2\", \"Topic2\", \"Topic2\", \"Topic2\", \"Topic2\", \"Topic2\", \"Topic2\", \"Topic2\", \"Topic2\", \"Topic2\", \"Topic2\", \"Topic2\", \"Topic2\", \"Topic2\", \"Topic2\", \"Topic2\", \"Topic2\", \"Topic2\", \"Topic2\", \"Topic2\", \"Topic2\", \"Topic2\", \"Topic2\", \"Topic2\", \"Topic2\", \"Topic2\", \"Topic2\", \"Topic2\", \"Topic2\", \"Topic2\", \"Topic2\", \"Topic2\", \"Topic2\", \"Topic2\", \"Topic2\", \"Topic2\", \"Topic2\", \"Topic2\", \"Topic2\", \"Topic2\", \"Topic2\", \"Topic2\", \"Topic2\", \"Topic2\", \"Topic2\", \"Topic2\", \"Topic2\", \"Topic2\", \"Topic2\", \"Topic2\", \"Topic3\", \"Topic3\", \"Topic3\", \"Topic3\", \"Topic3\", \"Topic3\", \"Topic3\", \"Topic3\", \"Topic3\", \"Topic3\", \"Topic3\", \"Topic3\", \"Topic3\", \"Topic3\", \"Topic3\", \"Topic3\", \"Topic3\", \"Topic3\", \"Topic3\", \"Topic3\", \"Topic3\", \"Topic3\", \"Topic3\", \"Topic3\", \"Topic3\", \"Topic3\", \"Topic3\", \"Topic3\", \"Topic3\", \"Topic3\", \"Topic3\", \"Topic3\", \"Topic3\", \"Topic3\", \"Topic3\", \"Topic3\", \"Topic3\", \"Topic3\", \"Topic3\", \"Topic3\", \"Topic3\", \"Topic3\", \"Topic3\", \"Topic3\", \"Topic3\", \"Topic3\", \"Topic3\", \"Topic3\", \"Topic3\", \"Topic3\", \"Topic3\", \"Topic3\", \"Topic3\", \"Topic3\", \"Topic3\", \"Topic3\", \"Topic3\", \"Topic3\", \"Topic4\", \"Topic4\", \"Topic4\", \"Topic4\", \"Topic4\", \"Topic4\", \"Topic4\", \"Topic4\", \"Topic4\", \"Topic4\", \"Topic4\", \"Topic4\", \"Topic4\", \"Topic4\", \"Topic4\", \"Topic4\", \"Topic4\", \"Topic4\", \"Topic4\", \"Topic4\", \"Topic4\", \"Topic4\", \"Topic4\", \"Topic4\", \"Topic4\", \"Topic4\", \"Topic4\", \"Topic4\", \"Topic4\", \"Topic4\", \"Topic4\", \"Topic4\", \"Topic4\", \"Topic4\", \"Topic4\", \"Topic4\", \"Topic4\", \"Topic4\", \"Topic4\", \"Topic4\", \"Topic4\", \"Topic4\", \"Topic4\", \"Topic4\", \"Topic4\", \"Topic4\", \"Topic4\", \"Topic4\", \"Topic4\", \"Topic4\", \"Topic4\", \"Topic4\", \"Topic4\", \"Topic5\", \"Topic5\", \"Topic5\", \"Topic5\", \"Topic5\", \"Topic5\", \"Topic5\", \"Topic5\", \"Topic5\", \"Topic5\", \"Topic5\", \"Topic5\", \"Topic5\", \"Topic5\", \"Topic5\", \"Topic5\", \"Topic5\", \"Topic5\", \"Topic5\", \"Topic5\", \"Topic5\", \"Topic5\", \"Topic5\", \"Topic5\", \"Topic5\", \"Topic5\", \"Topic5\", \"Topic5\", \"Topic5\", \"Topic5\", \"Topic5\", \"Topic5\", \"Topic5\", \"Topic5\", \"Topic5\", \"Topic5\", \"Topic5\", \"Topic5\", \"Topic5\", \"Topic5\", \"Topic5\", \"Topic5\", \"Topic5\", \"Topic5\", \"Topic5\", \"Topic5\", \"Topic5\", \"Topic5\", \"Topic5\", \"Topic5\", \"Topic5\", \"Topic5\", \"Topic5\", \"Topic5\", \"Topic5\", \"Topic6\", \"Topic6\", \"Topic6\", \"Topic6\", \"Topic6\", \"Topic6\", \"Topic6\", \"Topic6\", \"Topic6\", \"Topic6\", \"Topic6\", \"Topic6\", \"Topic6\", \"Topic6\", \"Topic6\", \"Topic6\", \"Topic6\", \"Topic6\", \"Topic6\", \"Topic6\", \"Topic6\", \"Topic6\", \"Topic6\", \"Topic6\", \"Topic6\", \"Topic6\", \"Topic6\", \"Topic6\", \"Topic6\", \"Topic6\", \"Topic6\", \"Topic6\", \"Topic6\", \"Topic6\", \"Topic6\", \"Topic6\", \"Topic6\", \"Topic6\", \"Topic6\", \"Topic6\", \"Topic6\", \"Topic6\", \"Topic6\", \"Topic6\", \"Topic6\", \"Topic6\", \"Topic6\", \"Topic6\", \"Topic6\", \"Topic6\", \"Topic6\", \"Topic6\", \"Topic6\", \"Topic6\", \"Topic6\", \"Topic7\", \"Topic7\", \"Topic7\", \"Topic7\", \"Topic7\", \"Topic7\", \"Topic7\", \"Topic7\", \"Topic7\", \"Topic7\", \"Topic7\", \"Topic7\", \"Topic7\", \"Topic7\", \"Topic7\", \"Topic7\", \"Topic7\", \"Topic7\", \"Topic7\", \"Topic7\", \"Topic7\", \"Topic7\", \"Topic7\", \"Topic7\", \"Topic7\", \"Topic7\", \"Topic7\", \"Topic7\", \"Topic7\", \"Topic7\", \"Topic7\", \"Topic7\", \"Topic7\", \"Topic7\", \"Topic7\", \"Topic7\", \"Topic7\", \"Topic7\", \"Topic7\", \"Topic7\", \"Topic7\", \"Topic7\", \"Topic7\", \"Topic7\", \"Topic7\", \"Topic7\", \"Topic7\", \"Topic7\", \"Topic7\", \"Topic7\", \"Topic7\", \"Topic8\", \"Topic8\", \"Topic8\", \"Topic8\", \"Topic8\", \"Topic8\", \"Topic8\", \"Topic8\", \"Topic8\", \"Topic8\", \"Topic8\", \"Topic8\", \"Topic8\", \"Topic8\", \"Topic8\", \"Topic8\", \"Topic8\", \"Topic8\", \"Topic8\", \"Topic8\", \"Topic8\", \"Topic8\", \"Topic8\", \"Topic8\", \"Topic8\", \"Topic8\", \"Topic8\", \"Topic8\", \"Topic8\", \"Topic8\", \"Topic8\", \"Topic8\", \"Topic8\", \"Topic8\", \"Topic8\", \"Topic8\", \"Topic8\", \"Topic8\", \"Topic8\", \"Topic8\", \"Topic8\", \"Topic8\", \"Topic8\", \"Topic8\", \"Topic8\", \"Topic8\", \"Topic8\", \"Topic8\", \"Topic8\", \"Topic8\", \"Topic8\", \"Topic8\", \"Topic8\", \"Topic8\", \"Topic8\", \"Topic8\", \"Topic8\", \"Topic9\", \"Topic9\", \"Topic9\", \"Topic9\", \"Topic9\", \"Topic9\", \"Topic9\", \"Topic9\", \"Topic9\", \"Topic9\", \"Topic9\", \"Topic9\", \"Topic9\", \"Topic9\", \"Topic9\", \"Topic9\", \"Topic9\", \"Topic9\", \"Topic9\", \"Topic9\", \"Topic9\", \"Topic9\", \"Topic9\", \"Topic9\", \"Topic9\", \"Topic9\", \"Topic9\", \"Topic9\", \"Topic9\", \"Topic9\", \"Topic9\", \"Topic9\", \"Topic9\", \"Topic9\", \"Topic9\", \"Topic9\", \"Topic9\", \"Topic9\", \"Topic9\", \"Topic9\", \"Topic9\", \"Topic9\", \"Topic9\", \"Topic9\", \"Topic9\", \"Topic9\", \"Topic9\", \"Topic9\", \"Topic9\", \"Topic9\", \"Topic9\", \"Topic9\", \"Topic9\", \"Topic10\", \"Topic10\", \"Topic10\", \"Topic10\", \"Topic10\", \"Topic10\", \"Topic10\", \"Topic10\", \"Topic10\", \"Topic10\", \"Topic10\", \"Topic10\", \"Topic10\", \"Topic10\", \"Topic10\", \"Topic10\", \"Topic10\", \"Topic10\", \"Topic10\", \"Topic10\", \"Topic10\", \"Topic10\", \"Topic10\", \"Topic10\", \"Topic10\", \"Topic10\", \"Topic10\", \"Topic10\", \"Topic10\", \"Topic10\", \"Topic10\", \"Topic10\", \"Topic10\", \"Topic10\", \"Topic10\", \"Topic10\", \"Topic10\", \"Topic10\", \"Topic10\", \"Topic10\", \"Topic10\", \"Topic10\", \"Topic10\", \"Topic10\", \"Topic10\", \"Topic10\", \"Topic10\", \"Topic10\", \"Topic10\", \"Topic10\", \"Topic10\", \"Topic10\", \"Topic11\", \"Topic11\", \"Topic11\", \"Topic11\", \"Topic11\", \"Topic11\", \"Topic11\", \"Topic11\", \"Topic11\", \"Topic11\", \"Topic11\", \"Topic11\", \"Topic11\", \"Topic11\", \"Topic11\", \"Topic11\", \"Topic11\", \"Topic11\", \"Topic11\", \"Topic11\", \"Topic11\", \"Topic11\", \"Topic11\", \"Topic11\", \"Topic11\", \"Topic11\", \"Topic11\", \"Topic11\", \"Topic11\", \"Topic11\", \"Topic11\", \"Topic11\", \"Topic11\", \"Topic11\", \"Topic11\", \"Topic11\", \"Topic11\", \"Topic11\", \"Topic11\", \"Topic11\", \"Topic11\", \"Topic11\", \"Topic11\", \"Topic11\", \"Topic11\", \"Topic11\", \"Topic12\", \"Topic12\", \"Topic12\", \"Topic12\", \"Topic12\", \"Topic12\", \"Topic12\", \"Topic12\", \"Topic12\", \"Topic12\", \"Topic12\", \"Topic12\", \"Topic12\", \"Topic12\", \"Topic12\", \"Topic12\", \"Topic12\", \"Topic12\", \"Topic12\", \"Topic12\", \"Topic12\", \"Topic12\", \"Topic12\", \"Topic12\", \"Topic12\", \"Topic12\", \"Topic12\", \"Topic12\", \"Topic12\", \"Topic12\", \"Topic12\", \"Topic12\", \"Topic12\", \"Topic12\", \"Topic12\", \"Topic12\", \"Topic12\", \"Topic12\", \"Topic12\", \"Topic12\", \"Topic12\", \"Topic12\", \"Topic12\", \"Topic12\", \"Topic12\", \"Topic12\", \"Topic12\", \"Topic12\", \"Topic12\", \"Topic12\", \"Topic13\", \"Topic13\", \"Topic13\", \"Topic13\", \"Topic13\", \"Topic13\", \"Topic13\", \"Topic13\", \"Topic13\", \"Topic13\", \"Topic13\", \"Topic13\", \"Topic13\", \"Topic13\", \"Topic13\", \"Topic13\", \"Topic13\", \"Topic13\", \"Topic13\", \"Topic13\", \"Topic13\", \"Topic13\", \"Topic13\", \"Topic13\", \"Topic13\", \"Topic13\", \"Topic13\", \"Topic13\", \"Topic13\", \"Topic13\", \"Topic13\", \"Topic13\", \"Topic13\", \"Topic13\", \"Topic13\", \"Topic13\", \"Topic13\", \"Topic13\", \"Topic13\", \"Topic13\", \"Topic13\", \"Topic13\", \"Topic13\", \"Topic13\", \"Topic13\", \"Topic13\", \"Topic13\", \"Topic13\", \"Topic13\", \"Topic13\", \"Topic13\", \"Topic13\", \"Topic13\", \"Topic13\", \"Topic13\", \"Topic13\", \"Topic14\", \"Topic14\", \"Topic14\", \"Topic14\", \"Topic14\", \"Topic14\", \"Topic14\", \"Topic14\", \"Topic14\", \"Topic14\", \"Topic14\", \"Topic14\", \"Topic14\", \"Topic14\", \"Topic14\", \"Topic14\", \"Topic14\", \"Topic14\", \"Topic14\", \"Topic14\", \"Topic14\", \"Topic14\", \"Topic14\", \"Topic14\", \"Topic14\", \"Topic14\", \"Topic14\", \"Topic14\", \"Topic14\", \"Topic14\", \"Topic14\", \"Topic14\", \"Topic14\", \"Topic14\", \"Topic14\", \"Topic14\", \"Topic14\", \"Topic14\", \"Topic14\", \"Topic14\", \"Topic14\", \"Topic14\", \"Topic14\", \"Topic14\", \"Topic14\", \"Topic14\", \"Topic14\", \"Topic14\", \"Topic14\", \"Topic14\", \"Topic14\", \"Topic14\", \"Topic14\", \"Topic14\", \"Topic14\", \"Topic15\", \"Topic15\", \"Topic15\", \"Topic15\", \"Topic15\", \"Topic15\", \"Topic15\", \"Topic15\", \"Topic15\", \"Topic15\", \"Topic15\", \"Topic15\", \"Topic15\", \"Topic15\", \"Topic15\", \"Topic15\", \"Topic15\", \"Topic15\", \"Topic15\", \"Topic15\", \"Topic15\", \"Topic15\", \"Topic15\", \"Topic15\", \"Topic15\", \"Topic15\", \"Topic15\", \"Topic15\", \"Topic15\", \"Topic15\", \"Topic15\", \"Topic15\", \"Topic15\", \"Topic15\", \"Topic15\", \"Topic15\", \"Topic15\", \"Topic15\", \"Topic15\", \"Topic15\", \"Topic15\", \"Topic15\", \"Topic15\", \"Topic15\", \"Topic15\", \"Topic15\", \"Topic15\", \"Topic15\", \"Topic15\", \"Topic15\", \"Topic15\", \"Topic15\", \"Topic15\", \"Topic15\", \"Topic16\", \"Topic16\", \"Topic16\", \"Topic16\", \"Topic16\", \"Topic16\", \"Topic16\", \"Topic16\", \"Topic16\", \"Topic16\", \"Topic16\", \"Topic16\", \"Topic16\", \"Topic16\", \"Topic16\", \"Topic16\", \"Topic16\", \"Topic16\", \"Topic16\", \"Topic16\", \"Topic16\", \"Topic16\", \"Topic16\", \"Topic16\", \"Topic16\", \"Topic16\", \"Topic16\", \"Topic16\", \"Topic16\", \"Topic16\", \"Topic16\", \"Topic16\", \"Topic16\", \"Topic16\", \"Topic16\", \"Topic16\", \"Topic16\", \"Topic16\", \"Topic16\", \"Topic16\", \"Topic16\", \"Topic16\", \"Topic17\", \"Topic17\", \"Topic17\", \"Topic17\", \"Topic17\", \"Topic17\", \"Topic17\", \"Topic17\", \"Topic17\", \"Topic17\", \"Topic17\", \"Topic17\", \"Topic17\", \"Topic17\", \"Topic17\", \"Topic17\", \"Topic17\", \"Topic17\", \"Topic17\", \"Topic17\", \"Topic17\", \"Topic17\", \"Topic17\", \"Topic17\", \"Topic17\", \"Topic17\", \"Topic17\", \"Topic17\", \"Topic17\", \"Topic17\", \"Topic17\", \"Topic17\", \"Topic17\", \"Topic17\", \"Topic17\", \"Topic17\", \"Topic17\", \"Topic17\", \"Topic17\", \"Topic17\", \"Topic17\", \"Topic17\", \"Topic17\", \"Topic17\", \"Topic17\", \"Topic18\", \"Topic18\", \"Topic18\", \"Topic18\", \"Topic18\", \"Topic18\", \"Topic18\", \"Topic18\", \"Topic18\", \"Topic18\", \"Topic18\", \"Topic18\", \"Topic18\", \"Topic18\", \"Topic18\", \"Topic18\", \"Topic18\", \"Topic18\", \"Topic18\", \"Topic18\", \"Topic18\", \"Topic18\", \"Topic18\", \"Topic18\", \"Topic18\", \"Topic18\", \"Topic18\", \"Topic18\", \"Topic18\", \"Topic18\", \"Topic18\", \"Topic18\", \"Topic18\", \"Topic18\", \"Topic18\", \"Topic18\", \"Topic18\", \"Topic18\", \"Topic18\", \"Topic18\", \"Topic18\", \"Topic18\", \"Topic18\", \"Topic18\", \"Topic18\", \"Topic18\", \"Topic18\", \"Topic18\", \"Topic18\", \"Topic19\", \"Topic19\", \"Topic19\", \"Topic19\", \"Topic19\", \"Topic19\", \"Topic19\", \"Topic19\", \"Topic19\", \"Topic19\", \"Topic19\", \"Topic19\", \"Topic19\", \"Topic19\", \"Topic19\", \"Topic19\", \"Topic19\", \"Topic19\", \"Topic19\", \"Topic19\", \"Topic19\", \"Topic19\", \"Topic19\", \"Topic19\", \"Topic19\", \"Topic19\", \"Topic19\", \"Topic19\", \"Topic19\", \"Topic19\", \"Topic19\", \"Topic19\", \"Topic19\", \"Topic19\", \"Topic19\", \"Topic19\", \"Topic19\", \"Topic19\", \"Topic19\", \"Topic19\", \"Topic19\", \"Topic19\", \"Topic19\", \"Topic19\", \"Topic20\", \"Topic20\", \"Topic20\", \"Topic20\", \"Topic20\", \"Topic20\", \"Topic20\", \"Topic20\", \"Topic20\", \"Topic20\", \"Topic20\", \"Topic20\", \"Topic20\", \"Topic20\", \"Topic20\", \"Topic20\", \"Topic20\", \"Topic20\", \"Topic20\", \"Topic20\", \"Topic20\", \"Topic20\", \"Topic20\", \"Topic20\", \"Topic20\", \"Topic20\", \"Topic20\", \"Topic20\", \"Topic20\", \"Topic20\", \"Topic20\", \"Topic20\", \"Topic20\", \"Topic20\", \"Topic20\", \"Topic20\", \"Topic20\", \"Topic20\", \"Topic20\", \"Topic20\", \"Topic20\", \"Topic20\", \"Topic20\", \"Topic20\"], \"Freq\": [1340.0, 777.0, 719.0, 724.0, 940.0, 568.0, 760.0, 980.0, 445.0, 456.0, 560.0, 427.0, 323.0, 670.0, 400.0, 555.0, 294.0, 373.0, 792.0, 321.0, 286.0, 418.0, 796.0, 281.0, 317.0, 293.0, 281.0, 228.0, 357.0, 238.0, 1339.5466444957615, 567.1661591894183, 320.98922537721097, 245.04998142731904, 197.0783190316068, 61.62583648029247, 56.76787804733095, 48.71747716317778, 44.87149464259344, 40.37446363756106, 37.900294048143714, 37.38501375506495, 31.117650427060966, 30.812201273739557, 30.55470778704563, 28.528514803865225, 26.593708455096284, 24.779349200394147, 24.285514479868567, 23.154625679678908, 21.670037427669538, 20.33675276804016, 19.545566782569566, 18.96791708648292, 18.687084305738807, 18.545934103397755, 17.653781320016755, 17.20629384851771, 16.971168150804125, 16.58692626109617, 88.01298455577057, 59.7257972055653, 62.11896322105883, 160.10996511640064, 50.368257973059976, 152.911058111014, 36.89821783347021, 107.17436764118517, 76.05499561935304, 136.52786384143937, 57.10039085277562, 115.4896882524516, 211.72173070872702, 107.80117527690994, 83.17653885845996, 79.05612707415712, 77.712556772167, 108.31123811253046, 99.76764384047668, 73.23437514207556, 62.16401327220802, 61.33970338633998, 81.31628023704002, 67.59472945773905, 68.64441633090703, 64.84902903962063, 60.34248628890337, 158.3474334578218, 144.75155694625647, 126.68438262001575, 120.81696714008703, 133.83326464165626, 65.91594797177243, 61.33494693174087, 56.25239856294151, 49.4150690907819, 48.51550669192054, 47.49212224907584, 45.52003668277087, 40.40960529855471, 36.53424251477893, 33.60146306192836, 33.21806479652782, 74.53411721420494, 30.86985827162613, 29.42111444588397, 27.593464235912776, 27.17663251995122, 26.643206160686915, 25.075452387559196, 24.839567581802548, 24.63780646691612, 24.51501351506834, 22.73009081201966, 22.355291176670153, 22.01933609204543, 21.747928422773967, 103.81691109693296, 45.42267369590608, 46.930940391650424, 459.5293252036113, 285.7973141887517, 65.02527391950768, 41.259866790023096, 87.79686225831533, 58.4265712670422, 81.33686393798475, 59.43761045132453, 120.78424519892987, 215.77460737214062, 172.9731705444055, 82.6712549203853, 263.93275529475034, 78.92367222595108, 85.52221011917952, 64.51257174252673, 94.36008990477086, 84.47198475263451, 111.06628585843362, 138.44418829238327, 82.95464425431555, 110.36494572813285, 93.35562798444394, 85.59150628075673, 106.18332679855497, 81.4041525586889, 81.26150196852635, 82.36187672853903, 79.18279757670253, 426.8590847264935, 280.8685821942777, 157.1799855846175, 80.6491151373459, 68.3652697510703, 53.44860730486225, 52.534296436210504, 42.746407590850175, 41.33670771277749, 33.84540882234607, 32.94876941117801, 30.09166469974731, 29.569083885170055, 27.810118829314323, 26.716582853366017, 26.06069054003073, 25.79035235466603, 25.6565495350329, 24.57164673878369, 24.02297037425735, 23.277408319983586, 22.373339761738183, 21.564601987272866, 21.414332628177856, 20.624076363008076, 19.867801390669033, 18.993425295664604, 18.622623311512555, 17.920198458518634, 17.624537226464486, 160.99641015211273, 333.51759134750097, 614.3863195492889, 47.997545427506765, 38.565875519080315, 512.8441299421214, 69.52884871348796, 60.053231698689466, 48.59714358753874, 36.61472464505621, 55.63235955243464, 76.83495511384706, 83.23836594319098, 146.64398749651608, 101.98769381560075, 74.21020049811494, 51.523735447202476, 95.28378543706881, 111.13574393905853, 90.78868179591052, 46.96425362864552, 80.01625711652773, 59.44922427193603, 52.34899885231944, 56.89663714305861, 59.29139597342399, 54.762605185449615, 51.74878123452497, 455.8521298386142, 285.39547063883487, 78.29194542485035, 75.17796107146918, 63.38331737700436, 63.37182934329731, 60.56030410304389, 59.39662443857275, 53.93763362202448, 52.430197930162535, 45.96078910607542, 45.95337918545365, 42.077920304340864, 38.27215831866538, 37.09664623249882, 35.86092439055387, 32.84119215478281, 28.394155282483652, 27.290553936314964, 23.541699647332614, 22.819747209099063, 21.51316011334731, 21.500961908463132, 20.72678402349278, 19.44722647890256, 19.407768176438726, 18.950399329829924, 17.80275378148692, 17.485075019801393, 17.13999602651935, 159.86811152178876, 272.4189533055527, 365.5316696364751, 97.76052709660439, 166.77391106707498, 38.621258098564034, 111.60755351926721, 37.581769400464, 75.76524273958849, 121.2944446471195, 36.467216406309525, 271.78895041221307, 131.90222145247148, 50.67751752543644, 202.51844317093855, 89.44673676186856, 67.98623992364662, 110.26780988880837, 91.8169812788182, 93.53279857478941, 77.0567309252579, 52.379634347932786, 61.002874848374816, 110.0915285553697, 93.43431313352157, 74.9567358761075, 68.38184911694768, 66.34027668909346, 61.61255094011799, 58.90857326335807, 51.86269540958143, 51.063515872491664, 39.17976877192455, 37.02386858088734, 32.912721615837775, 32.568405976299466, 31.5792897349707, 30.903363226306467, 29.45748019160459, 29.410593602489392, 29.145482260581918, 28.69240450039842, 27.776948954918772, 26.996307969036895, 21.705645138287057, 21.40404607452426, 20.544029205750558, 20.179046635005328, 20.139592702371377, 19.884298818955788, 19.44252773526806, 19.245502874403506, 19.244974944040397, 227.98533999323735, 71.6692292286647, 124.65319950640372, 79.18007821016616, 105.68930977017888, 67.53907014427156, 115.85542635837935, 38.453732834116416, 63.12872775981009, 68.86956702704735, 144.14563171856713, 64.1547188464588, 120.74383182474669, 113.50839904678888, 89.662187452107, 141.72578124390662, 83.81094790400088, 71.25244588905433, 63.4241604936152, 84.28326420855382, 57.856915404667554, 97.51979188174664, 59.212043317416764, 55.85266049616392, 58.12420219498008, 172.43330835568855, 126.46102839902063, 106.02055180465979, 88.69912684707873, 68.5538525634719, 60.13615714534998, 138.64650406798916, 31.111878777672786, 29.475584744333702, 27.523071868042866, 26.529110371220064, 26.15503921753094, 24.044381945045465, 24.03426889692585, 23.983785686723813, 23.777782641308782, 23.282212631008438, 22.500276252851613, 22.372977040494266, 21.837019949746924, 20.18041908605366, 19.58386609316012, 19.309946883702402, 18.629265233970063, 18.37869069927696, 15.778712188702942, 15.39862219851693, 13.734536277783791, 13.496094794664417, 13.227800955228204, 31.264823201752307, 189.8036277113373, 206.90796216352427, 545.33583389826, 212.9444976049645, 411.52139361690183, 151.43276916369973, 87.07086999390907, 64.66689934626729, 56.64847416008789, 73.20547678332787, 93.11201737038459, 325.7963924136511, 48.8043790681736, 49.30562772623347, 51.4289932431737, 32.55643941464799, 110.43339793576098, 64.95654955312774, 77.47335593798627, 55.306027849315235, 64.28120750214855, 43.66658160849642, 47.94271847504679, 38.864518590582904, 119.6217305907176, 105.93227638688903, 80.11998534166868, 69.4294862769632, 68.9346469564894, 67.60132855909687, 63.68606540817881, 56.41896237630291, 49.279778304566015, 48.40428704100288, 45.73066499185732, 44.078780953562564, 40.221970602732824, 37.738338223006096, 37.61549336993799, 37.29196733650721, 35.91400895880083, 34.90707521695801, 33.78881256642671, 33.10714998641988, 32.76632929693804, 32.576588426054, 32.3977852654524, 30.5022864754308, 28.562018022004615, 28.41397596199056, 27.369633568929434, 26.673777007846226, 26.182535360340626, 26.08003604739095, 55.646011452135426, 54.4879012349607, 77.39746743609246, 237.45197968897463, 51.22937981511514, 230.84657940060788, 87.5761787534179, 117.74556250261783, 141.03709686625564, 42.46389255684945, 71.0827562445029, 58.67183890306478, 57.15247168138096, 104.04338985050231, 116.53212755760879, 52.34122295553523, 46.351222343302275, 75.51364712049998, 54.174863397228656, 49.970891201361525, 50.48854495223483, 237.34658128318472, 129.46588907883276, 48.64868456378228, 44.27573328057632, 41.45557465743447, 39.35309640753196, 38.41859925394143, 27.62614067865329, 27.348892258498644, 26.915538387718982, 26.316644679384424, 24.81260179622009, 24.216013996450233, 23.149161291695314, 23.105426594166982, 22.97444490765923, 20.76328226621886, 19.81408445460454, 18.194112825908885, 17.177959699119285, 16.64859286965119, 15.432238367478996, 15.360331671536054, 15.24915307569993, 15.090050525921532, 14.841901322697831, 14.626800800178746, 14.595599104260344, 14.5877418525048, 14.559380688361767, 102.21313351516962, 97.46319392434357, 129.47373180859208, 48.50195582923155, 33.29641367396521, 565.1636415285832, 53.20371913411641, 239.04778622514334, 85.17882508480163, 482.77834793446004, 63.083979850023894, 69.44866251561822, 39.541486626873116, 51.49103282958719, 46.11401311215584, 116.43176974583767, 40.80577150330352, 31.897721338898304, 77.4504796241561, 81.48384572473353, 73.17394104424154, 42.67904909607496, 55.08021443230953, 43.904128676085364, 47.181156368864066, 49.39838498708316, 45.02882065497048, 114.66583994240962, 79.1160233267741, 78.45981665772149, 58.78026707084515, 52.739799388359174, 50.05023128636675, 40.85277457625481, 40.82682759053655, 38.863577704666824, 38.51961976301889, 37.92092532673185, 36.7978454899975, 36.48750172776248, 33.804523298515406, 31.58865332830549, 31.45459404155069, 31.08862134572889, 25.840195402993352, 25.181643049975648, 24.28877267070638, 21.87570539904171, 21.743851915979253, 21.597280662822104, 21.574295166596915, 21.01708625725042, 20.433761766109253, 20.38013555225779, 19.943972773836563, 19.19892024558961, 17.99974384775332, 101.36150660756407, 136.55506876393062, 122.69423710849189, 601.4370616033144, 37.06379325204918, 66.24360340509598, 45.4354763262055, 54.83459052109284, 51.85665711306868, 77.50098603299081, 55.012264577658094, 85.27441415534796, 83.65940194163962, 65.21757644833285, 144.2469477401981, 121.83272639871244, 70.2629874079243, 72.70649348530104, 58.98566070851651, 63.15303279501659, 64.52133621709139, 45.243560140789555, 42.992847957369584, 176.58528053262856, 134.88014819642316, 98.29860503172397, 87.3061560192634, 76.44707594740962, 69.87871924558739, 59.860804697154535, 51.042709502353866, 49.108654948993276, 48.083849663875114, 47.85401728317565, 45.543838252576194, 42.929510336947196, 41.167022686738385, 35.1197513443978, 33.94318125357909, 33.45046752459171, 27.86168953268742, 25.423569504320273, 25.177866615631736, 24.754051718407855, 23.28803911261798, 23.067683936468452, 23.04180301790518, 22.423278539858774, 22.29364777416846, 21.616777184796966, 21.58103512965022, 21.428580141441884, 21.228317098287263, 105.17500218303049, 55.64591019417252, 50.37175493045667, 84.85590161016303, 166.4828220595807, 40.75104168519124, 252.63011667331193, 55.38345039966322, 52.68597650276874, 51.335947231331765, 39.45775591534849, 141.90492733714694, 132.3915975416386, 46.147294691774185, 100.0351320054598, 63.74196319237942, 45.76098208611828, 56.619779934648164, 56.659859534379756, 56.667654742504574, 51.86950760322585, 46.37639296287626, 445.1091012414841, 125.4969985387629, 119.02785183736528, 104.92996792718766, 104.65484608454243, 97.59633036130651, 77.57893945157268, 64.3429751364774, 62.67026537036314, 58.69657477425046, 54.34192855610648, 50.34403702074087, 47.698156468641145, 42.49375839558052, 38.75814218074954, 35.59396576499845, 35.50164530997667, 35.07405309362858, 31.244885237431106, 30.372436861989218, 28.962660679617215, 28.335878601006065, 28.100260521927492, 27.69105272535923, 27.46964319903677, 26.67405338053076, 24.883123535069405, 24.029363675232002, 21.49902343053594, 20.747633385197876, 247.43012171899943, 136.357823870955, 66.91627788733241, 101.4727324344594, 84.63579405973816, 51.652631521266535, 79.23724059874475, 85.91460447546599, 112.3692933378731, 54.562899169809675, 91.27956634513984, 66.82586975545362, 52.826684325258135, 73.7733245569011, 41.37399037494852, 67.37645257746051, 163.9601067015965, 292.18586907992017, 89.09130473067664, 68.05478651381125, 62.83239084139839, 61.102585289526374, 48.39174676992468, 48.10879682153899, 47.9326204585205, 45.82699119875474, 39.70797915651741, 38.533149902173484, 36.49272437767234, 35.691609020742256, 35.46841767018431, 32.846063746103425, 32.84515227070662, 31.340430107391505, 31.001233166147433, 30.439040896932017, 29.891546268983806, 29.42196779902089, 28.57180012767184, 25.099999965127235, 24.901209710001755, 23.693543474398982, 22.00877274828432, 21.643935256397857, 20.737049491960047, 20.568086255522886, 45.4387899129666, 49.9131539453145, 29.61228677270346, 76.5480735062569, 77.01924078191816, 40.382643401229515, 36.24512976162661, 70.71926372541277, 39.88711478293199, 134.08661523236034, 39.842866778772006, 43.209590318525734, 59.386157819324765, 42.79551774110441, 74.71755712596662, 68.48079263325691, 44.5221464156712, 45.53489673317078, 49.545597000869456, 39.17143701335249, 155.40841580170414, 95.5990147363331, 87.03880050422417, 59.4556637157829, 58.50538963821538, 50.98241464874854, 50.91312489033359, 50.515558262725705, 47.30608721224076, 44.89678346732106, 32.23321298684464, 30.014610373490346, 26.508944664972653, 26.387974841979386, 26.35399117173974, 26.342671471155402, 24.917349315974572, 24.13105829969342, 24.06605463190856, 23.785391920087548, 23.327728709700594, 23.114596346786673, 22.638980286869067, 22.311997395246863, 19.359676524023286, 19.018129328836398, 18.73599125911975, 17.985917330292974, 17.71192558172506, 17.22852563214409, 109.48535731526806, 29.255706292255635, 47.566546776598386, 53.62803136833817, 50.59148255726086, 34.27970731724161, 48.23028679018311, 64.21582782882916, 52.88817834217478, 95.39395412261763, 41.48976234103546, 61.58890942155976, 36.67615291453729, 31.3956980204816, 104.79051187473156, 49.965959668556955, 53.946709095052825, 34.19595188269383, 54.233443550963706, 44.24117915327539, 59.80528288883738, 44.12282206290927, 50.79992273412595, 36.017105635058655, 39.45737579584245, 38.95099460918649, 76.03642256584295, 74.27857935814666, 56.77413056838888, 45.96352189937668, 43.13661363555385, 41.7312637124888, 41.18955081767683, 39.43805969775221, 37.800389563395996, 37.30093549544393, 35.41521135297856, 34.805855325846245, 34.447861237723224, 33.78853467990262, 32.136239386654516, 31.64753390256843, 31.50781087492725, 31.507259174327768, 31.43477967738155, 30.013081308248488, 27.74729180218957, 27.285781980357374, 25.652268965444744, 25.475581026696243, 24.074185937947455, 22.95209339653168, 22.608501638523226, 21.985996271495765, 21.392354994621435, 20.498657185425092, 49.538445400892634, 122.65254576501081, 51.4212489304033, 36.73184375463937, 57.57426517773038, 50.79143410135746, 80.97571903645472, 29.69733354827887, 36.45087385784004, 58.57000592781587, 68.58522869653405, 36.46256912784792, 45.932151987207824, 68.48075112092833, 43.75793505489518, 63.17310490518259, 52.51296707537996, 42.02195267152608, 42.6534297172097, 39.6695992746091, 38.58284141281275, 38.89663313086975, 38.73116666949158, 38.137007934693436, 37.72115770031326, 122.42836243653764, 92.79883479502392, 91.33445569145772, 60.05504985800284, 45.712784763323015, 44.48953104718695, 42.348985515356425, 34.686329170610485, 31.514337719678696, 30.10745350253942, 28.64621546201304, 28.484629305264452, 26.877852791551014, 26.530443014705536, 25.189279328052454, 25.14603425827158, 24.85629529740542, 23.827237738945716, 22.38529592426395, 22.10799088735967, 22.006969669156877, 20.95120860784682, 20.92880861608546, 20.86199872919067, 20.22216502644447, 20.02433530530316, 19.484524611090258, 19.331008369941713, 19.14532027978929, 18.89494917221676, 142.33698017728406, 57.92132786812781, 38.359366499136286, 33.648247024490516, 132.0898988199504, 29.171551965474716, 43.668782803008384, 58.8349186836027, 43.662766020031945, 93.42948308196557, 54.82222976114194, 27.772478552278578, 42.496236374661486, 49.77489965327548, 46.782601294709856, 75.17802132474719, 58.60276172727812, 41.20113895755935, 37.07715651008741, 41.9966406601416, 39.23687487894068, 34.77091899236518, 38.59547254024857, 35.939705458189565, 81.50954440543074, 78.31559304753134, 65.82664337150666, 49.8539219225348, 48.64142727231233, 48.37735051229312, 44.95872533216999, 43.125408628852355, 42.89093408775547, 40.48146925477601, 40.47575795848287, 38.64982837268142, 36.09206404148818, 35.97947612128524, 35.89181516495619, 35.30166031388709, 34.93942846224404, 32.46279674790696, 31.01418973236818, 28.725276850799407, 28.339791942584583, 28.05104051141537, 27.754488611622016, 27.63827800722156, 26.50520786234819, 26.399965904541617, 25.86860652485501, 25.461117640316907, 23.981829201707725, 23.158367789294157, 94.65457789535614, 75.65422215339692, 46.854378458145206, 46.46522424657265, 68.28726170318492, 47.5496282793481, 43.148964118736345, 48.14990095331271, 30.018595816271315, 35.26230419950929, 31.23461277212931, 32.612427984022915, 227.62663709794018, 190.58895925519258, 187.03361414197713, 121.01772148867056, 106.93665394954404, 104.81941171779869, 59.81563524669231, 58.68934371225483, 57.7667663556302, 50.61637382082137, 45.1034184283416, 40.75872619366481, 31.76648552838752, 30.904313472614817, 30.49174116370035, 27.058255795261424, 26.397864493152536, 25.05162697163056, 23.953561416529816, 22.827696805346122, 21.423020221630985, 21.209541850451725, 20.623776865719382, 20.475927345889993, 20.000154514843004, 19.129768005492707, 18.12939999068774, 17.939981402690393, 17.890351528111513, 17.14203113585542, 108.26425965443396, 34.657234435416406, 73.0244236371856, 36.68589288751071, 57.08325730383922, 30.74383284728936, 32.17333960979366, 96.99119745693655, 65.57481345501222, 35.17114265132617, 55.65228229720674, 70.55609768432305, 47.13797801408457, 31.98474124020145, 30.75574377094796, 137.45038863766234, 87.58034116485669, 57.32914171297142, 45.47967238928319, 42.00216591497296, 38.74661876323257, 38.14826360948335, 37.948354276932065, 35.736658933917234, 61.06668318906431, 33.444838795994755, 33.06625969543442, 32.67955597712992, 32.11436084994578, 31.298202973741233, 30.652698322372377, 30.122958127383512, 27.553993706203496, 27.463670605907954, 26.52244429843988, 23.99866292819944, 23.89740820215483, 23.353784119644004, 22.36302621441868, 20.73128389816731, 20.317997684350036, 20.192927128808893, 19.186655139158137, 18.20375565304834, 18.125097763546723, 36.065016945637176, 78.23289514060997, 35.37719024148152, 93.83915149448357, 41.58180466064256, 52.01402989222858, 48.13131811122573, 35.66000072731618, 41.381633260634125, 34.74653367917314, 53.434177581132644, 32.99006961180106, 57.182195509554, 36.00715592855873, 33.52815740025823, 38.91996060349553, 34.85438257299867, 34.95822991787189, 33.66280818719246, 322.764652541796, 130.50837285509073, 95.95319462046999, 62.70876209447262, 59.82300015479156, 55.64279746986622, 52.770358921281286, 44.01361343290886, 41.80550047890525, 37.761003208325675, 31.070780558122003, 30.896470681747658, 30.37573398069152, 26.18120804930688, 24.400479970023017, 24.09802705037576, 22.120034657522584, 20.916963373542263, 20.4777131660588, 19.94398014645354, 19.2946073820984, 19.249652120642164, 18.345341029586795, 18.141582376541514, 17.81837313818346, 17.554353899269366, 17.543003962212183, 15.577625019443948, 15.366437337935459, 15.00059597163477, 38.52991841774803, 49.05063763976307, 27.725616479897592, 37.747944062396456, 44.816487636856735, 46.12629650723788, 39.278862084468734, 27.76648365037342, 25.842539447918845, 44.84748581613152, 41.978640529374246, 30.133844409003764, 31.15652684363166, 31.160865811216084, 66.089096184595, 59.97210269902141, 53.226208561618506, 48.09637215349859, 46.153651077906865, 45.22189783533959, 44.91586184651372, 40.682070054048665, 36.99678278528145, 36.104290165431294, 35.03338652967618, 31.404569191866432, 31.03900139251838, 29.844614088835762, 28.782878177313115, 26.636694355519626, 25.129814927638296, 24.157491560429325, 23.463120215616023, 23.087196478606163, 22.895859559957184, 20.969798075887507, 20.946061366411502, 20.542568681477665, 20.45132660301503, 20.24855803182018, 20.05559402410189, 19.83375073901176, 19.14523149238021, 18.294080814885145, 34.598832666272386, 56.768902003454556, 82.64455420877526, 29.688263400564505, 62.04518886785785, 36.7302151114769, 23.67098267509141, 47.22794790602369, 31.338831059068603, 30.032149798759335, 39.00799705690027, 25.313158009558954, 34.47921461809958, 27.92065820719422], \"Term\": [\"trump\", \"president\", \"city\", \"live\", \"great\", \"hillary\", \"obama\", \"new\", \"vote\", \"health\", \"watch\", \"change\", \"life\", \"work\", \"care\", \"join\", \"look\", \"climate\", \"american\", \"clinton\", \"tax\", \"job\", \"people\", \"york\", \"woman\", \"republican\", \"senate\", \"question\", \"family\", \"speak\", \"trump\", \"hillary\", \"clinton\", \"donald\", \"poll\", \"email\", \"drainthesw\", \"fuel\", \"@foxbusiness\", \"fossil\", \"crooked\", \"tie\", \"beat\", \"texas\", \"taxpayer\", \"presidency\", \"bully\", \"dnc\", \"harvey\", \"stake\", \"kaine\", \"gas\", \"responsibility\", \"lobbyist\", \"duty\", \"oil\", \"treason\", \"brother\", \"mention\", \"predict\", \"order\", \"presidential\", \"respect\", \"caign\", \"executive\", \"debate\", \"decade\", \"speech\", \"lie\", \"win\", \"elect\", \"@realdonaldtrump\", \"president\", \"know\", \"election\", \"like\", \"woman\", \"american\", \"people\", \"want\", \"medium\", \"lead\", \"new\", \"state\", \"day\", \"time\", \"big\", \"yorker\", \"hard\", \"kid\", \"mean\", \"child\", \"game\", \"br\", \"goal\", \"actually\", \"parent\", \"poverty\", \"fear\", \"possible\", \"fun\", \"finally\", \"quality\", \"healthcare\", \"ice\", \"preserve\", \"equal\", \"discrimination\", \"international\", \"vpdebate\", \"lgbt\", \"april\", \"govt\", \"dinner\", \"huckabee\", \".@hillaryclinton\", \"skill\", \"create\", \"feel\", \"iacaucus\", \"work\", \"job\", \"away\", \"invest\", \"energy\", \"affordable\", \"find\", \"opportunity\", \"way\", \"good\", \"day\", \"sure\", \"new\", \"love\", \"thing\", \"home\", \"pay\", \"leave\", \"fight\", \"people\", \"protect\", \"america\", \"want\", \"know\", \"obama\", \"come\", \"stand\", \"ne\", \"thank\", \"change\", \"york\", \"actonclimate\", \"china\", \"hall\", \"commitment\", \"town\", \"commit\", \"hurricane\", \"borough\", \"solve\", \"gov\", \"longer\", \"emission\", \"recognize\", \"resource\", \"inthebronx\", \"parisagreement\", \"hunt\", \"innovative\", \"renewable\", \"rncincle\", \"regulation\", \"puerto\", \"advance\", \"unemployment\", \"talent\", \"protest\", \"false\", \"rico\", \"safe\", \"climate\", \"city\", \"enter\", \"combat\", \"new\", \"clean\", \"effort\", \"problem\", \"center\", \"chance\", \"build\", \"meet\", \"help\", \"fight\", \"world\", \"real\", \"thank\", \"great\", \"work\", \"power\", \"today\", \"big\", \"u.s\", \"year\", \"people\", \"america\", \"leader\", \"health\", \"tax\", \"insurance\", \"rate\", \"income\", \"social\", \"fix\", \"billionaire\", \"die\", \"throw\", \"dream\", \"wealthy\", \"yes\", \"guarantee\", \"worry\", \"remark\", \"unacceptable\", \"establishment\", \"premium\", \"inequality\", \"measure\", \"environment\", \"tear\", \"participate\", \"millionaire\", \"privilege\", \"parenthood\", \"applaud\", \"completely\", \"lucky\", \"cut\", \"republican\", \"care\", \"low\", \"obamacare\", \"medicaid\", \"public\", \"debt\", \"college\", \"security\", \"massive\", \"people\", \"plan\", \"impact\", \"american\", \"bill\", \"break\", \"right\", \"want\", \"ne\", \"family\", \"system\", \"work\", \"fake\", \"supreme\", \"violence\", \"cnn\", \"immigration\", \"@nytime\", \"refuse\", \"minute\", \"supporter\", \"buy\", \"coverage\", \"peace\", \"later\", \"prevent\", \"gov't\", \"secret\", \"depend\", \"@mariabartiromo\", \"prescription\", \"ticket\", \"excuse\", \"account\", \"extreme\", \"election2016\", \"dishonest\", \"abortion\", \"reveal\", \"badly\", \"current\", \"accountable\", \"news\", \"gun\", \"report\", \"fail\", \"court\", \"price\", \"lose\", \"view\", \"@washingtonpost\", \"cost\", \"medium\", \"wrong\", \"act\", \"congress\", \"story\", \"election\", \"dem\", \"hold\", \"russian\", \"@potus\", \"agree\", \"read\", \"bad\", \"democrat\", \"stop\", \"et\", \"@foxnew\", \"gt\", \"birthday\", \"@seanhannity\", \"submit\", \"tune\", \"primary\", \"percent\", \"food\", \"biden\", \"source\", \"beach\", \"imagine\", \"teacher\", \"mayoral\", \"hot\", \"bless\", \"bigleaguetruth\", \"virginia\", \"friday\", \"@bv\", \"@msnbc\", \"daca\", \"q;a\", \"organization\", \"prevention\", \"resident\", \"conspiracy\", \"medicine\", \"earn\", \"discuss\", \"tonight\", \"live\", \"@facebook\", \"watch\", \"happy\", \"morning\", \"host\", \"@foxandfriend\", \"congratulation\", \"discus\", \"join\", \"wish\", \"control\", \"lot\", \"@vp\", \"day\", \"week\", \"talk\", \"debate\", \"today\", \"friend\", \"thank\", \"speech\", \"@wsj\", \"united\", \"idea\", \"war\", \"immigrant\", \"kill\", \"sotu\", \"terrorist\", \"soon\", \"generation\", \"interest\", \".@potus\", \"fill\", \"career\", \"ban\", \"sanction\", \"daughter\", \"earth\", \"lift\", \"oppose\", \"muslim\", \"represent\", \"remarkable\", \"bold\", \"deep\", \"deny\", \"achieve\", \"especially\", \"denier\", \"son\", \"syria\", \"dangerous\", \"send\", \"family\", \"@bloombergdotorg\", \"read\", \"law\", \"world\", \"state\", \"powerful\", \"nation\", \"military\", \"challenge\", \"country\", \"obama\", \"free\", \"young\", \"american\", \"people\", \"stand\", \"good\", \"speak\", \"progress\", \"korea\", \"nuclear\", \"floor\", \"1st\", \"weekly\", \"weapon\", \"corrupt\", \"seek\", \"ground\", \"mt\", \"bigotry\", \"sound\", \"politician\", \"target\", \"kelly\", \"racism\", \"cleveland\", \"@who\", \"favorite\", \"stuff\", \"talented\", \"@mikebloomberg\", \"hat\", \"guard\", \"queen\", \"epidemic\", \"turkey\", \"situation\", \"address\", \"serve\", \"man\", \"deliver\", \"urge\", \"president\", \"human\", \"woman\", \"class\", \"obama\", \"middle\", \"use\", \"@bloomberg\", \"improve\", \"north\", \"right\", \"statement\", \"brave\", \"watch\", \"live\", \"thank\", \"step\", \"support\", \"start\", \"protect\", \"today\", \"america\", \"white\", \"general\", \"meeting\", \"yesterday\", \"p.m.\", \"senior\", \"chicago\", \"trip\", \"commander\", \"organize\", \"@whitehouse\", \"getcover\", \"session\", \"fund\", \"jame\", \"vital\", \"summit\", \"afternoon\", \"jeff\", \"attorney\", \"pledge\", \"gold\", \"momentum\", \"blame\", \"medal\", \"importance\", \"swear\", \"uninsured\", \"progressive\", \"appear\", \"visit\", \"house\", \"strong\", \"great\", \"list\", \"secretary\", \"treat\", \"chief\", \"hour\", \"welcome\", \"wonderful\", \"check\", \"friend\", \"arizona\", \"today\", \"thank\", \"honor\", \"america\", \"win\", \"state\", \"time\", \"head\", \"talk\", \"high\", \"worker\", \"wall\", \"wage\", \"street\", \"education\", \"industry\", \"miss\", \"past\", \"profit\", \"planet\", \"tbt\", \"fraud\", \"corporation\", \"minimum\", \"native\", \"better\", \"model\", \"form\", \"study\", \"throwbackthursday\", \"exist\", \"lifetime\", \"average\", \"diversity\", \"pharmaceutical\", \"successful\", \"georgia\", \"sell\", \"period\", \"company\", \"crime\", \"afford\", \"drug\", \"pay\", \"maga\", \"american\", \"money\", \"spend\", \"raise\", \"ceo\", \"year\", \"time\", \"politic\", \"people\", \"stand\", \"voter\", \"job\", \"ne\", \"good\", \"country\", \"u.s\", \"vote\", \"choice\", \"judge\", \"veteran\", \"doyourjob\", \"candidate\", \"rule\", \"garland\", \"hearing\", \"hand\", \"voice\", \"datum\", \"troop\", \"pence\", \"unite\", \"gorsuch\", \"endorse\", \"scotus\", \"eye\", \"clearly\", \"de\", \"la\", \"register\", \"terrible\", \"moral\", \"rip\", \"require\", \"fy17ndaa\", \"vacancy\", \"rebuild\", \"senate\", \"believe\", \"va\", \"fair\", \"pass\", \"governor\", \"gop\", \"proud\", \"leader\", \"senator\", \"bill\", \"deserve\", \"reform\", \"support\", \"nominee\", \"ne\", \"forward\", \"look\", \"listen\", \"nypd\", \"reason\", \"sander\", \".@callygingrich\", \"minister\", \"trust\", \"bernie\", \"pipeline\", \"early\", \"worth\", \"letter\", \"prepare\", \"update\", \"divide\", \"partner\", \"potential\", \"prime\", \"reject\", \"dakota\", \"caucus\", \"courage\", \"st\", \"society\", \"perfect\", \"position\", \"australia\", \"cast\", \"victory\", \"truth\", \"twitter\", \"book\", \"tomorrow\", \"hit\", \"vision\", \"team\", \"conversation\", \"join\", \"tough\", \"far\", \"big\", \"fact\", \"great\", \"today\", \"sign\", \"tonight\", \"new\", \"come\", \"action\", \"leadership\", \"grow\", \"strategy\", \"point\", \"local\", \"tv\", \"able\", \".@realdonaldtrump\", \"cop21\", \"tour\", \"piece\", \"labor\", \"@compactofmayor\", \"tpp\", \"council\", \"pollution\", \"@dcexaminer\", \"mom\", \"summer\", \"disgrace\", \"reflect\", \"@anne_hidalgo\", \"accountability\", \"@morning_joe\", \"steve\", \"dead\", \"luck\", \"organizer\", \"unprecedented\", \"mayor\", \"carbon\", \"fall\", \"late\", \"reduce\", \"moment\", \"word\", \"climatechange\", \"crisis\", \"lead\", \"paris\", \"global\", \"afghanistan\", \"focus\", \"city\", \"national\", \"protect\", \"historic\", \"help\", \"economy\", \"great\", \"@potus\", \"today\", \"member\", \"fight\", \"climate\", \"office\", \"israel\", \"push\", \"terrorism\", \"sacrifice\", \"difference\", \"girl\", \"equality\", \"priority\", \"@mike_pence\", \"despite\", \"stage\", \"@flotus\", \"gain\", \"al\", \"leadontrade\", \"remind\", \"sw\", \"common\", \"fly\", \"d.c\", \"@c40citie\", \"east\", \"alliance\", \"maybe\", \"chairman\", \"pull\", \"network\", \"fine\", \"reagan\", \"demand\", \"pm\", \"rally\", \"sense\", \"value\", \"mis\", \"run\", \"island\", \"coal\", \"power\", \"long\", \"write\", \"clear\", \"thank\", \"happen\", \"today\", \"fight\", \"important\", \"good\", \"day\", \"big\", \"america\", \"year\", \"country\", \"people\", \"record\", \"month\", \"gopdebate\", \"small\", \"role\", \"board\", \"sector\", \"info\", \"wh\", \"art\", \"editorial\", \"science\", \"hack\", \"comment\", \"standard\", \"double\", \"@un\", \"strength\", \"usa\", \"apologize\", \"india\", \"condemn\", \"delay\", \"personal\", \"extend\", \"waste\", \"@narendramodi\", \"tucson\", \"quickly\", \"intelligence\", \"imwithhuck\", \"growth\", \"agreement\", \"encourage\", \"business\", \"march\", \"heart\", \"program\", \"private\", \"economy\", \"force\", \"un\", \"iowa\", \"history\", \"place\", \"job\", \"today\", \"happy\", \"add\", \"world\", \"let\", \"break\", \"year\", \"country\", \"comey\", \"mccain\", \"ahead\", \"process\", \"hero\", \"nomination\", \"exle\", \"investigation\", \"rich\", \"failure\", \"criminal\", \"deeply\", \"illegal\", \"event\", \"half\", \"prison\", \"carolina\", \"wealth\", \"leak\", \"healthy\", \"trail\", \"fast\", \"affect\", \"loss\", \"code\", \"card\", \"burn\", \"exactly\", \"respond\", \"january\", \"john\", \"true\", \"democracy\", \"fbi\", \"justice\", \"prayer\", \"fire\", \"know\", \"offer\", \"caign\", \"lose\", \"today\", \"question\", \"ask\", \"hear\", \"hope\", \"answer\", \"repeal\", \"sasc\", \"defeat\", \"begin\", \"movement\", \"replace\", \"huge\", \"chip\", \"bipartisan\", \"african\", \"accept\", \"develop\", \"rt\", \"greed\", \"ad\", \"doctor\", \"proposal\", \"likely\", \"term\", \"positive\", \"culture\", \"aca\", \"approve\", \"conway\", \"disability\", \"open\", \"disaster\", \"budget\", \"instead\", \"matter\", \"sen\", \"ignore\", \"live\", \"let\", \"defense\", \"@facebook\", \"watch\", \"obamacare\", \"hold\", \"plan\", \"deal\", \"threat\", \"official\", \"debatenight\", \"pick\", \"ballot\", \"irandeal\", \"rig\", \"market\", \"bring\", \"insult\", \"admin\", \"usafricabizforum\", \"room\", \"cabinet\", \"africa\", \"@azcentral\", \"poor\", \"flight\", \"protection\", \"epa\", \"islamic\", \"retweet\", \"lack\", \"nominate\", \"wing\", \"color\", \"@berniesander\", \"impt\", \"absolutely\", \"response\", \"major\", \"reach\", \"bad\", \"announce\", \"benefit\", \"party\", \"kind\", \"iran\", \"person\", \"issue\", \"cause\", \"country\", \"government\", \"allow\", \"read\", \"economic\", \"people\", \"russia\", \"life\", \"save\", \"student\", \"easy\", \"little\", \"fox\", \"ppl\", \"amazing\", \"reminder\", \"road\", \"corporate\", \"university\", \"murder\", \"biz\", \"mind\", \"lesson\", \"grassroots\", \"machine\", \"traffic\", \"edt\", \"near\", \"convention\", \"@usatoday\", \"subway\", \"carry\", \"endorsement\", \"walk\", \"baby\", \"district\", \"latino\", \"liberal\", \"beautiful\", \"charge\", \"death\", \"remember\", \"learn\", \"enjoy\", \"sit\", \"video\", \"like\", \"today\", \"news\", \"help\", \"day\", \"mr\", \"press\", \"medicare\", \"hurt\", \"op\", \"conference\", \"cover\", \"anniversary\", \"ed\", \"catch\", \"strengthen\", \"incredible\", \"concern\", \"award\", \"syrian\", \"co\", \"terror\", \"course\", \"introduce\", \"wonder\", \"@heritage\", \"second\", \"storm\", \"outrageous\", \"attempt\", \"excited\", \"surprise\", \"earlier\", \"trumpism\", \"bob\", \"forget\", \"promise\", \"russia\", \"launch\", \"congrat\", \"risk\", \"bloomberg\", \"attack\", \"receive\", \"economic\", \"new\", \"critical\", \"great\", \"read\"], \"Total\": [1340.0, 777.0, 719.0, 724.0, 940.0, 568.0, 760.0, 980.0, 445.0, 456.0, 560.0, 427.0, 323.0, 670.0, 400.0, 555.0, 294.0, 373.0, 792.0, 321.0, 286.0, 418.0, 796.0, 281.0, 317.0, 293.0, 281.0, 228.0, 357.0, 238.0, 1340.4107770262447, 568.0257409737987, 321.8488071600409, 245.90956320929985, 197.93790081361286, 62.48541826346259, 57.62745982990826, 49.57705894945, 45.73107643436445, 41.23404542123387, 38.759875831336906, 38.24459554272595, 31.97723221173049, 31.671783062795754, 31.414289578552292, 29.388096587264823, 27.45329024416526, 25.638930988115284, 25.145096270037154, 24.014207464272495, 22.529619210454815, 21.196334555559286, 20.40514857343755, 19.82749887791206, 19.546666100108244, 19.405515891004974, 18.51336310787516, 18.065875633026856, 17.830749936732133, 17.446508049753543, 98.49841044105472, 65.93145123387036, 72.2040016546559, 209.16408182911144, 58.73028319513823, 209.0319043603304, 42.52736341288645, 159.15255803195268, 119.99059016752734, 267.1003040092479, 85.16447050175289, 239.92338924692353, 777.7001945490957, 296.01569062302707, 231.16705380820642, 302.5986070139722, 317.57516537065106, 792.0323002723833, 796.7247095696549, 354.8436217074297, 207.12332370938807, 212.13331345066425, 980.1440748775037, 376.4529115819342, 468.6806702996016, 510.5107313762705, 314.0049565212756, 159.2070956563023, 145.61121914619878, 127.54404481963704, 121.67662934196183, 134.9484743043476, 66.77561017563568, 62.19460913292491, 57.11299484069288, 50.27473129415521, 49.375168891916516, 48.351784450735565, 46.3796988855666, 41.26926750059091, 37.393904718506846, 34.46112526847293, 34.07772699824535, 76.59270028007167, 31.7295204789162, 30.280776650068706, 28.453126435368738, 28.03629472019931, 27.50286836939349, 25.93511459027968, 25.69922978202112, 25.4974686699281, 25.374675717519814, 23.58975301653493, 23.21495337976742, 22.878998295490938, 22.607590622980993, 109.62599041160176, 48.89677416502317, 52.85607274879318, 670.1304030707734, 418.3640412847162, 77.41493216643444, 48.372617189278074, 126.50183499846487, 76.71524979461218, 129.52190559278839, 83.74707583931868, 255.03698125292422, 628.6846604290935, 468.6806702996016, 147.03224602711234, 980.1440748775037, 143.9496497929156, 172.66228001026525, 103.15991702056434, 261.6571101899976, 208.6887756994508, 428.8361888296929, 796.7247095696549, 206.15016736063362, 474.7488232439016, 354.8436217074297, 296.01569062302707, 760.5725451655667, 286.4267035378869, 329.0795331100577, 483.3948096338013, 607.8232393499179, 427.7190674669463, 281.72856493230825, 158.03996832294916, 81.50909788140474, 69.22525248845098, 54.30859004621212, 53.394279174745854, 43.606390334125564, 42.19669045227171, 34.70539156058207, 33.8087521505973, 30.951647445257336, 30.429066629418582, 28.670101570095817, 27.576565593461943, 26.920673284140268, 26.650335093721978, 26.516532273409087, 25.431629479834047, 24.88295311717011, 24.137391064427092, 23.233322508070348, 22.42458473059246, 22.274315367275506, 21.48405910789427, 20.72778413432905, 19.85340803982948, 19.482606058927878, 18.78018120586756, 18.48451996436447, 169.4540745610131, 373.2826766722151, 719.9909221411089, 54.38782367634268, 44.93683989069724, 980.1440748775037, 92.03990013663868, 83.66385872533681, 67.4407561534278, 46.05000823465436, 89.5872407890259, 147.76535705125454, 177.8618326871987, 450.8470317414444, 428.8361888296929, 266.8892145931763, 121.03556868066171, 607.8232393499179, 940.6630282673626, 670.1304030707734, 106.34914790268576, 807.1204836791634, 314.0049565212756, 224.44700306320942, 531.8935875962476, 796.7247095696549, 474.7488232439016, 277.0484871127844, 456.7114702520617, 286.2548139650246, 79.15128583787211, 76.03730148909494, 64.242657791527, 64.23116975879182, 61.419644521135325, 60.25596485404329, 54.79697403923216, 53.28953834327117, 46.82012952498091, 46.812719599581854, 42.93726072295759, 39.13149873198968, 37.95598664968237, 36.720264810831544, 33.700532572210044, 29.253495700117863, 28.1498943491182, 24.401040063526956, 23.679087629382064, 22.37250053311591, 22.360302327483502, 21.586124442980903, 20.3065668914652, 20.267108590385348, 19.809739742277127, 18.662094204019105, 18.344415441049247, 17.999336444399898, 171.22387262348445, 293.6813337687623, 400.9859951380849, 114.27455268314604, 214.7262498728597, 43.77243130117241, 150.3457181390059, 43.38718195735499, 101.7904263307048, 200.47293275945577, 43.645484778582734, 796.7247095696549, 285.3872513250153, 75.15117537695622, 792.0323002723833, 217.75783541226, 137.67796481252984, 379.0188134855592, 354.8436217074297, 483.3948096338013, 357.64852355897574, 108.10674215025008, 670.1304030707734, 110.95042186156826, 94.29320644160791, 75.81562918582893, 69.24074242791053, 67.19917000045395, 62.47144424881674, 59.76746657586273, 52.721588721792344, 51.92240918497694, 40.03866208279074, 37.88276188931719, 33.77161493106845, 33.42729929114125, 32.43818304705433, 31.762256539449403, 30.316373502499204, 30.26948691601597, 30.004375576114864, 29.551297808737996, 28.63584226861243, 27.855201279374356, 22.564538450895476, 22.26293938500548, 21.402922516872017, 21.037939942172912, 20.99848601546582, 20.743192135054382, 20.30142105140899, 20.104396189246383, 20.103868252297975, 258.93277061049986, 80.7271586283838, 147.42996312823396, 91.96185660415192, 129.77442006714062, 79.65481288927754, 147.90380054757793, 42.96753399393453, 76.07769659433464, 84.13803562162784, 207.12332370938807, 80.17883854598726, 179.46578368442033, 167.37522482133434, 126.16030758503003, 231.16705380820642, 123.45253404172514, 104.05110081758892, 93.01902451852702, 231.03592635527028, 106.08732490347057, 442.6410588010631, 153.86487304729792, 128.1295001656208, 213.24568659585694, 173.4721791833512, 127.32106138833066, 106.88058479988233, 89.56030964408721, 69.41388555264396, 60.996190133866826, 142.0535081312907, 31.97191176936665, 30.335617737602917, 28.383104861887794, 27.38914336320597, 27.01507221276499, 24.904414942537414, 24.894301891830807, 24.843818678241412, 24.637815630740274, 24.14224562548517, 23.360309245356724, 23.233010034768004, 22.697052944425725, 21.040452081573942, 20.443899087170998, 20.169979872429337, 19.489298228221813, 19.2387236873286, 16.638745186629894, 16.2586552012021, 14.594569273524765, 14.356127791702084, 14.087833951945694, 34.189983811216635, 228.57950704130977, 253.2572520028107, 724.581170972896, 269.41183326591613, 560.2982648199339, 193.44866872256378, 107.97853606504641, 78.80633662030496, 68.39217637641588, 92.52597956413521, 123.9097950181065, 555.0328896906448, 61.06951889206033, 74.78501395348957, 93.49251776091104, 44.45214073265451, 468.6806702996016, 173.51837023954192, 249.26341221586648, 209.0319043603304, 807.1204836791634, 209.71246439208764, 607.8232393499179, 159.15255803195268, 120.48127041431077, 106.79181621179853, 80.97952516888141, 70.28902610370321, 69.794186783272, 68.46086838563288, 64.54560523397383, 57.27850220252379, 50.13931813346639, 49.310292398688915, 46.590204818884516, 44.9383207798251, 41.08151043492554, 38.59787805045955, 38.47503319543126, 38.151507162556534, 36.773548786149725, 35.7666150454019, 34.648352394915655, 33.9666898166183, 33.6258691223954, 33.436128253086125, 33.25732509324722, 31.361826302728364, 29.421557846474105, 29.27351579305741, 28.229173397372044, 27.533316840667748, 27.042075191059045, 26.939575874242152, 61.05793101987786, 59.81898463113241, 91.88119744855354, 357.64852355897574, 59.34494308118394, 442.6410588010631, 129.17998960088718, 266.8892145931763, 376.4529115819342, 54.635092907015014, 163.30971532081838, 110.38530177298168, 107.1701796234486, 440.82805052271067, 760.5725451655667, 116.22612129069117, 87.65611183848976, 792.0323002723833, 796.7247095696549, 329.0795331100577, 628.6846604290935, 238.206618185439, 130.3259259808596, 49.508721567991614, 45.13577018196184, 42.31561155722317, 40.21313331326049, 39.27863615195982, 28.486177578741, 28.20892916467225, 27.775575292206575, 27.176681584928698, 25.672638698935284, 25.076050899829198, 24.009198202073954, 23.965463498314154, 23.83448181603427, 21.623319169030765, 20.67412135585555, 19.05414973140306, 18.037996605577426, 17.508629774788172, 16.292275273082222, 16.22036857457535, 16.109189974328494, 15.950087431435039, 15.7019382261165, 15.486837703245271, 15.455636006291192, 15.44777875343712, 15.41941759091857, 109.19976528358212, 104.46438864406177, 154.82357492900664, 54.9544525811905, 37.0326326881646, 777.7001945490957, 61.63037345120754, 317.57516537065106, 105.47749008643746, 760.5725451655667, 78.86172691832391, 91.85520995540162, 55.98909464642041, 85.91196234526939, 76.63160133448824, 379.0188134855592, 68.72729749356427, 44.245382635715124, 560.2982648199339, 724.581170972896, 607.8232393499179, 122.08310939822637, 293.98603847147297, 145.74269755834504, 206.15016736063362, 807.1204836791634, 474.7488232439016, 115.52556041247125, 79.97573816027841, 79.31960487088327, 59.63998190636652, 53.59951422388618, 50.90994612285026, 41.71248941369751, 41.686542424674805, 39.723292536778125, 39.379334599572104, 38.78064016118469, 37.65756032192106, 37.34721656011515, 34.664238134282655, 32.44836816439265, 32.31430887824318, 31.948336183908456, 26.699910236141978, 26.041357881852658, 25.148487502839103, 22.73542023959197, 22.603566748453662, 22.456995497918044, 22.434010004283962, 21.87680109045296, 21.293476602669692, 21.239850386693305, 20.80368761130963, 20.05863511171561, 18.859458684618943, 110.58017741449865, 155.50477179373837, 153.407748427547, 940.6630282673626, 41.603880796362425, 80.85071468404209, 53.17579950607347, 66.69288656651001, 63.201088834850125, 102.44776994580856, 69.19244649676483, 120.27972670103917, 209.71246439208764, 138.31355500755026, 807.1204836791634, 607.8232393499179, 242.62780356323105, 474.7488232439016, 267.1003040092479, 376.4529115819342, 510.5107313762705, 90.11832016792643, 249.26341221586648, 177.44461293336775, 135.73948059519142, 99.15793743007127, 88.16548841650666, 77.30640834550033, 70.73805164589805, 60.72013709850826, 51.90204190648282, 49.96798735091872, 48.94318206293945, 48.71334968413362, 46.40317065223791, 43.788842736188464, 42.02635508690209, 35.97908374168288, 34.802513652041455, 34.30979992957607, 28.72102193512998, 26.28290190797751, 26.037199018529485, 25.613384115344108, 24.1473715138056, 23.927016344622757, 23.901135418327424, 23.28261094407709, 23.15298017102026, 22.476109588871214, 22.4403675344632, 22.2879125410221, 22.087649502479977, 119.19746249984978, 61.93456769034055, 57.87947748224959, 114.51315512192474, 261.6571101899976, 48.669135395223286, 792.0323002723833, 92.02970987361739, 88.01762264055556, 85.21427963861923, 55.989136541925475, 531.8935875962476, 510.5107313762705, 74.69764024466654, 796.7247095696549, 329.0795331100577, 113.05810937957995, 418.3640412847162, 483.3948096338013, 628.6846604290935, 440.82805052271067, 224.44700306320942, 445.96820833517614, 126.35610563329408, 119.88695892789411, 105.78907502080624, 105.51395317382583, 98.45543745571673, 78.43804654560363, 65.20208222525342, 63.52937246132896, 59.55568186866758, 55.20103952457075, 51.20314411689905, 48.55726356229251, 43.35286548862182, 39.6172492789004, 36.45307285600862, 36.36075240393424, 35.933160184960975, 32.10399233530098, 31.23154395745937, 29.821767776227055, 29.194985696437556, 28.959367612163867, 28.550159822903765, 28.328750297213073, 27.53316047866772, 25.742230633049036, 24.888470769645675, 22.358130520597573, 21.6067404845394, 281.45091293138324, 161.88702349783375, 77.27932617363565, 128.4457037020589, 108.36675230159437, 61.39853397606667, 113.22093971827783, 132.31182267588693, 277.0484871127844, 84.96508439620166, 217.75783541226, 125.77066183210371, 97.41850943889052, 293.98603847147297, 65.80001647792987, 483.3948096338013, 164.8192634915526, 294.8215630676787, 89.95046122257936, 68.91394300513751, 63.69154733254283, 61.96174178116558, 49.25090325829866, 48.96795331012183, 48.79177694876482, 46.686147688128244, 40.56713564346641, 39.39230639403106, 37.351880869683576, 36.55076551391815, 36.32757416034666, 33.70522023729494, 33.70430876384922, 32.19958659937313, 31.86038965781301, 31.29819738412598, 30.750702761569375, 30.281124285645173, 29.43095661803869, 25.959156458642372, 25.760366202586642, 24.552699967251442, 22.86792923924862, 22.5030917488974, 21.596205982845003, 21.4272427467579, 54.76350714471631, 63.32058861947101, 33.46886883172306, 113.71699618271971, 130.8752446777587, 53.92131568471962, 45.70772882851681, 131.82783838548403, 54.68132975325153, 555.0328896906448, 58.524361436608984, 77.564693729435, 314.0049565212756, 101.09807610128412, 940.6630282673626, 807.1204836791634, 128.33822470615888, 253.2572520028107, 980.1440748775037, 286.4267035378869, 156.26732015394327, 96.45791908978885, 87.8977048588696, 60.314568069656836, 59.364293992491085, 51.841319000830886, 51.77202927670526, 51.37446261829914, 48.164991566617594, 45.755687817891435, 33.09211734089628, 30.873514725549395, 27.367849018833756, 27.246879192993916, 27.21289552447515, 27.201575824595714, 25.776253665892295, 24.989962656030446, 24.92495898467429, 24.64429627486312, 24.18663306624865, 23.973500701018125, 23.497884636154577, 23.170901752239637, 20.218580881245558, 19.877033684305186, 19.594895612752445, 18.844821686200024, 18.5708299345575, 18.087429989792206, 125.42236320330917, 32.228086175461776, 58.51272324725966, 67.53554649335094, 67.91156731082651, 42.63207597204645, 68.35458025639258, 102.76886000892888, 84.41286995426574, 212.13331345066425, 59.17354283668429, 112.01198924084942, 50.14326883540147, 40.79457804226479, 719.9909221411089, 163.96576210331628, 206.15016736063362, 57.91443373120497, 450.8470317414444, 204.24489880075419, 940.6630282673626, 231.03592635527028, 807.1204836791634, 85.33464400214633, 428.8361888296929, 373.2826766722151, 76.89612454676849, 75.13828133735026, 57.63383255193268, 46.82322387843514, 43.99631561864184, 42.59096569165062, 42.04925279755378, 40.297761677572666, 38.66009154375626, 38.16063747546413, 36.274913336102614, 35.66555730666882, 35.30756321603744, 34.648236660506555, 32.99594136837698, 32.5072358828273, 32.36751285580063, 32.36696115227542, 32.294481655496995, 30.872783286845554, 28.606993780428837, 28.145483965880832, 26.511970943499666, 26.335283008131704, 24.93388791746743, 23.81179537746209, 23.468203618259068, 22.84569825474028, 22.252056979689012, 21.358359166780517, 53.18071327319377, 151.6422325968399, 58.343439562960135, 40.68722165790677, 77.37669962710643, 67.67531856633818, 149.19530752897043, 33.56510083873138, 46.99227259628081, 106.34914790268576, 143.09951747964038, 49.20511033310966, 103.86391242020288, 607.8232393499179, 123.97738527534514, 807.1204836791634, 428.8361888296929, 164.20756457992306, 628.6846604290935, 468.6806702996016, 314.0049565212756, 474.7488232439016, 531.8935875962476, 440.82805052271067, 796.7247095696549, 123.28788642252906, 93.6583587811411, 92.1939796756282, 60.914573843367016, 46.57230875033043, 45.34905503379663, 43.20850949937841, 35.545853160156994, 32.373861710402075, 30.966977490038744, 29.50573944604899, 29.344153293025236, 27.737376779866235, 27.389967005318535, 26.048803313829737, 26.00555824287937, 25.715819285494366, 24.686761729165124, 23.244819913166804, 22.96751487499539, 22.8664936537997, 21.810732598446787, 21.788332604151655, 21.721522717805286, 21.081689015855744, 20.88385929546432, 20.344048597143985, 20.19053235908202, 20.004844268625934, 19.75447316021763, 159.61690178459966, 65.30283808847587, 43.05250090149653, 37.712364125312256, 188.6644511259228, 33.24659863549334, 55.98514418280843, 83.36562023666393, 60.79178684184637, 204.24489880075419, 97.9624641204111, 33.96411358492801, 77.26955626416466, 128.57100354779732, 122.65578668497773, 418.3640412847162, 807.1204836791634, 193.44866872256378, 126.1887813284056, 266.8892145931763, 331.49028937212637, 137.67796481252984, 531.8935875962476, 440.82805052271067, 82.36920888526603, 79.17525752586563, 66.72285287772237, 50.71358640376341, 49.50109175294152, 49.23701499396781, 45.8183898149472, 43.9850731076999, 43.750598570499044, 41.341133737446654, 41.33542243755391, 39.5094928523739, 36.951728521825096, 36.83914060476956, 36.751479647929834, 36.16134749530917, 35.799092941911404, 33.322461229981606, 31.873854210682058, 29.58494133332232, 29.199456422918658, 28.910704994209272, 28.614153092929847, 28.497942523737137, 27.364872347252643, 27.259630386772514, 26.728271007344603, 26.320782121094073, 24.841493682628634, 24.018032271269306, 109.32922287103472, 88.30305030474089, 59.91192908215469, 60.627788925207504, 112.64490527542969, 67.13690890138774, 73.22830029771843, 296.01569062302707, 39.916969131381045, 209.16408182911144, 147.90380054757793, 807.1204836791634, 228.48645384845275, 191.44877600645512, 187.89343089481605, 121.8775382425398, 107.79647070041621, 105.67922847056184, 60.67545199513833, 59.54916056616803, 58.62658310912047, 51.47619057402386, 45.96323517835796, 41.61854294852509, 32.62630227989869, 31.764130227220697, 31.35155791714966, 27.918072548515784, 27.257681250189123, 25.91144372386688, 24.813378171561112, 23.68751356340823, 22.28283697336756, 22.06935860800975, 21.483593620112156, 21.33574410153009, 20.859971271304644, 19.989584759408523, 18.98921674275558, 18.799798158096657, 18.75016827809005, 18.001847891202814, 116.82705401642697, 38.405126661950476, 93.04864366455553, 47.93461896151664, 106.76652125536732, 43.070365104396146, 47.43838948838169, 724.581170972896, 331.49028937212637, 80.26948396536572, 269.41183326591613, 560.2982648199339, 214.7262498728597, 104.05110081758892, 285.3872513250153, 138.30996993743787, 88.43992246692369, 58.188723014353606, 46.33925368820112, 42.86174721649656, 39.60620006254481, 39.007844909047414, 38.807935576694184, 36.59624023645802, 62.57376896940415, 34.30442009515387, 33.92584099646792, 33.539137274245995, 32.97394215165774, 32.157784275717454, 31.51227961940786, 30.98254422927029, 28.41357500790247, 28.32325190609963, 27.382025598078343, 24.8582442288785, 24.756989502135685, 24.213365420572522, 23.222607517483947, 21.59086519978567, 21.177578985138553, 21.052508430730658, 20.04623643923932, 19.063336956470764, 18.984679063707738, 39.16056711385356, 89.34372434515137, 41.29706044457085, 153.86487304729792, 55.122609885818974, 79.20393622278411, 74.8993198773756, 47.55405588366801, 62.603527306068564, 49.60810253732038, 131.2882752425852, 54.09276847055827, 440.82805052271067, 104.05373207127246, 75.47742020372374, 442.6410588010631, 141.9967858955857, 796.7247095696549, 181.79295540109936, 323.6244734460893, 131.36786212816114, 96.8126838945583, 63.56825136917606, 60.68248943035952, 56.50228674216085, 53.62984819593595, 44.873102774638, 42.66498975424613, 38.62049248219369, 31.9302698353299, 31.75595995908583, 31.235223255248542, 27.040697323782005, 25.259969244083017, 24.957516323693092, 22.97952393449691, 21.776452651030034, 21.337202438267777, 20.803469417930128, 20.15409666309162, 20.10914139759417, 19.20483030522171, 19.0010716494495, 18.6778624149099, 18.41384317572592, 18.40249323421222, 16.43711429438745, 16.22592661125267, 15.860085245814652, 43.44541890838659, 62.70967277437138, 36.63275921987467, 67.57918503449022, 91.5442997460942, 100.7433948773185, 76.00780161759656, 47.05444452887193, 45.611006736015376, 302.5986070139722, 807.1204836791634, 258.93277061049986, 450.8470317414444, 468.6806702996016, 66.94916422735736, 60.83217073948392, 54.08627660347272, 48.95644019635636, 47.01371911791349, 46.0819658760906, 45.77592988881273, 41.54213809663831, 37.85685082376034, 36.964358208909005, 35.893454572231484, 32.26463723429005, 31.899069434805327, 30.704682129803693, 29.642946217982363, 27.49676239664197, 25.989882969784723, 25.01755960235432, 24.323188259981396, 23.947264520753844, 23.755927600404945, 21.829866116793056, 21.806129408366093, 21.402636724518498, 21.31139464313645, 21.108626073674632, 20.91566206544606, 20.693818782834242, 20.005299530456096, 19.15414885690999, 40.23519325899973, 74.76373984613932, 181.79295540109936, 40.27542743495414, 155.76446619295308, 64.90230786402708, 28.546718850357433, 157.62020353293448, 58.843127554031284, 141.9967858955857, 980.1440748775037, 47.38950943087805, 940.6630282673626, 442.6410588010631], \"loglift\": [30.0, 29.0, 28.0, 27.0, 26.0, 25.0, 24.0, 23.0, 22.0, 21.0, 20.0, 19.0, 18.0, 17.0, 16.0, 15.0, 14.0, 13.0, 12.0, 11.0, 10.0, 9.0, 8.0, 7.0, 6.0, 5.0, 4.0, 3.0, 2.0, 1.0, 2.5871, 2.5862, 2.5851, 2.5842, 2.5834, 2.5739, 2.5727, 2.5702, 2.5688, 2.5667, 2.5653, 2.565, 2.5605, 2.5602, 2.56, 2.558, 2.5559, 2.5536, 2.5529, 2.5513, 2.5488, 2.5463, 2.5447, 2.5434, 2.5428, 2.5424, 2.5402, 2.539, 2.5383, 2.5372, 2.4752, 2.4889, 2.4373, 2.3205, 2.4341, 2.2751, 2.4457, 2.1923, 2.1318, 1.9166, 2.188, 1.8566, 1.2867, 1.5776, 1.5656, 1.2455, 1.18, 0.5981, 0.5101, 1.0097, 1.3842, 1.3469, 0.0984, 0.8705, 0.6667, 0.5244, 0.9384, 2.6245, 2.624, 2.6232, 2.6228, 2.6216, 2.617, 2.616, 2.6148, 2.6127, 2.6124, 2.612, 2.6112, 2.6089, 2.6067, 2.6047, 2.6044, 2.6027, 2.6025, 2.6011, 2.5993, 2.5988, 2.5982, 2.5962, 2.5959, 2.5956, 2.5955, 2.5928, 2.5922, 2.5916, 2.5912, 2.5755, 2.5562, 2.511, 2.2527, 2.2489, 2.4555, 2.4709, 2.2647, 2.3576, 2.1647, 2.2871, 1.8825, 1.5605, 1.6332, 2.0542, 1.3179, 2.029, 1.9274, 2.1605, 1.61, 1.7255, 1.279, 0.8799, 1.7196, 1.1709, 1.2947, 1.3891, 0.661, 1.3719, 1.2313, 0.8602, 0.5918, 2.7629, 2.7619, 2.7595, 2.7543, 2.7524, 2.749, 2.7487, 2.745, 2.7444, 2.7399, 2.7392, 2.7368, 2.7363, 2.7345, 2.7333, 2.7325, 2.7321, 2.732, 2.7305, 2.7298, 2.7287, 2.7272, 2.7258, 2.7256, 2.7241, 2.7226, 2.7207, 2.7198, 2.7181, 2.7173, 2.7137, 2.6523, 2.6063, 2.64, 2.6121, 2.1172, 2.4845, 2.4334, 2.4373, 2.5357, 2.2885, 2.111, 2.0056, 1.6418, 1.3287, 1.485, 1.9109, 0.9119, 0.6291, 0.766, 1.9476, 0.4537, 1.1007, 1.3092, 0.5297, 0.1669, 0.6052, 1.0872, 2.8429, 2.8418, 2.8339, 2.8334, 2.8313, 2.8313, 2.8307, 2.8304, 2.829, 2.8285, 2.8263, 2.8263, 2.8246, 2.8226, 2.8219, 2.8211, 2.8189, 2.815, 2.8138, 2.8089, 2.8078, 2.8056, 2.8056, 2.8042, 2.8015, 2.8015, 2.8004, 2.7976, 2.7968, 2.7959, 2.7762, 2.7696, 2.7522, 2.6887, 2.5921, 2.7196, 2.5468, 2.7011, 2.5495, 2.3423, 2.6651, 1.7693, 2.073, 2.4508, 1.481, 1.955, 2.1392, 1.6101, 1.4929, 1.2023, 1.3098, 2.1202, 0.4482, 2.9073, 2.9059, 2.9037, 2.9026, 2.9022, 2.9012, 2.9006, 2.8986, 2.8984, 2.8934, 2.8921, 2.8893, 2.889, 2.8882, 2.8876, 2.8863, 2.8863, 2.886, 2.8856, 2.8846, 2.8837, 2.8763, 2.8757, 2.8741, 2.8734, 2.8733, 2.8728, 2.8718, 2.8714, 2.8714, 2.7878, 2.796, 2.7472, 2.7654, 2.7098, 2.7501, 2.6708, 2.8041, 2.7285, 2.7148, 2.5526, 2.6921, 2.5187, 2.5267, 2.5736, 2.4258, 2.5278, 2.5364, 2.5321, 1.9067, 2.3088, 1.4024, 1.9601, 2.0847, 1.6152, 2.9204, 2.9196, 2.9183, 2.9167, 2.9139, 2.9122, 2.9021, 2.8991, 2.8976, 2.8956, 2.8945, 2.894, 2.8912, 2.8912, 2.8911, 2.8908, 2.8901, 2.8889, 2.8886, 2.8877, 2.8846, 2.8834, 2.8828, 2.8812, 2.8806, 2.8733, 2.872, 2.8656, 2.8646, 2.8634, 2.8369, 2.7405, 2.7242, 2.6422, 2.6912, 2.6178, 2.6815, 2.7112, 2.7286, 2.738, 2.6921, 2.6406, 2.3936, 2.7022, 2.5098, 2.3287, 2.6149, 1.4809, 1.9438, 1.7578, 1.5968, 0.3962, 1.3572, 0.3865, 1.5166, 2.9253, 2.9244, 2.9218, 2.9202, 2.9201, 2.9198, 2.9191, 2.9173, 2.9152, 2.9139, 2.9138, 2.9132, 2.9113, 2.9099, 2.9099, 2.9097, 2.9088, 2.9081, 2.9073, 2.9068, 2.9066, 2.9064, 2.9063, 2.9047, 2.9028, 2.9027, 2.9015, 2.9008, 2.9002, 2.9, 2.8397, 2.8391, 2.7609, 2.5229, 2.7854, 2.2815, 2.5438, 2.1142, 1.9507, 2.6804, 2.1007, 2.3005, 2.3038, 1.4886, 1.0566, 2.1347, 2.2953, 0.5822, 0.2442, 1.0476, 0.4106, 2.9518, 2.9488, 2.9379, 2.9362, 2.9349, 2.9338, 2.9333, 2.9248, 2.9245, 2.924, 2.9233, 2.9214, 2.9205, 2.919, 2.9189, 2.9187, 2.9149, 2.9129, 2.9093, 2.9066, 2.9051, 2.9012, 2.901, 2.9006, 2.9, 2.8991, 2.8983, 2.8982, 2.8982, 2.898, 2.8893, 2.8861, 2.7766, 2.8305, 2.8491, 2.6362, 2.8084, 2.6714, 2.7417, 2.5009, 2.7322, 2.6758, 2.6076, 2.4435, 2.4475, 1.7752, 2.4341, 2.6282, 0.9766, 0.7702, 0.8384, 1.9044, 1.2807, 1.7556, 1.4808, 0.1619, 0.6, 2.9524, 2.9491, 2.949, 2.9454, 2.9437, 2.9428, 2.9391, 2.939, 2.938, 2.9378, 2.9375, 2.9368, 2.9366, 2.9348, 2.933, 2.9329, 2.9326, 2.9271, 2.9263, 2.9251, 2.9213, 2.9211, 2.9208, 2.9208, 2.9198, 2.9187, 2.9186, 2.9177, 2.9161, 2.9132, 2.8728, 2.8299, 2.7365, 2.5126, 2.8443, 2.7606, 2.8026, 2.7641, 2.762, 2.6808, 2.7305, 2.6159, 2.0409, 2.2081, 1.2379, 1.3526, 1.7206, 1.0835, 1.4495, 1.1746, 0.8915, 2.2708, 1.2024, 2.9742, 2.9727, 2.9703, 2.9693, 2.9679, 2.9668, 2.9648, 2.9624, 2.9617, 2.9613, 2.9613, 2.9604, 2.9592, 2.9584, 2.9549, 2.954, 2.9537, 2.9487, 2.9458, 2.9455, 2.9449, 2.9428, 2.9425, 2.9424, 2.9414, 2.9412, 2.9401, 2.94, 2.9397, 2.9394, 2.8539, 2.872, 2.8401, 2.6793, 2.5269, 2.8015, 1.8364, 2.4712, 2.4659, 2.4723, 2.6291, 1.6578, 1.6294, 2.4974, 0.9041, 1.3376, 2.0746, 0.9791, 0.8353, 0.5726, 0.8391, 1.4022, 2.986, 2.9811, 2.9807, 2.9797, 2.9797, 2.9791, 2.9769, 2.9746, 2.9743, 2.9734, 2.9722, 2.971, 2.97, 2.9679, 2.966, 2.964, 2.964, 2.9637, 2.9608, 2.96, 2.9587, 2.958, 2.9578, 2.9573, 2.9571, 2.9562, 2.9539, 2.9528, 2.9487, 2.9473, 2.8591, 2.8163, 2.8439, 2.7522, 2.7407, 2.815, 2.631, 2.5561, 2.0855, 2.545, 2.1184, 2.3555, 2.3759, 1.6054, 2.5239, 1.0173, 3.0822, 3.0785, 3.0779, 3.0749, 3.0739, 3.0735, 3.0699, 3.0698, 3.0697, 3.0689, 3.0661, 3.0654, 3.0642, 3.0637, 3.0635, 3.0617, 3.0617, 3.0604, 3.0601, 3.0596, 3.0591, 3.0587, 3.0578, 3.0538, 3.0536, 3.0519, 3.0492, 3.0485, 3.0469, 3.0466, 2.9008, 2.8495, 2.965, 2.6917, 2.5573, 2.7983, 2.8555, 2.4647, 2.772, 1.6669, 2.703, 2.5024, 1.4221, 2.2278, 0.5546, 0.6206, 2.0288, 1.3715, 0.1027, 1.0979, 3.0905, 3.0871, 3.0862, 3.0817, 3.0815, 3.0793, 3.0793, 3.0792, 3.0781, 3.0771, 3.0698, 3.0678, 3.0642, 3.064, 3.064, 3.064, 3.0622, 3.0611, 3.061, 3.0606, 3.0599, 3.0596, 3.0588, 3.0583, 3.0526, 3.0519, 3.0512, 3.0494, 3.0487, 3.0474, 2.9602, 2.9993, 2.8889, 2.8655, 2.8016, 2.878, 2.7473, 2.6258, 2.6285, 2.2968, 2.741, 2.4979, 2.7833, 2.8342, 1.1688, 1.9077, 1.7554, 2.5692, 0.9782, 1.5664, 0.3406, 1.4405, 0.3305, 2.2335, 0.7102, 0.836, 3.1063, 3.106, 3.1025, 3.099, 3.0978, 3.0971, 3.0968, 3.0959, 3.095, 3.0947, 3.0935, 3.0931, 3.0928, 3.0924, 3.0911, 3.0907, 3.0906, 3.0906, 3.0905, 3.0893, 3.087, 3.0865, 3.0845, 3.0843, 3.0824, 3.0807, 3.0802, 3.0791, 3.0781, 3.0764, 3.0466, 2.9053, 2.9912, 3.0152, 2.8219, 2.8305, 2.5064, 2.9951, 2.8635, 2.521, 2.382, 2.8178, 2.3016, 0.9342, 2.0761, 0.5699, 1.0175, 1.7546, 0.427, 0.6482, 1.0209, 0.6156, 0.4977, 0.67, 0.0672, 3.1756, 3.1734, 3.1733, 3.1684, 3.164, 3.1635, 3.1626, 3.1582, 3.1557, 3.1545, 3.1531, 3.1529, 3.1512, 3.1508, 3.1491, 3.149, 3.1486, 3.1472, 3.145, 3.1445, 3.1443, 3.1424, 3.1424, 3.1423, 3.141, 3.1406, 3.1395, 3.1391, 3.1387, 3.1382, 3.0681, 3.0627, 3.0672, 3.0686, 2.8262, 3.0519, 2.9342, 2.8341, 2.8517, 2.4005, 2.6022, 2.9814, 2.5848, 2.2337, 2.2188, 1.4662, 0.56, 1.6361, 1.9579, 1.3334, 1.0487, 1.8065, 0.5593, 0.6758, 3.2018, 3.2013, 3.1987, 3.1952, 3.1947, 3.1946, 3.1933, 3.1925, 3.1924, 3.1912, 3.1912, 3.1903, 3.1887, 3.1886, 3.1886, 3.1882, 3.1879, 3.1861, 3.1849, 3.1828, 3.1824, 3.1821, 3.1817, 3.1816, 3.1803, 3.1802, 3.1796, 3.179, 3.177, 3.1758, 3.0681, 3.0577, 2.9664, 2.9462, 2.7117, 2.8673, 2.6833, 1.3962, 2.9273, 1.4319, 1.6572, 0.0035, 3.2196, 3.2189, 3.2188, 3.2163, 3.2154, 3.2152, 3.2091, 3.2088, 3.2086, 3.2065, 3.2045, 3.2025, 3.1967, 3.1959, 3.1956, 3.1921, 3.1913, 3.1896, 3.1881, 3.1864, 3.184, 3.1836, 3.1825, 3.1823, 3.1813, 3.1794, 3.177, 3.1766, 3.1764, 3.1744, 3.1473, 3.1207, 2.9811, 2.9559, 2.5973, 2.8862, 2.8351, 1.2124, 1.603, 2.3982, 1.6463, 1.1513, 1.7071, 2.0438, 0.9956, 3.2655, 3.262, 3.2569, 3.253, 3.2515, 3.2498, 3.2495, 3.2493, 3.248, 3.2474, 3.2464, 3.2461, 3.2458, 3.2453, 3.2446, 3.2441, 3.2436, 3.241, 3.2409, 3.2398, 3.2365, 3.2364, 3.2356, 3.234, 3.2311, 3.2303, 3.2301, 3.2279, 3.2256, 3.2254, 3.1894, 3.1389, 3.117, 2.7772, 2.9898, 2.8512, 2.8295, 2.9839, 2.8578, 2.9157, 2.3728, 2.7772, 1.2293, 2.2106, 2.4603, 0.8405, 1.8671, 0.1454, 1.5853, 3.3133, 3.3094, 3.307, 3.3023, 3.3017, 3.3006, 3.2998, 3.2966, 3.2956, 3.2934, 3.2886, 3.2885, 3.288, 3.2836, 3.2813, 3.2809, 3.2778, 3.2757, 3.2748, 3.2737, 3.2724, 3.2723, 3.2701, 3.2696, 3.2688, 3.2681, 3.2681, 3.2622, 3.2615, 3.2602, 3.1959, 3.0703, 3.0373, 2.7336, 2.6017, 2.5347, 2.6558, 2.7885, 2.7478, 1.4068, 0.3596, 1.165, 0.6438, 0.6052, 3.3535, 3.3522, 3.3504, 3.3488, 3.348, 3.3476, 3.3475, 3.3456, 3.3435, 3.3429, 3.3422, 3.3395, 3.3391, 3.3381, 3.337, 3.3347, 3.3328, 3.3315, 3.3305, 3.3299, 3.3296, 3.3263, 3.3262, 3.3255, 3.3253, 3.3249, 3.3245, 3.324, 3.3225, 3.3205, 3.2156, 3.0911, 2.5782, 3.0615, 2.446, 2.7972, 3.1792, 2.1613, 2.7365, 1.8129, 0.1425, 2.7394, 0.0602, 0.6031], \"logprob\": [30.0, 29.0, 28.0, 27.0, 26.0, 25.0, 24.0, 23.0, 22.0, 21.0, 20.0, 19.0, 18.0, 17.0, 16.0, 15.0, 14.0, 13.0, 12.0, 11.0, 10.0, 9.0, 8.0, 7.0, 6.0, 5.0, 4.0, 3.0, 2.0, 1.0, -2.0577, -2.9171, -3.4864, -3.7563, -3.9742, -5.1367, -5.2188, -5.3718, -5.454, -5.5596, -5.6228, -5.6365, -5.82, -5.8299, -5.8383, -5.9069, -5.9771, -6.0478, -6.0679, -6.1156, -6.1819, -6.2454, -6.285, -6.315, -6.33, -6.3375, -6.3868, -6.4125, -6.4263, -6.4492, -4.7803, -5.168, -5.1287, -4.1819, -5.3384, -4.2279, -5.6496, -4.5833, -4.9263, -4.3413, -5.213, -4.5086, -3.9025, -4.5775, -4.8368, -4.8876, -4.9048, -4.5728, -4.6549, -4.9641, -5.128, -5.1414, -4.8594, -5.0443, -5.0289, -5.0857, -5.1578, -4.1508, -4.2406, -4.3739, -4.4213, -4.319, -5.0272, -5.0992, -5.1857, -5.3153, -5.3337, -5.355, -5.3974, -5.5165, -5.6173, -5.701, -5.7125, -4.9043, -5.7858, -5.8339, -5.898, -5.9132, -5.933, -5.9937, -6.0031, -6.0113, -6.0163, -6.0919, -6.1085, -6.1237, -6.1361, -4.573, -5.3996, -5.3669, -3.0854, -3.5603, -5.0408, -5.4957, -4.7406, -5.1478, -4.817, -5.1307, -4.4216, -3.8413, -4.0624, -4.8007, -3.6399, -4.8471, -4.7668, -5.0487, -4.6685, -4.7792, -4.5055, -4.2851, -4.7973, -4.5118, -4.6792, -4.766, -4.5504, -4.8162, -4.8179, -4.8045, -4.8438, -3.0241, -3.4427, -4.0232, -4.6905, -4.8557, -5.1019, -5.1191, -5.3253, -5.3588, -5.5588, -5.5856, -5.6763, -5.6938, -5.7552, -5.7953, -5.8201, -5.8306, -5.8358, -5.879, -5.9016, -5.9331, -5.9727, -6.0095, -6.0165, -6.0541, -6.0915, -6.1365, -6.1562, -6.1946, -6.2113, -3.9992, -3.2709, -2.66, -5.2094, -5.4282, -2.8406, -4.8388, -4.9853, -5.197, -5.4801, -5.0618, -4.7389, -4.6589, -4.0926, -4.4557, -4.7737, -5.1385, -4.5237, -4.3698, -4.572, -5.2312, -4.6983, -4.9955, -5.1226, -5.0393, -4.9981, -5.0776, -5.1342, -2.8786, -3.3469, -4.6403, -4.6809, -4.8515, -4.8517, -4.8971, -4.9165, -5.0129, -5.0413, -5.173, -5.1731, -5.2612, -5.356, -5.3872, -5.4211, -5.5091, -5.6546, -5.6942, -5.842, -5.8731, -5.9321, -5.9326, -5.9693, -6.033, -6.0351, -6.0589, -6.1214, -6.1394, -6.1593, -3.9264, -3.3934, -3.0994, -4.4182, -3.8841, -5.3469, -4.2858, -5.3742, -4.6731, -4.2025, -5.4043, -3.3957, -4.1187, -5.0753, -3.6899, -4.5071, -4.7814, -4.2978, -4.4809, -4.4624, -4.6562, -5.0422, -4.8898, -4.2291, -4.3932, -4.6135, -4.7053, -4.7357, -4.8096, -4.8545, -4.9819, -4.9974, -5.2623, -5.3189, -5.4366, -5.4471, -5.478, -5.4996, -5.5475, -5.5491, -5.5582, -5.5738, -5.6063, -5.6348, -5.8529, -5.8669, -5.9079, -5.9258, -5.9278, -5.9405, -5.963, -5.9732, -5.9732, -3.5012, -4.6584, -4.1049, -4.5587, -4.27, -4.7178, -4.1781, -5.281, -4.7853, -4.6982, -3.9596, -4.7692, -4.1368, -4.1986, -4.4344, -3.9766, -4.5019, -4.6642, -4.7806, -4.4963, -4.8725, -4.3504, -4.8493, -4.9077, -4.8679, -3.7691, -4.0792, -4.2555, -4.4339, -4.6915, -4.8225, -3.9872, -5.4816, -5.5356, -5.6041, -5.6409, -5.6551, -5.7393, -5.7397, -5.7418, -5.7504, -5.7715, -5.8056, -5.8113, -5.8355, -5.9144, -5.9445, -5.9585, -5.9944, -6.008, -6.1605, -6.1849, -6.2992, -6.3168, -6.3368, -5.4767, -3.6732, -3.5869, -2.6178, -3.5581, -2.8993, -3.899, -4.4524, -4.7499, -4.8823, -4.6259, -4.3854, -3.1329, -5.0313, -5.0211, -4.979, -5.4362, -4.2147, -4.7454, -4.5692, -4.9063, -4.7559, -5.1426, -5.0491, -5.2591, -4.1287, -4.2502, -4.5295, -4.6727, -4.6799, -4.6994, -4.7591, -4.8802, -5.0155, -5.0335, -5.0903, -5.1271, -5.2186, -5.2824, -5.2856, -5.2943, -5.3319, -5.3604, -5.3929, -5.4133, -5.4236, -5.4295, -5.435, -5.4952, -5.561, -5.5662, -5.6036, -5.6294, -5.648, -5.6519, -4.894, -4.9151, -4.5641, -3.4431, -4.9767, -3.4713, -4.4405, -4.1445, -3.964, -5.1644, -4.6492, -4.8411, -4.8673, -4.2682, -4.1549, -4.9553, -5.0768, -4.5887, -4.9208, -5.0016, -4.9913, -3.4206, -4.0267, -5.0055, -5.0996, -5.1655, -5.2175, -5.2415, -5.5713, -5.5814, -5.5974, -5.6199, -5.6787, -5.7031, -5.7481, -5.75, -5.7557, -5.8569, -5.9037, -5.989, -6.0465, -6.0778, -6.1536, -6.1583, -6.1656, -6.176, -6.1926, -6.2072, -6.2094, -6.2099, -6.2118, -4.263, -4.3106, -4.0266, -5.0085, -5.3846, -2.553, -4.916, -3.4134, -4.4453, -2.7105, -4.7456, -4.6495, -5.2127, -4.9487, -5.059, -4.1328, -5.1813, -5.4275, -4.5404, -4.4897, -4.5972, -5.1364, -4.8813, -5.1081, -5.0361, -4.9902, -5.0828, -4.1436, -4.5147, -4.5231, -4.8118, -4.9203, -4.9726, -5.1757, -5.1763, -5.2256, -5.2345, -5.2501, -5.2802, -5.2887, -5.365, -5.4328, -5.4371, -5.4488, -5.6337, -5.6595, -5.6956, -5.8003, -5.8063, -5.8131, -5.8141, -5.8403, -5.8685, -5.8711, -5.8927, -5.9308, -5.9953, -4.2669, -3.9689, -4.0759, -2.4863, -5.273, -4.6923, -5.0693, -4.8813, -4.9372, -4.5354, -4.8781, -4.4398, -4.4589, -4.7079, -3.9141, -4.083, -4.6334, -4.5992, -4.8083, -4.7401, -4.7186, -5.0736, -5.1246, -3.6927, -3.9621, -4.2785, -4.397, -4.5299, -4.6197, -4.7744, -4.9338, -4.9724, -4.9935, -4.9983, -5.0478, -5.1069, -5.1488, -5.3077, -5.3418, -5.3564, -5.5392, -5.6308, -5.6405, -5.6575, -5.7185, -5.728, -5.7292, -5.7564, -5.7622, -5.793, -5.7947, -5.8017, -5.8111, -4.2108, -4.8475, -4.947, -4.4255, -3.7516, -5.159, -3.3345, -4.8522, -4.9021, -4.9281, -5.1912, -3.9113, -3.9807, -5.0346, -4.2609, -4.7116, -5.043, -4.8301, -4.8294, -4.8293, -4.9177, -5.0297, -2.7593, -4.0253, -4.0783, -4.2043, -4.207, -4.2768, -4.5063, -4.6934, -4.7197, -4.7852, -4.8623, -4.9388, -4.9927, -5.1083, -5.2003, -5.2855, -5.2881, -5.3002, -5.4158, -5.4441, -5.4916, -5.5135, -5.5219, -5.5365, -5.5445, -5.5739, -5.6434, -5.6784, -5.7896, -5.8252, -3.3465, -3.9423, -4.6542, -4.2378, -4.4193, -4.9131, -4.4852, -4.4043, -4.1358, -4.8583, -4.3437, -4.6555, -4.8906, -4.5566, -5.135, -4.6473, -3.6584, -3.0807, -4.2684, -4.5377, -4.6176, -4.6455, -4.8787, -4.8846, -4.8882, -4.9332, -5.0765, -5.1065, -5.1609, -5.1831, -5.1894, -5.2662, -5.2662, -5.3131, -5.324, -5.3423, -5.3605, -5.3763, -5.4056, -5.5352, -5.5431, -5.5928, -5.6666, -5.6833, -5.7261, -5.7343, -4.9417, -4.8478, -5.3699, -4.4201, -4.414, -5.0596, -5.1677, -4.4993, -5.072, -3.8596, -5.0731, -4.992, -4.674, -5.0016, -4.4443, -4.5315, -4.9621, -4.9396, -4.8552, -5.0901, -3.7034, -4.1893, -4.2831, -4.6642, -4.6804, -4.818, -4.8193, -4.8272, -4.8928, -4.9451, -5.2765, -5.3478, -5.472, -5.4766, -5.4779, -5.4783, -5.5339, -5.566, -5.5687, -5.5804, -5.5998, -5.609, -5.6298, -5.6443, -5.7863, -5.8041, -5.819, -5.8599, -5.8752, -5.9029, -4.0537, -5.3734, -4.8873, -4.7674, -4.8257, -5.2149, -4.8735, -4.5872, -4.7813, -4.1915, -5.024, -4.629, -5.1473, -5.3028, -4.0975, -4.8381, -4.7615, -5.2174, -4.7562, -4.9598, -4.6584, -4.9625, -4.8216, -5.1655, -5.0742, -5.0872, -4.3968, -4.4202, -4.6889, -4.9002, -4.9636, -4.9968, -5.0098, -5.0533, -5.0957, -5.109, -5.1609, -5.1782, -5.1886, -5.2079, -5.258, -5.2734, -5.2778, -5.2778, -5.2801, -5.3264, -5.4049, -5.4217, -5.4834, -5.4903, -5.5469, -5.5946, -5.6097, -5.6376, -5.665, -5.7077, -4.8253, -3.9187, -4.788, -5.1244, -4.6749, -4.8003, -4.3339, -5.337, -5.1321, -4.6578, -4.4999, -5.1317, -4.9009, -4.5015, -4.9493, -4.5821, -4.767, -4.9898, -4.9749, -5.0474, -5.0752, -5.0671, -5.0714, -5.0868, -5.0978, -3.8553, -4.1324, -4.1483, -4.5676, -4.8405, -4.8676, -4.9169, -5.1165, -5.2124, -5.2581, -5.3079, -5.3135, -5.3716, -5.3846, -5.4365, -5.4382, -5.4498, -5.492, -5.5545, -5.5669, -5.5715, -5.6207, -5.6217, -5.6249, -5.6561, -5.6659, -5.6933, -5.7012, -5.7108, -5.724, -3.7047, -4.6038, -5.0159, -5.1469, -3.7794, -5.2897, -4.8862, -4.5881, -4.8864, -4.1257, -4.6588, -5.3388, -4.9135, -4.7554, -4.8174, -4.343, -4.5921, -4.9444, -5.0499, -4.9253, -4.9933, -5.1141, -5.0097, -5.081, -4.2325, -4.2725, -4.4462, -4.7242, -4.7488, -4.7542, -4.8275, -4.8692, -4.8746, -4.9324, -4.9326, -4.9787, -5.0472, -5.0503, -5.0528, -5.0693, -5.0796, -5.1532, -5.1988, -5.2755, -5.289, -5.2992, -5.3099, -5.3141, -5.3559, -5.3599, -5.3802, -5.3961, -5.456, -5.4909, -4.083, -4.3071, -4.7862, -4.7946, -4.4095, -4.7715, -4.8686, -4.7589, -5.2314, -5.0705, -5.1917, -5.1486, -3.1944, -3.372, -3.3908, -3.8262, -3.9499, -3.9699, -4.5309, -4.5499, -4.5657, -4.6979, -4.8132, -4.9145, -5.1637, -5.1912, -5.2047, -5.3241, -5.3489, -5.4012, -5.446, -5.4942, -5.5577, -5.5677, -5.5957, -5.6029, -5.6264, -5.6709, -5.7246, -5.7351, -5.7379, -5.7806, -3.9376, -5.0766, -4.3313, -5.0197, -4.5776, -5.1964, -5.151, -4.0475, -4.4389, -5.0619, -4.603, -4.3657, -4.7691, -5.1569, -5.1961, -3.6505, -4.1012, -4.525, -4.7565, -4.8361, -4.9167, -4.9323, -4.9376, -4.9976, -4.4618, -5.0639, -5.0753, -5.087, -5.1045, -5.1302, -5.1511, -5.1685, -5.2576, -5.2609, -5.2958, -5.3958, -5.4, -5.423, -5.4664, -5.5421, -5.5623, -5.5684, -5.6196, -5.6722, -5.6765, -4.9885, -4.2141, -5.0077, -4.0322, -4.8461, -4.6223, -4.6998, -4.9997, -4.8509, -5.0257, -4.5953, -5.0776, -4.5275, -4.9901, -5.0614, -4.9123, -5.0226, -5.0196, -5.0574, -2.7527, -3.6581, -3.9657, -4.3911, -4.4382, -4.5106, -4.5636, -4.7451, -4.7966, -4.8983, -5.0933, -5.0989, -5.1159, -5.2645, -5.335, -5.3475, -5.4331, -5.489, -5.5102, -5.5367, -5.5698, -5.5721, -5.6202, -5.6314, -5.6494, -5.6643, -5.6649, -5.7837, -5.7974, -5.8215, -4.8781, -4.6367, -5.2072, -4.8987, -4.727, -4.6982, -4.8589, -5.2058, -5.2776, -4.7263, -4.7924, -5.1239, -5.0906, -5.0904, -4.288, -4.3852, -4.5045, -4.6058, -4.6471, -4.6675, -4.6743, -4.7733, -4.8682, -4.8926, -4.9227, -5.0321, -5.0438, -5.083, -5.1193, -5.1968, -5.255, -5.2944, -5.3236, -5.3398, -5.3481, -5.436, -5.4371, -5.4565, -5.461, -5.471, -5.4805, -5.4917, -5.527, -5.5725, -4.9352, -4.4401, -4.0645, -5.0883, -4.3512, -4.8754, -5.3148, -4.6241, -5.0342, -5.0768, -4.8153, -5.2477, -4.9387, -5.1497]}, \"token.table\": {\"Topic\": [12, 2, 7, 13, 8, 13, 18, 18, 2, 8, 7, 14, 6, 14, 13, 13, 6, 17, 14, 6, 19, 1, 6, 20, 5, 14, 8, 13, 6, 15, 5, 1, 5, 7, 8, 12, 13, 14, 16, 1, 3, 6, 9, 11, 13, 20, 6, 15, 19, 6, 11, 5, 20, 9, 8, 7, 13, 5, 18, 17, 17, 5, 13, 5, 7, 5, 8, 13, 13, 3, 2, 17, 2, 3, 11, 14, 15, 8, 13, 18, 3, 16, 5, 10, 2, 5, 8, 13, 18, 17, 9, 2, 5, 7, 13, 18, 14, 15, 16, 14, 14, 3, 10, 16, 17, 18, 19, 1, 2, 3, 4, 5, 7, 8, 9, 10, 11, 14, 17, 1, 2, 4, 7, 9, 10, 13, 16, 17, 20, 18, 20, 17, 15, 9, 4, 17, 2, 3, 4, 6, 9, 16, 18, 20, 15, 17, 1, 7, 14, 15, 16, 20, 20, 9, 12, 10, 20, 2, 10, 19, 5, 18, 5, 18, 7, 6, 1, 2, 19, 17, 8, 11, 14, 4, 18, 12, 10, 6, 1, 2, 3, 5, 12, 14, 15, 20, 6, 8, 1, 4, 5, 11, 4, 17, 6, 19, 9, 6, 6, 20, 15, 20, 7, 1, 12, 3, 2, 8, 16, 1, 4, 5, 15, 19, 8, 18, 1, 17, 20, 3, 9, 10, 12, 1, 16, 9, 10, 14, 15, 18, 5, 18, 1, 5, 16, 11, 3, 13, 16, 2, 4, 7, 16, 19, 12, 20, 12, 1, 11, 16, 18, 3, 6, 9, 10, 14, 14, 3, 7, 17, 3, 9, 10, 3, 8, 19, 2, 9, 9, 9, 13, 2, 3, 17, 11, 3, 13, 8, 20, 2, 3, 1, 2, 3, 5, 14, 11, 8, 3, 13, 3, 13, 20, 1, 5, 20, 14, 16, 16, 4, 7, 18, 3, 17, 1, 2, 3, 6, 8, 12, 14, 15, 17, 19, 16, 9, 15, 3, 3, 14, 1, 10, 4, 20, 15, 20, 2, 6, 9, 13, 16, 18, 20, 6, 7, 5, 8, 10, 19, 6, 5, 6, 19, 8, 12, 17, 13, 19, 10, 8, 5, 15, 13, 1, 2, 3, 4, 5, 7, 9, 10, 12, 14, 15, 18, 12, 20, 5, 11, 20, 5, 2, 15, 9, 10, 16, 5, 10, 13, 11, 15, 20, 1, 17, 5, 4, 13, 14, 6, 12, 7, 15, 11, 7, 1, 2, 6, 11, 14, 17, 19, 20, 11, 13, 18, 5, 16, 19, 1, 6, 18, 4, 19, 1, 15, 7, 16, 17, 8, 9, 12, 15, 17, 15, 8, 17, 5, 9, 16, 17, 14, 16, 8, 16, 1, 5, 11, 17, 18, 7, 7, 5, 2, 4, 10, 11, 14, 17, 4, 14, 2, 17, 4, 17, 2, 6, 8, 13, 6, 8, 13, 5, 19, 10, 12, 1, 17, 1, 15, 11, 1, 4, 5, 10, 1, 20, 12, 6, 20, 7, 14, 19, 8, 10, 12, 13, 14, 18, 20, 8, 10, 13, 15, 18, 20, 15, 19, 10, 3, 5, 8, 12, 1, 8, 18, 1, 5, 18, 5, 1, 3, 4, 15, 11, 19, 2, 14, 16, 9, 19, 3, 9, 4, 18, 8, 2, 14, 7, 4, 6, 16, 16, 20, 5, 1, 13, 10, 16, 15, 5, 11, 2, 5, 12, 18, 5, 10, 16, 2, 11, 5, 13, 20, 3, 4, 7, 16, 19, 2, 12, 14, 16, 8, 1, 16, 2, 2, 19, 2, 3, 4, 6, 7, 10, 11, 12, 13, 14, 17, 7, 2, 2, 15, 16, 17, 14, 11, 16, 18, 4, 18, 8, 14, 7, 13, 6, 9, 13, 14, 15, 1, 20, 10, 12, 1, 19, 10, 1, 4, 6, 7, 9, 6, 6, 7, 8, 9, 12, 14, 16, 1, 2, 9, 11, 14, 2, 11, 1, 9, 7, 10, 9, 14, 3, 13, 14, 2, 9, 1, 2, 3, 5, 6, 7, 8, 9, 10, 11, 13, 14, 18, 19, 1, 5, 11, 15, 11, 3, 5, 1, 2, 3, 14, 17, 18, 11, 20, 2, 19, 3, 7, 9, 12, 13, 14, 20, 17, 8, 13, 13, 15, 6, 4, 8, 2, 5, 15, 16, 3, 11, 2, 8, 10, 14, 17, 18, 6, 15, 2, 1, 8, 1, 8, 9, 16, 18, 4, 2, 11, 16, 17, 11, 15, 16, 1, 2, 3, 4, 7, 10, 11, 13, 19, 16, 10, 1, 10, 13, 14, 1, 3, 7, 15, 19, 20, 5, 12, 5, 17, 2, 3, 10, 3, 4, 6, 8, 9, 14, 16, 20, 17, 6, 12, 14, 6, 9, 14, 5, 9, 2, 17, 8, 19, 3, 3, 20, 2, 6, 2, 7, 17, 20, 16, 6, 7, 5, 4, 18, 20, 9, 4, 6, 8, 12, 13, 14, 15, 19, 20, 7, 8, 11, 18, 14, 15, 4, 20, 15, 10, 4, 15, 3, 6, 8, 17, 18, 4, 15, 7, 2, 3, 20, 2, 12, 16, 6, 12, 15, 16, 7, 18, 18, 18, 14, 19, 14, 3, 5, 6, 8, 10, 16, 18, 9, 16, 9, 2, 10, 15, 9, 16, 3, 6, 12, 13, 14, 11, 7, 11, 16, 1, 8, 2, 7, 7, 18, 1, 2, 5, 11, 13, 16, 8, 11, 13, 18, 13, 19, 5, 19, 3, 20, 7, 11, 1, 13, 14, 15, 16, 3, 5, 9, 11, 13, 14, 13, 14, 16, 3, 6, 7, 19, 1, 2, 4, 6, 7, 10, 12, 13, 18, 19, 1, 2, 3, 4, 7, 11, 14, 15, 16, 17, 12, 2, 11, 19, 1, 5, 11, 12, 17, 19, 10, 7, 1, 2, 3, 4, 5, 10, 14, 15, 19, 17, 9, 11, 12, 19, 6, 8, 17, 1, 13, 5, 8, 10, 11, 14, 3, 1, 12, 5, 16, 16, 2, 6, 9, 1, 2, 7, 9, 13, 4, 18, 13, 4, 19, 10, 18, 10, 18, 7, 8, 15, 20, 18, 4, 9, 6, 11, 17, 14, 3, 13, 6, 16, 2, 4, 9, 4, 20, 20, 6, 1, 5, 3, 4, 8, 13, 14, 16, 19, 9, 9, 13, 17, 19, 1, 8, 14, 7, 9, 11, 17, 4, 19, 10, 12, 5, 5, 14, 16, 10, 10, 13, 13, 17, 9, 1, 10, 17, 15, 11, 6, 20, 17, 20, 8, 19, 7, 2, 3, 7, 8, 9, 12, 16, 1, 3, 13, 16, 17, 18, 10, 2, 3, 4, 5, 7, 8, 10, 11, 13, 14, 16, 18, 19, 19, 14, 1, 2, 3, 6, 12, 20, 5, 19, 18, 16, 1, 11, 18, 3, 8, 16, 8, 12, 2, 7, 8, 10, 18, 4, 17, 7, 16, 14, 18, 1, 20, 12, 17, 2, 7, 12, 19, 7, 1, 15, 6, 9, 13, 20, 9, 2, 4, 13, 15, 3, 4, 12, 13, 14, 18, 4, 11, 10, 2, 10, 5, 11, 1, 2, 3, 4, 7, 10, 14, 18, 6, 12, 10, 4, 9, 18, 15, 10, 18, 13, 12, 2, 3, 8, 14, 15, 19, 1, 2, 3, 4, 17, 20, 10, 9, 1, 9, 14, 13, 4, 10, 11, 8, 1, 13, 18, 12, 17, 2, 12, 2, 3, 14, 7, 9, 15, 19, 7, 16, 1, 4, 12, 5, 2, 1, 1, 8, 1, 9, 20, 5, 6, 5, 9, 6, 12, 14, 16, 15, 16, 4, 3, 11, 12, 14, 16, 10, 9, 11, 15, 18, 8, 9, 18, 20, 17, 2, 8, 10, 13, 18, 3, 6, 7, 11, 4, 10, 15, 20, 3, 14, 14, 6, 2, 8, 17, 15, 8, 4, 10, 18, 14, 16, 4, 14, 18, 5, 7, 12, 13, 18, 20, 14, 1, 2, 3, 5, 14, 12, 11, 3, 6, 13, 20, 3, 15, 13, 19, 13, 3, 5, 8, 11, 19, 5, 11, 3, 12, 4, 7, 1, 14, 15, 19, 14, 19, 3, 17, 17, 5, 18, 20, 7, 4, 17, 11, 6, 3, 1, 8, 18, 16, 18, 19, 1, 18, 5, 16, 3, 18, 1, 2, 4, 7, 8, 10, 11, 4, 10, 12, 18, 20, 3, 19, 15, 18, 17, 11, 1, 14, 19, 7, 16, 18, 20, 5, 12, 19, 14, 3, 16, 7, 12, 17, 19, 15, 11, 20, 5, 9, 10, 15, 4, 7, 9, 11, 13, 17, 8, 10, 11, 17, 8, 11, 11, 13, 17, 7, 15, 9, 11, 14, 4, 8, 9, 3, 11, 12, 16, 13, 19, 8, 2, 15, 4, 12, 3, 7, 7, 7, 8, 6, 8, 1, 6, 14, 1, 4, 7, 10, 12, 14, 1, 1, 2, 3, 7, 10, 11, 12, 16, 18, 19, 15, 2, 4, 5, 8, 10, 13, 15, 19, 20, 1, 3, 7, 9, 14, 15, 17, 5, 8, 11, 3, 4, 8, 12, 13, 14, 16, 13, 1, 4, 5, 10, 12, 14, 15, 16, 18, 20, 3, 4, 5, 20, 13, 10, 15, 20, 9, 15, 19, 10, 8, 6, 19, 10, 13, 9, 3, 4, 5, 7, 8, 11, 13, 14, 15, 16, 17, 5, 5, 1, 2, 11, 20, 14, 9, 5, 7, 20, 20, 4, 10, 16, 18, 3, 8, 1, 4, 5, 6, 8, 9, 12, 13, 8, 4, 1, 10, 6, 1, 3, 6, 9, 12, 4, 17, 11, 20, 14, 7, 1, 1, 2, 3, 4, 6, 8, 9, 12, 13, 14, 15, 16, 1, 2, 4, 5, 9, 18, 4, 10, 5, 1, 1, 3, 4, 5, 8, 9, 10, 11, 12, 16, 17, 19, 1, 2, 3, 4, 6, 7, 8, 9, 10, 11, 12, 13, 14, 15, 16, 17, 19, 12, 13, 17, 19, 6, 12, 8, 12, 13, 3, 13, 19, 16, 1, 9, 19, 9, 11, 14, 16, 1, 20, 12, 5, 12, 15, 6, 8, 8, 13, 11, 12, 3, 5, 8, 9, 10, 12, 15, 16, 6, 10, 15, 4, 3, 9, 11, 7, 19, 13, 12, 8, 12, 15, 18, 8, 12, 5, 11, 11, 10, 14, 11, 12, 13, 5, 9, 19, 1, 5, 5, 6, 2, 12, 9, 19, 9, 11, 11, 1, 5, 10, 18, 2, 10, 19, 10, 1, 2, 3, 4, 5, 7, 10, 12, 14, 7, 15, 6, 8, 17, 1, 2, 4, 10, 13, 15, 16, 16, 4, 8, 1, 3, 6, 7, 13, 19, 8, 8, 9, 15, 9, 1, 5, 9, 13, 14, 17, 20, 18, 6, 15, 1, 8, 20, 2, 9, 6, 13, 19, 2, 3, 4, 10, 12, 10, 3, 7, 12, 14, 15, 4, 12, 3, 14, 2, 4, 5, 2, 3, 4, 6, 8, 9, 10, 11, 13, 14, 15, 16, 17, 20, 4, 9, 3, 2, 4, 7, 18], \"Freq\": [0.974601414886987, 0.9615805602964631, 0.9791198076932516, 0.9758124827032041, 0.96983241012805, 0.9788115124461665, 0.9682871677032242, 0.9478088347201487, 0.28576993611063756, 0.7144248402765939, 0.8593824065216803, 0.11795444795395613, 0.9782869654522236, 0.9593013228243139, 0.9542377244688437, 0.9603855888199355, 0.790611152516689, 0.20786020911236894, 0.9629664837520275, 0.8334286612884524, 0.1608371100732101, 0.984013574764335, 0.9896241723566739, 0.9681794113401803, 0.9665256964416082, 0.9695854799016297, 0.9311455153178967, 0.9397296532134016, 0.9419939990109459, 0.933934064759722, 0.9924534440577517, 0.1341782660776768, 0.3635798177588662, 0.0822382921121245, 0.0822382921121245, 0.04328331163796026, 0.19044657120702516, 0.07358162978453245, 0.025969986982776156, 0.4793196710039999, 0.0250079828349913, 0.13754390559245214, 0.10836792561829563, 0.1500478970099478, 0.029175979974156517, 0.06668795422664346, 0.994037424222131, 0.9721642434352407, 0.9372642045738816, 0.7423714461463095, 0.2474571487154365, 0.8281007814410024, 0.15773348217923855, 0.9798703642348321, 0.9424549949601125, 0.9960054337686199, 0.9927111136698146, 0.9524496187615424, 0.9481329623533057, 0.947906395710978, 0.9671154752205631, 0.9749811655964506, 0.9494667162823536, 0.9450917485906327, 0.9564573365266702, 0.6742232280487023, 0.20616743337026433, 0.11701394866960949, 0.9918900499944915, 0.9934195866147985, 0.9746446920482417, 0.9709756973196932, 0.11886952106275267, 0.15056806001282005, 0.27736221581308956, 0.15056806001282005, 0.29321148528812324, 0.9340679417681442, 0.05494517304518495, 0.972709858642434, 0.9774689175139905, 0.9785367370148866, 0.12094096741192509, 0.863864052942322, 0.7560426402218848, 0.22159870489262143, 0.2592571306564265, 0.7378856795605986, 0.9837434922006608, 0.956890247026278, 0.9737860453480269, 0.15081914841908292, 0.5467194130191756, 0.028278590328578046, 0.1602453451952756, 0.11311436131431218, 0.0929098174610562, 0.882643265880034, 0.9891663373709891, 0.9698162462692613, 0.9492968043016891, 0.07949397294985958, 0.1457389504080759, 0.15898794589971915, 0.1457389504080759, 0.450465846715871, 0.9805428481506415, 0.0737231948482762, 0.23170146952315382, 0.11585073476157691, 0.048446670900295793, 0.016851015965320276, 0.09268058780926153, 0.09478696480492656, 0.15376552068354754, 0.03580840892630559, 0.025276523947980415, 0.08214870283093635, 0.02738290094364545, 0.13635807524877247, 0.0732293367076741, 0.2563026784768594, 0.09595568258246952, 0.04040239266630296, 0.31943141701795774, 0.03282694404137115, 0.008838023395753772, 0.03661466835383705, 0.9869496823832912, 0.761937798065056, 0.23583788987727924, 0.9926113471504115, 0.9578746381460399, 0.9544282421361391, 0.9645219771810757, 0.9574570880298413, 0.9804894879421965, 0.0650695443372033, 0.11567918993280588, 0.02891979748320147, 0.46994670910202385, 0.11567918993280588, 0.05783959496640294, 0.13736903804520698, 0.9687739143947841, 0.9976558951390737, 0.1649534730778808, 0.24108584526767193, 0.038066186094895565, 0.10150982958638818, 0.15226474437958226, 0.29818512441001527, 0.9384650950772573, 0.9543317464833841, 0.9723930220281006, 0.9622973803312945, 0.9770496849039291, 0.8396312982649967, 0.1550088550643071, 0.9734068713912452, 0.38345334338828235, 0.6109256657372634, 0.9358950761075582, 0.9846943139814596, 0.9876534688607451, 0.9636845537377934, 0.9694397499677284, 0.20730454210427535, 0.7813786587007301, 0.9893123038067182, 0.09265721041687272, 0.8400920411129793, 0.061771473611248476, 0.328266513508463, 0.656533027016926, 0.9853029705361035, 0.9618243203905428, 0.9857920578951462, 0.19107978633431116, 0.16241781838416447, 0.1878951232287393, 0.019107978633431114, 0.1878951232287393, 0.12420186111730225, 0.08598590385044001, 0.03503129416129038, 0.9469285282913056, 0.9570885023272733, 0.0872528878881861, 0.40871089589729276, 0.07806837337364018, 0.41789541041183864, 0.9791561738811155, 0.9759436124409959, 0.9937437728128243, 0.9615136654457974, 0.9806539265962222, 0.9845760070394469, 0.1401211824366959, 0.8407270946201755, 0.9702517498370972, 0.9397441846394744, 0.9884628433549839, 0.3165753687527539, 0.677119538721168, 0.9796748709966078, 0.9807924006665635, 0.7232393098160127, 0.27121474118100475, 0.15979318135590145, 0.4939061969182409, 0.05084328497687774, 0.25421642488438867, 0.04357995855160949, 0.01598113740741678, 0.9748493818524236, 0.941000610505793, 0.7845358849417324, 0.20419427142319063, 0.5210964297490341, 0.14211720811337294, 0.2030245830191042, 0.13534972201273612, 0.9834886733016783, 0.9727527827316446, 0.026502078002298292, 0.12190955881057215, 0.0636049872055159, 0.6996548592606749, 0.07950623400689488, 0.9740585217197563, 0.9639967646467575, 0.7649496921307988, 0.0621521624856274, 0.16733274515361224, 0.9953741767089138, 0.06205767196696852, 0.8998362435210435, 0.9537913622121693, 0.08728484392066432, 0.912750082141804, 0.9845100798111768, 0.9776784025447786, 0.9637077091665058, 0.9800607688162516, 0.9739111334367337, 0.98535702989095, 0.09243379737018657, 0.055460278422111944, 0.24032787316248508, 0.6100630626432314, 0.8034743405790774, 0.195439704465181, 0.1250242534952883, 0.6965636980451777, 0.1607454687796564, 0.9659078467375687, 0.2705976616059983, 0.5318643693635139, 0.186619076969654, 0.6250890138683654, 0.17859686110524725, 0.1897591649243252, 0.9983188323326225, 0.21838376825460895, 0.7643431888911314, 0.282674403513641, 0.7066860087841024, 0.9829190387888107, 0.8246756563033272, 0.16493513126066545, 0.9929715818631004, 0.993754097461053, 0.9808037615012059, 0.9892675891956522, 0.8527885298526916, 0.14583517204321275, 0.8058591452104481, 0.18013322069410015, 0.23902676955689542, 0.7605397213173944, 0.25995554539449595, 0.12516378111586843, 0.11553579795310931, 0.04813991581379554, 0.442887225486919, 0.960567304673222, 0.944676107500839, 0.8947642654558283, 0.1044784621340638, 0.18488090651535125, 0.62275673773592, 0.18488090651535125, 0.9973627146002787, 0.9820807463293404, 0.9819337858953665, 0.7660834007600051, 0.212800944655557, 0.9866663968820131, 0.7466321022478595, 0.2456026652131117, 0.9500055570957855, 0.8678847932979311, 0.13352073743045093, 0.07331718635382835, 0.2827948616504808, 0.11870401600143637, 0.07680848094210589, 0.07331718635382835, 0.13616048894282407, 0.08379107011866097, 0.0698258917655508, 0.04189553505933048, 0.04189553505933048, 0.9955176346809362, 0.9817917274579276, 0.985762414199228, 0.986094002978022, 0.9759045476029001, 0.9599163204009297, 0.10906272438489523, 0.8808912354164614, 0.926712549365795, 0.9718151829901237, 0.96282873146111, 0.97652083943207, 0.12197903966405128, 0.0834593429280351, 0.19259848368008098, 0.0706194440160297, 0.06419949456002699, 0.06419949456002699, 0.3980368662721674, 0.7889675996285929, 0.20534773141018173, 0.6811043875919507, 0.1135173979319918, 0.17923799673472388, 0.02389839956462985, 0.9055366592316116, 0.3342915736506788, 0.6552114843553305, 0.9448439206993261, 0.256028887065745, 0.7315111059021286, 0.9599913842391143, 0.9834842867863972, 0.9708655817778093, 0.9755782987894193, 0.9571437413446284, 0.8200809478164643, 0.16639323578884785, 0.9558269773654345, 0.04310070554147088, 0.07032220377818933, 0.013610749118359225, 0.09981216020130099, 0.052174538287043694, 0.23591965138489324, 0.024953040050325247, 0.11795982569244662, 0.04083224735507767, 0.08620141108294176, 0.08166449471015534, 0.12930211662441263, 0.9630513240994375, 0.9593261845468508, 0.8168019548471833, 0.17723061284420016, 0.9830493910075137, 0.9766975308744286, 0.948680140626521, 0.04560962214550582, 0.08073036087050642, 0.9041800417496719, 0.9676930255261972, 0.26062376521399444, 0.10661881304208863, 0.6278663434700775, 0.2743223163970856, 0.16881373316743728, 0.5275429161482416, 0.9803952975844532, 0.9504949816957676, 0.9450669306926456, 0.9344491369602101, 0.06424337816601444, 0.9787816299367987, 0.9748940047767715, 0.957692314408138, 0.9027234469622883, 0.08358550434836004, 0.9765025344117109, 0.9789645326142395, 0.14722177459525293, 0.3691212609417211, 0.23470137978953365, 0.0704104139368601, 0.08534595628710315, 0.004267297814355157, 0.06614311612250494, 0.021336489071775787, 0.9724440287244761, 0.9696402765031683, 0.9905287381811274, 0.19236692471750322, 0.23675929196000395, 0.5623033184050094, 0.7319456829721922, 0.2631177291730103, 0.9710989370434743, 0.8758347116747518, 0.1152414094308884, 0.8700280720621496, 0.11757136108947969, 0.9856718040331565, 0.9871045458802115, 0.9907780301024088, 0.1744124829062144, 0.12458034493301029, 0.1744124829062144, 0.0872062414531072, 0.436031207265536, 0.9638185895876473, 0.8916474953072582, 0.1091813259559908, 0.6804234570965488, 0.0810027925114939, 0.11340390951609147, 0.12150418876724085, 0.9401904736242597, 0.05641142841745558, 0.20029400127552074, 0.7844848383291229, 0.26535653347629884, 0.43705781984331576, 0.16389668244124342, 0.06243683140618797, 0.06243683140618797, 0.961464673709524, 0.9564959739697737, 0.9580605076148724, 0.18287253692521407, 0.1272156778610185, 0.15106861745995948, 0.532715651043015, 0.9648541314409218, 0.9538595657258852, 0.9854558750148947, 0.9861246233314107, 0.9749996103765244, 0.9443474971426461, 0.07811457117188009, 0.9113366636719343, 0.9630373866967273, 0.7505459918355143, 0.11298541812577634, 0.12912619214374438, 0.8312206219154303, 0.16624412438308608, 0.9509384765131058, 0.9506634230810668, 0.9244464343624917, 0.9449112066014497, 0.9791033019313943, 0.9750796556841057, 0.9424293695232432, 0.9963012288036732, 0.9613329491531025, 0.9951290501552991, 0.9891117909454927, 0.9824833990571655, 0.25324601325605817, 0.7422727974746534, 0.9720327703298101, 0.9664721726755541, 0.9900410402450945, 0.9066982941895952, 0.05849666414126421, 0.9785661840118568, 0.9806890651551052, 0.9910607676483673, 0.17606032307226457, 0.1267634326120305, 0.04929689046023408, 0.14084825845781165, 0.042254477537343495, 0.2464844523011704, 0.2112723876867175, 0.19094724141945615, 0.1321942440596235, 0.2154276569860531, 0.45533572953870316, 0.0048960831133193885, 0.9773660300549207, 0.9828596247528814, 0.9613781046906709, 0.9895664125781608, 0.7171555425978645, 0.15538370089620399, 0.07171555425978646, 0.0478103695065243, 0.6692931883939419, 0.12916184337426947, 0.19961375794205283, 0.3590477043881134, 0.6142743858206278, 0.02162937978241647, 0.9811744159446266, 0.9922314953319848, 0.976627164418742, 0.07954950769014299, 0.9015610871549539, 0.9900785220303855, 0.9775254317213112, 0.6956420829869219, 0.1581004734061186, 0.14229042606550674, 0.4736355904768813, 0.5131052230166214, 0.8825504819910414, 0.11031881024888017, 0.98335007155036, 0.9654744630804836, 0.9705197504582972, 0.9840746345960254, 0.9677956883075488, 0.9806301273561049, 0.9571505671333217, 0.9915134565653022, 0.9772214934715139, 0.9498197996162292, 0.9474799510965216, 0.9692983270593849, 0.8513495471130142, 0.1362159275380823, 0.9524846208147492, 0.9821383986156532, 0.9486905904435743, 0.9432716694249235, 0.9656119923101574, 0.19782770129041027, 0.24728462661301284, 0.4253295577743821, 0.12858800583876667, 0.8590518168859292, 0.13048888357760952, 0.9675593382135077, 0.20242016081993125, 0.7863244708774253, 0.9914338148010461, 0.8203344048296025, 0.1709030010061672, 0.9584572056406034, 0.21529517089507239, 0.66266175976795, 0.06430894715047616, 0.053124782428654226, 0.16760202838352256, 0.5543759400378053, 0.25784927443618855, 0.9684993847645126, 0.9709497669817325, 0.21442312560725646, 0.7587279829179844, 0.9918132524641129, 0.920306109522239, 0.06135374063481594, 0.2588400953355229, 0.2378530605785886, 0.06296110427080286, 0.0023318927507704765, 0.0699567825231143, 0.04430596226463905, 0.020987034756934288, 0.06762488977234381, 0.09094381728004858, 0.12359031579083525, 0.018655142006163812, 0.9736740342924175, 0.986618972396273, 0.625376839765319, 0.09264842070597319, 0.16213473623545308, 0.10808982415696872, 0.9437329779969622, 0.17752699362332516, 0.5872046712156139, 0.21849476138255403, 0.9931675846643672, 0.9532803679998815, 0.9689095464106887, 0.9717296856996552, 0.22061755340809375, 0.759904906183434, 0.9865023624528753, 0.13270388935930583, 0.16332786382683792, 0.13270388935930583, 0.5614395319047554, 0.12426931735643174, 0.8698852214950221, 0.9511887267064632, 0.9950293219724612, 0.9700721719485135, 0.9911103289597295, 0.981985302947124, 0.08603917853362043, 0.2753253713075854, 0.10324701424034452, 0.4474037283748262, 0.08603917853362043, 0.950549917960883, 0.20981108646806831, 0.15258988106768606, 0.038147470266921515, 0.4005484378026759, 0.038147470266921515, 0.07152650675047784, 0.09536867566730378, 0.9883603634084389, 0.9894660715035759, 0.9808379422126768, 0.9643019140119582, 0.9812909191639919, 0.9883848283288519, 0.9815637448340899, 0.9435593662468629, 0.9877995729364455, 0.9734276084170258, 0.9803760997324622, 0.9825384247864224, 0.9750470524980454, 0.24997324116612277, 0.5535121768678433, 0.19640754663052504, 0.9805124062606524, 0.9732977208787214, 0.08748424044967326, 0.34357447158417137, 0.03817494128713015, 0.007953112768152115, 0.04771867660891269, 0.07953112768152115, 0.028631205965347614, 0.04771867660891269, 0.09066548555693411, 0.03181245107260846, 0.05726241193069523, 0.06839676980610819, 0.04771867660891269, 0.020678093197195498, 0.07949059619531743, 0.21197492318751315, 0.6977507888255641, 0.9870492663422379, 0.9875710654682452, 0.9692537385307044, 0.9760011843458709, 0.06727293544075183, 0.22103964501961312, 0.2402604837169708, 0.07688335478943066, 0.04805209674339416, 0.34597509655243797, 0.8469257591764284, 0.14658330447284337, 0.985234265781725, 0.9573740545152701, 0.11800187385322718, 0.026576998615591707, 0.6389110467188247, 0.07973099584677512, 0.0637847966774201, 0.036144718117204724, 0.036144718117204724, 0.9672201759092467, 0.9567025289216603, 0.9897869362992927, 0.10719289092023866, 0.8881696676248346, 0.991761040590009, 0.9710847074951237, 0.9552960777193105, 0.09909923916468907, 0.8918931524822017, 0.9734157708669309, 0.9795523974781744, 0.9823004980927244, 0.990669540651168, 0.17745171791725992, 0.11292382049280177, 0.14518776920503085, 0.35490343583451983, 0.11292382049280177, 0.09679184613668723, 0.7805688247798597, 0.2119425285826109, 0.995802389748656, 0.9544604539294745, 0.9404337163969039, 0.16644784292526768, 0.14425479720189865, 0.499343528775803, 0.08877218289347609, 0.0998687057551606, 0.998442188781313, 0.9792055865082737, 0.013056074486776982, 0.9802284098950204, 0.9952450126086835, 0.991667280175777, 0.7859227772340228, 0.21434257560927894, 0.05545118020059897, 0.1552633045616771, 0.32605293957952197, 0.07319555786479065, 0.0975940771530542, 0.04214289695245522, 0.05988727461664689, 0.11977454923329378, 0.06875946344874273, 0.9898771575495253, 0.9974943565430487, 0.9981941998402392, 0.2935364969448057, 0.5870729938896114, 0.10360111656875495, 0.11666705233753291, 0.1788894802508838, 0.17111167676171493, 0.38889017445844304, 0.08555583838085747, 0.06222242791335089, 0.2410920400387036, 0.7418216616575496, 0.6823570288263406, 0.3075411960907451, 0.6300896886825008, 0.21326112540023104, 0.15509900029107712, 0.08243078372008514, 0.05770154860405959, 0.07418770534807662, 0.15661848906816175, 0.28850774302029797, 0.14013233232414474, 0.12364617558012769, 0.07006616616207237, 0.9927998361700293, 0.824806770465363, 0.08882534451165447, 0.08882534451165447, 0.9526868526149288, 0.8227706351053613, 0.17404763434921106, 0.11575207495159834, 0.8810019037982763, 0.9476650519218234, 0.9851378038560812, 0.8599655824243843, 0.12980612564896366, 0.9830278480513289, 0.9716401822170088, 0.9804634447986774, 0.8892071914494085, 0.09459650972866047, 0.9770081467382731, 0.9879040391155836, 0.6745591565210542, 0.29511963097796123, 0.9742440053578828, 0.9640760405446728, 0.9886210181696343, 0.9821549879195555, 0.6786321004852607, 0.09314558241954558, 0.22621070016175357, 0.9392547949399902, 0.07307824113157323, 0.07307824113157323, 0.06089853427631102, 0.12788692198025314, 0.18269560282893307, 0.2557738439605063, 0.09743765484209764, 0.09134780141446654, 0.03044926713815551, 0.17459733883992642, 0.5936309520557499, 0.22115662919724016, 0.9442208382037841, 0.10024001105842621, 0.8896300981435326, 0.9806568122452293, 0.9608042320418212, 0.9621064048157766, 0.9881400613878727, 0.9835646323893217, 0.984643689442547, 0.9645157424437358, 0.06258524767680933, 0.1460322445792218, 0.7718847213473151, 0.9619751597159881, 0.9854546161103394, 0.9618074775217484, 0.9873319977626437, 0.981715784599649, 0.9755974890583955, 0.9455997196651058, 0.8475869692882312, 0.12403711745681432, 0.9776043771647738, 0.2458924435264505, 0.06470853777011856, 0.5435517172689959, 0.12941707554023713, 0.31947081675158695, 0.6549151743407532, 0.9741630199925847, 0.9694232005846114, 0.8937854870193762, 0.08937854870193762, 0.9848508467709064, 0.10663556950635378, 0.1904206598327746, 0.06093461114648787, 0.09901874311304279, 0.007616826393310984, 0.12186922229297574, 0.4036917988454822, 0.9861821043782206, 0.9576138353145986, 0.9600113831783578, 0.6836151575593077, 0.13624497895412777, 0.1792697091501681, 0.12805359475128136, 0.8689351072408378, 0.09008475160430257, 0.5873525804600527, 0.2414271342995309, 0.02882712051337682, 0.05044746089840944, 0.9926017063421587, 0.1686716319175095, 0.21305890347474882, 0.603666893178455, 0.9764923141617482, 0.9711737516262771, 0.9957344553373199, 0.9932681487030393, 0.2313157057919395, 0.7570332189554384, 0.3648455248189424, 0.2905251401336023, 0.13850617145904295, 0.023647395127153675, 0.020269195823274577, 0.16215356658619662, 0.9897246070615462, 0.9590688034971919, 0.986559081841594, 0.9473527028968015, 0.799578929968627, 0.19249122388133613, 0.9872170561127416, 0.9457704525237894, 0.24829035063998414, 0.7448710519199524, 0.6812200579353169, 0.3173866179016817, 0.28755502380905745, 0.44783159445672877, 0.08956631889134575, 0.10370836924261087, 0.06599623497257055, 0.18769277732540435, 0.0541421473054051, 0.14076958299405326, 0.4042613665470247, 0.12994115353297223, 0.07579900622756713, 0.995252654275461, 0.9843962161330592, 0.9725839804340575, 0.23822901768623436, 0.20845039047545508, 0.08933588163233788, 0.4566056172319492, 0.01916729822480111, 0.40251326272082333, 0.11979561390500694, 0.1677138594670097, 0.1677138594670097, 0.03833459644960222, 0.01916729822480111, 0.05271007011820305, 0.009583649112400556, 0.96163415015844, 0.17195073830959975, 0.1930674956458664, 0.11765050515919984, 0.07843367010613322, 0.033183475814133286, 0.015083398097333313, 0.054300233150399925, 0.11765050515919984, 0.021116757336266636, 0.19910085488479973, 0.9849314916890475, 0.9727918000674755, 0.09206954612256829, 0.8976780746950409, 0.6333830002326934, 0.10834182898717125, 0.050003921071002114, 0.10834182898717125, 0.09167385529683722, 0.9980703763240163, 0.9612565005485487, 0.9812876413999185, 0.2610719222390612, 0.1487118544399716, 0.023132955135106693, 0.02974237088799432, 0.1487118544399716, 0.09253182054042677, 0.07931298903465152, 0.06609415752887626, 0.1487118544399716, 0.977490096458563, 0.8893401118300253, 0.09614487695459732, 0.989433503623428, 0.9887531075806842, 0.752158656383836, 0.11178871773778114, 0.13387043976005888, 0.958265090165563, 0.9837712655262996, 0.11879844390403825, 0.16771545021746578, 0.11181030014497718, 0.11879844390403825, 0.4821819193752141, 0.9858994482267898, 0.006783764318964972, 0.9904295905688859, 0.7842935717036219, 0.20959569588631274, 0.9825270710921541, 0.2460089914234424, 0.54549819837372, 0.20322481900197414, 0.0972562282724567, 0.5488030023945771, 0.1945124565449134, 0.09030935482442408, 0.0625218610322936, 0.8575837550791278, 0.1400136742986331, 0.9551695579683471, 0.9444792619168569, 0.9643443923823237, 0.8424230195801673, 0.14382832041612612, 0.11192727942891821, 0.873032779545562, 0.16147411666126163, 0.83320644197211, 0.8722696814175822, 0.09023479462940505, 0.983707609508366, 0.8248275894432395, 0.1374712649072066, 0.20605710236994376, 0.25288826199947645, 0.5338752197766724, 0.9625454353304767, 0.11959589675156301, 0.8690635163946913, 0.9741123303989466, 0.9851562525643609, 0.9944391182955914, 0.971321207978494, 0.959920964366422, 0.8909717564387477, 0.09138171860910232, 0.9799158553391163, 0.922782029114174, 0.299338572255587, 0.6952379742710408, 0.46665436168067653, 0.03373405024197662, 0.2024043014518597, 0.09557980901893375, 0.06746810048395324, 0.02248936682798441, 0.10682449243292595, 0.9833634462371399, 0.31640139026443814, 0.4218685203525842, 0.15234141012732208, 0.09374856007835206, 0.9534091420899381, 0.798866604395416, 0.19020633437986095, 0.5344914499698461, 0.21742025083519165, 0.07247341694506387, 0.1721243652445267, 0.9356579131052258, 0.9501199216868343, 0.972787418692695, 0.9802329228670917, 0.9863132212194873, 0.05910574319763316, 0.7535982257698228, 0.1773172295928995, 0.9826203002165479, 0.9748956726972147, 0.962890250481735, 0.7975215662097609, 0.18765213322582608, 0.9796501941695446, 0.18472295548193912, 0.5976330912650972, 0.20645506789157902, 0.9929706350857638, 0.953095343660684, 0.8057156836020734, 0.18522199623036167, 0.9907493043149903, 0.9858226127493687, 0.9737993937115946, 0.9604541563492432, 0.981387272991598, 0.05511000972795584, 0.11022001945591169, 0.4347567434094294, 0.12859002269856362, 0.13471335711278093, 0.018370003242651946, 0.116343353870129, 0.2439533685989618, 0.1219766842994809, 0.30494171074870224, 0.07318601057968854, 0.1219766842994809, 0.134174352729429, 0.9769409284609424, 0.16963359631875155, 0.033099238306097865, 0.19445802504832493, 0.08067939337111354, 0.024824428729573397, 0.04344275027675345, 0.11791603646547363, 0.1386030604067848, 0.049648857459146795, 0.07240458379458907, 0.045511452670884564, 0.014480916758917816, 0.012412214364786699, 0.9427363735331721, 0.9629821664757038, 0.08264091175587956, 0.26934815683397784, 0.5233924411205706, 0.03366851960424723, 0.05101290849128368, 0.03979006862320127, 0.8805374439953352, 0.11586018999938621, 0.9726335561674695, 0.9748763203025334, 0.30395129166431506, 0.6231001479118459, 0.04559269374964726, 0.07829668042314138, 0.6002745499107506, 0.3131867216925655, 0.9748365835481912, 0.9867379086831619, 0.1393686909602097, 0.15383147964475977, 0.63504790314888, 0.05390675782423206, 0.01709238662719553, 0.7777344414056566, 0.21888334578482552, 0.22546802013894832, 0.7515600671298277, 0.9883462976573876, 0.9795712476099471, 0.9791030605276028, 0.9784378020515455, 0.0684772895058633, 0.9244434083291546, 0.7045022098825319, 0.19105144674780525, 0.023881430843475656, 0.07164429253042696, 0.9715400640498874, 0.8934154328577986, 0.10152448100656801, 0.9616109761003396, 0.990367165838901, 0.9692620127065364, 0.9811875177016277, 0.9888149317663216, 0.9924016686861817, 0.9591241604982313, 0.6928772223957882, 0.2872905556275219, 0.9805203686483897, 0.9728471664967404, 0.9627452794876415, 0.22697135338254373, 0.12016130473193491, 0.6408602919036529, 0.21224221923703074, 0.7843734189194614, 0.9806278499047667, 0.35924878911849023, 0.634418074400738, 0.9771519682241019, 0.9687940929999912, 0.1255138679632696, 0.17320913778931207, 0.07405318209832908, 0.34139772086009335, 0.06777748870016559, 0.1255138679632696, 0.047695269826042455, 0.04392985378714437, 0.955971961766009, 0.9620460064324942, 0.9507575714492456, 0.10078998680182294, 0.20157997360364588, 0.7055299076127606, 0.9667830507474575, 0.950201651687872, 0.9798947249596747, 0.9717066640026405, 0.9860198252977285, 0.18751663188196668, 0.20382242595865946, 0.08152897038346378, 0.10598766149850292, 0.38318616080227974, 0.03261158815338551, 0.15417647353101377, 0.07708823676550688, 0.17520053810342476, 0.4625294205930413, 0.10862433362412334, 0.017520053810342474, 0.9853561767203629, 0.9676531055136912, 0.15826725569127595, 0.02637787594854599, 0.8111196854177892, 0.9938634157337546, 0.08032382255112006, 0.6158159728919205, 0.2811333789289202, 0.9597143823910574, 0.9952616411017917, 0.9698849306825588, 0.9854444571727617, 0.9776434387544969, 0.9587740912909293, 0.969244244507787, 0.9729950051755873, 0.9720427184623793, 0.4419405413855042, 0.5547764242924415, 0.7687366812294246, 0.10981952588991781, 0.10981952588991781, 0.988255640895443, 0.2830037949454546, 0.7149569556516747, 0.9744070246905454, 0.9591510243393073, 0.9634554689920427, 0.9813443791096382, 0.9577033091036719, 0.9867940890247039, 0.2725986202471196, 0.7265010398095405, 0.9100360886516744, 0.07583634072097287, 0.9863202195586982, 0.9864917512050935, 0.9225855284077222, 0.8536835067897521, 0.1380958613924599, 0.9696010743311925, 0.9585216564330185, 0.9829257635613937, 0.9678842859641825, 0.7237819824982074, 0.2631934481811663, 0.9374795578395203, 0.7265636210917467, 0.0741391450093619, 0.0741391450093619, 0.13345046101685143, 0.985929088152392, 0.9807290408350126, 0.035986057459698594, 0.17993028729849297, 0.7077257967074057, 0.07197211491939719, 0.9898260766545074, 0.9472229737557121, 0.22738295375519332, 0.7624016684732953, 0.9515455511415886, 0.40261912499349084, 0.22798914306860324, 0.10186748945618443, 0.2619449728873314, 0.9860483076129637, 0.9752288755688963, 0.18894758982529009, 0.15871597545324367, 0.6499797089989979, 0.7449497158039952, 0.05321069398599965, 0.06651336748249957, 0.12637539821674917, 0.9427899198577534, 0.9800494479306976, 0.9890024222948987, 0.9356130007655095, 0.9683744459159249, 0.9685644214413602, 0.9978709729165152, 0.9497699529607508, 0.9673929864175524, 0.23470244758058098, 0.5984912413304815, 0.16429171330640668, 0.8741342708285889, 0.10283932597983399, 0.9863579918174278, 0.12107399282597918, 0.8475179497818542, 0.2213983498626238, 0.521867538961899, 0.031628335694660545, 0.07455250556598557, 0.08810750657798294, 0.06325667138932109, 0.9364015205394043, 0.17350271683694948, 0.16524068270185666, 0.4296257750248273, 0.13219254616148532, 0.09914440962111398, 0.9891422431781699, 0.9719189257179466, 0.22092639430259828, 0.1699433802327679, 0.06797735209310715, 0.5268244787215804, 0.9790921900151831, 0.9895538283614074, 0.7509766306316648, 0.25032554354388825, 0.9593926346778057, 0.020529979482539467, 0.19503480508412496, 0.10264989741269734, 0.5440444562872959, 0.13344486663650654, 0.9871591248578592, 0.9668719419217946, 0.9810661050943241, 0.9755874599878229, 0.980385086694171, 0.9621940402686651, 0.08738938439846798, 0.3058628453946379, 0.12016040354789347, 0.4915652872413824, 0.9886456257100159, 0.9844136900518077, 0.9528784589274297, 0.9935727343926338, 0.9790433555292577, 0.8478602134036723, 0.027131526828917518, 0.12209187073012882, 0.9869563769529485, 0.9261739468064605, 0.06810102550047503, 0.9711668097598299, 0.9592609235406938, 0.965800510469303, 0.8586781698961706, 0.08309788740930683, 0.04154894370465342, 0.966125479676084, 0.9192921005289664, 0.05107178336272035, 0.9801447868914341, 0.9498886090596227, 0.9641717566797038, 0.982843695971621, 0.973787798368659, 0.9791811760999886, 0.09762048395365398, 0.12928118145213635, 0.2902230604027551, 0.11872761561930889, 0.30605340915199625, 0.05540622062234415, 0.9806356963966848, 0.09244663552751066, 0.138669953291266, 0.07703886293959221, 0.1078544081154291, 0.5700875857529824, 0.946915792709289, 0.9839335947753702, 0.9877113940518062, 0.9704632783311663, 0.96482466459299, 0.9944153817580229, 0.3552390546177773, 0.5429125174347161, 0.10053935508050299, 0.20352823858529034, 0.15402136974021974, 0.1870259489702668, 0.45656334601565135, 0.6772808070832006, 0.18275831302245094, 0.12900586801584774, 0.9773545669760655, 0.9501099363770733, 0.04721043162122104, 0.9698175184102118, 0.9844784579400265, 0.9888677879945179, 0.997199755539888, 0.9541934885766588, 0.9740306674904834, 0.9619848279255059, 0.9565787938854005, 0.8163193146519798, 0.1731586425019351, 0.9720307524286207, 0.603572753361103, 0.13468152347727094, 0.034917432012625794, 0.05487025030555483, 0.09976409146464514, 0.06983486402525159, 0.9720770754863828, 0.9422147525636766, 0.27861384436639414, 0.7197524312798514, 0.11724957526801587, 0.877595305793937, 0.6473247262784895, 0.047078161911162875, 0.29423851194476797, 0.8380387080078503, 0.1523706741832455, 0.9821263585576289, 0.0737332233010068, 0.9093764207124172, 0.057435840843750224, 0.9285460936406286, 0.9639272565882753, 0.2181735025874664, 0.2181735025874664, 0.3506359863012853, 0.21038159178077118, 0.3825355963761395, 0.5950553721406615, 0.972799388274847, 0.9731244857926892, 0.9849859600804446, 0.9808322071135361, 0.9774892387399904, 0.9760786157680471, 0.9651228408855348, 0.977276951983399, 0.991546980898296, 0.9579661847272027, 0.9624257079614484, 0.9949345732094661, 0.6723109029671887, 0.2450478992123398, 0.07539935360379686, 0.20450450103052664, 0.11361361168362592, 0.07952952817853814, 0.6021521419232173, 0.9704830980814904, 0.9813389343408808, 0.9577663570292129, 0.039504128005591485, 0.24614110526560848, 0.12458994217148084, 0.15193895386765954, 0.1944818609506042, 0.11243482586206807, 0.07596947693382977, 0.009116337232059573, 0.03038779077353191, 0.015193895386765955, 0.9597369867170478, 0.05489125790880443, 0.12350533029480998, 0.1372281447720111, 0.3019019184984244, 0.1509509592492122, 0.10292110857900831, 0.013722814477201108, 0.04116844343160333, 0.0754754796246061, 0.18063348139412636, 0.11688048796090528, 0.3745488364201737, 0.16735160776220528, 0.0743784923387579, 0.02656374726384211, 0.05844024398045264, 0.24735440821882904, 0.5965606315865877, 0.14550259306989943, 0.28668994566506745, 0.07372027174244591, 0.3522190761027971, 0.13924940218017562, 0.05733798913301349, 0.04095570652358106, 0.04095570652358106, 0.955877033855525, 0.05627311947810879, 0.14068279869527198, 0.2719867441441925, 0.1453722253184477, 0.15006165194162344, 0.08440967921716319, 0.023447133115878663, 0.09378853246351465, 0.03282598636223013, 0.9630319809045609, 0.10304350273748507, 0.11096992602498393, 0.7133780958748966, 0.07133780958748967, 0.9782048000718724, 0.9831009049125438, 0.9721809714575169, 0.9751081476308303, 0.8017847941891391, 0.1955572668753998, 0.9916056051555866, 0.9601647236405361, 0.9206817187027712, 0.9836679941537249, 0.9473149900217074, 0.9788170818891649, 0.9738561707067167, 0.9703165705265707, 0.16667458174125072, 0.020409132458112333, 0.03741674283987261, 0.010204566229056166, 0.18708371419936307, 0.2517126336500521, 0.09524261813785756, 0.11565175059596988, 0.03401522076352056, 0.02381065453446439, 0.05782587529798494, 0.9822348539011201, 0.9862852639080766, 0.27204916663399203, 0.5645020207655335, 0.16322949998039524, 0.9562212249088309, 0.9886624774396028, 0.9416262184469026, 0.06551155489854005, 0.9171617685795607, 0.016377888724635012, 0.9783103132443586, 0.4810060775647905, 0.2590032725348872, 0.11100140251495165, 0.13875175314368957, 0.9570145318064591, 0.9247632031932851, 0.1805319103993859, 0.04413002254207211, 0.004011820231097464, 0.30891015779450476, 0.07622458439085182, 0.17250826993719098, 0.07221276415975436, 0.1364018878573138, 0.9649884640884919, 0.9956164441476331, 0.9868120659702856, 0.9913115710290701, 0.9660350653347651, 0.07585651196645223, 0.15171302393290445, 0.07585651196645223, 0.15929867512954968, 0.5385812349618109, 0.9838865180708828, 0.9373940700088217, 0.980730061536734, 0.9619127577090077, 0.9824184707876494, 0.9776791963238967, 0.9787892250504555, 0.02632344234997069, 0.12997199660298028, 0.15629543895295098, 0.05100166955306821, 0.07897032704991207, 0.12010070572174127, 0.20071624791852652, 0.03454951808433653, 0.04771123925932187, 0.11187462998737543, 0.02632344234997069, 0.013161721174985345, 0.2258744642876333, 0.4980821520188837, 0.034749917582712814, 0.127416364469947, 0.10424975274813846, 0.9950257479354053, 0.9758012851422272, 0.9760522033097279, 0.9777955800060621, 0.967456956334248, 0.1273234743269127, 0.04113527632100256, 0.07443526191419511, 0.10185877946153016, 0.05288821241271758, 0.1273234743269127, 0.2585645940177304, 0.06659997118638511, 0.03917645363905006, 0.033299985593192555, 0.035258808275145055, 0.04113527632100256, 0.022301503138600975, 0.012389723965889431, 0.09911779172711545, 0.024779447931778862, 0.07929423338169236, 0.0458419786737909, 0.06070964743285821, 0.1784120251088078, 0.026018420328367806, 0.024779447931778862, 0.08425012296804812, 0.0631875922260361, 0.07805526098510342, 0.07309937139874764, 0.04088608908743512, 0.03345225470790147, 0.05203684065673561, 0.5883465600357772, 0.09933123740863772, 0.14517642390493204, 0.16045815273703018, 0.8173507307806636, 0.18163349572903634, 0.30756422724059634, 0.6834760605346586, 0.9669976589999998, 0.9926157037637782, 0.9554293837131635, 0.937330001806163, 0.958921960547964, 0.9722706725469675, 0.8462496176453413, 0.13163882941149754, 0.9835308378977377, 0.9885235797610873, 0.1358956452646544, 0.8606724200094777, 0.9996935439245304, 0.9497483389875955, 0.9837723280790481, 0.20530447179075204, 0.7896325838105848, 0.9410351179498989, 0.9785045214901096, 0.021118802622088696, 0.9710133890066563, 0.9850879077468838, 0.08963553608828533, 0.8963553608828533, 0.23168052720826754, 0.14257263212816465, 0.11584026360413377, 0.06237552655607203, 0.2049481586842367, 0.03564315803204116, 0.1470280268821698, 0.057920131802066885, 0.08832852335446455, 0.08832852335446455, 0.8243995513083358, 0.9792130118208365, 0.9648884738661619, 0.9613680215582204, 0.9844196835940061, 0.9925854223676828, 0.9761947061257225, 0.9398792426339228, 0.9790768245295544, 0.891105968022268, 0.08100963345656982, 0.9464474270905542, 0.9839251299209778, 0.7511822141988627, 0.23950737264311564, 0.12940071420306412, 0.8669847851605296, 0.9392556314426027, 0.24555195674621358, 0.7495796574358099, 0.9925410537841356, 0.8217150863089252, 0.16434301726178505, 0.19732079259047394, 0.2192453251005266, 0.5700378452613691, 0.09309354361748236, 0.8843886643660823, 0.9892419387059393, 0.9692888347164509, 0.1969032422014578, 0.7876129688058312, 0.9133644235477366, 0.0723456969146722, 0.9593273406157206, 0.9782424473358667, 0.9978289745388118, 0.4422504522177228, 0.0796050813991901, 0.406870416040305, 0.061915063310481196, 0.9639440733132463, 0.986780673056551, 0.978128331357626, 0.9883222920919681, 0.2057244248853622, 0.26208728101833817, 0.039453999293083165, 0.25926913821168934, 0.059180998939624745, 0.07608985577951753, 0.019726999646541583, 0.008454428419946392, 0.06481728455292234, 0.9816610618305993, 0.9576773965501539, 0.7353226412942875, 0.13742680431956344, 0.12671822216479225, 0.0705779997534911, 0.47444099834291237, 0.07841999972610122, 0.031367999890440486, 0.1333139995343721, 0.12547199956176194, 0.0901829996850164, 0.9603132187369241, 0.9826389150954368, 0.9829328600723239, 0.14984004266584008, 0.2362862211269017, 0.37460010666460025, 0.08068309989699082, 0.1037354141532739, 0.05186770707663695, 0.967447032859973, 0.23426571425317697, 0.7613635713228252, 0.9884517419099882, 0.9954507001689081, 0.5129159268768807, 0.05241476625019219, 0.22089080062580993, 0.08985388500032947, 0.026207383125096094, 0.01871955937506864, 0.07487823750027456, 0.9443950138981928, 0.8023642708993162, 0.1801225914263771, 0.24561114503070153, 0.7525777392607393, 0.960443727510802, 0.18788177985017238, 0.7948844532122677, 0.1901847681784898, 0.7022206825051932, 0.08777758531314915, 0.6864335626202275, 0.13579446564878414, 0.09102705939094322, 0.06267436876097729, 0.023875950004181825, 0.9945522069780366, 0.27726860417645366, 0.44213101747056127, 0.052456222411761504, 0.06744371452940764, 0.1573686672352845, 0.97481328417291, 0.963806886341276, 0.2438771078605897, 0.7316313235817691, 0.16213754446622144, 0.024944237610187915, 0.7982156035260133, 0.11092444311395988, 0.10716429249992734, 0.07708308758766703, 0.06016240982452061, 0.05264210859645554, 0.04136165675435792, 0.2669706935963102, 0.0075203012280650764, 0.04512180736839046, 0.0733229369736345, 0.0733229369736345, 0.028201129605244037, 0.011280451842097614, 0.047001882675406725, 0.9781713899029321, 0.989269247140764, 0.9974139472421503, 0.9924180787839495, 0.308021875870432, 0.5247780107422175, 0.1483068291228006], \"Term\": [\".@callygingrich\", \".@hillaryclinton\", \".@potus\", \".@realdonaldtrump\", \"1st\", \"@anne_hidalgo\", \"@azcentral\", \"@berniesander\", \"@bloomberg\", \"@bloomberg\", \"@bloombergdotorg\", \"@bloombergdotorg\", \"@bv\", \"@c40citie\", \"@compactofmayor\", \"@dcexaminer\", \"@facebook\", \"@facebook\", \"@flotus\", \"@foxandfriend\", \"@foxandfriend\", \"@foxbusiness\", \"@foxnew\", \"@heritage\", \"@mariabartiromo\", \"@mike_pence\", \"@mikebloomberg\", \"@morning_joe\", \"@msnbc\", \"@narendramodi\", \"@nytime\", \"@potus\", \"@potus\", \"@potus\", \"@potus\", \"@potus\", \"@potus\", \"@potus\", \"@potus\", \"@realdonaldtrump\", \"@realdonaldtrump\", \"@realdonaldtrump\", \"@realdonaldtrump\", \"@realdonaldtrump\", \"@realdonaldtrump\", \"@realdonaldtrump\", \"@seanhannity\", \"@un\", \"@usatoday\", \"@vp\", \"@vp\", \"@washingtonpost\", \"@washingtonpost\", \"@whitehouse\", \"@who\", \"@wsj\", \"able\", \"abortion\", \"absolutely\", \"aca\", \"accept\", \"account\", \"accountability\", \"accountable\", \"achieve\", \"act\", \"act\", \"act\", \"action\", \"actonclimate\", \"actually\", \"ad\", \"add\", \"add\", \"add\", \"add\", \"add\", \"address\", \"address\", \"admin\", \"advance\", \"affect\", \"afford\", \"afford\", \"affordable\", \"affordable\", \"afghanistan\", \"afghanistan\", \"africa\", \"african\", \"afternoon\", \"agree\", \"agree\", \"agree\", \"agree\", \"agree\", \"agreement\", \"agreement\", \"ahead\", \"al\", \"alliance\", \"allow\", \"allow\", \"allow\", \"allow\", \"allow\", \"amazing\", \"america\", \"america\", \"america\", \"america\", \"america\", \"america\", \"america\", \"america\", \"america\", \"america\", \"america\", \"america\", \"american\", \"american\", \"american\", \"american\", \"american\", \"american\", \"american\", \"american\", \"american\", \"anniversary\", \"announce\", \"announce\", \"answer\", \"apologize\", \"appear\", \"applaud\", \"approve\", \"april\", \"arizona\", \"arizona\", \"arizona\", \"arizona\", \"arizona\", \"arizona\", \"arizona\", \"art\", \"ask\", \"attack\", \"attack\", \"attack\", \"attack\", \"attack\", \"attack\", \"attempt\", \"attorney\", \"australia\", \"average\", \"award\", \"away\", \"away\", \"baby\", \"bad\", \"bad\", \"badly\", \"ballot\", \"ban\", \"beach\", \"beat\", \"beautiful\", \"beautiful\", \"begin\", \"believe\", \"believe\", \"believe\", \"benefit\", \"benefit\", \"bernie\", \"better\", \"biden\", \"big\", \"big\", \"big\", \"big\", \"big\", \"big\", \"big\", \"big\", \"bigleaguetruth\", \"bigotry\", \"bill\", \"bill\", \"bill\", \"bill\", \"billionaire\", \"bipartisan\", \"birthday\", \"biz\", \"blame\", \"bless\", \"bloomberg\", \"bloomberg\", \"board\", \"bob\", \"bold\", \"book\", \"book\", \"borough\", \"br\", \"brave\", \"brave\", \"break\", \"break\", \"break\", \"break\", \"break\", \"bring\", \"bring\", \"brother\", \"budget\", \"budget\", \"build\", \"build\", \"build\", \"build\", \"bully\", \"burn\", \"business\", \"business\", \"business\", \"business\", \"business\", \"buy\", \"cabinet\", \"caign\", \"caign\", \"caign\", \"candidate\", \"carbon\", \"carbon\", \"card\", \"care\", \"care\", \"career\", \"carolina\", \"carry\", \"cast\", \"catch\", \"caucus\", \"cause\", \"cause\", \"cause\", \"cause\", \"center\", \"center\", \"ceo\", \"ceo\", \"ceo\", \"chairman\", \"challenge\", \"challenge\", \"challenge\", \"chance\", \"chance\", \"chance\", \"change\", \"charge\", \"charge\", \"check\", \"check\", \"chicago\", \"chief\", \"chief\", \"child\", \"china\", \"chip\", \"choice\", \"city\", \"city\", \"class\", \"class\", \"clean\", \"clean\", \"clear\", \"clear\", \"clear\", \"clear\", \"clear\", \"clearly\", \"cleveland\", \"climate\", \"climate\", \"climatechange\", \"climatechange\", \"climatechange\", \"clinton\", \"cnn\", \"co\", \"coal\", \"coal\", \"code\", \"college\", \"college\", \"color\", \"combat\", \"combat\", \"come\", \"come\", \"come\", \"come\", \"come\", \"come\", \"come\", \"come\", \"come\", \"come\", \"comey\", \"commander\", \"comment\", \"commit\", \"commitment\", \"common\", \"company\", \"company\", \"completely\", \"concern\", \"condemn\", \"conference\", \"congrat\", \"congrat\", \"congrat\", \"congrat\", \"congrat\", \"congrat\", \"congrat\", \"congratulation\", \"congratulation\", \"congress\", \"congress\", \"congress\", \"congress\", \"conspiracy\", \"control\", \"control\", \"convention\", \"conversation\", \"conversation\", \"conway\", \"cop21\", \"corporate\", \"corporation\", \"corrupt\", \"cost\", \"cost\", \"council\", \"country\", \"country\", \"country\", \"country\", \"country\", \"country\", \"country\", \"country\", \"country\", \"country\", \"country\", \"country\", \"courage\", \"course\", \"court\", \"court\", \"cover\", \"coverage\", \"create\", \"create\", \"crime\", \"crime\", \"criminal\", \"crisis\", \"crisis\", \"crisis\", \"critical\", \"critical\", \"critical\", \"crooked\", \"culture\", \"current\", \"cut\", \"cut\", \"d.c\", \"daca\", \"dakota\", \"dangerous\", \"dangerous\", \"datum\", \"daughter\", \"day\", \"day\", \"day\", \"day\", \"day\", \"day\", \"day\", \"day\", \"de\", \"dead\", \"deal\", \"death\", \"death\", \"death\", \"debate\", \"debate\", \"debatenight\", \"debt\", \"debt\", \"decade\", \"decade\", \"deep\", \"deeply\", \"defeat\", \"defense\", \"defense\", \"defense\", \"defense\", \"defense\", \"delay\", \"deliver\", \"deliver\", \"dem\", \"dem\", \"dem\", \"dem\", \"demand\", \"demand\", \"democracy\", \"democracy\", \"democrat\", \"democrat\", \"democrat\", \"democrat\", \"democrat\", \"denier\", \"deny\", \"depend\", \"deserve\", \"deserve\", \"deserve\", \"deserve\", \"despite\", \"develop\", \"die\", \"difference\", \"dinner\", \"disability\", \"disaster\", \"disaster\", \"discrimination\", \"discus\", \"discus\", \"discus\", \"discuss\", \"discuss\", \"disgrace\", \"dishonest\", \"district\", \"diversity\", \"divide\", \"dnc\", \"doctor\", \"donald\", \"double\", \"doyourjob\", \"drainthesw\", \"dream\", \"drug\", \"drug\", \"duty\", \"earlier\", \"early\", \"earn\", \"earn\", \"earth\", \"east\", \"easy\", \"economic\", \"economic\", \"economic\", \"economic\", \"economic\", \"economic\", \"economic\", \"economy\", \"economy\", \"economy\", \"economy\", \"economy\", \"ed\", \"editorial\", \"edt\", \"education\", \"effort\", \"effort\", \"effort\", \"effort\", \"elect\", \"elect\", \"elect\", \"election\", \"election\", \"election\", \"election2016\", \"email\", \"emission\", \"encourage\", \"encourage\", \"endorse\", \"endorsement\", \"energy\", \"energy\", \"energy\", \"enjoy\", \"enjoy\", \"enter\", \"enter\", \"environment\", \"epa\", \"epidemic\", \"equal\", \"equality\", \"especially\", \"establishment\", \"et\", \"event\", \"exactly\", \"excited\", \"excuse\", \"executive\", \"executive\", \"exist\", \"exle\", \"extend\", \"extreme\", \"eye\", \"fact\", \"fact\", \"fact\", \"fact\", \"fail\", \"fail\", \"failure\", \"fair\", \"fair\", \"fake\", \"fall\", \"fall\", \"false\", \"family\", \"family\", \"family\", \"family\", \"far\", \"far\", \"far\", \"fast\", \"favorite\", \"fbi\", \"fbi\", \"fear\", \"feel\", \"feel\", \"fight\", \"fight\", \"fight\", \"fight\", \"fight\", \"fight\", \"fight\", \"fight\", \"fight\", \"fight\", \"fight\", \"fill\", \"finally\", \"find\", \"find\", \"find\", \"find\", \"fine\", \"fire\", \"fire\", \"fire\", \"fix\", \"flight\", \"floor\", \"fly\", \"focus\", \"focus\", \"food\", \"force\", \"force\", \"force\", \"force\", \"forget\", \"forget\", \"form\", \"forward\", \"fossil\", \"fox\", \"fraud\", \"free\", \"free\", \"free\", \"free\", \"free\", \"friday\", \"friend\", \"friend\", \"friend\", \"friend\", \"friend\", \"friend\", \"friend\", \"fuel\", \"fun\", \"fund\", \"fy17ndaa\", \"gain\", \"game\", \"garland\", \"gas\", \"general\", \"generation\", \"georgia\", \"getcover\", \"girl\", \"global\", \"global\", \"global\", \"goal\", \"gold\", \"good\", \"good\", \"good\", \"good\", \"good\", \"good\", \"good\", \"good\", \"good\", \"good\", \"good\", \"good\", \"good\", \"good\", \"gop\", \"gop\", \"gop\", \"gopdebate\", \"gorsuch\", \"gov\", \"gov't\", \"government\", \"government\", \"government\", \"government\", \"government\", \"government\", \"governor\", \"governor\", \"govt\", \"grassroots\", \"great\", \"great\", \"great\", \"great\", \"great\", \"great\", \"great\", \"greed\", \"ground\", \"grow\", \"growth\", \"growth\", \"gt\", \"guarantee\", \"guard\", \"gun\", \"gun\", \"hack\", \"half\", \"hall\", \"hand\", \"happen\", \"happen\", \"happen\", \"happen\", \"happen\", \"happen\", \"happy\", \"happy\", \"hard\", \"harvey\", \"hat\", \"head\", \"head\", \"head\", \"head\", \"head\", \"health\", \"healthcare\", \"healthcare\", \"healthy\", \"hear\", \"hearing\", \"heart\", \"heart\", \"help\", \"help\", \"help\", \"help\", \"help\", \"help\", \"help\", \"help\", \"help\", \"hero\", \"high\", \"hillary\", \"historic\", \"historic\", \"historic\", \"history\", \"history\", \"history\", \"history\", \"history\", \"history\", \"hit\", \"hit\", \"hold\", \"hold\", \"home\", \"home\", \"home\", \"honor\", \"honor\", \"honor\", \"honor\", \"honor\", \"honor\", \"honor\", \"honor\", \"hope\", \"host\", \"host\", \"host\", \"hot\", \"hour\", \"hour\", \"house\", \"house\", \"huckabee\", \"huge\", \"human\", \"human\", \"hunt\", \"hurricane\", \"hurt\", \"iacaucus\", \"iacaucus\", \"ice\", \"idea\", \"ignore\", \"ignore\", \"illegal\", \"imagine\", \"immigrant\", \"immigration\", \"impact\", \"impact\", \"impact\", \"importance\", \"important\", \"important\", \"important\", \"important\", \"important\", \"important\", \"important\", \"important\", \"important\", \"improve\", \"improve\", \"improve\", \"impt\", \"imwithhuck\", \"imwithhuck\", \"income\", \"incredible\", \"india\", \"industry\", \"inequality\", \"info\", \"innovative\", \"instead\", \"instead\", \"instead\", \"insult\", \"insurance\", \"intelligence\", \"interest\", \"international\", \"inthebronx\", \"introduce\", \"invest\", \"invest\", \"investigation\", \"iowa\", \"iowa\", \"iowa\", \"iowa\", \"iran\", \"iran\", \"irandeal\", \"islamic\", \"island\", \"island\", \"israel\", \"issue\", \"issue\", \"issue\", \"issue\", \"issue\", \"issue\", \"issue\", \"jame\", \"january\", \"jeff\", \"job\", \"job\", \"job\", \"john\", \"john\", \"join\", \"join\", \"join\", \"join\", \"join\", \"judge\", \"justice\", \"justice\", \"justice\", \"kaine\", \"kelly\", \"kid\", \"kill\", \"kind\", \"kind\", \"know\", \"know\", \"know\", \"know\", \"know\", \"know\", \"korea\", \"la\", \"labor\", \"lack\", \"late\", \"late\", \"later\", \"latino\", \"launch\", \"launch\", \"law\", \"law\", \"lead\", \"lead\", \"lead\", \"lead\", \"lead\", \"leader\", \"leader\", \"leader\", \"leader\", \"leader\", \"leader\", \"leadership\", \"leadontrade\", \"leak\", \"learn\", \"learn\", \"learn\", \"learn\", \"leave\", \"leave\", \"leave\", \"leave\", \"leave\", \"leave\", \"leave\", \"leave\", \"leave\", \"lesson\", \"let\", \"let\", \"let\", \"let\", \"let\", \"let\", \"let\", \"let\", \"let\", \"let\", \"letter\", \"lgbt\", \"liberal\", \"liberal\", \"lie\", \"lie\", \"lie\", \"lie\", \"lie\", \"life\", \"lifetime\", \"lift\", \"like\", \"like\", \"like\", \"like\", \"like\", \"like\", \"like\", \"like\", \"like\", \"likely\", \"list\", \"list\", \"listen\", \"little\", \"live\", \"live\", \"live\", \"lobbyist\", \"local\", \"long\", \"long\", \"long\", \"long\", \"long\", \"longer\", \"look\", \"look\", \"lose\", \"lose\", \"loss\", \"lot\", \"lot\", \"lot\", \"love\", \"love\", \"love\", \"love\", \"love\", \"low\", \"low\", \"luck\", \"lucky\", \"machine\", \"maga\", \"maga\", \"major\", \"major\", \"man\", \"man\", \"march\", \"march\", \"market\", \"massive\", \"massive\", \"matter\", \"matter\", \"matter\", \"maybe\", \"mayor\", \"mayor\", \"mayoral\", \"mccain\", \"mean\", \"measure\", \"medal\", \"medicaid\", \"medicaid\", \"medicare\", \"medicine\", \"medium\", \"medium\", \"meet\", \"meet\", \"meet\", \"meet\", \"meet\", \"meet\", \"meet\", \"meeting\", \"member\", \"member\", \"member\", \"member\", \"mention\", \"middle\", \"middle\", \"military\", \"military\", \"military\", \"military\", \"millionaire\", \"mind\", \"minimum\", \"minister\", \"minute\", \"mis\", \"mis\", \"mis\", \"miss\", \"model\", \"mom\", \"moment\", \"moment\", \"momentum\", \"money\", \"money\", \"money\", \"month\", \"moral\", \"morning\", \"morning\", \"movement\", \"mr\", \"mt\", \"murder\", \"muslim\", \"nation\", \"nation\", \"nation\", \"nation\", \"nation\", \"nation\", \"nation\", \"national\", \"national\", \"national\", \"national\", \"national\", \"national\", \"native\", \"ne\", \"ne\", \"ne\", \"ne\", \"ne\", \"ne\", \"ne\", \"ne\", \"ne\", \"ne\", \"ne\", \"ne\", \"ne\", \"near\", \"network\", \"new\", \"new\", \"new\", \"new\", \"new\", \"new\", \"news\", \"news\", \"nominate\", \"nomination\", \"nominee\", \"nominee\", \"nominee\", \"north\", \"north\", \"north\", \"nuclear\", \"nypd\", \"obama\", \"obama\", \"obama\", \"obama\", \"obama\", \"obamacare\", \"obamacare\", \"offer\", \"offer\", \"office\", \"official\", \"oil\", \"op\", \"open\", \"open\", \"opportunity\", \"opportunity\", \"opportunity\", \"opportunity\", \"oppose\", \"order\", \"order\", \"organization\", \"organize\", \"organizer\", \"outrageous\", \"p.m.\", \"parent\", \"parenthood\", \"paris\", \"paris\", \"parisagreement\", \"participate\", \"partner\", \"party\", \"party\", \"party\", \"pass\", \"pass\", \"past\", \"pay\", \"pay\", \"peace\", \"pence\", \"people\", \"people\", \"people\", \"people\", \"people\", \"people\", \"people\", \"people\", \"percent\", \"perfect\", \"period\", \"person\", \"person\", \"person\", \"personal\", \"pharmaceutical\", \"pick\", \"piece\", \"pipeline\", \"place\", \"place\", \"place\", \"place\", \"place\", \"place\", \"plan\", \"plan\", \"plan\", \"plan\", \"plan\", \"plan\", \"planet\", \"pledge\", \"pm\", \"pm\", \"pm\", \"point\", \"politic\", \"politic\", \"politic\", \"politician\", \"poll\", \"pollution\", \"poor\", \"position\", \"positive\", \"possible\", \"potential\", \"poverty\", \"power\", \"power\", \"powerful\", \"powerful\", \"powerful\", \"ppl\", \"prayer\", \"prayer\", \"predict\", \"premium\", \"prepare\", \"prescription\", \"preserve\", \"presidency\", \"president\", \"president\", \"presidential\", \"presidential\", \"press\", \"prevent\", \"prevention\", \"price\", \"price\", \"primary\", \"prime\", \"priority\", \"prison\", \"private\", \"private\", \"privilege\", \"problem\", \"problem\", \"problem\", \"problem\", \"process\", \"profit\", \"program\", \"program\", \"program\", \"program\", \"progress\", \"progressive\", \"promise\", \"promise\", \"proposal\", \"protect\", \"protect\", \"protect\", \"protect\", \"protection\", \"protest\", \"proud\", \"proud\", \"proud\", \"public\", \"public\", \"public\", \"public\", \"puerto\", \"pull\", \"push\", \"q;a\", \"quality\", \"queen\", \"question\", \"quickly\", \"racism\", \"raise\", \"raise\", \"raise\", \"rally\", \"rally\", \"rate\", \"reach\", \"reach\", \"read\", \"read\", \"read\", \"read\", \"read\", \"read\", \"reagan\", \"real\", \"real\", \"real\", \"real\", \"real\", \"reason\", \"rebuild\", \"receive\", \"receive\", \"receive\", \"receive\", \"recognize\", \"record\", \"reduce\", \"reduce\", \"reflect\", \"reform\", \"reform\", \"reform\", \"reform\", \"reform\", \"refuse\", \"register\", \"regulation\", \"reject\", \"remark\", \"remarkable\", \"remember\", \"remember\", \"remember\", \"remember\", \"remind\", \"reminder\", \"renewable\", \"repeal\", \"replace\", \"report\", \"report\", \"report\", \"represent\", \"republican\", \"republican\", \"require\", \"resident\", \"resource\", \"respect\", \"respect\", \"respect\", \"respond\", \"response\", \"response\", \"responsibility\", \"retweet\", \"reveal\", \"rich\", \"rico\", \"rig\", \"right\", \"right\", \"right\", \"right\", \"right\", \"right\", \"rip\", \"risk\", \"risk\", \"risk\", \"risk\", \"risk\", \"rncincle\", \"road\", \"role\", \"room\", \"rt\", \"rule\", \"run\", \"run\", \"run\", \"russia\", \"russia\", \"russia\", \"russia\", \"russian\", \"russian\", \"russian\", \"sacrifice\", \"safe\", \"safe\", \"sanction\", \"sander\", \"sasc\", \"save\", \"science\", \"scotus\", \"second\", \"secret\", \"secretary\", \"secretary\", \"sector\", \"security\", \"security\", \"security\", \"security\", \"security\", \"security\", \"seek\", \"sell\", \"sen\", \"sen\", \"senate\", \"senate\", \"senator\", \"senator\", \"senator\", \"send\", \"send\", \"senior\", \"sense\", \"sense\", \"serve\", \"serve\", \"session\", \"sign\", \"sign\", \"sign\", \"sign\", \"sit\", \"sit\", \"situation\", \"skill\", \"small\", \"social\", \"society\", \"solve\", \"son\", \"soon\", \"sotu\", \"sound\", \"source\", \"speak\", \"speech\", \"speech\", \"speech\", \"spend\", \"spend\", \"spend\", \"spend\", \"st\", \"stage\", \"stake\", \"stand\", \"stand\", \"stand\", \"stand\", \"stand\", \"stand\", \"stand\", \"stand\", \"stand\", \"stand\", \"standard\", \"start\", \"start\", \"start\", \"start\", \"start\", \"start\", \"start\", \"start\", \"start\", \"state\", \"state\", \"state\", \"state\", \"state\", \"state\", \"state\", \"statement\", \"statement\", \"statement\", \"step\", \"step\", \"step\", \"step\", \"step\", \"step\", \"step\", \"steve\", \"stop\", \"stop\", \"stop\", \"stop\", \"stop\", \"stop\", \"stop\", \"stop\", \"stop\", \"storm\", \"story\", \"story\", \"story\", \"story\", \"strategy\", \"street\", \"strength\", \"strengthen\", \"strong\", \"strong\", \"student\", \"study\", \"stuff\", \"submit\", \"subway\", \"successful\", \"summer\", \"summit\", \"support\", \"support\", \"support\", \"support\", \"support\", \"support\", \"support\", \"support\", \"support\", \"support\", \"support\", \"supporter\", \"supreme\", \"sure\", \"sure\", \"sure\", \"surprise\", \"sw\", \"swear\", \"syria\", \"syria\", \"syria\", \"syrian\", \"system\", \"system\", \"system\", \"system\", \"talent\", \"talented\", \"talk\", \"talk\", \"talk\", \"talk\", \"talk\", \"talk\", \"talk\", \"talk\", \"target\", \"tax\", \"taxpayer\", \"tbt\", \"teacher\", \"team\", \"team\", \"team\", \"team\", \"team\", \"tear\", \"term\", \"terrible\", \"terror\", \"terrorism\", \"terrorist\", \"texas\", \"thank\", \"thank\", \"thank\", \"thank\", \"thank\", \"thank\", \"thank\", \"thank\", \"thank\", \"thank\", \"thank\", \"thank\", \"thing\", \"thing\", \"thing\", \"thing\", \"thing\", \"threat\", \"throw\", \"throwbackthursday\", \"ticket\", \"tie\", \"time\", \"time\", \"time\", \"time\", \"time\", \"time\", \"time\", \"time\", \"time\", \"time\", \"time\", \"time\", \"today\", \"today\", \"today\", \"today\", \"today\", \"today\", \"today\", \"today\", \"today\", \"today\", \"today\", \"today\", \"today\", \"today\", \"today\", \"today\", \"today\", \"tomorrow\", \"tomorrow\", \"tomorrow\", \"tomorrow\", \"tonight\", \"tonight\", \"tough\", \"tough\", \"tour\", \"town\", \"tpp\", \"traffic\", \"trail\", \"treason\", \"treat\", \"treat\", \"trip\", \"troop\", \"true\", \"true\", \"trump\", \"trumpism\", \"trust\", \"truth\", \"truth\", \"tucson\", \"tune\", \"tune\", \"turkey\", \"tv\", \"twitter\", \"twitter\", \"u.s\", \"u.s\", \"u.s\", \"u.s\", \"u.s\", \"u.s\", \"u.s\", \"u.s\", \"un\", \"un\", \"un\", \"unacceptable\", \"unemployment\", \"uninsured\", \"unite\", \"united\", \"university\", \"unprecedented\", \"update\", \"urge\", \"urge\", \"usa\", \"usafricabizforum\", \"use\", \"use\", \"va\", \"va\", \"vacancy\", \"value\", \"value\", \"veteran\", \"victory\", \"victory\", \"video\", \"video\", \"video\", \"view\", \"view\", \"violence\", \"virginia\", \"vision\", \"vision\", \"visit\", \"visit\", \"vital\", \"voice\", \"vote\", \"voter\", \"voter\", \"voter\", \"voter\", \"vpdebate\", \"wage\", \"walk\", \"wall\", \"want\", \"want\", \"want\", \"want\", \"want\", \"want\", \"want\", \"want\", \"want\", \"war\", \"waste\", \"watch\", \"watch\", \"watch\", \"way\", \"way\", \"way\", \"way\", \"way\", \"way\", \"way\", \"wealth\", \"wealthy\", \"weapon\", \"week\", \"week\", \"week\", \"week\", \"week\", \"week\", \"weekly\", \"welcome\", \"welcome\", \"wh\", \"white\", \"win\", \"win\", \"win\", \"win\", \"win\", \"win\", \"win\", \"wing\", \"wish\", \"wish\", \"woman\", \"woman\", \"wonder\", \"wonderful\", \"wonderful\", \"word\", \"word\", \"word\", \"work\", \"work\", \"work\", \"work\", \"work\", \"worker\", \"world\", \"world\", \"world\", \"world\", \"world\", \"worry\", \"worth\", \"write\", \"write\", \"wrong\", \"wrong\", \"wrong\", \"year\", \"year\", \"year\", \"year\", \"year\", \"year\", \"year\", \"year\", \"year\", \"year\", \"year\", \"year\", \"year\", \"year\", \"yes\", \"yesterday\", \"york\", \"yorker\", \"young\", \"young\", \"young\"]}, \"R\": 30, \"lambda.step\": 0.01, \"plot.opts\": {\"xlab\": \"PC1\", \"ylab\": \"PC2\"}, \"topic.order\": [2, 7, 13, 18, 3, 14, 6, 5, 11, 10, 8, 16, 20, 4, 1, 19, 17, 9, 15, 12]};\n",
       "\n",
       "function LDAvis_load_lib(url, callback){\n",
       "  var s = document.createElement('script');\n",
       "  s.src = url;\n",
       "  s.async = true;\n",
       "  s.onreadystatechange = s.onload = callback;\n",
       "  s.onerror = function(){console.warn(\"failed to load library \" + url);};\n",
       "  document.getElementsByTagName(\"head\")[0].appendChild(s);\n",
       "}\n",
       "\n",
       "if(typeof(LDAvis) !== \"undefined\"){\n",
       "   // already loaded: just create the visualization\n",
       "   !function(LDAvis){\n",
       "       new LDAvis(\"#\" + \"ldavis_el3186831755539027767029762402\", ldavis_el3186831755539027767029762402_data);\n",
       "   }(LDAvis);\n",
       "}else if(typeof define === \"function\" && define.amd){\n",
       "   // require.js is available: use it to load d3/LDAvis\n",
       "   require.config({paths: {d3: \"https://cdnjs.cloudflare.com/ajax/libs/d3/3.5.5/d3.min\"}});\n",
       "   require([\"d3\"], function(d3){\n",
       "      window.d3 = d3;\n",
       "      LDAvis_load_lib(\"https://cdn.rawgit.com/bmabey/pyLDAvis/files/ldavis.v1.0.0.js\", function(){\n",
       "        new LDAvis(\"#\" + \"ldavis_el3186831755539027767029762402\", ldavis_el3186831755539027767029762402_data);\n",
       "      });\n",
       "    });\n",
       "}else{\n",
       "    // require.js not available: dynamically load d3 & LDAvis\n",
       "    LDAvis_load_lib(\"https://cdnjs.cloudflare.com/ajax/libs/d3/3.5.5/d3.min.js\", function(){\n",
       "         LDAvis_load_lib(\"https://cdn.rawgit.com/bmabey/pyLDAvis/files/ldavis.v1.0.0.js\", function(){\n",
       "                 new LDAvis(\"#\" + \"ldavis_el3186831755539027767029762402\", ldavis_el3186831755539027767029762402_data);\n",
       "            })\n",
       "         });\n",
       "}\n",
       "</script>"
      ],
      "text/plain": [
       "<IPython.core.display.HTML object>"
      ]
     },
     "execution_count": 64,
     "metadata": {},
     "output_type": "execute_result"
    }
   ],
   "source": [
    "n_lda_topics = 20\n",
    "dictionary = corpora.Dictionary(texts)\n",
    "corpus = [dictionary.doc2bow(text) for text in texts]\n",
    "ldamodel = gensim.models.ldamodel.LdaModel(corpus, num_topics=n_lda_topics, id2word = dictionary, passes=20)\n",
    "\n",
    "vis_data = gensimvis.prepare(ldamodel, corpus, dictionary)\n",
    "pyLDAvis.display(vis_data)"
   ]
  },
  {
   "cell_type": "code",
   "execution_count": 101,
   "metadata": {},
   "outputs": [
    {
     "data": {
      "text/html": [
       "<img src=\"https://raw.githubusercontent.com/ryan-t-mitchell/thinkful/master/pyLDAvis.png\"/>"
      ],
      "text/plain": [
       "<IPython.core.display.Image object>"
      ]
     },
     "execution_count": 101,
     "metadata": {},
     "output_type": "execute_result"
    }
   ],
   "source": [
    "#To give an example of the interactive visualization produced:\n",
    "from IPython.display import Image\n",
    "from IPython.core.display import HTML \n",
    "Image(url= \"https://raw.githubusercontent.com/ryan-t-mitchell/thinkful/master/pyLDAvis.png\")"
   ]
  },
  {
   "cell_type": "markdown",
   "metadata": {},
   "source": [
    "Some topics are very clear, organized, and intuitive - such as topic #4 (healthcare). Others are less clear - like topic #19, whose most relevant words are \"life\", \"save\", \"student\", \"little\", and \"fox.\""
   ]
  },
  {
   "cell_type": "code",
   "execution_count": 65,
   "metadata": {},
   "outputs": [],
   "source": [
    "#Test to make sure we can see the topic probability distribution for our train documents\n",
    "train_bow = [dictionary.doc2bow(texts[text]) for text in range(len(texts))]\n",
    "train_topics = [ldamodel.get_document_topics(train_bow[text]) for text in range(len(texts))]"
   ]
  },
  {
   "cell_type": "code",
   "execution_count": 66,
   "metadata": {
    "collapsed": true
   },
   "outputs": [],
   "source": [
    "#Can we use these topic clusters to improve our original model? Get topic probabilities for test tweets\n",
    "test_texts = []\n",
    "for tweet in X_test:\n",
    "    test_texts.append(list(bag_of_words_gen(tweet)))"
   ]
  },
  {
   "cell_type": "code",
   "execution_count": 67,
   "metadata": {},
   "outputs": [],
   "source": [
    "doc_bow = [dictionary.doc2bow(test_texts[text]) for text in range(len(test_texts))]"
   ]
  },
  {
   "cell_type": "code",
   "execution_count": 68,
   "metadata": {},
   "outputs": [],
   "source": [
    "topic_preds = [ldamodel[doc_bow[text]] for text in range(len(test_texts))]"
   ]
  },
  {
   "cell_type": "code",
   "execution_count": 69,
   "metadata": {},
   "outputs": [],
   "source": [
    "#Create dataframes for the train and test topic distributions. Create scaffold of zeros for train and test dataframes (faster than generating on the fly!)\n",
    "topic_train_df = pd.DataFrame(0, index = list(range(len(train_topics))), columns = list(range(n_lda_topics)))\n",
    "topic_test_df = pd.DataFrame(0, index = list(range(len(topic_preds))), columns = list(range(n_lda_topics)))"
   ]
  },
  {
   "cell_type": "code",
   "execution_count": 70,
   "metadata": {
    "collapsed": true
   },
   "outputs": [],
   "source": [
    "#For each tweet, go through and check all topics represented in the distribution output from LDA. If non-zero, add it to the appropriate spot in the DF\n",
    "\n",
    "for i, tweet in enumerate(train_topics): #for each tweet in the training set\n",
    "    for topic_id, topic_score in tweet: #for each topic we got in the LDA output for each tweet\n",
    "        topic_train_df.loc[i, topic_id] = topic_score"
   ]
  },
  {
   "cell_type": "code",
   "execution_count": 71,
   "metadata": {
    "collapsed": true
   },
   "outputs": [],
   "source": [
    "for i, tweet in enumerate(topic_preds): #for each tweet in the training set\n",
    "    for topic_id, topic_score in tweet: #for each topic we got in the LDA output for each tweet\n",
    "        topic_test_df.loc[i, topic_id] = topic_score"
   ]
  },
  {
   "cell_type": "code",
   "execution_count": 75,
   "metadata": {},
   "outputs": [],
   "source": [
    "#Add the LDA topic distributions to the TF-IDF centroid dataset we have been working with (no LSA features, since this combination performed worse in), \n",
    "#subsequent tests, and then test using the GBM model we have been working with\n",
    "\n",
    "X_train_new_lda = pd.concat([X_train_new, pd.DataFrame(topic_train_df)], axis = 1)\n",
    "X_test_new_lda = pd.concat([X_test_new, pd.DataFrame(topic_test_df)], axis = 1)"
   ]
  },
  {
   "cell_type": "code",
   "execution_count": 81,
   "metadata": {},
   "outputs": [
    {
     "name": "stdout",
     "output_type": "stream",
     "text": [
      "Training set score: 0.832\n",
      "\n",
      "Test set score: 0.70419047619\n"
     ]
    }
   ],
   "source": [
    "#Try a GBM classifier using the TF-IDF CENTROID approach above, with added features from LDA\n",
    "\n",
    "clf = ensemble.GradientBoostingClassifier()\n",
    "train = clf.fit(X_train_new_lda, y_train)\n",
    "y_pred = clf.predict(X_test_new_lda)\n",
    "\n",
    "print('Training set score:', clf.score(X_train_new_lda, y_train))\n",
    "print('\\nTest set score:', clf.score(X_test_new_lda, y_test))"
   ]
  },
  {
   "cell_type": "markdown",
   "metadata": {},
   "source": [
    "Further analysis could include studying the effect of number of topics on model perplexity, and selecting the number that corresponds to a minimum for model perplexity."
   ]
  },
  {
   "cell_type": "markdown",
   "metadata": {},
   "source": [
    "# Try other ML Algorithms and fine-tune best candidates"
   ]
  },
  {
   "cell_type": "code",
   "execution_count": 381,
   "metadata": {},
   "outputs": [
    {
     "name": "stdout",
     "output_type": "stream",
     "text": [
      "Training set score: 0.102476190476\n",
      "\n",
      "Test set score: 0.0925714285714\n"
     ]
    }
   ],
   "source": [
    "#Try a SVC classifier using the TF-IDF CENTROID approach above, with added features from LDA\n",
    "\n",
    "svc = SVC()\n",
    "train = svc.fit(X_train_new_lda, y_train)\n",
    "svc_y_pred = svc.predict(X_test_new_lda)\n",
    "\n",
    "print('Training set score:', svc.score(X_train_new_lda, y_train))\n",
    "print('\\nTest set score:', svc.score(X_test_new_lda, y_test))"
   ]
  },
  {
   "cell_type": "code",
   "execution_count": 393,
   "metadata": {},
   "outputs": [
    {
     "name": "stdout",
     "output_type": "stream",
     "text": [
      "Training set score: 0.256825396825\n",
      "\n",
      "Test set score: 0.189142857143\n"
     ]
    }
   ],
   "source": [
    "#Try a KNN classifier using the TF-IDF CENTROID approach above, with added features from LDA\n",
    "\n",
    "knn = KNeighborsClassifier(n_neighbors=5, n_jobs = -1)\n",
    "train = knn.fit(X_train_new_lda, y_train)\n",
    "knn_y_pred = logit.predict(X_test_new_lda)\n",
    "\n",
    "print('Training set score:', knn.score(X_train_new_lda, y_train))\n",
    "print('\\nTest set score:', knn.score(X_test_new_lda, y_test))"
   ]
  },
  {
   "cell_type": "code",
   "execution_count": 84,
   "metadata": {},
   "outputs": [
    {
     "name": "stdout",
     "output_type": "stream",
     "text": [
      "Training set score: 0.998349206349\n",
      "\n",
      "Test set score: 0.730095238095\n"
     ]
    }
   ],
   "source": [
    "#Try a Multi-Layer Perceptron classifier using the TF-IDF CENTROID approach above, with added features from LDA\n",
    "\n",
    "mlp = neural_network.MLPClassifier(hidden_layer_sizes = (100,), activation = 'logistic')\n",
    "train = mlp.fit(X_train_new_lda, y_train)\n",
    "mlp_y_pred = mlp.predict(X_test_new_lda)\n",
    "\n",
    "print('Training set score:', mlp.score(X_train_new_lda, y_train))\n",
    "print('\\nTest set score:', mlp.score(X_test_new_lda, y_test))"
   ]
  },
  {
   "cell_type": "code",
   "execution_count": 76,
   "metadata": {},
   "outputs": [
    {
     "name": "stdout",
     "output_type": "stream",
     "text": [
      "Training set score: 0.864825396825\n",
      "\n",
      "Test set score: 0.74819047619\n"
     ]
    }
   ],
   "source": [
    "#Try a logistic classifier using the TF-IDF CENTROID approach above, with added features from LDA\n",
    "\n",
    "logit = LogisticRegression()\n",
    "train = logit.fit(X_train_new_lda, y_train)\n",
    "logit_y_pred = logit.predict(X_test_new_lda)\n",
    "\n",
    "print('Training set score:', logit.score(X_train_new_lda, y_train))\n",
    "print('\\nTest set score:', logit.score(X_test_new_lda, y_test))"
   ]
  },
  {
   "cell_type": "code",
   "execution_count": 77,
   "metadata": {},
   "outputs": [
    {
     "data": {
      "text/plain": [
       "<matplotlib.axes._subplots.AxesSubplot at 0x2e303c24320>"
      ]
     },
     "execution_count": 77,
     "metadata": {},
     "output_type": "execute_result"
    },
    {
     "data": {
      "image/png": "[encoded data removed]",
      "text/plain": [
       "<matplotlib.figure.Figure at 0x2e30132d780>"
      ]
     },
     "metadata": {},
     "output_type": "display_data"
    }
   ],
   "source": [
    "conf = confusion_matrix(y_test, logit_y_pred, labels = handles)\n",
    "\n",
    "df_cm = pd.DataFrame(conf, index = [i for i in handles],\n",
    "                  columns = [i for i in handles])\n",
    "plt.figure(figsize = (15,7))\n",
    "plt.title('Confusion Matrix for TF-IDF Centroid Approach + LDA Topics')\n",
    "sns.heatmap(df_cm, annot=True, cmap=\"Blues\", fmt = 'd')"
   ]
  },
  {
   "cell_type": "markdown",
   "metadata": {},
   "source": [
    "Logistic Regression and Neural Network (MLP) have the best performance - let's fine tune both and see if we can get any incremental performance."
   ]
  },
  {
   "cell_type": "markdown",
   "metadata": {},
   "source": [
    "The below code did not finish executing after ~36 hours, so I had to cancel. This code should not be executed, but can serve as a reference for future work on this project if more CPU power was available."
   ]
  },
  {
   "cell_type": "code",
   "execution_count": null,
   "metadata": {},
   "outputs": [],
   "source": [
    "#Optimize the Logistic model on a few hyperparameter dimensions (keep # of combinations within reason, as model takes ~30 minutes to run for 1 iteration)\n",
    "\n",
    "tuned_parameters = [{'solver': ['newton-cg', 'lbfgs', 'liblinear', 'sag', 'saga'],\n",
    "                     'C': [0.1, 1, 10]}]\n",
    " \n",
    "gscv2 = GridSearchCV(estimator = LogisticRegression(), param_grid = tuned_parameters, cv = 2, n_jobs = -1)\n",
    "gscv2.fit(X_test_new_lda, y_test)\n",
    "gscv2.best_estimator_"
   ]
  },
  {
   "cell_type": "code",
   "execution_count": null,
   "metadata": {
    "collapsed": true
   },
   "outputs": [],
   "source": [
    "gscv2.best_score_"
   ]
  },
  {
   "cell_type": "code",
   "execution_count": null,
   "metadata": {},
   "outputs": [],
   "source": [
    "#Optimize the MLP model on a few hyperparameter dimensions (keep # of combinations within reason, as model takes ~30 minutes to run for 1 iteration)\n",
    "\n",
    "full_x = X_train_new_lda.append(X_test_new_lda)\n",
    "full_y = y_train.append(y_test)\n",
    "\n",
    "tuned_parameters = [{'hidden_layer_sizes': [(10,10), (100,1), (100,100)],\n",
    "                     'activation': ['relu', 'logistic', 'tanh'],\n",
    "                     'alpha': [0.00001, 0.0001, 0.001]}]\n",
    " \n",
    "gscv = GridSearchCV(estimator = neural_network.MLPClassifier(), param_grid = tuned_parameters, cv = 2, n_jobs = -1)\n",
    "gscv.fit(full_x, full_y)\n",
    "gscv.best_estimator_"
   ]
  },
  {
   "cell_type": "code",
   "execution_count": null,
   "metadata": {
    "collapsed": true
   },
   "outputs": [],
   "source": [
    "gscv.best_score_"
   ]
  },
  {
   "cell_type": "markdown",
   "metadata": {},
   "source": [
    "# (Appendix) Mean-Shift"
   ]
  },
  {
   "cell_type": "markdown",
   "metadata": {},
   "source": [
    "Mean-shift was not able to produce a number of clusters that could intuitively be used as topics/clusters. The algorithm produced 749 clusters on 5,250 training observations, even with bandwidth set high at 0.99. Hence no further analysis was attempted with this unsupervised clustering technique."
   ]
  },
  {
   "cell_type": "code",
   "execution_count": null,
   "metadata": {
    "collapsed": true
   },
   "outputs": [],
   "source": [
    "#Benefits of mean-shift: Makes no assumptions about the number of clusters, clusters don't have to be the same size, \n",
    "#and can have non-flat geometry (clusters based on m features that cannot be separated by a straight line or plane in the\n",
    "#m -dimensional space)\n",
    "\n",
    "#Try using a 25% training sample to get cluster centers.... using 75% takes too long to run.\n",
    "\n",
    "# Declare and fit the model. Begin with high bandwidth to cut down on number of clusters, hopefully we can make sense of them\n",
    "#this way\n",
    "\n",
    "#bandwidth = estimate_bandwidth(X_norm_tfidf.toarray(), quantile=0.2, n_samples=500)\n",
    "\n",
    "ms_X_train, ms_X_test = train_test_split(tweet_df['Tweets'], test_size = 0.75, random_state = 42)\n",
    "ms_X_train_tfidf_norm = normalize(vectorizer1.fit_transform(ms_X_train))\n",
    "ms_X_test_tfidf_norm = normalize(vectorizer1.transform(ms_X_test))\n",
    "\n",
    "ms = MeanShift(bandwidth=0.99, bin_seeding=True, n_jobs = -1)\n",
    "ms.fit(ms_X_train_tfidf_norm.toarray())\n",
    "\n",
    "# Extract cluster assignments for each data point.\n",
    "labels = ms.labels_\n",
    "ms_preds = ms.predict(ms_X_test_tfidf_norm.toarray())\n",
    "\n",
    "# Coordinates of the cluster centers.\n",
    "cluster_centers = ms.cluster_centers_\n",
    "\n",
    "# Count our clusters.\n",
    "n_clusters_ = len(np.unique(labels))"
   ]
  },
  {
   "cell_type": "code",
   "execution_count": 271,
   "metadata": {},
   "outputs": [
    {
     "name": "stdout",
     "output_type": "stream",
     "text": [
      "Number of estimated clusters: 749\n"
     ]
    }
   ],
   "source": [
    "print(\"Number of estimated clusters: {}\".format(n_clusters_))"
   ]
  }
 ],
 "metadata": {
  "kernelspec": {
   "display_name": "Python 3",
   "language": "python",
   "name": "python3"
  },
  "language_info": {
   "codemirror_mode": {
    "name": "ipython",
    "version": 3
   },
   "file_extension": ".py",
   "mimetype": "text/x-python",
   "name": "python",
   "nbconvert_exporter": "python",
   "pygments_lexer": "ipython3",
   "version": "3.6.2rc2"
  }
 },
 "nbformat": 4,
 "nbformat_minor": 2
}
